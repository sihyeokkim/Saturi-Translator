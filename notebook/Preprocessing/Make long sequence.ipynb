{
 "cells": [
  {
   "cell_type": "code",
   "execution_count": 1,
   "id": "10cc4515",
   "metadata": {},
   "outputs": [],
   "source": [
    "import pandas as pd\n",
    "import numpy as np\n",
    "import os\n",
    "import matplotlib.pyplot as plt\n",
    "import re"
   ]
  },
  {
   "cell_type": "code",
   "execution_count": 10,
   "id": "5d369054",
   "metadata": {},
   "outputs": [],
   "source": [
    "directory = os.getenv('HOME') + '/aiffel/aiffelthon/meta/'"
   ]
  },
  {
   "cell_type": "code",
   "execution_count": 11,
   "id": "1be4400c",
   "metadata": {},
   "outputs": [
    {
     "data": {
      "text/plain": [
       "['reg_1.json',\n",
       " 'meta_data_included_raw_v2.csv',\n",
       " 'test_v_final_0310.csv',\n",
       " '.ipynb_checkpoints',\n",
       " 'meta_eng_raw_0306_v1.csv',\n",
       " 'kor_text.xlsx',\n",
       " 'reg_3.json',\n",
       " 'meta_data_included_raw.csv',\n",
       " 'meta_raw_eng_corrected_sts_v1.csv',\n",
       " 'meta_data_raw_eng_match_6m.csv',\n",
       " 'kor_text.txt',\n",
       " 'meta_raw_eng_sts_v1.csv',\n",
       " 'reg_4.json',\n",
       " 'meta_raw_eng_corrected_sts_v1_needs_correction_translated.xlsx',\n",
       " '사투리화_데이터셋_0309.csv',\n",
       " 'meta_raw_eng_corrected_sts_v1_needs_correction.xlsx',\n",
       " 'kw_t.json',\n",
       " 'reg_5.json',\n",
       " 'meta_raw_eng_corrected_sts_v_final.csv',\n",
       " 'train_v_final_0310.csv',\n",
       " 'meta_data_raw_0306.csv',\n",
       " 'reg_2.json',\n",
       " 'meta_raw_eng_corrected_sts_saturization_v_final.csv']"
      ]
     },
     "execution_count": 11,
     "metadata": {},
     "output_type": "execute_result"
    }
   ],
   "source": [
    "os.listdir(directory)"
   ]
  },
  {
   "cell_type": "code",
   "execution_count": 12,
   "id": "adb0b6e1",
   "metadata": {},
   "outputs": [],
   "source": [
    "df = pd.read_csv(directory + 'meta_raw_eng_corrected_sts_saturization_v_final.csv',usecols=['reg','topic','stdn','dial_edit_f2','eng'] )"
   ]
  },
  {
   "cell_type": "code",
   "execution_count": 13,
   "id": "5a05153c",
   "metadata": {},
   "outputs": [
    {
     "name": "stdout",
     "output_type": "stream",
     "text": [
      "<class 'pandas.core.frame.DataFrame'>\n",
      "RangeIndex: 949888 entries, 0 to 949887\n",
      "Data columns (total 5 columns):\n",
      " #   Column  Non-Null Count   Dtype \n",
      "---  ------  --------------   ----- \n",
      " 0   reg     949888 non-null  object\n",
      " 1   topic   949888 non-null  object\n",
      " 2   stdn    949888 non-null  object\n",
      " 3   eng     949888 non-null  object\n",
      " 4   dial    949888 non-null  object\n",
      "dtypes: object(5)\n",
      "memory usage: 36.2+ MB\n"
     ]
    }
   ],
   "source": [
    "df =df.rename(columns = {'dial_edit_f2':'dial'})\n",
    "df.info()"
   ]
  },
  {
   "cell_type": "code",
   "execution_count": 21,
   "id": "c2a9a806",
   "metadata": {},
   "outputs": [],
   "source": [
    "# correction = pd.read_excel(directory + 'corrected_translation_idk.xlsx')"
   ]
  },
  {
   "cell_type": "code",
   "execution_count": 25,
   "id": "b50cd4ed",
   "metadata": {},
   "outputs": [],
   "source": [
    "df.loc[df['eng'].str.contains(\"I don't know. I don't know\"),'stdn'] = correction['stdn'].values"
   ]
  },
  {
   "cell_type": "code",
   "execution_count": 19,
   "id": "40dfeb7c",
   "metadata": {},
   "outputs": [
    {
     "name": "stdout",
     "output_type": "stream",
     "text": [
      "Collecting openpyxl\n",
      "  Downloading openpyxl-3.1.2-py2.py3-none-any.whl (249 kB)\n",
      "     |████████████████████████████████| 249 kB 6.6 MB/s            \n",
      "\u001b[?25hCollecting et-xmlfile\n",
      "  Downloading et_xmlfile-1.1.0-py3-none-any.whl (4.7 kB)\n",
      "Installing collected packages: et-xmlfile, openpyxl\n",
      "Successfully installed et-xmlfile-1.1.0 openpyxl-3.1.2\n",
      "\u001b[33mWARNING: Running pip as the 'root' user can result in broken permissions and conflicting behaviour with the system package manager. It is recommended to use a virtual environment instead: https://pip.pypa.io/warnings/venv\u001b[0m\n"
     ]
    }
   ],
   "source": [
    "# !pip install openpyxl\n",
    "# df.loc[df['eng'].str.contains(\"I don't know. I don't know\"),['stdn']].to_excel(directory + 'needs_correction.xlsx')"
   ]
  },
  {
   "cell_type": "code",
   "execution_count": 28,
   "id": "7850ef36",
   "metadata": {},
   "outputs": [],
   "source": [
    "df['eng'] = df['eng'].apply(lambda x : re.sub('dick','thing',x))"
   ]
  },
  {
   "cell_type": "code",
   "execution_count": 29,
   "id": "1b9e23dc",
   "metadata": {},
   "outputs": [],
   "source": [
    "import re"
   ]
  },
  {
   "cell_type": "code",
   "execution_count": 30,
   "id": "c7e624e9",
   "metadata": {},
   "outputs": [],
   "source": [
    "en_t = []\n",
    "dial_t = []\n",
    "for i in range(len(df)) :\n",
    "    en_match = re.search('\\.|\\.|\\?|\\!$',df.eng.values[i])\n",
    "    dial_match = re.search('\\.|\\.|\\?|\\!$',df.dial.values[i])\n",
    "    if not en_match and dial_match :\n",
    "        en_t.append(df.eng.values[i] + re.search('\\.|\\.|\\?|\\!$',df.dial.values[i]).group())\n",
    "        dial_t.append(df.dial.values[i])\n",
    "    else :\n",
    "        en_t.append(df.eng.values[i])\n",
    "        dial_t.append(df.dial.values[i])\n",
    "        \n",
    "df['eng_punctuation'] = en_t\n",
    "del df['eng']\n",
    "df =df.rename(columns = {'eng_punctuation':'eng'})"
   ]
  },
  {
   "cell_type": "code",
   "execution_count": 31,
   "id": "a656046b",
   "metadata": {},
   "outputs": [
    {
     "data": {
      "text/html": [
       "<div>\n",
       "<style scoped>\n",
       "    .dataframe tbody tr th:only-of-type {\n",
       "        vertical-align: middle;\n",
       "    }\n",
       "\n",
       "    .dataframe tbody tr th {\n",
       "        vertical-align: top;\n",
       "    }\n",
       "\n",
       "    .dataframe thead th {\n",
       "        text-align: right;\n",
       "    }\n",
       "</style>\n",
       "<table border=\"1\" class=\"dataframe\">\n",
       "  <thead>\n",
       "    <tr style=\"text-align: right;\">\n",
       "      <th></th>\n",
       "      <th>reg</th>\n",
       "      <th>topic</th>\n",
       "      <th>stdn</th>\n",
       "      <th>dial</th>\n",
       "      <th>eng</th>\n",
       "    </tr>\n",
       "  </thead>\n",
       "  <tbody>\n",
       "    <tr>\n",
       "      <th>0</th>\n",
       "      <td>jd</td>\n",
       "      <td>역사</td>\n",
       "      <td>생각이 쪼금씩 바뀌더라고</td>\n",
       "      <td>생각이 쪼금씩 바뀌드라고</td>\n",
       "      <td>I've changed my mind a little bit.</td>\n",
       "    </tr>\n",
       "    <tr>\n",
       "      <th>1</th>\n",
       "      <td>jd</td>\n",
       "      <td>가족</td>\n",
       "      <td>어 알겠는가 외국인들이 그래도 잘 적응하고</td>\n",
       "      <td>웜마 알겄는가 애국인들이 그또 달 적응하고</td>\n",
       "      <td>You know what? Foreigners still get used to it.</td>\n",
       "    </tr>\n",
       "    <tr>\n",
       "      <th>2</th>\n",
       "      <td>jd</td>\n",
       "      <td>건강</td>\n",
       "      <td>아으 갑자기 예전에 맹장 뜯은 게 생각난다.</td>\n",
       "      <td>아으 갑자기 에전에 맹장 뜯은 게잉 생각난디야.</td>\n",
       "      <td>All of a sudden, I think I've ripped off my ap...</td>\n",
       "    </tr>\n",
       "    <tr>\n",
       "      <th>3</th>\n",
       "      <td>jd</td>\n",
       "      <td>스타일</td>\n",
       "      <td>보면은 조금 품위 있게 나이 들어가야 되겠단 생각을 참 많이 해요.</td>\n",
       "      <td>보먼은 좀 품위 있게 나이 들어가야 되겠단 싱각을 참 마이 해요잉.</td>\n",
       "      <td>I have a lot of ideas about getting older in a...</td>\n",
       "    </tr>\n",
       "    <tr>\n",
       "      <th>4</th>\n",
       "      <td>jd</td>\n",
       "      <td>먹거리</td>\n",
       "      <td>약간 조금 약간 맛이 쪼끔 거시기 하긴 한데 그래도</td>\n",
       "      <td>약깐 좀 약깐 맛이가 쪼까 머시기 카긴 한디 그또</td>\n",
       "      <td>It's a little bit of a tastey, but still...</td>\n",
       "    </tr>\n",
       "  </tbody>\n",
       "</table>\n",
       "</div>"
      ],
      "text/plain": [
       "  reg topic                                   stdn  \\\n",
       "0  jd    역사                          생각이 쪼금씩 바뀌더라고   \n",
       "1  jd    가족                어 알겠는가 외국인들이 그래도 잘 적응하고   \n",
       "2  jd    건강               아으 갑자기 예전에 맹장 뜯은 게 생각난다.   \n",
       "3  jd   스타일  보면은 조금 품위 있게 나이 들어가야 되겠단 생각을 참 많이 해요.   \n",
       "4  jd   먹거리           약간 조금 약간 맛이 쪼끔 거시기 하긴 한데 그래도   \n",
       "\n",
       "                                     dial  \\\n",
       "0                          생각이 쪼금씩 바뀌드라고    \n",
       "1                웜마 알겄는가 애국인들이 그또 달 적응하고    \n",
       "2             아으 갑자기 에전에 맹장 뜯은 게잉 생각난디야.    \n",
       "3  보먼은 좀 품위 있게 나이 들어가야 되겠단 싱각을 참 마이 해요잉.    \n",
       "4            약깐 좀 약깐 맛이가 쪼까 머시기 카긴 한디 그또    \n",
       "\n",
       "                                                 eng  \n",
       "0                 I've changed my mind a little bit.  \n",
       "1    You know what? Foreigners still get used to it.  \n",
       "2  All of a sudden, I think I've ripped off my ap...  \n",
       "3  I have a lot of ideas about getting older in a...  \n",
       "4        It's a little bit of a tastey, but still...  "
      ]
     },
     "execution_count": 31,
     "metadata": {},
     "output_type": "execute_result"
    }
   ],
   "source": [
    "df.head()"
   ]
  },
  {
   "cell_type": "code",
   "execution_count": 35,
   "id": "e3cf97e0",
   "metadata": {},
   "outputs": [
    {
     "data": {
      "text/plain": [
       "True"
      ]
     },
     "execution_count": 35,
     "metadata": {},
     "output_type": "execute_result"
    }
   ],
   "source": [
    "import sentencepiece as spm\n",
    "\n",
    "en_tokenizer = spm.SentencePieceProcessor()\n",
    "en_tokenizer.Load(os.getenv('HOME') + '/aiffel/saturi/notebook/Model/spmenc_test_r0.model')\n",
    "ko_tokenizer = spm.SentencePieceProcessor()\n",
    "ko_tokenizer.Load(os.getenv('HOME') + '/aiffel/saturi/notebook/Model/spmdec_test_r0.model')"
   ]
  },
  {
   "cell_type": "code",
   "execution_count": 36,
   "id": "97569419",
   "metadata": {},
   "outputs": [
    {
     "name": "stdout",
     "output_type": "stream",
     "text": [
      "1.819672131147541\n"
     ]
    }
   ],
   "source": [
    "test = df.iloc[:100].dial.values.tolist()\n",
    "tok_eng_len = 0\n",
    "char_len =0\n",
    "\n",
    "for i in test :\n",
    "    char_len += len(i)\n",
    "    tok_eng_len += len(ko_tokenizer.encode_as_pieces(i))\n",
    "print(char_len/tok_eng_len)"
   ]
  },
  {
   "cell_type": "code",
   "execution_count": 37,
   "id": "a6f0379c",
   "metadata": {},
   "outputs": [],
   "source": [
    "def create_long_seq(df, reg, topic, num_seq,seq_len,char_len) :\n",
    "    max_len = int(num_seq*seq_len*char_len)\n",
    "\n",
    "    ds = df.loc[(df['reg'] == reg)&(df['topic'] == topic)].copy()\n",
    "    ds = ds.sample(frac=1, random_state=1)\n",
    "\n",
    "    test_text_dial = ds['dial'].values\n",
    "    test_text_eng = ds['eng'].values\n",
    "    test_iter_dial = iter(test_text_dial)\n",
    "    test_iter_eng = iter(test_text_eng)\n",
    "    \n",
    "    more_examples =True\n",
    "    \n",
    "    while more_examples :\n",
    "        \n",
    "        buffer_len = 0\n",
    "        buffer_eng = []\n",
    "        buffer_dial = []\n",
    "\n",
    "        while True :\n",
    "            try :\n",
    "                text_new_dial = next(test_iter_dial)\n",
    "                text_new_eng = next(test_iter_eng)\n",
    "#                 buffer_len += len(text_new_dial)\n",
    "                buffer_len += len(text_new_eng)\n",
    "\n",
    "                if max_len <= buffer_len :\n",
    "                    break\n",
    "                else :\n",
    "                    buffer_eng.append(text_new_eng)\n",
    "                    buffer_dial.append(text_new_dial)\n",
    "            except :\n",
    "                test_iter_dial = iter(test_text_dial)\n",
    "                test_iter_eng = iter(test_text_eng)\n",
    "\n",
    "        long_sentences = dict()\n",
    "        long_sentences['data'] = []\n",
    "\n",
    "        for seq_no in range(num_seq,len(buffer_eng),num_seq):\n",
    "            try:\n",
    "                lst_eng = ' '.join(buffer_eng[seq_no: seq_no+num_seq])\n",
    "                lst_dial= ' '.join(buffer_dial[seq_no: seq_no+num_seq])\n",
    "            except:\n",
    "                continue\n",
    "\n",
    "            long_sentences['data'].append({'reg':reg, 'topic':topic,'eng':lst_eng,'dial':lst_dial})\n",
    "\n",
    "        for i in long_sentences['data'] :\n",
    "            yield i"
   ]
  },
  {
   "cell_type": "code",
   "execution_count": 38,
   "id": "9ee53ca6",
   "metadata": {},
   "outputs": [],
   "source": [
    "import tqdm\n",
    "\n",
    "def generate_long_sequences(df, regs, topics, num_seq,seq_len, char_len) :\n",
    "    long_sentences_final = dict()\n",
    "    long_sentences_final['data'] = []\n",
    "    print('start')\n",
    "\n",
    "    for reg in regs :\n",
    "        for topic in topics :\n",
    "            num_long_sentences = len(df.loc[(df['reg'] == reg)&(df['topic'] == topic)]) // num_seq\n",
    "            print(num_long_sentences,end=' ')\n",
    "            if num_long_sentences > 2:\n",
    "                gen = iter(create_long_seq(df, reg, topic, num_seq, seq_len,char_len))\n",
    "            else :\n",
    "                continue\n",
    "            for i in range(num_long_sentences) :\n",
    "                long_sentences_final['data'].append(next(gen))\n",
    "    print('슝<')\n",
    "    return long_sentences_final"
   ]
  },
  {
   "cell_type": "code",
   "execution_count": 39,
   "id": "349d2c98",
   "metadata": {},
   "outputs": [],
   "source": [
    "regs = df.reg.unique()\n",
    "topics = df.topic.unique()"
   ]
  },
  {
   "cell_type": "code",
   "execution_count": 40,
   "id": "040118fc",
   "metadata": {},
   "outputs": [
    {
     "name": "stdout",
     "output_type": "stream",
     "text": [
      "start\n",
      "202 1413 1645 621 1938 788 1078 711 817 883 1239 1356 497 997 914 511 1432 763 397 219 822 1000 625 1685 331 441 939 318 182 606 712 213 542 161 512 587 422 364 117 121 1356 6459 2124 305 4204 1635 427 889 945 188 769 3398 408 555 467 387 1605 87 77 234 546 327 303 2507 67 148 582 214 49 276 248 400 312 58 142 248 660 71 162 37 76 929 834 757 1558 414 460 478 527 332 614 608 362 1058 636 283 786 655 254 107 486 607 335 915 153 498 350 135 79 414 654 173 425 64 226 354 275 511 181 34 152 741 993 541 1016 544 500 408 423 523 578 704 484 584 424 559 744 480 424 267 456 509 401 1060 282 358 621 334 198 493 382 331 429 312 409 441 361 414 46 191 23 16465 1360 144 2159 1268 136 1130 1026 4934 367 4746 72 1477 1339 224 9386 990 20 1151 782 658 260 1336 1232 533 804 23 25 519 43 1095 47 1342 122 43 68 17 115 42 슝<\n",
      "start\n",
      "101 706 822 310 969 394 539 355 408 441 619 678 248 498 457 255 716 381 198 109 411 500 312 842 165 220 469 159 91 303 356 106 271 80 256 293 211 182 58 60 678 3229 1062 152 2102 817 213 444 472 94 384 1699 204 277 233 193 802 43 38 117 273 163 151 1253 33 74 291 107 24 138 124 200 156 29 71 124 330 35 81 18 38 464 417 378 779 207 230 239 263 166 307 304 181 529 318 141 393 327 127 53 243 303 167 457 76 249 175 67 39 207 327 86 212 32 113 177 137 255 90 17 76 370 496 270 508 272 250 204 211 261 289 352 242 292 212 279 372 240 212 133 228 254 200 530 141 179 310 167 99 246 191 165 214 156 204 220 180 207 23 95 11 8232 680 72 1079 634 68 565 513 2467 183 2373 36 738 669 112 4693 495 10 575 391 329 130 668 616 266 402 11 12 259 21 547 23 671 61 21 34 8 57 21 슝<\n",
      "start\n",
      "48 339 394 149 465 189 258 170 196 211 297 325 119 239 219 122 343 183 95 52 197 240 150 404 79 105 225 76 43 145 171 51 130 38 123 140 101 87 28 29 325 1550 509 73 1009 392 102 213 226 45 184 815 97 133 112 92 385 21 18 56 131 78 72 601 16 35 139 51 11 66 59 96 75 13 34 59 158 17 38 9 18 223 200 181 373 99 110 114 126 79 147 145 86 253 152 68 188 157 61 25 116 145 80 219 36 119 84 32 19 99 157 41 102 15 54 85 66 122 43 8 36 178 238 129 244 130 120 97 101 125 138 169 116 140 101 134 178 115 101 64 109 122 96 254 67 86 149 80 47 118 91 79 103 74 98 106 86 99 11 46 5 3951 326 34 518 304 32 271 246 1184 88 1139 17 354 321 53 2252 237 4 276 187 158 62 320 295 128 193 5 6 124 10 262 11 322 29 10 16 4 27 10 슝<\n",
      "start\n",
      "23 166 193 73 228 92 126 83 96 103 145 159 58 117 107 60 168 89 46 25 96 117 73 198 38 51 110 37 21 71 83 25 63 19 60 69 49 42 13 14 159 759 249 35 494 192 50 104 111 22 90 399 48 65 55 45 188 10 9 27 64 38 35 295 7 17 68 25 5 32 29 47 36 6 16 29 77 8 19 4 9 109 98 89 183 48 54 56 62 39 72 71 42 124 74 33 92 77 29 12 57 71 39 107 18 58 41 15 9 48 76 20 50 7 26 41 32 60 21 4 17 87 116 63 119 64 58 48 49 61 68 82 57 68 49 65 87 56 49 31 53 59 47 124 33 42 73 39 23 58 44 39 50 36 48 51 42 48 5 22 2 1937 160 16 254 149 16 132 120 580 43 558 8 173 157 26 1104 116 2 135 92 77 30 157 144 62 94 2 2 61 5 128 5 157 14 5 8 2 13 4 슝<\n"
     ]
    }
   ],
   "source": [
    "final_dict = {}\n",
    "final_dict['data'] = []\n",
    "for num in [64,128,256,512] :\n",
    "    seq_len = num * 2\n",
    "    char_len = 2\n",
    "    num_seq = seq_len // 20 # 시퀀스 average 길이\n",
    "    long_sentences_final = generate_long_sequences(df, regs, topics,num_seq,seq_len,char_len)\n",
    "    final_dict['data'].extend(long_sentences_final['data'])"
   ]
  },
  {
   "cell_type": "code",
   "execution_count": 41,
   "id": "4f898f59",
   "metadata": {},
   "outputs": [],
   "source": [
    "long_df = pd.DataFrame(final_dict['data'])"
   ]
  },
  {
   "cell_type": "code",
   "execution_count": 42,
   "id": "03ca18e8",
   "metadata": {},
   "outputs": [
    {
     "data": {
      "text/html": [
       "<div>\n",
       "<style scoped>\n",
       "    .dataframe tbody tr th:only-of-type {\n",
       "        vertical-align: middle;\n",
       "    }\n",
       "\n",
       "    .dataframe tbody tr th {\n",
       "        vertical-align: top;\n",
       "    }\n",
       "\n",
       "    .dataframe thead th {\n",
       "        text-align: right;\n",
       "    }\n",
       "</style>\n",
       "<table border=\"1\" class=\"dataframe\">\n",
       "  <thead>\n",
       "    <tr style=\"text-align: right;\">\n",
       "      <th></th>\n",
       "      <th>reg</th>\n",
       "      <th>topic</th>\n",
       "      <th>eng</th>\n",
       "      <th>dial</th>\n",
       "    </tr>\n",
       "  </thead>\n",
       "  <tbody>\n",
       "    <tr>\n",
       "      <th>0</th>\n",
       "      <td>jd</td>\n",
       "      <td>역사</td>\n",
       "      <td>Wouldn't you be able to make another announcem...</td>\n",
       "      <td>다른 나라에게 또잉 알릴 수 있제 않을까?  뭣하러 역살 공부를 혀야 대는 건지 얘...</td>\n",
       "    </tr>\n",
       "    <tr>\n",
       "      <th>1</th>\n",
       "      <td>jd</td>\n",
       "      <td>역사</td>\n",
       "      <td>Because I think there are too many things to m...</td>\n",
       "      <td>왜냐면 외워야 대는 거이 하도 많다고잉 싱각을 한께.  칠 년전쟁에서 이순신 장군님...</td>\n",
       "    </tr>\n",
       "    <tr>\n",
       "      <th>2</th>\n",
       "      <td>jd</td>\n",
       "      <td>역사</td>\n",
       "      <td>But the Dabotap was also taken out of Japan wi...</td>\n",
       "      <td>근디 또잉 고 다보탑에 성물과 사리암 등걸이가 일본으로 반출되었댜 그거이  달 안 ...</td>\n",
       "    </tr>\n",
       "    <tr>\n",
       "      <th>3</th>\n",
       "      <td>jd</td>\n",
       "      <td>역사</td>\n",
       "      <td>I'll let you guys keep an eye on my country ar...</td>\n",
       "      <td>우리나라 요기 광주쯤은 니네가 지켜볼 수 있게 해줄게.  긍게 고 고구려가  쩜쩜 ...</td>\n",
       "    </tr>\n",
       "    <tr>\n",
       "      <th>4</th>\n",
       "      <td>jd</td>\n",
       "      <td>역사</td>\n",
       "      <td>It's a little bit of a focus thing. I don't kn...</td>\n",
       "      <td>이케잉 쫌 집중되는 경향이 있긴 한디  달달한 헌 가도 그거이 모양새가 겹치지 않는...</td>\n",
       "    </tr>\n",
       "    <tr>\n",
       "      <th>...</th>\n",
       "      <td>...</td>\n",
       "      <td>...</td>\n",
       "      <td>...</td>\n",
       "      <td>...</td>\n",
       "    </tr>\n",
       "    <tr>\n",
       "      <th>293719</th>\n",
       "      <td>kw</td>\n",
       "      <td>정치</td>\n",
       "      <td>Five hours and the vote's over. That's why I c...</td>\n",
       "      <td>다섯시간만 지나믄 투패가 끝나.  개가주 몬 가서 하튼 지 중국놈들은 어뜬 기 사실...</td>\n",
       "    </tr>\n",
       "    <tr>\n",
       "      <th>293720</th>\n",
       "      <td>kw</td>\n",
       "      <td>법률</td>\n",
       "      <td>It smells like piss. That's what I'm doing. If...</td>\n",
       "      <td>오즘 내금새 난다고.  그레 하구 앉은 자리데이. 요게가  만일에 그이 삼십 오십으...</td>\n",
       "    </tr>\n",
       "    <tr>\n",
       "      <th>293721</th>\n",
       "      <td>kw</td>\n",
       "      <td>법률</td>\n",
       "      <td>I'm going to put her in court. Who is it? They...</td>\n",
       "      <td>그이 년아를 법정에 세울 겁니다.  느그?  지네 자석 굶기면서 옳은 소라리 카는 ...</td>\n",
       "    </tr>\n",
       "    <tr>\n",
       "      <th>293722</th>\n",
       "      <td>kw</td>\n",
       "      <td>법률</td>\n",
       "      <td>Oh, my God. Detective Joe, if that's the case,...</td>\n",
       "      <td>이그 촌니나.  조 헹사님 그믄 저한데 기횔  여게가 바빨리 길인데  애미한테 인사...</td>\n",
       "    </tr>\n",
       "    <tr>\n",
       "      <th>293723</th>\n",
       "      <td>kw</td>\n",
       "      <td>법률</td>\n",
       "      <td>You want to finish cleaning the house before t...</td>\n",
       "      <td>쌔 줸 들어오기 앞전에 집구석키 소제 끝내자는 거겠지.  저래 난릴 칠까 왜서 저럴...</td>\n",
       "    </tr>\n",
       "  </tbody>\n",
       "</table>\n",
       "<p>293724 rows × 4 columns</p>\n",
       "</div>"
      ],
      "text/plain": [
       "       reg topic                                                eng  \\\n",
       "0       jd    역사  Wouldn't you be able to make another announcem...   \n",
       "1       jd    역사  Because I think there are too many things to m...   \n",
       "2       jd    역사  But the Dabotap was also taken out of Japan wi...   \n",
       "3       jd    역사  I'll let you guys keep an eye on my country ar...   \n",
       "4       jd    역사  It's a little bit of a focus thing. I don't kn...   \n",
       "...     ..   ...                                                ...   \n",
       "293719  kw    정치  Five hours and the vote's over. That's why I c...   \n",
       "293720  kw    법률  It smells like piss. That's what I'm doing. If...   \n",
       "293721  kw    법률  I'm going to put her in court. Who is it? They...   \n",
       "293722  kw    법률  Oh, my God. Detective Joe, if that's the case,...   \n",
       "293723  kw    법률  You want to finish cleaning the house before t...   \n",
       "\n",
       "                                                     dial  \n",
       "0       다른 나라에게 또잉 알릴 수 있제 않을까?  뭣하러 역살 공부를 혀야 대는 건지 얘...  \n",
       "1       왜냐면 외워야 대는 거이 하도 많다고잉 싱각을 한께.  칠 년전쟁에서 이순신 장군님...  \n",
       "2       근디 또잉 고 다보탑에 성물과 사리암 등걸이가 일본으로 반출되었댜 그거이  달 안 ...  \n",
       "3       우리나라 요기 광주쯤은 니네가 지켜볼 수 있게 해줄게.  긍게 고 고구려가  쩜쩜 ...  \n",
       "4       이케잉 쫌 집중되는 경향이 있긴 한디  달달한 헌 가도 그거이 모양새가 겹치지 않는...  \n",
       "...                                                   ...  \n",
       "293719  다섯시간만 지나믄 투패가 끝나.  개가주 몬 가서 하튼 지 중국놈들은 어뜬 기 사실...  \n",
       "293720  오즘 내금새 난다고.  그레 하구 앉은 자리데이. 요게가  만일에 그이 삼십 오십으...  \n",
       "293721  그이 년아를 법정에 세울 겁니다.  느그?  지네 자석 굶기면서 옳은 소라리 카는 ...  \n",
       "293722  이그 촌니나.  조 헹사님 그믄 저한데 기횔  여게가 바빨리 길인데  애미한테 인사...  \n",
       "293723  쌔 줸 들어오기 앞전에 집구석키 소제 끝내자는 거겠지.  저래 난릴 칠까 왜서 저럴...  \n",
       "\n",
       "[293724 rows x 4 columns]"
      ]
     },
     "execution_count": 42,
     "metadata": {},
     "output_type": "execute_result"
    }
   ],
   "source": [
    "long_df"
   ]
  },
  {
   "cell_type": "code",
   "execution_count": 43,
   "id": "2ce90dce",
   "metadata": {},
   "outputs": [],
   "source": [
    "long_df.drop_duplicates(inplace=True)"
   ]
  },
  {
   "cell_type": "code",
   "execution_count": 44,
   "id": "b4a47db7",
   "metadata": {},
   "outputs": [
    {
     "data": {
      "text/plain": [
       "287583"
      ]
     },
     "execution_count": 44,
     "metadata": {},
     "output_type": "execute_result"
    }
   ],
   "source": [
    "len(long_df)"
   ]
  },
  {
   "cell_type": "code",
   "execution_count": 45,
   "id": "3ad142e4",
   "metadata": {},
   "outputs": [],
   "source": [
    "s = []\n",
    "test = iter(long_df.eng.values)\n",
    "for i in test :\n",
    "    s.append(len(en_tokenizer.encode(i)))"
   ]
  },
  {
   "cell_type": "code",
   "execution_count": 46,
   "id": "6b63b25b",
   "metadata": {},
   "outputs": [
    {
     "data": {
      "text/html": [
       "<div>\n",
       "<style scoped>\n",
       "    .dataframe tbody tr th:only-of-type {\n",
       "        vertical-align: middle;\n",
       "    }\n",
       "\n",
       "    .dataframe tbody tr th {\n",
       "        vertical-align: top;\n",
       "    }\n",
       "\n",
       "    .dataframe thead th {\n",
       "        text-align: right;\n",
       "    }\n",
       "</style>\n",
       "<table border=\"1\" class=\"dataframe\">\n",
       "  <thead>\n",
       "    <tr style=\"text-align: right;\">\n",
       "      <th></th>\n",
       "      <th>reg</th>\n",
       "      <th>topic</th>\n",
       "      <th>eng</th>\n",
       "      <th>dial</th>\n",
       "    </tr>\n",
       "  </thead>\n",
       "  <tbody>\n",
       "    <tr>\n",
       "      <th>0</th>\n",
       "      <td>jd</td>\n",
       "      <td>역사</td>\n",
       "      <td>Wouldn't you be able to make another announcem...</td>\n",
       "      <td>다른 나라에게 또잉 알릴 수 있제 않을까?  뭣하러 역살 공부를 혀야 대는 건지 얘...</td>\n",
       "    </tr>\n",
       "    <tr>\n",
       "      <th>1</th>\n",
       "      <td>jd</td>\n",
       "      <td>역사</td>\n",
       "      <td>Because I think there are too many things to m...</td>\n",
       "      <td>왜냐면 외워야 대는 거이 하도 많다고잉 싱각을 한께.  칠 년전쟁에서 이순신 장군님...</td>\n",
       "    </tr>\n",
       "    <tr>\n",
       "      <th>2</th>\n",
       "      <td>jd</td>\n",
       "      <td>역사</td>\n",
       "      <td>But the Dabotap was also taken out of Japan wi...</td>\n",
       "      <td>근디 또잉 고 다보탑에 성물과 사리암 등걸이가 일본으로 반출되었댜 그거이  달 안 ...</td>\n",
       "    </tr>\n",
       "    <tr>\n",
       "      <th>3</th>\n",
       "      <td>jd</td>\n",
       "      <td>역사</td>\n",
       "      <td>I'll let you guys keep an eye on my country ar...</td>\n",
       "      <td>우리나라 요기 광주쯤은 니네가 지켜볼 수 있게 해줄게.  긍게 고 고구려가  쩜쩜 ...</td>\n",
       "    </tr>\n",
       "    <tr>\n",
       "      <th>4</th>\n",
       "      <td>jd</td>\n",
       "      <td>역사</td>\n",
       "      <td>It's a little bit of a focus thing. I don't kn...</td>\n",
       "      <td>이케잉 쫌 집중되는 경향이 있긴 한디  달달한 헌 가도 그거이 모양새가 겹치지 않는...</td>\n",
       "    </tr>\n",
       "    <tr>\n",
       "      <th>...</th>\n",
       "      <td>...</td>\n",
       "      <td>...</td>\n",
       "      <td>...</td>\n",
       "      <td>...</td>\n",
       "    </tr>\n",
       "    <tr>\n",
       "      <th>293719</th>\n",
       "      <td>kw</td>\n",
       "      <td>정치</td>\n",
       "      <td>Five hours and the vote's over. That's why I c...</td>\n",
       "      <td>다섯시간만 지나믄 투패가 끝나.  개가주 몬 가서 하튼 지 중국놈들은 어뜬 기 사실...</td>\n",
       "    </tr>\n",
       "    <tr>\n",
       "      <th>293720</th>\n",
       "      <td>kw</td>\n",
       "      <td>법률</td>\n",
       "      <td>It smells like piss. That's what I'm doing. If...</td>\n",
       "      <td>오즘 내금새 난다고.  그레 하구 앉은 자리데이. 요게가  만일에 그이 삼십 오십으...</td>\n",
       "    </tr>\n",
       "    <tr>\n",
       "      <th>293721</th>\n",
       "      <td>kw</td>\n",
       "      <td>법률</td>\n",
       "      <td>I'm going to put her in court. Who is it? They...</td>\n",
       "      <td>그이 년아를 법정에 세울 겁니다.  느그?  지네 자석 굶기면서 옳은 소라리 카는 ...</td>\n",
       "    </tr>\n",
       "    <tr>\n",
       "      <th>293722</th>\n",
       "      <td>kw</td>\n",
       "      <td>법률</td>\n",
       "      <td>Oh, my God. Detective Joe, if that's the case,...</td>\n",
       "      <td>이그 촌니나.  조 헹사님 그믄 저한데 기횔  여게가 바빨리 길인데  애미한테 인사...</td>\n",
       "    </tr>\n",
       "    <tr>\n",
       "      <th>293723</th>\n",
       "      <td>kw</td>\n",
       "      <td>법률</td>\n",
       "      <td>You want to finish cleaning the house before t...</td>\n",
       "      <td>쌔 줸 들어오기 앞전에 집구석키 소제 끝내자는 거겠지.  저래 난릴 칠까 왜서 저럴...</td>\n",
       "    </tr>\n",
       "  </tbody>\n",
       "</table>\n",
       "<p>287583 rows × 4 columns</p>\n",
       "</div>"
      ],
      "text/plain": [
       "       reg topic                                                eng  \\\n",
       "0       jd    역사  Wouldn't you be able to make another announcem...   \n",
       "1       jd    역사  Because I think there are too many things to m...   \n",
       "2       jd    역사  But the Dabotap was also taken out of Japan wi...   \n",
       "3       jd    역사  I'll let you guys keep an eye on my country ar...   \n",
       "4       jd    역사  It's a little bit of a focus thing. I don't kn...   \n",
       "...     ..   ...                                                ...   \n",
       "293719  kw    정치  Five hours and the vote's over. That's why I c...   \n",
       "293720  kw    법률  It smells like piss. That's what I'm doing. If...   \n",
       "293721  kw    법률  I'm going to put her in court. Who is it? They...   \n",
       "293722  kw    법률  Oh, my God. Detective Joe, if that's the case,...   \n",
       "293723  kw    법률  You want to finish cleaning the house before t...   \n",
       "\n",
       "                                                     dial  \n",
       "0       다른 나라에게 또잉 알릴 수 있제 않을까?  뭣하러 역살 공부를 혀야 대는 건지 얘...  \n",
       "1       왜냐면 외워야 대는 거이 하도 많다고잉 싱각을 한께.  칠 년전쟁에서 이순신 장군님...  \n",
       "2       근디 또잉 고 다보탑에 성물과 사리암 등걸이가 일본으로 반출되었댜 그거이  달 안 ...  \n",
       "3       우리나라 요기 광주쯤은 니네가 지켜볼 수 있게 해줄게.  긍게 고 고구려가  쩜쩜 ...  \n",
       "4       이케잉 쫌 집중되는 경향이 있긴 한디  달달한 헌 가도 그거이 모양새가 겹치지 않는...  \n",
       "...                                                   ...  \n",
       "293719  다섯시간만 지나믄 투패가 끝나.  개가주 몬 가서 하튼 지 중국놈들은 어뜬 기 사실...  \n",
       "293720  오즘 내금새 난다고.  그레 하구 앉은 자리데이. 요게가  만일에 그이 삼십 오십으...  \n",
       "293721  그이 년아를 법정에 세울 겁니다.  느그?  지네 자석 굶기면서 옳은 소라리 카는 ...  \n",
       "293722  이그 촌니나.  조 헹사님 그믄 저한데 기횔  여게가 바빨리 길인데  애미한테 인사...  \n",
       "293723  쌔 줸 들어오기 앞전에 집구석키 소제 끝내자는 거겠지.  저래 난릴 칠까 왜서 저럴...  \n",
       "\n",
       "[287583 rows x 4 columns]"
      ]
     },
     "execution_count": 46,
     "metadata": {},
     "output_type": "execute_result"
    }
   ],
   "source": [
    "long_df"
   ]
  },
  {
   "cell_type": "code",
   "execution_count": 47,
   "id": "f0cb7387",
   "metadata": {},
   "outputs": [
    {
     "data": {
      "image/png": "[encoded data removed]",
      "text/plain": [
       "<Figure size 432x288 with 1 Axes>"
      ]
     },
     "metadata": {
      "needs_background": "light"
     },
     "output_type": "display_data"
    }
   ],
   "source": [
    "fig = plt.figure()\n",
    "plt.hist(s,bins=50)\n",
    "plt.show()"
   ]
  },
  {
   "cell_type": "code",
   "execution_count": 48,
   "id": "c412f778",
   "metadata": {},
   "outputs": [
    {
     "data": {
      "text/plain": [
       "'Imuse Im just going to get my dream I took it all away from me.'"
      ]
     },
     "execution_count": 48,
     "metadata": {},
     "output_type": "execute_result"
    }
   ],
   "source": [
    "long_df.eng.values[8000]"
   ]
  },
  {
   "cell_type": "code",
   "execution_count": 49,
   "id": "f0ad6692",
   "metadata": {},
   "outputs": [
    {
     "data": {
      "text/plain": [
       "Index(['reg', 'topic', 'eng', 'dial'], dtype='object')"
      ]
     },
     "execution_count": 49,
     "metadata": {},
     "output_type": "execute_result"
    }
   ],
   "source": [
    "long_df.columns"
   ]
  },
  {
   "cell_type": "code",
   "execution_count": 50,
   "id": "6e5b5edb",
   "metadata": {},
   "outputs": [],
   "source": [
    "merg_df= df[long_df.columns]"
   ]
  },
  {
   "cell_type": "code",
   "execution_count": 51,
   "id": "c51094ba",
   "metadata": {},
   "outputs": [],
   "source": [
    "merg_df = pd.concat([merg_df,long_df], axis=0)"
   ]
  },
  {
   "cell_type": "code",
   "execution_count": 52,
   "id": "76f35b8c",
   "metadata": {},
   "outputs": [],
   "source": [
    "merg_df.drop_duplicates(inplace=True)"
   ]
  },
  {
   "cell_type": "code",
   "execution_count": 53,
   "id": "eeb37525",
   "metadata": {},
   "outputs": [
    {
     "data": {
      "text/html": [
       "<div>\n",
       "<style scoped>\n",
       "    .dataframe tbody tr th:only-of-type {\n",
       "        vertical-align: middle;\n",
       "    }\n",
       "\n",
       "    .dataframe tbody tr th {\n",
       "        vertical-align: top;\n",
       "    }\n",
       "\n",
       "    .dataframe thead th {\n",
       "        text-align: right;\n",
       "    }\n",
       "</style>\n",
       "<table border=\"1\" class=\"dataframe\">\n",
       "  <thead>\n",
       "    <tr style=\"text-align: right;\">\n",
       "      <th></th>\n",
       "      <th>reg</th>\n",
       "      <th>topic</th>\n",
       "      <th>eng</th>\n",
       "      <th>dial</th>\n",
       "    </tr>\n",
       "  </thead>\n",
       "  <tbody>\n",
       "    <tr>\n",
       "      <th>0</th>\n",
       "      <td>jd</td>\n",
       "      <td>역사</td>\n",
       "      <td>I've changed my mind a little bit.</td>\n",
       "      <td>생각이 쪼금씩 바뀌드라고</td>\n",
       "    </tr>\n",
       "    <tr>\n",
       "      <th>1</th>\n",
       "      <td>jd</td>\n",
       "      <td>가족</td>\n",
       "      <td>You know what? Foreigners still get used to it.</td>\n",
       "      <td>웜마 알겄는가 애국인들이 그또 달 적응하고</td>\n",
       "    </tr>\n",
       "    <tr>\n",
       "      <th>2</th>\n",
       "      <td>jd</td>\n",
       "      <td>건강</td>\n",
       "      <td>All of a sudden, I think I've ripped off my ap...</td>\n",
       "      <td>아으 갑자기 에전에 맹장 뜯은 게잉 생각난디야.</td>\n",
       "    </tr>\n",
       "    <tr>\n",
       "      <th>3</th>\n",
       "      <td>jd</td>\n",
       "      <td>스타일</td>\n",
       "      <td>I have a lot of ideas about getting older in a...</td>\n",
       "      <td>보먼은 좀 품위 있게 나이 들어가야 되겠단 싱각을 참 마이 해요잉.</td>\n",
       "    </tr>\n",
       "    <tr>\n",
       "      <th>4</th>\n",
       "      <td>jd</td>\n",
       "      <td>먹거리</td>\n",
       "      <td>It's a little bit of a tastey, but still...</td>\n",
       "      <td>약깐 좀 약깐 맛이가 쪼까 머시기 카긴 한디 그또</td>\n",
       "    </tr>\n",
       "    <tr>\n",
       "      <th>...</th>\n",
       "      <td>...</td>\n",
       "      <td>...</td>\n",
       "      <td>...</td>\n",
       "      <td>...</td>\n",
       "    </tr>\n",
       "    <tr>\n",
       "      <th>293719</th>\n",
       "      <td>kw</td>\n",
       "      <td>정치</td>\n",
       "      <td>Five hours and the vote's over. That's why I c...</td>\n",
       "      <td>다섯시간만 지나믄 투패가 끝나.  개가주 몬 가서 하튼 지 중국놈들은 어뜬 기 사실...</td>\n",
       "    </tr>\n",
       "    <tr>\n",
       "      <th>293720</th>\n",
       "      <td>kw</td>\n",
       "      <td>법률</td>\n",
       "      <td>It smells like piss. That's what I'm doing. If...</td>\n",
       "      <td>오즘 내금새 난다고.  그레 하구 앉은 자리데이. 요게가  만일에 그이 삼십 오십으...</td>\n",
       "    </tr>\n",
       "    <tr>\n",
       "      <th>293721</th>\n",
       "      <td>kw</td>\n",
       "      <td>법률</td>\n",
       "      <td>I'm going to put her in court. Who is it? They...</td>\n",
       "      <td>그이 년아를 법정에 세울 겁니다.  느그?  지네 자석 굶기면서 옳은 소라리 카는 ...</td>\n",
       "    </tr>\n",
       "    <tr>\n",
       "      <th>293722</th>\n",
       "      <td>kw</td>\n",
       "      <td>법률</td>\n",
       "      <td>Oh, my God. Detective Joe, if that's the case,...</td>\n",
       "      <td>이그 촌니나.  조 헹사님 그믄 저한데 기횔  여게가 바빨리 길인데  애미한테 인사...</td>\n",
       "    </tr>\n",
       "    <tr>\n",
       "      <th>293723</th>\n",
       "      <td>kw</td>\n",
       "      <td>법률</td>\n",
       "      <td>You want to finish cleaning the house before t...</td>\n",
       "      <td>쌔 줸 들어오기 앞전에 집구석키 소제 끝내자는 거겠지.  저래 난릴 칠까 왜서 저럴...</td>\n",
       "    </tr>\n",
       "  </tbody>\n",
       "</table>\n",
       "<p>1230710 rows × 4 columns</p>\n",
       "</div>"
      ],
      "text/plain": [
       "       reg topic                                                eng  \\\n",
       "0       jd    역사                 I've changed my mind a little bit.   \n",
       "1       jd    가족    You know what? Foreigners still get used to it.   \n",
       "2       jd    건강  All of a sudden, I think I've ripped off my ap...   \n",
       "3       jd   스타일  I have a lot of ideas about getting older in a...   \n",
       "4       jd   먹거리        It's a little bit of a tastey, but still...   \n",
       "...     ..   ...                                                ...   \n",
       "293719  kw    정치  Five hours and the vote's over. That's why I c...   \n",
       "293720  kw    법률  It smells like piss. That's what I'm doing. If...   \n",
       "293721  kw    법률  I'm going to put her in court. Who is it? They...   \n",
       "293722  kw    법률  Oh, my God. Detective Joe, if that's the case,...   \n",
       "293723  kw    법률  You want to finish cleaning the house before t...   \n",
       "\n",
       "                                                     dial  \n",
       "0                                          생각이 쪼금씩 바뀌드라고   \n",
       "1                                웜마 알겄는가 애국인들이 그또 달 적응하고   \n",
       "2                             아으 갑자기 에전에 맹장 뜯은 게잉 생각난디야.   \n",
       "3                  보먼은 좀 품위 있게 나이 들어가야 되겠단 싱각을 참 마이 해요잉.   \n",
       "4                            약깐 좀 약깐 맛이가 쪼까 머시기 카긴 한디 그또   \n",
       "...                                                   ...  \n",
       "293719  다섯시간만 지나믄 투패가 끝나.  개가주 몬 가서 하튼 지 중국놈들은 어뜬 기 사실...  \n",
       "293720  오즘 내금새 난다고.  그레 하구 앉은 자리데이. 요게가  만일에 그이 삼십 오십으...  \n",
       "293721  그이 년아를 법정에 세울 겁니다.  느그?  지네 자석 굶기면서 옳은 소라리 카는 ...  \n",
       "293722  이그 촌니나.  조 헹사님 그믄 저한데 기횔  여게가 바빨리 길인데  애미한테 인사...  \n",
       "293723  쌔 줸 들어오기 앞전에 집구석키 소제 끝내자는 거겠지.  저래 난릴 칠까 왜서 저럴...  \n",
       "\n",
       "[1230710 rows x 4 columns]"
      ]
     },
     "execution_count": 53,
     "metadata": {},
     "output_type": "execute_result"
    }
   ],
   "source": [
    "merg_df"
   ]
  },
  {
   "cell_type": "code",
   "execution_count": 54,
   "id": "24dc1419",
   "metadata": {},
   "outputs": [
    {
     "data": {
      "text/plain": [
       "kw    447952\n",
       "jj    263531\n",
       "jd    225833\n",
       "gs    148743\n",
       "cc    144651\n",
       "Name: reg, dtype: int64"
      ]
     },
     "execution_count": 54,
     "metadata": {},
     "output_type": "execute_result"
    }
   ],
   "source": [
    "merg_df.reg.value_counts()"
   ]
  },
  {
   "cell_type": "code",
   "execution_count": 55,
   "id": "c81b85b3",
   "metadata": {},
   "outputs": [],
   "source": [
    "merg_df['tok_len'] = merg_df['eng'].apply(lambda x : len(en_tokenizer.encode(x)))"
   ]
  },
  {
   "cell_type": "code",
   "execution_count": 56,
   "id": "46d8a17e",
   "metadata": {},
   "outputs": [],
   "source": [
    "merg_df['tok_cat'] = pd.qcut(merg_df['tok_len'], [0,.3,.6,.7,.75,.8,.85,.9,.95,.99,1], [0,1,2,3,4,5,6,7,8,9])"
   ]
  },
  {
   "cell_type": "code",
   "execution_count": 57,
   "id": "d5782651",
   "metadata": {},
   "outputs": [
    {
     "data": {
      "text/plain": [
       "0    405384\n",
       "1    345562\n",
       "2    121845\n",
       "5     61509\n",
       "6     61149\n",
       "7     61071\n",
       "4     60755\n",
       "3     52105\n",
       "8     49073\n",
       "9     12257\n",
       "Name: tok_cat, dtype: int64"
      ]
     },
     "execution_count": 57,
     "metadata": {},
     "output_type": "execute_result"
    }
   ],
   "source": [
    "merg_df['tok_cat'].value_counts()"
   ]
  },
  {
   "cell_type": "code",
   "execution_count": 58,
   "id": "2c190270",
   "metadata": {},
   "outputs": [],
   "source": [
    "tok_cats = merg_df['tok_cat'].unique()"
   ]
  },
  {
   "cell_type": "code",
   "execution_count": 59,
   "id": "ba195eae",
   "metadata": {},
   "outputs": [],
   "source": [
    "merg_df.reset_index(drop=True, inplace=True)"
   ]
  },
  {
   "cell_type": "code",
   "execution_count": 60,
   "id": "aa1032b5",
   "metadata": {},
   "outputs": [],
   "source": [
    "save_indx_test =[]\n",
    "for reg in regs :\n",
    "    temp = merg_df.loc[merg_df.reg == reg].copy()\n",
    "    temp = temp.sample(300, weights='tok_cat')\n",
    "    save_indx_test.extend(temp.index)"
   ]
  },
  {
   "cell_type": "code",
   "execution_count": 61,
   "id": "b34034bd",
   "metadata": {},
   "outputs": [],
   "source": [
    "test_df = merg_df.iloc[save_indx_test].copy()"
   ]
  },
  {
   "cell_type": "code",
   "execution_count": 62,
   "id": "a5c52170",
   "metadata": {},
   "outputs": [],
   "source": [
    "train_df = merg_df.loc[~merg_df.index.isin(save_indx_test)].copy()"
   ]
  },
  {
   "cell_type": "code",
   "execution_count": 63,
   "id": "27f354b2",
   "metadata": {},
   "outputs": [
    {
     "data": {
      "image/png": "[encoded data removed]",
      "text/plain": [
       "<Figure size 1440x1440 with 10 Axes>"
      ]
     },
     "metadata": {
      "needs_background": "light"
     },
     "output_type": "display_data"
    }
   ],
   "source": [
    "import seaborn as sns\n",
    "plt.rcParams['font.family'] = 'NanumGothic'\n",
    "\n",
    "\n",
    "fig = plt.figure(figsize=(20,20))\n",
    "for i,reg in enumerate(regs) :\n",
    "    plt.subplot(3,2,i+1)\n",
    "    sns.heatmap(test_df.loc[test_df['reg']==reg].groupby(['topic'])['tok_cat'].value_counts().unstack(), annot=True,vmax=10)\n",
    "    plt.title(reg)\n",
    "plt.tight_layout()\n",
    "plt.show()"
   ]
  },
  {
   "cell_type": "code",
   "execution_count": 454,
   "id": "43ca3b6f",
   "metadata": {},
   "outputs": [],
   "source": [
    "assert len(train_df) + len(test_df) == len(merg_df)"
   ]
  },
  {
   "cell_type": "code",
   "execution_count": 65,
   "id": "79b2d883",
   "metadata": {},
   "outputs": [],
   "source": [
    "# save_col= ['reg','topic','eng','dial']\n",
    "train_df.to_csv(directory + 'train_v_final_0313.csv', index=False) \n",
    "test_df.to_csv(directory + 'test_v_final_0313.csv', index=False) "
   ]
  }
 ],
 "metadata": {
  "kernelspec": {
   "display_name": "Python 3 (ipykernel)",
   "language": "python",
   "name": "python3"
  },
  "language_info": {
   "codemirror_mode": {
    "name": "ipython",
    "version": 3
   },
   "file_extension": ".py",
   "mimetype": "text/x-python",
   "name": "python",
   "nbconvert_exporter": "python",
   "pygments_lexer": "ipython3",
   "version": "3.9.16"
  }
 },
 "nbformat": 4,
 "nbformat_minor": 5
}
