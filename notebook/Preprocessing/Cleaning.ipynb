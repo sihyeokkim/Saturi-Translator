{
 "cells": [
  {
   "cell_type": "code",
   "execution_count": 26,
   "id": "df1204ce",
   "metadata": {},
   "outputs": [],
   "source": [
    "import pandas as pd\n",
    "import numpy as np\n",
    "import os\n",
    "import matplotlib.pyplot as plt"
   ]
  },
  {
   "cell_type": "code",
   "execution_count": 2,
   "id": "8a021563",
   "metadata": {},
   "outputs": [],
   "source": [
    "import re"
   ]
  },
  {
   "cell_type": "code",
   "execution_count": 7,
   "id": "660394e1",
   "metadata": {},
   "outputs": [],
   "source": [
    "directory = os.getenv('HOME') +'/aiffel/aiffelthon/meta/'"
   ]
  },
  {
   "cell_type": "code",
   "execution_count": 4,
   "id": "e8456fd5",
   "metadata": {},
   "outputs": [
    {
     "data": {
      "text/plain": [
       "['reg_1.json',\n",
       " 'meta_data_included_raw_v2.csv',\n",
       " '.ipynb_checkpoints',\n",
       " 'meta_eng_raw_0306_v1.csv',\n",
       " 'kor_text.xlsx',\n",
       " 'reg_3.json',\n",
       " 'meta_data_included_raw.csv',\n",
       " 'meta_data_raw_eng_match_6m.csv',\n",
       " 'kor_text.txt',\n",
       " 'meta_raw_eng_sts_v1.csv',\n",
       " 'reg_4.json',\n",
       " 'kw_t.json',\n",
       " 'reg_5.json',\n",
       " 'meta_data_raw_0306.csv',\n",
       " 'reg_2.json']"
      ]
     },
     "execution_count": 4,
     "metadata": {},
     "output_type": "execute_result"
    }
   ],
   "source": [
    "os.listdir(directory)"
   ]
  },
  {
   "cell_type": "code",
   "execution_count": 8,
   "id": "654d899c",
   "metadata": {},
   "outputs": [
    {
     "name": "stderr",
     "output_type": "stream",
     "text": [
      "/opt/conda/lib/python3.9/site-packages/IPython/core/interactiveshell.py:3444: DtypeWarning: Columns (8,9) have mixed types.Specify dtype option on import or set low_memory=False.\n",
      "  exec(code_obj, self.user_global_ns, self.user_ns)\n"
     ]
    }
   ],
   "source": [
    "df = pd.read_csv(directory + 'meta_raw_eng_sts_v1.csv')"
   ]
  },
  {
   "cell_type": "code",
   "execution_count": 9,
   "id": "faed0a7b",
   "metadata": {},
   "outputs": [
    {
     "name": "stdout",
     "output_type": "stream",
     "text": [
      "<class 'pandas.core.frame.DataFrame'>\n",
      "RangeIndex: 949888 entries, 0 to 949887\n",
      "Data columns (total 20 columns):\n",
      " #   Column       Non-Null Count   Dtype  \n",
      "---  ------       --------------   -----  \n",
      " 0   reg          949888 non-null  object \n",
      " 1   stdn         949888 non-null  object \n",
      " 2   dial         949888 non-null  object \n",
      " 3   eng          949888 non-null  object \n",
      " 4   eojeol_stdn  949888 non-null  object \n",
      " 5   sts          949888 non-null  float64\n",
      " 6   sts_q        949888 non-null  object \n",
      " 7   title        949888 non-null  object \n",
      " 8   year         949888 non-null  object \n",
      " 9   date         949888 non-null  object \n",
      " 10  category     949706 non-null  object \n",
      " 11  topic        949888 non-null  object \n",
      " 12  age          949888 non-null  object \n",
      " 13  sex          949888 non-null  object \n",
      " 14  prin_res     949888 non-null  object \n",
      " 15  curr_res     949888 non-null  object \n",
      " 16  age2         659954 non-null  object \n",
      " 17  sex2         659954 non-null  object \n",
      " 18  prin_res2    659954 non-null  object \n",
      " 19  curr_res2    659954 non-null  object \n",
      "dtypes: float64(1), object(19)\n",
      "memory usage: 144.9+ MB\n"
     ]
    }
   ],
   "source": [
    "df.info()"
   ]
  },
  {
   "cell_type": "markdown",
   "id": "d62fd169",
   "metadata": {},
   "source": [
    "# Data Cleaning"
   ]
  },
  {
   "cell_type": "code",
   "execution_count": 27,
   "id": "cc9d1915",
   "metadata": {},
   "outputs": [],
   "source": [
    "def sen_len(corpus, kor=False) :\n",
    "    max_len = 0\n",
    "    min_len = 999\n",
    "    cum_len = 0\n",
    "    max_content = ''\n",
    "    min_content = ''\n",
    "    for i in corpus :\n",
    "        if kor : \n",
    "            i = i[0]\n",
    "        length = len(i)\n",
    "        if length >= max_len : \n",
    "            max_len = length\n",
    "            max_content = i\n",
    "        if length <= min_len : \n",
    "            min_len = length\n",
    "            min_content = i\n",
    "        cum_len += length\n",
    "    \n",
    "    print(f'max_len : {max_len}')\n",
    "    print('max_content :', max_content)\n",
    "    print(f'min_len : {min_len}')\n",
    "    print('min_content :', min_content)\n",
    "    print(f'average_len : {round(cum_len/len(corpus),1)}')\n",
    "    \n",
    "    return max_len, min_len, cum_len"
   ]
  },
  {
   "cell_type": "code",
   "execution_count": 28,
   "id": "7e59960f",
   "metadata": {},
   "outputs": [],
   "source": [
    "def plot_seq_dist(corpus,kor=False) :\n",
    "    max_len, min_len , _ = sen_len(corpus,kor)\n",
    "    seq_len_matrix = np.zeros((max_len+1), dtype=int)\n",
    "    for i in corpus :\n",
    "        if kor :\n",
    "            i = i[0]\n",
    "        length = len(i)\n",
    "        seq_len_matrix[length] += 1\n",
    "    \n",
    "    fig,ax = plt.subplots()\n",
    "    hist = ax.bar(range(len(seq_len_matrix)),seq_len_matrix)\n",
    "    plt.title('seq_distribution')\n",
    "    plt.show()"
   ]
  },
  {
   "cell_type": "code",
   "execution_count": 29,
   "id": "aebf01cc",
   "metadata": {},
   "outputs": [
    {
     "name": "stdout",
     "output_type": "stream",
     "text": [
      "max_len : 2717\n",
      "max_content : And to be honest, it's a little bit funny, and sometimes when you look at things like D-C-C-I-I-I don't know if they're kind of funny, so I'm not sure if they're doing something like roll or something like that or something like that or something like that or something like that or something like that or something like that or something like that or something like that or something like that or something like that or something like that or something like that or something like that or something like that or something like that or something like that or something like that or something like that or something like that or something like that or something or something like that or something like that or something or something like that or something like that or something or something or something like that or something or something or something or something or something or something or something or something or something or something or something or something or something or something or something like that or something or something or something or something or something or something like that or something or something like that or something like that or something or something or something or something or something or something or something or something like that or something like that or something like that or something or something or something or something or something or something or something or something or something or something or something or something or something or something or something or something or something or something or something or something or something or something or something or something or something or something or something or something or something or something or something or something or something or something or something or something or something or something or something or something or something or something or something or something or something or something or something or something or something or something or something or something or something or something or something or something or something or something or something or something or something or something or something or something or something or something or something or something or something or something or something or something or something or something or something or something or something or something or something or something or something or something or something or something or something or something or something or something or something or something or something or something or something or something or something or something or something or something or something or something or something or something or something or something or something or something or something\n",
      "min_len : 1\n",
      "min_content : I\n",
      "average_len : 56.1\n"
     ]
    },
    {
     "data": {
      "image/png": "[encoded data removed]",
      "text/plain": [
       "<Figure size 432x288 with 1 Axes>"
      ]
     },
     "metadata": {
      "needs_background": "light"
     },
     "output_type": "display_data"
    }
   ],
   "source": [
    "plot_seq_dist(df['eng'])"
   ]
  },
  {
   "cell_type": "code",
   "execution_count": 11,
   "id": "3782cb43",
   "metadata": {},
   "outputs": [],
   "source": [
    "df = df.loc[:,['reg','topic','stdn','dial','eng','eojeol_stdn','sts']].copy()"
   ]
  },
  {
   "cell_type": "code",
   "execution_count": 30,
   "id": "ba6a7492",
   "metadata": {},
   "outputs": [
    {
     "data": {
      "text/html": [
       "<div>\n",
       "<style scoped>\n",
       "    .dataframe tbody tr th:only-of-type {\n",
       "        vertical-align: middle;\n",
       "    }\n",
       "\n",
       "    .dataframe tbody tr th {\n",
       "        vertical-align: top;\n",
       "    }\n",
       "\n",
       "    .dataframe thead th {\n",
       "        text-align: right;\n",
       "    }\n",
       "</style>\n",
       "<table border=\"1\" class=\"dataframe\">\n",
       "  <thead>\n",
       "    <tr style=\"text-align: right;\">\n",
       "      <th></th>\n",
       "      <th>reg</th>\n",
       "      <th>topic</th>\n",
       "      <th>stdn</th>\n",
       "      <th>dial</th>\n",
       "      <th>eng</th>\n",
       "      <th>eojeol_stdn</th>\n",
       "      <th>sts</th>\n",
       "      <th>eng_c_len</th>\n",
       "    </tr>\n",
       "  </thead>\n",
       "  <tbody>\n",
       "    <tr>\n",
       "      <th>0</th>\n",
       "      <td>jd</td>\n",
       "      <td>역사</td>\n",
       "      <td>생각이 쪼금씩 바뀌더라고</td>\n",
       "      <td>생각이 쪼금씩 바뀌드라고</td>\n",
       "      <td>I've changed my mind a little bit.</td>\n",
       "      <td>[['(바뀌드라고)/(바뀌더라고)']]</td>\n",
       "      <td>0.056177</td>\n",
       "      <td>34</td>\n",
       "    </tr>\n",
       "    <tr>\n",
       "      <th>1</th>\n",
       "      <td>jd</td>\n",
       "      <td>가족</td>\n",
       "      <td>어 알겠는가 외국인들이 그래도 잘 적응하고</td>\n",
       "      <td>어 알겄는가 외국인들이 그래도 잘 적응하고</td>\n",
       "      <td>You know what? Foreigners still get used to it.</td>\n",
       "      <td>[['(알겄는가)/(알겠는가)']]</td>\n",
       "      <td>-0.006247</td>\n",
       "      <td>47</td>\n",
       "    </tr>\n",
       "    <tr>\n",
       "      <th>2</th>\n",
       "      <td>jd</td>\n",
       "      <td>건강</td>\n",
       "      <td>아으 갑자기 예전에 맹장 뜯은 게 생각난다.</td>\n",
       "      <td>아으 갑자기 예전에 맹장 뜯은 게 생각난디야.</td>\n",
       "      <td>All of a sudden, I think I've ripped off my ap...</td>\n",
       "      <td>[['(생각난디야.)/(생각난다.)']]</td>\n",
       "      <td>0.174105</td>\n",
       "      <td>60</td>\n",
       "    </tr>\n",
       "    <tr>\n",
       "      <th>3</th>\n",
       "      <td>jd</td>\n",
       "      <td>스타일</td>\n",
       "      <td>보면은 조금 품위 있게 나이 들어가야 되겠단 생각을 참 많이 해요.</td>\n",
       "      <td>보면은 쫌 품위 있게 나이 들어가야 되겠단 생각을 참 많이 해요.</td>\n",
       "      <td>I have a lot of ideas about getting older in a...</td>\n",
       "      <td>[['(쫌)/(조금)']]</td>\n",
       "      <td>0.120993</td>\n",
       "      <td>66</td>\n",
       "    </tr>\n",
       "    <tr>\n",
       "      <th>4</th>\n",
       "      <td>jd</td>\n",
       "      <td>먹거리</td>\n",
       "      <td>약간 조금 약간 맛이 쪼끔 거시기 하긴 한데 그래도</td>\n",
       "      <td>약간 쫌 약간 맛이 쪼끔 거시기 하긴 한데 그래도</td>\n",
       "      <td>It's a little bit of a tastey, but still...</td>\n",
       "      <td>[['(쫌)/(조금)']]</td>\n",
       "      <td>0.256973</td>\n",
       "      <td>43</td>\n",
       "    </tr>\n",
       "  </tbody>\n",
       "</table>\n",
       "</div>"
      ],
      "text/plain": [
       "  reg topic                                   stdn  \\\n",
       "0  jd    역사                          생각이 쪼금씩 바뀌더라고   \n",
       "1  jd    가족                어 알겠는가 외국인들이 그래도 잘 적응하고   \n",
       "2  jd    건강               아으 갑자기 예전에 맹장 뜯은 게 생각난다.   \n",
       "3  jd   스타일  보면은 조금 품위 있게 나이 들어가야 되겠단 생각을 참 많이 해요.   \n",
       "4  jd   먹거리           약간 조금 약간 맛이 쪼끔 거시기 하긴 한데 그래도   \n",
       "\n",
       "                                   dial  \\\n",
       "0                         생각이 쪼금씩 바뀌드라고   \n",
       "1               어 알겄는가 외국인들이 그래도 잘 적응하고   \n",
       "2             아으 갑자기 예전에 맹장 뜯은 게 생각난디야.   \n",
       "3  보면은 쫌 품위 있게 나이 들어가야 되겠단 생각을 참 많이 해요.   \n",
       "4           약간 쫌 약간 맛이 쪼끔 거시기 하긴 한데 그래도   \n",
       "\n",
       "                                                 eng             eojeol_stdn  \\\n",
       "0                 I've changed my mind a little bit.   [['(바뀌드라고)/(바뀌더라고)']]   \n",
       "1    You know what? Foreigners still get used to it.     [['(알겄는가)/(알겠는가)']]   \n",
       "2  All of a sudden, I think I've ripped off my ap...  [['(생각난디야.)/(생각난다.)']]   \n",
       "3  I have a lot of ideas about getting older in a...          [['(쫌)/(조금)']]   \n",
       "4        It's a little bit of a tastey, but still...          [['(쫌)/(조금)']]   \n",
       "\n",
       "        sts  eng_c_len  \n",
       "0  0.056177         34  \n",
       "1 -0.006247         47  \n",
       "2  0.174105         60  \n",
       "3  0.120993         66  \n",
       "4  0.256973         43  "
      ]
     },
     "execution_count": 30,
     "metadata": {},
     "output_type": "execute_result"
    }
   ],
   "source": [
    "# find len of char in eng\n",
    "df['eng_c_len'] = df['eng'].apply(lambda x : len(x))\n",
    "df.head()"
   ]
  },
  {
   "cell_type": "code",
   "execution_count": 31,
   "id": "c1b38c3b",
   "metadata": {},
   "outputs": [
    {
     "name": "stdout",
     "output_type": "stream",
     "text": [
      "But then you lose, and then you lose, and then you lose, and then you lose, and then you lose, and then you lose, and then you lose, and then you lose, and then you lose, and then you lose, and then you lose, and then you lose, and then you lose, and then you lose, and then you lose, and then you lose, and then you lose, and then you lose, and then you lose, and then you lose, and then you lose, and then you lose, and then you lose, and then you lose, and then you lose, and then you lose, and then you lose, and then you lose, and then you lose, and then you lose, and then you lose, and then you lose, and then you lose, and then you lose, and then you lose, and then you lose, and then you lose, and then you lose, and then you lose, and then you lose, and then you lose, and then you lose,\n",
      "\n",
      "You're not playing, you're not playing, you're not dreaming, you're not playing, you're not playing, you're not playing, you're not playing, you're not playing.\n",
      "\n",
      "It's a little bit different from what I'm about to say, what I'm about to say, what I'm about to say, what I'm about to say, what I'm about to say, what I'm about to say, what I'm about to say, what I'm about to say, what I'm about to say, what I'm about to say, what I'm about to say, it's a little bit different from what I'm about to say.\n",
      "\n",
      "Hey, hey, hey, hey, hey, hey, hey, hey, hey, hey, hey, hey, hey, hey, hey, hey, hey, hey, hey, hey, hey, hey, hey, hey, hey, hey, hey, hey, hey, hey, hey, hey, hey, hey, hey, hey, hey, hey, hey, hey, hey, hey, hey, hey, hey, hey, hey, hey, hey, hey, hey, hey, hey, hey, hey, hey, hey, hey, hey, hey, hey, hey, hey, hey, hey, hey, hey, hey, hey, hey, hey, hey, hey, hey, hey, hey, hey, hey.\n",
      "\n",
      "You know, dyeing's always indentation, so your hair's getting really bad, and you're also getting really bad at it, and now you're getting really bad at it.\n",
      "\n"
     ]
    }
   ],
   "source": [
    "long_sen = df.loc[df['eng_c_len'] > 150,'eng'].head()\n",
    "for i in long_sen :\n",
    "    print(i, end='\\n\\n') # 반복되는 문구가 있는 데이터들이 존재하네요 이런 데이터들만 먼저 찾아 보겠습니다."
   ]
  },
  {
   "cell_type": "code",
   "execution_count": 32,
   "id": "004795e2",
   "metadata": {},
   "outputs": [
    {
     "name": "stderr",
     "output_type": "stream",
     "text": [
      "/tmp/ipykernel_397/2038003786.py:4: UserWarning: This pattern has match groups. To actually get the groups, use str.extract.\n",
      "  df['anom'] = df.eng.str.contains(r'(.+)\\1{3,}', regex=True)\n"
     ]
    },
    {
     "name": "stdout",
     "output_type": "stream",
     "text": [
      "55.714ms\n"
     ]
    }
   ],
   "source": [
    "from time import perf_counter\n",
    "\n",
    "start_time = perf_counter()\n",
    "df['anom'] = df.eng.str.contains(r'(.+)\\1{3,}', regex=True)\n",
    "print(f'{perf_counter() - start_time:.3f}ms')\n",
    "df.loc[df['anom'] == True, 'description'] = 'repeated words'"
   ]
  },
  {
   "cell_type": "code",
   "execution_count": 33,
   "id": "043b8f43",
   "metadata": {},
   "outputs": [
    {
     "name": "stdout",
     "output_type": "stream",
     "text": [
      "max_len : 2717\n",
      "max_content : And to be honest, it's a little bit funny, and sometimes when you look at things like D-C-C-I-I-I don't know if they're kind of funny, so I'm not sure if they're doing something like roll or something like that or something like that or something like that or something like that or something like that or something like that or something like that or something like that or something like that or something like that or something like that or something like that or something like that or something like that or something like that or something like that or something like that or something like that or something like that or something like that or something or something like that or something like that or something or something like that or something like that or something or something or something like that or something or something or something or something or something or something or something or something or something or something or something or something or something or something or something like that or something or something or something or something or something or something like that or something or something like that or something like that or something or something or something or something or something or something or something or something like that or something like that or something like that or something or something or something or something or something or something or something or something or something or something or something or something or something or something or something or something or something or something or something or something or something or something or something or something or something or something or something or something or something or something or something or something or something or something or something or something or something or something or something or something or something or something or something or something or something or something or something or something or something or something or something or something or something or something or something or something or something or something or something or something or something or something or something or something or something or something or something or something or something or something or something or something or something or something or something or something or something or something or something or something or something or something or something or something or something or something or something or something or something or something or something or something or something or something or something or something or something or something or something or something or something or something or something or something or something or something or something\n",
      "min_len : 12\n",
      "min_content : Meat . . . .\n",
      "average_len : 455.8\n"
     ]
    },
    {
     "data": {
      "image/png": "[encoded data removed]",
      "text/plain": [
       "<Figure size 432x288 with 1 Axes>"
      ]
     },
     "metadata": {
      "needs_background": "light"
     },
     "output_type": "display_data"
    }
   ],
   "source": [
    "plot_seq_dist(df.loc[df['anom'] == True,'eng'])"
   ]
  },
  {
   "cell_type": "code",
   "execution_count": 34,
   "id": "552dc683",
   "metadata": {},
   "outputs": [
    {
     "data": {
      "text/html": [
       "<div>\n",
       "<style scoped>\n",
       "    .dataframe tbody tr th:only-of-type {\n",
       "        vertical-align: middle;\n",
       "    }\n",
       "\n",
       "    .dataframe tbody tr th {\n",
       "        vertical-align: top;\n",
       "    }\n",
       "\n",
       "    .dataframe thead th {\n",
       "        text-align: right;\n",
       "    }\n",
       "</style>\n",
       "<table border=\"1\" class=\"dataframe\">\n",
       "  <thead>\n",
       "    <tr style=\"text-align: right;\">\n",
       "      <th></th>\n",
       "      <th>reg</th>\n",
       "      <th>topic</th>\n",
       "      <th>stdn</th>\n",
       "      <th>dial</th>\n",
       "      <th>eng</th>\n",
       "      <th>eojeol_stdn</th>\n",
       "      <th>sts</th>\n",
       "      <th>eng_c_len</th>\n",
       "      <th>anom</th>\n",
       "      <th>description</th>\n",
       "    </tr>\n",
       "  </thead>\n",
       "  <tbody>\n",
       "    <tr>\n",
       "      <th>77597</th>\n",
       "      <td>jd</td>\n",
       "      <td>게임</td>\n",
       "      <td>조금 솔직히 조금 생긴 게 웃기게 생겨가지고 그거 가끔씩 디씨 같은 데 짤 같은 거...</td>\n",
       "      <td>쫌 솔직히 쫌 생긴 게 웃기게 생겨가지고 그거 가끔씩 디씨 같은 데 짤 같은 거 보...</td>\n",
       "      <td>And to be honest, it's a little bit funny, and...</td>\n",
       "      <td>[['(쫌)/(조금)', '(쫌)/(조금)', '(쫌)/(조금)']]</td>\n",
       "      <td>0.146649</td>\n",
       "      <td>2717</td>\n",
       "      <td>True</td>\n",
       "      <td>repeated words</td>\n",
       "    </tr>\n",
       "  </tbody>\n",
       "</table>\n",
       "</div>"
      ],
      "text/plain": [
       "      reg topic                                               stdn  \\\n",
       "77597  jd    게임  조금 솔직히 조금 생긴 게 웃기게 생겨가지고 그거 가끔씩 디씨 같은 데 짤 같은 거...   \n",
       "\n",
       "                                                    dial  \\\n",
       "77597  쫌 솔직히 쫌 생긴 게 웃기게 생겨가지고 그거 가끔씩 디씨 같은 데 짤 같은 거 보...   \n",
       "\n",
       "                                                     eng  \\\n",
       "77597  And to be honest, it's a little bit funny, and...   \n",
       "\n",
       "                                  eojeol_stdn       sts  eng_c_len  anom  \\\n",
       "77597  [['(쫌)/(조금)', '(쫌)/(조금)', '(쫌)/(조금)']]  0.146649       2717  True   \n",
       "\n",
       "          description  \n",
       "77597  repeated words  "
      ]
     },
     "execution_count": 34,
     "metadata": {},
     "output_type": "execute_result"
    }
   ],
   "source": [
    "df.loc[df['eng_c_len'] ==df['eng_c_len'].max()]"
   ]
  },
  {
   "cell_type": "code",
   "execution_count": 35,
   "id": "2478c697",
   "metadata": {},
   "outputs": [],
   "source": [
    "# save index with anomalies\n",
    "anls = df[df['anom'] == True].index.tolist()"
   ]
  },
  {
   "cell_type": "code",
   "execution_count": 41,
   "id": "2e7a006e",
   "metadata": {},
   "outputs": [],
   "source": [
    "#번역이 이상한것들은 재번역 실시\n",
    "anom_stdn = df.iloc[anls].stdn.values"
   ]
  },
  {
   "cell_type": "code",
   "execution_count": 42,
   "id": "2e6e171a",
   "metadata": {},
   "outputs": [
    {
     "data": {
      "text/plain": [
       "array(['근데 쪘다가 또 빠졌다가 또 쪘다가 이렇게', '놀이 있냐 이게 플레이냐 꿈이냐 틀리잖아 그니까',\n",
       "       '희한한 맛이었어 뭘 긍까 뭐라할까 김 그 김 김밥나라나 이런 데에서 싸는 그런 맛이랑 조금 다른 맛이었어.',\n",
       "       '저~ 야 얌전히 누여가지고 좀 누가 이렇게 기름 바른 것 같이'], dtype=object)"
      ]
     },
     "execution_count": 42,
     "metadata": {},
     "output_type": "execute_result"
    }
   ],
   "source": [
    "anom_stdn[:4]"
   ]
  },
  {
   "cell_type": "code",
   "execution_count": 43,
   "id": "a2efd733",
   "metadata": {},
   "outputs": [],
   "source": [
    "from transformers import pipeline"
   ]
  },
  {
   "cell_type": "code",
   "execution_count": 44,
   "id": "594f1cd8",
   "metadata": {},
   "outputs": [
    {
     "data": {
      "application/vnd.jupyter.widget-view+json": {
       "model_id": "613a83162fec424b9df650b1784f6907",
       "version_major": 2,
       "version_minor": 0
      },
      "text/plain": [
       "Downloading:   0%|          | 0.00/1.41k [00:00<?, ?B/s]"
      ]
     },
     "metadata": {},
     "output_type": "display_data"
    },
    {
     "data": {
      "application/vnd.jupyter.widget-view+json": {
       "model_id": "d083922a6b1e4511ae5371eefd77ea1f",
       "version_major": 2,
       "version_minor": 0
      },
      "text/plain": [
       "Downloading:   0%|          | 0.00/473M [00:00<?, ?B/s]"
      ]
     },
     "metadata": {},
     "output_type": "display_data"
    },
    {
     "data": {
      "application/vnd.jupyter.widget-view+json": {
       "model_id": "7161c1414b674743850f6d85cdd65ac9",
       "version_major": 2,
       "version_minor": 0
      },
      "text/plain": [
       "Downloading:   0%|          | 0.00/304 [00:00<?, ?B/s]"
      ]
     },
     "metadata": {},
     "output_type": "display_data"
    },
    {
     "data": {
      "application/vnd.jupyter.widget-view+json": {
       "model_id": "5cc77f8d726d4a0795d1af1318debaaa",
       "version_major": 2,
       "version_minor": 0
      },
      "text/plain": [
       "Downloading:   0%|          | 0.00/123 [00:00<?, ?B/s]"
      ]
     },
     "metadata": {},
     "output_type": "display_data"
    },
    {
     "data": {
      "application/vnd.jupyter.widget-view+json": {
       "model_id": "8a3bd1420ca84ffdbbee5ebb5ee8aeca",
       "version_major": 2,
       "version_minor": 0
      },
      "text/plain": [
       "Downloading:   0%|          | 0.00/1.00M [00:00<?, ?B/s]"
      ]
     },
     "metadata": {},
     "output_type": "display_data"
    }
   ],
   "source": [
    "model_ckpt2= 'circulus/kobart-trans-ko-en-v2' #bart`\n",
    "pipe = pipeline('translation', model = model_ckpt2, device=0,max_length=256)"
   ]
  },
  {
   "cell_type": "code",
   "execution_count": 52,
   "id": "c7afecb1",
   "metadata": {},
   "outputs": [],
   "source": [
    "import datasets\n",
    "dataset = datasets.Dataset.from_dict({'text':anom_stdn})"
   ]
  },
  {
   "cell_type": "code",
   "execution_count": 60,
   "id": "99ba6aa8",
   "metadata": {},
   "outputs": [
    {
     "data": {
      "text/plain": [
       "Dataset({\n",
       "    features: ['text'],\n",
       "    num_rows: 13232\n",
       "})"
      ]
     },
     "execution_count": 60,
     "metadata": {},
     "output_type": "execute_result"
    }
   ],
   "source": [
    "dataset.map"
   ]
  },
  {
   "cell_type": "code",
   "execution_count": 68,
   "id": "0aa3eba5",
   "metadata": {},
   "outputs": [],
   "source": [
    "def test_dat(x):\n",
    "    return {'translation' : pipe(x['text'])[0]['translation_text']}"
   ]
  },
  {
   "cell_type": "code",
   "execution_count": 71,
   "id": "239c43ec",
   "metadata": {},
   "outputs": [
    {
     "data": {
      "application/vnd.jupyter.widget-view+json": {
       "model_id": "51095f44de704fb195105707beb54f9a",
       "version_major": 2,
       "version_minor": 0
      },
      "text/plain": [
       "  0%|          | 0/13232 [00:00<?, ?ex/s]"
      ]
     },
     "metadata": {},
     "output_type": "display_data"
    }
   ],
   "source": [
    "corrected_translation = dataset.map(lambda ds : {'eng_trans' : pipe(ds['text'])[0]['translation_text']})"
   ]
  },
  {
   "cell_type": "code",
   "execution_count": 72,
   "id": "3ccc35bc",
   "metadata": {},
   "outputs": [
    {
     "data": {
      "text/plain": [
       "7      But then you lose, and then you lose, and then...\n",
       "8      You're not playing, you're not playing, you're...\n",
       "32     It's a little bit different from what I'm abou...\n",
       "48     Hey, hey, hey, hey, hey, hey, hey, hey, hey, h...\n",
       "78     It's really, really, really, really, really, r...\n",
       "154    I always have to make drinks, and then I get d...\n",
       "185    That's when she's gonna be here, and now she's...\n",
       "193    It's not like he's such a pussy, and he's like...\n",
       "199    But I'm telling her to catch it, and I'm not, ...\n",
       "220    It's-it's-it's-it's-it's-it's-it's-it's-it's-i...\n",
       "Name: eng, dtype: object"
      ]
     },
     "execution_count": 72,
     "metadata": {},
     "output_type": "execute_result"
    }
   ],
   "source": [
    "df.iloc[anls][:10].eng"
   ]
  },
  {
   "cell_type": "code",
   "execution_count": 98,
   "id": "dadbb96f",
   "metadata": {},
   "outputs": [],
   "source": [
    "corr_eng = corrected_translation['eng_trans']"
   ]
  },
  {
   "cell_type": "code",
   "execution_count": 82,
   "id": "c8c1d5e7",
   "metadata": {},
   "outputs": [
    {
     "data": {
      "text/plain": [
       "13232"
      ]
     },
     "execution_count": 82,
     "metadata": {},
     "output_type": "execute_result"
    }
   ],
   "source": [
    "len(corr_eng)"
   ]
  },
  {
   "cell_type": "code",
   "execution_count": 95,
   "id": "5c2a9699",
   "metadata": {},
   "outputs": [],
   "source": [
    "df['eng_corr'] = df['eng']"
   ]
  },
  {
   "cell_type": "code",
   "execution_count": 97,
   "id": "0e885baf",
   "metadata": {},
   "outputs": [
    {
     "data": {
      "text/plain": [
       "0        But I gained more more more more more more mor...\n",
       "1              Its different whether its a play or a dream\n",
       "2        It tasted strange what I said It tasted a litt...\n",
       "3        Hey hey he is quiet and it looks like someone ...\n",
       "4        Its really so soft and soft that youre telling...\n",
       "                               ...                        \n",
       "13227    Then stay still and just let it be let it be l...\n",
       "13228    Who shot it I told him to shoot a gun but the ...\n",
       "13229    Ifs its 30000 won or 1000 won its almost the p...\n",
       "13230    Because the land is a little over 10000 pyeong...\n",
       "13231    Only they have bugs that are very very very ve...\n",
       "Length: 13232, dtype: object"
      ]
     },
     "execution_count": 97,
     "metadata": {},
     "output_type": "execute_result"
    }
   ],
   "source": [
    "corr_eng"
   ]
  },
  {
   "cell_type": "code",
   "execution_count": 102,
   "id": "1f55bb75",
   "metadata": {},
   "outputs": [],
   "source": [
    "df.loc[anls,['eng_corr']] = corr_eng"
   ]
  },
  {
   "cell_type": "code",
   "execution_count": 104,
   "id": "55b946cb",
   "metadata": {},
   "outputs": [
    {
     "data": {
      "text/html": [
       "<div>\n",
       "<style scoped>\n",
       "    .dataframe tbody tr th:only-of-type {\n",
       "        vertical-align: middle;\n",
       "    }\n",
       "\n",
       "    .dataframe tbody tr th {\n",
       "        vertical-align: top;\n",
       "    }\n",
       "\n",
       "    .dataframe thead th {\n",
       "        text-align: right;\n",
       "    }\n",
       "</style>\n",
       "<table border=\"1\" class=\"dataframe\">\n",
       "  <thead>\n",
       "    <tr style=\"text-align: right;\">\n",
       "      <th></th>\n",
       "      <th>stdn</th>\n",
       "      <th>eng</th>\n",
       "      <th>eng_corr</th>\n",
       "    </tr>\n",
       "  </thead>\n",
       "  <tbody>\n",
       "    <tr>\n",
       "      <th>7</th>\n",
       "      <td>근데 쪘다가 또 빠졌다가 또 쪘다가 이렇게</td>\n",
       "      <td>But then you lose, and then you lose, and then...</td>\n",
       "      <td>But I gained more more more more more more mor...</td>\n",
       "    </tr>\n",
       "    <tr>\n",
       "      <th>8</th>\n",
       "      <td>놀이 있냐 이게 플레이냐 꿈이냐 틀리잖아 그니까</td>\n",
       "      <td>You're not playing, you're not playing, you're...</td>\n",
       "      <td>Its different whether its a play or a dream</td>\n",
       "    </tr>\n",
       "    <tr>\n",
       "      <th>32</th>\n",
       "      <td>희한한 맛이었어 뭘 긍까 뭐라할까 김 그 김 김밥나라나 이런 데에서 싸는 그런 맛이...</td>\n",
       "      <td>It's a little bit different from what I'm abou...</td>\n",
       "      <td>It tasted strange what I said It tasted a litt...</td>\n",
       "    </tr>\n",
       "    <tr>\n",
       "      <th>48</th>\n",
       "      <td>저~ 야 얌전히 누여가지고 좀 누가 이렇게 기름 바른 것 같이</td>\n",
       "      <td>Hey, hey, hey, hey, hey, hey, hey, hey, hey, h...</td>\n",
       "      <td>Hey hey he is quiet and it looks like someone ...</td>\n",
       "    </tr>\n",
       "    <tr>\n",
       "      <th>78</th>\n",
       "      <td>진짜 완전 이렇게 완전 허여멀건 해가지고 건더기 동동동 떠다닌 거를 나보고 먹어라는...</td>\n",
       "      <td>It's really, really, really, really, really, r...</td>\n",
       "      <td>Its really so soft and soft that youre telling...</td>\n",
       "    </tr>\n",
       "    <tr>\n",
       "      <th>...</th>\n",
       "      <td>...</td>\n",
       "      <td>...</td>\n",
       "      <td>...</td>\n",
       "    </tr>\n",
       "    <tr>\n",
       "      <th>949596</th>\n",
       "      <td>그럼 가만히해서 #이 그냥 #이</td>\n",
       "      <td>Then stay still and just let it be let it be l...</td>\n",
       "      <td>Then stay still and just let it be let it be l...</td>\n",
       "    </tr>\n",
       "    <tr>\n",
       "      <th>949655</th>\n",
       "      <td>누가 쏜거야 -초- 총을 쏠라고 했는데 그~ 오 만 불로 산 흑인 남자가 자기가 대...</td>\n",
       "      <td>Who shot it I told him to shoot a gun but the ...</td>\n",
       "      <td>Who shot it I told him to shoot a gun but the ...</td>\n",
       "    </tr>\n",
       "    <tr>\n",
       "      <th>949689</th>\n",
       "      <td>삼만 구천 원 이면 거의 뷔페 값이다. #이</td>\n",
       "      <td>Ifs its 30000 won or 1000 won its almost the p...</td>\n",
       "      <td>Ifs its 30000 won or 1000 won its almost the p...</td>\n",
       "    </tr>\n",
       "    <tr>\n",
       "      <th>949692</th>\n",
       "      <td>왜냐하면 땅이 한 만평 조금 넘는데 거기에 한 거의 한 칠천평 이상이 짤려서 들어갈...</td>\n",
       "      <td>Because the land is a little over 10000 pyeong...</td>\n",
       "      <td>Because the land is a little over 10000 pyeong...</td>\n",
       "    </tr>\n",
       "    <tr>\n",
       "      <th>949711</th>\n",
       "      <td>걔네한테만 벌레가 막 벌레들이 보글 보글해.</td>\n",
       "      <td>Only they have bugs that are very very very ve...</td>\n",
       "      <td>Only they have bugs that are very very very ve...</td>\n",
       "    </tr>\n",
       "  </tbody>\n",
       "</table>\n",
       "<p>13232 rows × 3 columns</p>\n",
       "</div>"
      ],
      "text/plain": [
       "                                                     stdn  \\\n",
       "7                                 근데 쪘다가 또 빠졌다가 또 쪘다가 이렇게   \n",
       "8                              놀이 있냐 이게 플레이냐 꿈이냐 틀리잖아 그니까   \n",
       "32      희한한 맛이었어 뭘 긍까 뭐라할까 김 그 김 김밥나라나 이런 데에서 싸는 그런 맛이...   \n",
       "48                     저~ 야 얌전히 누여가지고 좀 누가 이렇게 기름 바른 것 같이   \n",
       "78      진짜 완전 이렇게 완전 허여멀건 해가지고 건더기 동동동 떠다닌 거를 나보고 먹어라는...   \n",
       "...                                                   ...   \n",
       "949596                                  그럼 가만히해서 #이 그냥 #이   \n",
       "949655  누가 쏜거야 -초- 총을 쏠라고 했는데 그~ 오 만 불로 산 흑인 남자가 자기가 대...   \n",
       "949689                           삼만 구천 원 이면 거의 뷔페 값이다. #이   \n",
       "949692  왜냐하면 땅이 한 만평 조금 넘는데 거기에 한 거의 한 칠천평 이상이 짤려서 들어갈...   \n",
       "949711                           걔네한테만 벌레가 막 벌레들이 보글 보글해.   \n",
       "\n",
       "                                                      eng  \\\n",
       "7       But then you lose, and then you lose, and then...   \n",
       "8       You're not playing, you're not playing, you're...   \n",
       "32      It's a little bit different from what I'm abou...   \n",
       "48      Hey, hey, hey, hey, hey, hey, hey, hey, hey, h...   \n",
       "78      It's really, really, really, really, really, r...   \n",
       "...                                                   ...   \n",
       "949596  Then stay still and just let it be let it be l...   \n",
       "949655  Who shot it I told him to shoot a gun but the ...   \n",
       "949689  Ifs its 30000 won or 1000 won its almost the p...   \n",
       "949692  Because the land is a little over 10000 pyeong...   \n",
       "949711  Only they have bugs that are very very very ve...   \n",
       "\n",
       "                                                 eng_corr  \n",
       "7       But I gained more more more more more more mor...  \n",
       "8             Its different whether its a play or a dream  \n",
       "32      It tasted strange what I said It tasted a litt...  \n",
       "48      Hey hey he is quiet and it looks like someone ...  \n",
       "78      Its really so soft and soft that youre telling...  \n",
       "...                                                   ...  \n",
       "949596  Then stay still and just let it be let it be l...  \n",
       "949655  Who shot it I told him to shoot a gun but the ...  \n",
       "949689  Ifs its 30000 won or 1000 won its almost the p...  \n",
       "949692  Because the land is a little over 10000 pyeong...  \n",
       "949711  Only they have bugs that are very very very ve...  \n",
       "\n",
       "[13232 rows x 3 columns]"
      ]
     },
     "execution_count": 104,
     "metadata": {},
     "output_type": "execute_result"
    }
   ],
   "source": [
    "df.loc[anls,['stdn','eng','eng_corr']]"
   ]
  },
  {
   "cell_type": "code",
   "execution_count": 105,
   "id": "03db1221",
   "metadata": {},
   "outputs": [],
   "source": [
    "df.to_csv(directory + 'meta_raw_eng_corrected_sts_v1.csv')"
   ]
  },
  {
   "cell_type": "code",
   "execution_count": 109,
   "id": "df676034",
   "metadata": {},
   "outputs": [
    {
     "name": "stdout",
     "output_type": "stream",
     "text": [
      "max_len : 755\n",
      "max_content : Then ..............................................................................................................................................................................................................................................................................................................................................................................................................................................................................................................................................................................................................................................................................................................................................................................\n",
      "min_len : 2\n",
      "min_content : He\n",
      "average_len : 81.3\n"
     ]
    },
    {
     "data": {
      "image/png": "[encoded data removed]",
      "text/plain": [
       "<Figure size 432x288 with 1 Axes>"
      ]
     },
     "metadata": {
      "needs_background": "light"
     },
     "output_type": "display_data"
    }
   ],
   "source": [
    "plot_seq_dist(df.loc[df['anom'] == True,'eng_corr'])"
   ]
  },
  {
   "cell_type": "code",
   "execution_count": 110,
   "id": "253ff51c",
   "metadata": {},
   "outputs": [
    {
     "name": "stderr",
     "output_type": "stream",
     "text": [
      "/tmp/ipykernel_397/1334004069.py:2: UserWarning: This pattern has match groups. To actually get the groups, use str.extract.\n",
      "  df['anom_corr'] = df.eng_corr.str.contains(r'(.+)\\1{3,}', regex=True)\n"
     ]
    },
    {
     "name": "stdout",
     "output_type": "stream",
     "text": [
      "51.332ms\n"
     ]
    }
   ],
   "source": [
    "start_time = perf_counter()\n",
    "df['anom_corr'] = df.eng_corr.str.contains(r'(.+)\\1{3,}', regex=True)\n",
    "print(f'{perf_counter() - start_time:.3f}ms')\n",
    "df.loc[df['anom_corr'] == True, 'description'] = 'repeated words'"
   ]
  },
  {
   "cell_type": "code",
   "execution_count": 112,
   "id": "17d5ffa5",
   "metadata": {},
   "outputs": [
    {
     "data": {
      "text/plain": [
       "array(['But I gained more more more more more more more more more more more more more more more more more more more more more more more more more more more more more more more more more more more more more more more more more more more more more more more more more more more more more more more more more more more more more more more more more more more more more more more more more more more more more more more more more more mor',\n",
       "       'Is it so expensive that the toy is 200000 won',\n",
       "       'Itno why is it 100000 peaks of Kalbawi Rock in Geumgangsan Mountain',\n",
       "       ...,\n",
       "       'Ifs its 30000 won or 1000 won its almost the price of a buffet',\n",
       "       'Because the land is a little over 10000 pyeong and almost about 7000 pyeong or more will be put in',\n",
       "       'Only they have bugs that are very very very very very very very very very very very very very very very very very very very very very very very very very very very very very very very very very very very very very very very very very very very very very very very very very very very very very very very very very very very very very very very very very very very very very very very very very very very very very very ver'],\n",
       "      dtype=object)"
      ]
     },
     "execution_count": 112,
     "metadata": {},
     "output_type": "execute_result"
    }
   ],
   "source": [
    "df.loc[df['anom_corr']==True]['eng_corr'].values"
   ]
  },
  {
   "cell_type": "code",
   "execution_count": 118,
   "id": "5b2f2030",
   "metadata": {},
   "outputs": [
    {
     "name": "stdout",
     "output_type": "stream",
     "text": [
      "huggingface/tokenizers: The current process just got forked, after parallelism has already been used. Disabling parallelism to avoid deadlocks...\n",
      "To disable this warning, you can either:\n",
      "\t- Avoid using `tokenizers` before the fork if possible\n",
      "\t- Explicitly set the environment variable TOKENIZERS_PARALLELISM=(true | false)\n",
      "Collecting openpyxl\n",
      "  Downloading openpyxl-3.1.1-py2.py3-none-any.whl (249 kB)\n",
      "     |████████████████████████████████| 249 kB 5.9 MB/s            \n",
      "\u001b[?25hCollecting et-xmlfile\n",
      "  Downloading et_xmlfile-1.1.0-py3-none-any.whl (4.7 kB)\n",
      "Installing collected packages: et-xmlfile, openpyxl\n",
      "Successfully installed et-xmlfile-1.1.0 openpyxl-3.1.1\n",
      "\u001b[33mWARNING: Running pip as the 'root' user can result in broken permissions and conflicting behaviour with the system package manager. It is recommended to use a virtual environment instead: https://pip.pypa.io/warnings/venv\u001b[0m\n"
     ]
    }
   ],
   "source": [
    "!pip install openpyxl"
   ]
  },
  {
   "cell_type": "code",
   "execution_count": 119,
   "id": "2f451d78",
   "metadata": {},
   "outputs": [],
   "source": [
    "df.loc[df['anom_corr']==True]['stdn'].to_frame().to_excel(directory + 'meta_raw_eng_corrected_sts_v1_needs_correction.xlsx')"
   ]
  },
  {
   "cell_type": "code",
   "execution_count": 123,
   "id": "70e891e8",
   "metadata": {},
   "outputs": [],
   "source": [
    "corr_trans_2 = pd.read_excel(directory + 'meta_raw_eng_corrected_sts_v1_needs_correction_translated.xlsx')"
   ]
  },
  {
   "cell_type": "code",
   "execution_count": 130,
   "id": "83de2441",
   "metadata": {},
   "outputs": [
    {
     "data": {
      "text/plain": [
       "array([' But I gained weight, then lost weight, gained weight again, then like this',\n",
       "       ' Why is it so expensive? A toy costs 220,000 won.',\n",
       "       ' The real Geumgangsan Mountain is said to be 11,000 sword rocks, but it is only 12,000 peaks.',\n",
       "       ...,\n",
       "       ' Thirty-nineteen thousand won is almost the price of a buffet. #this',\n",
       "       ' Because the land is a little over 10,000 pyeong, and more than 7,000 pyeong will be cut off there.',\n",
       "       ' Bugs are just bubbling with them.'], dtype=object)"
      ]
     },
     "execution_count": 130,
     "metadata": {},
     "output_type": "execute_result"
    }
   ],
   "source": [
    "corr_trans_2.stdn.values"
   ]
  },
  {
   "cell_type": "code",
   "execution_count": 131,
   "id": "f13de6fb",
   "metadata": {},
   "outputs": [],
   "source": [
    "df['eng_corr2'] = df['eng_corr']\n",
    "df.loc[df['anom_corr']==True, 'eng_corr2'] = corr_trans_2.stdn.values"
   ]
  },
  {
   "cell_type": "code",
   "execution_count": 132,
   "id": "010d7a98",
   "metadata": {},
   "outputs": [
    {
     "data": {
      "text/plain": [
       "7          But I gained weight, then lost weight, gained...\n",
       "2074       Why is it so expensive? A toy costs 220,000 won.\n",
       "3468       The real Geumgangsan Mountain is said to be 1...\n",
       "7090       It's all about memorization -ha- -ha- I can't...\n",
       "7746       This, this, this, this, this, this, this, thi...\n",
       "                                ...                        \n",
       "949596                     Then stay still #this just #this\n",
       "949655                                         Who shot it?\n",
       "949689     Thirty-nineteen thousand won is almost the pr...\n",
       "949692     Because the land is a little over 10,000 pyeo...\n",
       "949711                    Bugs are just bubbling with them.\n",
       "Name: eng_corr2, Length: 2781, dtype: object"
      ]
     },
     "execution_count": 132,
     "metadata": {},
     "output_type": "execute_result"
    }
   ],
   "source": [
    "df.loc[df['anom_corr']==True, 'eng_corr2']"
   ]
  },
  {
   "cell_type": "code",
   "execution_count": 133,
   "id": "c49a8ded",
   "metadata": {},
   "outputs": [
    {
     "name": "stdout",
     "output_type": "stream",
     "text": [
      "max_len : 334\n",
      "max_content :  In the field to add that there are things that do not exist, in the field to add that there are things that do not have to be beaten, in the field to add that there are things that do not exist, there are people who attack to slap People in the field to add that there are things that do not exist, and people who attack to slap them\n",
      "min_len : 4\n",
      "min_content :  yes\n",
      "average_len : 68.3\n"
     ]
    },
    {
     "data": {
      "image/png": "[encoded data removed]",
      "text/plain": [
       "<Figure size 432x288 with 1 Axes>"
      ]
     },
     "metadata": {
      "needs_background": "light"
     },
     "output_type": "display_data"
    }
   ],
   "source": [
    "plot_seq_dist(df.loc[df['anom_corr'] == True,'eng_corr2'])"
   ]
  },
  {
   "cell_type": "code",
   "execution_count": 134,
   "id": "bb48c7cc",
   "metadata": {},
   "outputs": [
    {
     "name": "stderr",
     "output_type": "stream",
     "text": [
      "/tmp/ipykernel_397/2727745418.py:2: UserWarning: This pattern has match groups. To actually get the groups, use str.extract.\n",
      "  df['anom_corr2'] = df.eng_corr2.str.contains(r'(.+)\\1{3,}', regex=True)\n"
     ]
    },
    {
     "name": "stdout",
     "output_type": "stream",
     "text": [
      "51.706ms\n"
     ]
    }
   ],
   "source": [
    "start_time = perf_counter()\n",
    "df['anom_corr2'] = df.eng_corr2.str.contains(r'(.+)\\1{3,}', regex=True)\n",
    "print(f'{perf_counter() - start_time:.3f}ms')\n",
    "df.loc[df['anom_corr2'] == True, 'description'] = 'repeated words'"
   ]
  },
  {
   "cell_type": "code",
   "execution_count": 135,
   "id": "aad7e4e1",
   "metadata": {},
   "outputs": [
    {
     "data": {
      "text/html": [
       "<div>\n",
       "<style scoped>\n",
       "    .dataframe tbody tr th:only-of-type {\n",
       "        vertical-align: middle;\n",
       "    }\n",
       "\n",
       "    .dataframe tbody tr th {\n",
       "        vertical-align: top;\n",
       "    }\n",
       "\n",
       "    .dataframe thead th {\n",
       "        text-align: right;\n",
       "    }\n",
       "</style>\n",
       "<table border=\"1\" class=\"dataframe\">\n",
       "  <thead>\n",
       "    <tr style=\"text-align: right;\">\n",
       "      <th></th>\n",
       "      <th>reg</th>\n",
       "      <th>topic</th>\n",
       "      <th>stdn</th>\n",
       "      <th>dial</th>\n",
       "      <th>eng</th>\n",
       "      <th>eojeol_stdn</th>\n",
       "      <th>sts</th>\n",
       "      <th>eng_c_len</th>\n",
       "      <th>anom</th>\n",
       "      <th>description</th>\n",
       "      <th>eng_corr</th>\n",
       "      <th>anom_corr</th>\n",
       "      <th>eng_corr2</th>\n",
       "      <th>anom_corr2</th>\n",
       "    </tr>\n",
       "  </thead>\n",
       "  <tbody>\n",
       "    <tr>\n",
       "      <th>7746</th>\n",
       "      <td>jd</td>\n",
       "      <td>스타일</td>\n",
       "      <td>이거 이거 이거 이거 이거 이거 이거 이거 이거 뭐~ 턱도 깎고 막 그러는데</td>\n",
       "      <td>이거 이거 이거 이거 이거 이거 이거 이거 이거 뭐~ 턱도 깎고 막 그러는디</td>\n",
       "      <td>Hey, hey, hey, hey, hey, hey, hey, hey, hey, h...</td>\n",
       "      <td>[['(그러는디)/(그러는데)']]</td>\n",
       "      <td>0.182807</td>\n",
       "      <td>829</td>\n",
       "      <td>True</td>\n",
       "      <td>repeated words</td>\n",
       "      <td>This this this this this this this this this t...</td>\n",
       "      <td>True</td>\n",
       "      <td>This, this, this, this, this, this, this, thi...</td>\n",
       "      <td>True</td>\n",
       "    </tr>\n",
       "    <tr>\n",
       "      <th>9703</th>\n",
       "      <td>jd</td>\n",
       "      <td>아르바이트</td>\n",
       "      <td>아니야 아니야 아니야 아니야</td>\n",
       "      <td>아녀 아니여 아녀 아녀</td>\n",
       "      <td>No, no, no, no, no.</td>\n",
       "      <td>[['(아녀)/(아니야)', '(아니여)/(아니야)', '(아녀)/(아니야)', '...</td>\n",
       "      <td>0.009290</td>\n",
       "      <td>19</td>\n",
       "      <td>True</td>\n",
       "      <td>repeated words</td>\n",
       "      <td>No no no no no</td>\n",
       "      <td>True</td>\n",
       "      <td>no no no no</td>\n",
       "      <td>True</td>\n",
       "    </tr>\n",
       "    <tr>\n",
       "      <th>33508</th>\n",
       "      <td>jd</td>\n",
       "      <td>꿈(목표)</td>\n",
       "      <td>동생한테 야 야 야 저기 뭐야 거시기 거시기 아~ 야 야 야 저기 우리는 이제 마당...</td>\n",
       "      <td>동생한테 야 야 야 저기 뭐여 거시기 거시기 아~ 야 야 야 저기 우리는 이제 마당...</td>\n",
       "      <td>Hey, hey, hey, hey, hey, hey, hey, hey, there'...</td>\n",
       "      <td>[['(뭐여)/(뭐야)', '(쩌쪽)/(저쪽)', '(쩌쪽)/(저쪽)', '(있었응...</td>\n",
       "      <td>-0.049492</td>\n",
       "      <td>119</td>\n",
       "      <td>True</td>\n",
       "      <td>repeated words</td>\n",
       "      <td>Hey hey hey hey hey hey hey hey hey hey hey he...</td>\n",
       "      <td>True</td>\n",
       "      <td>To my younger brother Hey hey hey hey hey hey...</td>\n",
       "      <td>True</td>\n",
       "    </tr>\n",
       "    <tr>\n",
       "      <th>145828</th>\n",
       "      <td>jj</td>\n",
       "      <td>취미</td>\n",
       "      <td>아주 아주 아주 아주 많이 엄청 엄청.</td>\n",
       "      <td>아주 아주 아주 아주 많이 하영 하영.</td>\n",
       "      <td>Very, very, very, very, very, very, very large.</td>\n",
       "      <td>[['(하영)/(엄청)', '(하영.)/(엄청.)']]</td>\n",
       "      <td>0.048581</td>\n",
       "      <td>47</td>\n",
       "      <td>True</td>\n",
       "      <td>repeated words</td>\n",
       "      <td>Very very very very very very very very</td>\n",
       "      <td>True</td>\n",
       "      <td>very very very very very very very very much.</td>\n",
       "      <td>True</td>\n",
       "    </tr>\n",
       "    <tr>\n",
       "      <th>148343</th>\n",
       "      <td>jj</td>\n",
       "      <td>드라마</td>\n",
       "      <td>피도 나왔다가 계속 막 바뀌어서 뭐 뭐가 뭔지 뭐가 하나 뭐가 맞는건지</td>\n",
       "      <td>피도 나왔다가 계속 막 바껴가지고 뭐 뭐가 뭔지 뭐가 하나 뭐가 맞는건지</td>\n",
       "      <td>He's got blood, and it's been changed all the ...</td>\n",
       "      <td>[['(바껴가지고)/(바뀌어서)']]</td>\n",
       "      <td>0.055134</td>\n",
       "      <td>547</td>\n",
       "      <td>True</td>\n",
       "      <td>repeated words</td>\n",
       "      <td>The blood came out and changed so what what wh...</td>\n",
       "      <td>True</td>\n",
       "      <td>Blood came out, but it kept changing so what ...</td>\n",
       "      <td>True</td>\n",
       "    </tr>\n",
       "    <tr>\n",
       "      <th>...</th>\n",
       "      <td>...</td>\n",
       "      <td>...</td>\n",
       "      <td>...</td>\n",
       "      <td>...</td>\n",
       "      <td>...</td>\n",
       "      <td>...</td>\n",
       "      <td>...</td>\n",
       "      <td>...</td>\n",
       "      <td>...</td>\n",
       "      <td>...</td>\n",
       "      <td>...</td>\n",
       "      <td>...</td>\n",
       "      <td>...</td>\n",
       "      <td>...</td>\n",
       "    </tr>\n",
       "    <tr>\n",
       "      <th>926291</th>\n",
       "      <td>jj</td>\n",
       "      <td>먹거리</td>\n",
       "      <td>저 겨울 없으면 그 이거 이거 이거 뭐라 이거 손 손전화기</td>\n",
       "      <td>저 겨울 어시면 그 이거 이거 이거 뭐라 이거 손 손전화기</td>\n",
       "      <td>If there is no winter this this this this this...</td>\n",
       "      <td>[['(어시면)/(없으면)']]</td>\n",
       "      <td>0.012777</td>\n",
       "      <td>626</td>\n",
       "      <td>True</td>\n",
       "      <td>repeated words</td>\n",
       "      <td>If there is no winter this this this this this...</td>\n",
       "      <td>True</td>\n",
       "      <td>If there is no winter, that this this this th...</td>\n",
       "      <td>True</td>\n",
       "    </tr>\n",
       "    <tr>\n",
       "      <th>940191</th>\n",
       "      <td>jj</td>\n",
       "      <td>가족</td>\n",
       "      <td>아 그래도 이거 이거 이거 이거 임플란트</td>\n",
       "      <td>아 경해도 이거 이거 이거 이거 임플란트</td>\n",
       "      <td>Oh but this this this this implant</td>\n",
       "      <td>[['(경해도)/(그래도)']]</td>\n",
       "      <td>-0.082162</td>\n",
       "      <td>34</td>\n",
       "      <td>True</td>\n",
       "      <td>repeated words</td>\n",
       "      <td>Oh but this this this this implant</td>\n",
       "      <td>True</td>\n",
       "      <td>Oh, but this this this this this this implant</td>\n",
       "      <td>True</td>\n",
       "    </tr>\n",
       "    <tr>\n",
       "      <th>942487</th>\n",
       "      <td>gs</td>\n",
       "      <td>먹거리</td>\n",
       "      <td>그~ 먹으라고 소고기도 이렇게 막 세 개씩 꽂은 거 세 개씩 이렇게 세 개 세 개 ...</td>\n",
       "      <td>그~ 먹으라고 소고기도 이렇게 막 세 개씩 꽂은 거 세 개씩 이케 세 개 세 개 이...</td>\n",
       "      <td>To eat these days three beef three beef three ...</td>\n",
       "      <td>[['(이케)/(이렇게)']]</td>\n",
       "      <td>0.234536</td>\n",
       "      <td>72</td>\n",
       "      <td>True</td>\n",
       "      <td>repeated words</td>\n",
       "      <td>To eat these days three beef three beef three ...</td>\n",
       "      <td>True</td>\n",
       "      <td>To eat it, the beef is like this, three piece...</td>\n",
       "      <td>True</td>\n",
       "    </tr>\n",
       "    <tr>\n",
       "      <th>944585</th>\n",
       "      <td>jd</td>\n",
       "      <td>방송/연예</td>\n",
       "      <td>정부 수매 나가면 일등 받으려고 건조를 잘 시켰어요 그랬더니 허허허허허</td>\n",
       "      <td>정부 수매 나가면 일등 맞을라고 건조를 잘 시켰어요 그랬더니 허허허허허</td>\n",
       "      <td>I sold it well to get the first place when the...</td>\n",
       "      <td>[['(맞을라고)/(받으려고)']]</td>\n",
       "      <td>0.107805</td>\n",
       "      <td>99</td>\n",
       "      <td>True</td>\n",
       "      <td>repeated words</td>\n",
       "      <td>I sold it well to get the first place when the...</td>\n",
       "      <td>True</td>\n",
       "      <td>When the government goes out to buy it, I dri...</td>\n",
       "      <td>True</td>\n",
       "    </tr>\n",
       "    <tr>\n",
       "      <th>947833</th>\n",
       "      <td>jj</td>\n",
       "      <td>역사</td>\n",
       "      <td>왜 왜 왜 왜 그럴까 왜 그럴까 생각을 해 봤더니</td>\n",
       "      <td>왜 왜 무사 무사 겅헌고 무사 겅헌고 생각을 해 봤더니</td>\n",
       "      <td>I thought about why why why why why why</td>\n",
       "      <td>[['(무사)/(왜)', '(무사)/(왜)', '(겅헌고)/(그럴까)', '(무사)...</td>\n",
       "      <td>-0.000802</td>\n",
       "      <td>39</td>\n",
       "      <td>True</td>\n",
       "      <td>repeated words</td>\n",
       "      <td>I thought about why why why why why why</td>\n",
       "      <td>True</td>\n",
       "      <td>Why why why why why why why</td>\n",
       "      <td>True</td>\n",
       "    </tr>\n",
       "  </tbody>\n",
       "</table>\n",
       "<p>95 rows × 14 columns</p>\n",
       "</div>"
      ],
      "text/plain": [
       "       reg  topic                                               stdn  \\\n",
       "7746    jd    스타일         이거 이거 이거 이거 이거 이거 이거 이거 이거 뭐~ 턱도 깎고 막 그러는데   \n",
       "9703    jd  아르바이트                                    아니야 아니야 아니야 아니야   \n",
       "33508   jd  꿈(목표)  동생한테 야 야 야 저기 뭐야 거시기 거시기 아~ 야 야 야 저기 우리는 이제 마당...   \n",
       "145828  jj     취미                              아주 아주 아주 아주 많이 엄청 엄청.   \n",
       "148343  jj    드라마            피도 나왔다가 계속 막 바뀌어서 뭐 뭐가 뭔지 뭐가 하나 뭐가 맞는건지   \n",
       "...     ..    ...                                                ...   \n",
       "926291  jj    먹거리                   저 겨울 없으면 그 이거 이거 이거 뭐라 이거 손 손전화기   \n",
       "940191  jj     가족                             아 그래도 이거 이거 이거 이거 임플란트   \n",
       "942487  gs    먹거리  그~ 먹으라고 소고기도 이렇게 막 세 개씩 꽂은 거 세 개씩 이렇게 세 개 세 개 ...   \n",
       "944585  jd  방송/연예            정부 수매 나가면 일등 받으려고 건조를 잘 시켰어요 그랬더니 허허허허허   \n",
       "947833  jj     역사                        왜 왜 왜 왜 그럴까 왜 그럴까 생각을 해 봤더니   \n",
       "\n",
       "                                                     dial  \\\n",
       "7746           이거 이거 이거 이거 이거 이거 이거 이거 이거 뭐~ 턱도 깎고 막 그러는디   \n",
       "9703                                         아녀 아니여 아녀 아녀   \n",
       "33508   동생한테 야 야 야 저기 뭐여 거시기 거시기 아~ 야 야 야 저기 우리는 이제 마당...   \n",
       "145828                              아주 아주 아주 아주 많이 하영 하영.   \n",
       "148343           피도 나왔다가 계속 막 바껴가지고 뭐 뭐가 뭔지 뭐가 하나 뭐가 맞는건지   \n",
       "...                                                   ...   \n",
       "926291                   저 겨울 어시면 그 이거 이거 이거 뭐라 이거 손 손전화기   \n",
       "940191                             아 경해도 이거 이거 이거 이거 임플란트   \n",
       "942487  그~ 먹으라고 소고기도 이렇게 막 세 개씩 꽂은 거 세 개씩 이케 세 개 세 개 이...   \n",
       "944585            정부 수매 나가면 일등 맞을라고 건조를 잘 시켰어요 그랬더니 허허허허허   \n",
       "947833                     왜 왜 무사 무사 겅헌고 무사 겅헌고 생각을 해 봤더니   \n",
       "\n",
       "                                                      eng  \\\n",
       "7746    Hey, hey, hey, hey, hey, hey, hey, hey, hey, h...   \n",
       "9703                                  No, no, no, no, no.   \n",
       "33508   Hey, hey, hey, hey, hey, hey, hey, hey, there'...   \n",
       "145828    Very, very, very, very, very, very, very large.   \n",
       "148343  He's got blood, and it's been changed all the ...   \n",
       "...                                                   ...   \n",
       "926291  If there is no winter this this this this this...   \n",
       "940191                 Oh but this this this this implant   \n",
       "942487  To eat these days three beef three beef three ...   \n",
       "944585  I sold it well to get the first place when the...   \n",
       "947833            I thought about why why why why why why   \n",
       "\n",
       "                                              eojeol_stdn       sts  \\\n",
       "7746                                  [['(그러는디)/(그러는데)']]  0.182807   \n",
       "9703    [['(아녀)/(아니야)', '(아니여)/(아니야)', '(아녀)/(아니야)', '...  0.009290   \n",
       "33508   [['(뭐여)/(뭐야)', '(쩌쪽)/(저쪽)', '(쩌쪽)/(저쪽)', '(있었응... -0.049492   \n",
       "145828                     [['(하영)/(엄청)', '(하영.)/(엄청.)']]  0.048581   \n",
       "148343                               [['(바껴가지고)/(바뀌어서)']]  0.055134   \n",
       "...                                                   ...       ...   \n",
       "926291                                  [['(어시면)/(없으면)']]  0.012777   \n",
       "940191                                  [['(경해도)/(그래도)']] -0.082162   \n",
       "942487                                   [['(이케)/(이렇게)']]  0.234536   \n",
       "944585                                [['(맞을라고)/(받으려고)']]  0.107805   \n",
       "947833  [['(무사)/(왜)', '(무사)/(왜)', '(겅헌고)/(그럴까)', '(무사)... -0.000802   \n",
       "\n",
       "        eng_c_len  anom     description  \\\n",
       "7746          829  True  repeated words   \n",
       "9703           19  True  repeated words   \n",
       "33508         119  True  repeated words   \n",
       "145828         47  True  repeated words   \n",
       "148343        547  True  repeated words   \n",
       "...           ...   ...             ...   \n",
       "926291        626  True  repeated words   \n",
       "940191         34  True  repeated words   \n",
       "942487         72  True  repeated words   \n",
       "944585         99  True  repeated words   \n",
       "947833         39  True  repeated words   \n",
       "\n",
       "                                                 eng_corr  anom_corr  \\\n",
       "7746    This this this this this this this this this t...       True   \n",
       "9703                                       No no no no no       True   \n",
       "33508   Hey hey hey hey hey hey hey hey hey hey hey he...       True   \n",
       "145828            Very very very very very very very very       True   \n",
       "148343  The blood came out and changed so what what wh...       True   \n",
       "...                                                   ...        ...   \n",
       "926291  If there is no winter this this this this this...       True   \n",
       "940191                 Oh but this this this this implant       True   \n",
       "942487  To eat these days three beef three beef three ...       True   \n",
       "944585  I sold it well to get the first place when the...       True   \n",
       "947833            I thought about why why why why why why       True   \n",
       "\n",
       "                                                eng_corr2  anom_corr2  \n",
       "7746     This, this, this, this, this, this, this, thi...        True  \n",
       "9703                                          no no no no        True  \n",
       "33508    To my younger brother Hey hey hey hey hey hey...        True  \n",
       "145828      very very very very very very very very much.        True  \n",
       "148343   Blood came out, but it kept changing so what ...        True  \n",
       "...                                                   ...         ...  \n",
       "926291   If there is no winter, that this this this th...        True  \n",
       "940191      Oh, but this this this this this this implant        True  \n",
       "942487   To eat it, the beef is like this, three piece...        True  \n",
       "944585   When the government goes out to buy it, I dri...        True  \n",
       "947833                        Why why why why why why why        True  \n",
       "\n",
       "[95 rows x 14 columns]"
      ]
     },
     "execution_count": 135,
     "metadata": {},
     "output_type": "execute_result"
    }
   ],
   "source": [
    "df.loc[df['anom_corr2'] == True]"
   ]
  },
  {
   "cell_type": "code",
   "execution_count": 136,
   "id": "2934f576",
   "metadata": {},
   "outputs": [
    {
     "name": "stdout",
     "output_type": "stream",
     "text": [
      "<class 'pandas.core.frame.DataFrame'>\n",
      "RangeIndex: 949888 entries, 0 to 949887\n",
      "Data columns (total 14 columns):\n",
      " #   Column       Non-Null Count   Dtype  \n",
      "---  ------       --------------   -----  \n",
      " 0   reg          949888 non-null  object \n",
      " 1   topic        949888 non-null  object \n",
      " 2   stdn         949888 non-null  object \n",
      " 3   dial         949888 non-null  object \n",
      " 4   eng          949888 non-null  object \n",
      " 5   eojeol_stdn  949888 non-null  object \n",
      " 6   sts          949888 non-null  float64\n",
      " 7   eng_c_len    949888 non-null  int64  \n",
      " 8   anom         949888 non-null  bool   \n",
      " 9   description  13232 non-null   object \n",
      " 10  eng_corr     949888 non-null  object \n",
      " 11  anom_corr    949888 non-null  bool   \n",
      " 12  eng_corr2    949888 non-null  object \n",
      " 13  anom_corr2   949888 non-null  bool   \n",
      "dtypes: bool(3), float64(1), int64(1), object(9)\n",
      "memory usage: 82.4+ MB\n"
     ]
    }
   ],
   "source": [
    "df.info()"
   ]
  },
  {
   "cell_type": "code",
   "execution_count": 137,
   "id": "a0b800ca",
   "metadata": {},
   "outputs": [],
   "source": [
    "df2 = df.copy()"
   ]
  },
  {
   "cell_type": "code",
   "execution_count": 151,
   "id": "009c8c74",
   "metadata": {},
   "outputs": [],
   "source": [
    "df_final = df2[['reg','topic','stdn','dial','eng','eojeol_stdn','sts']]"
   ]
  },
  {
   "cell_type": "code",
   "execution_count": 152,
   "id": "794e3884",
   "metadata": {},
   "outputs": [
    {
     "name": "stdout",
     "output_type": "stream",
     "text": [
      "<class 'pandas.core.frame.DataFrame'>\n",
      "RangeIndex: 949888 entries, 0 to 949887\n",
      "Data columns (total 7 columns):\n",
      " #   Column       Non-Null Count   Dtype  \n",
      "---  ------       --------------   -----  \n",
      " 0   reg          949888 non-null  object \n",
      " 1   topic        949888 non-null  object \n",
      " 2   stdn         949888 non-null  object \n",
      " 3   dial         949888 non-null  object \n",
      " 4   eng          949888 non-null  object \n",
      " 5   eojeol_stdn  949888 non-null  object \n",
      " 6   sts          949888 non-null  float64\n",
      "dtypes: float64(1), object(6)\n",
      "memory usage: 50.7+ MB\n"
     ]
    }
   ],
   "source": [
    "df_final.info()"
   ]
  },
  {
   "cell_type": "code",
   "execution_count": 141,
   "id": "2b17de63",
   "metadata": {},
   "outputs": [
    {
     "data": {
      "text/html": [
       "<div>\n",
       "<style scoped>\n",
       "    .dataframe tbody tr th:only-of-type {\n",
       "        vertical-align: middle;\n",
       "    }\n",
       "\n",
       "    .dataframe tbody tr th {\n",
       "        vertical-align: top;\n",
       "    }\n",
       "\n",
       "    .dataframe thead th {\n",
       "        text-align: right;\n",
       "    }\n",
       "</style>\n",
       "<table border=\"1\" class=\"dataframe\">\n",
       "  <thead>\n",
       "    <tr style=\"text-align: right;\">\n",
       "      <th></th>\n",
       "      <th>reg</th>\n",
       "      <th>topic</th>\n",
       "      <th>stdn</th>\n",
       "      <th>dial</th>\n",
       "      <th>eng</th>\n",
       "      <th>eojeol_stdn</th>\n",
       "      <th>sts</th>\n",
       "      <th>eng_c_len</th>\n",
       "      <th>anom</th>\n",
       "      <th>description</th>\n",
       "      <th>eng_corr</th>\n",
       "      <th>anom_corr</th>\n",
       "      <th>eng_corr2</th>\n",
       "      <th>anom_corr2</th>\n",
       "    </tr>\n",
       "  </thead>\n",
       "  <tbody>\n",
       "    <tr>\n",
       "      <th>7746</th>\n",
       "      <td>jd</td>\n",
       "      <td>스타일</td>\n",
       "      <td>이거 이거 이거 이거 이거 이거 이거 이거 이거 뭐~ 턱도 깎고 막 그러는데</td>\n",
       "      <td>이거 이거 이거 이거 이거 이거 이거 이거 이거 뭐~ 턱도 깎고 막 그러는디</td>\n",
       "      <td>This, this, this, this, this, this, this, thi...</td>\n",
       "      <td>[['(그러는디)/(그러는데)']]</td>\n",
       "      <td>0.182807</td>\n",
       "      <td>829</td>\n",
       "      <td>True</td>\n",
       "      <td>repeated words</td>\n",
       "      <td>This this this this this this this this this t...</td>\n",
       "      <td>True</td>\n",
       "      <td>This, this, this, this, this, this, this, thi...</td>\n",
       "      <td>True</td>\n",
       "    </tr>\n",
       "    <tr>\n",
       "      <th>9703</th>\n",
       "      <td>jd</td>\n",
       "      <td>아르바이트</td>\n",
       "      <td>아니야 아니야 아니야 아니야</td>\n",
       "      <td>아녀 아니여 아녀 아녀</td>\n",
       "      <td>no no no no</td>\n",
       "      <td>[['(아녀)/(아니야)', '(아니여)/(아니야)', '(아녀)/(아니야)', '...</td>\n",
       "      <td>0.009290</td>\n",
       "      <td>19</td>\n",
       "      <td>True</td>\n",
       "      <td>repeated words</td>\n",
       "      <td>No no no no no</td>\n",
       "      <td>True</td>\n",
       "      <td>no no no no</td>\n",
       "      <td>True</td>\n",
       "    </tr>\n",
       "    <tr>\n",
       "      <th>33508</th>\n",
       "      <td>jd</td>\n",
       "      <td>꿈(목표)</td>\n",
       "      <td>동생한테 야 야 야 저기 뭐야 거시기 거시기 아~ 야 야 야 저기 우리는 이제 마당...</td>\n",
       "      <td>동생한테 야 야 야 저기 뭐여 거시기 거시기 아~ 야 야 야 저기 우리는 이제 마당...</td>\n",
       "      <td>To my younger brother Hey hey hey hey hey hey...</td>\n",
       "      <td>[['(뭐여)/(뭐야)', '(쩌쪽)/(저쪽)', '(쩌쪽)/(저쪽)', '(있었응...</td>\n",
       "      <td>-0.049492</td>\n",
       "      <td>119</td>\n",
       "      <td>True</td>\n",
       "      <td>repeated words</td>\n",
       "      <td>Hey hey hey hey hey hey hey hey hey hey hey he...</td>\n",
       "      <td>True</td>\n",
       "      <td>To my younger brother Hey hey hey hey hey hey...</td>\n",
       "      <td>True</td>\n",
       "    </tr>\n",
       "    <tr>\n",
       "      <th>145828</th>\n",
       "      <td>jj</td>\n",
       "      <td>취미</td>\n",
       "      <td>아주 아주 아주 아주 많이 엄청 엄청.</td>\n",
       "      <td>아주 아주 아주 아주 많이 하영 하영.</td>\n",
       "      <td>very very very very very very very very much.</td>\n",
       "      <td>[['(하영)/(엄청)', '(하영.)/(엄청.)']]</td>\n",
       "      <td>0.048581</td>\n",
       "      <td>47</td>\n",
       "      <td>True</td>\n",
       "      <td>repeated words</td>\n",
       "      <td>Very very very very very very very very</td>\n",
       "      <td>True</td>\n",
       "      <td>very very very very very very very very much.</td>\n",
       "      <td>True</td>\n",
       "    </tr>\n",
       "    <tr>\n",
       "      <th>148343</th>\n",
       "      <td>jj</td>\n",
       "      <td>드라마</td>\n",
       "      <td>피도 나왔다가 계속 막 바뀌어서 뭐 뭐가 뭔지 뭐가 하나 뭐가 맞는건지</td>\n",
       "      <td>피도 나왔다가 계속 막 바껴가지고 뭐 뭐가 뭔지 뭐가 하나 뭐가 맞는건지</td>\n",
       "      <td>Blood came out, but it kept changing so what ...</td>\n",
       "      <td>[['(바껴가지고)/(바뀌어서)']]</td>\n",
       "      <td>0.055134</td>\n",
       "      <td>547</td>\n",
       "      <td>True</td>\n",
       "      <td>repeated words</td>\n",
       "      <td>The blood came out and changed so what what wh...</td>\n",
       "      <td>True</td>\n",
       "      <td>Blood came out, but it kept changing so what ...</td>\n",
       "      <td>True</td>\n",
       "    </tr>\n",
       "    <tr>\n",
       "      <th>...</th>\n",
       "      <td>...</td>\n",
       "      <td>...</td>\n",
       "      <td>...</td>\n",
       "      <td>...</td>\n",
       "      <td>...</td>\n",
       "      <td>...</td>\n",
       "      <td>...</td>\n",
       "      <td>...</td>\n",
       "      <td>...</td>\n",
       "      <td>...</td>\n",
       "      <td>...</td>\n",
       "      <td>...</td>\n",
       "      <td>...</td>\n",
       "      <td>...</td>\n",
       "    </tr>\n",
       "    <tr>\n",
       "      <th>926291</th>\n",
       "      <td>jj</td>\n",
       "      <td>먹거리</td>\n",
       "      <td>저 겨울 없으면 그 이거 이거 이거 뭐라 이거 손 손전화기</td>\n",
       "      <td>저 겨울 어시면 그 이거 이거 이거 뭐라 이거 손 손전화기</td>\n",
       "      <td>If there is no winter, that this this this th...</td>\n",
       "      <td>[['(어시면)/(없으면)']]</td>\n",
       "      <td>0.012777</td>\n",
       "      <td>626</td>\n",
       "      <td>True</td>\n",
       "      <td>repeated words</td>\n",
       "      <td>If there is no winter this this this this this...</td>\n",
       "      <td>True</td>\n",
       "      <td>If there is no winter, that this this this th...</td>\n",
       "      <td>True</td>\n",
       "    </tr>\n",
       "    <tr>\n",
       "      <th>940191</th>\n",
       "      <td>jj</td>\n",
       "      <td>가족</td>\n",
       "      <td>아 그래도 이거 이거 이거 이거 임플란트</td>\n",
       "      <td>아 경해도 이거 이거 이거 이거 임플란트</td>\n",
       "      <td>Oh, but this this this this this this implant</td>\n",
       "      <td>[['(경해도)/(그래도)']]</td>\n",
       "      <td>-0.082162</td>\n",
       "      <td>34</td>\n",
       "      <td>True</td>\n",
       "      <td>repeated words</td>\n",
       "      <td>Oh but this this this this implant</td>\n",
       "      <td>True</td>\n",
       "      <td>Oh, but this this this this this this implant</td>\n",
       "      <td>True</td>\n",
       "    </tr>\n",
       "    <tr>\n",
       "      <th>942487</th>\n",
       "      <td>gs</td>\n",
       "      <td>먹거리</td>\n",
       "      <td>그~ 먹으라고 소고기도 이렇게 막 세 개씩 꽂은 거 세 개씩 이렇게 세 개 세 개 ...</td>\n",
       "      <td>그~ 먹으라고 소고기도 이렇게 막 세 개씩 꽂은 거 세 개씩 이케 세 개 세 개 이...</td>\n",
       "      <td>To eat it, the beef is like this, three piece...</td>\n",
       "      <td>[['(이케)/(이렇게)']]</td>\n",
       "      <td>0.234536</td>\n",
       "      <td>72</td>\n",
       "      <td>True</td>\n",
       "      <td>repeated words</td>\n",
       "      <td>To eat these days three beef three beef three ...</td>\n",
       "      <td>True</td>\n",
       "      <td>To eat it, the beef is like this, three piece...</td>\n",
       "      <td>True</td>\n",
       "    </tr>\n",
       "    <tr>\n",
       "      <th>944585</th>\n",
       "      <td>jd</td>\n",
       "      <td>방송/연예</td>\n",
       "      <td>정부 수매 나가면 일등 받으려고 건조를 잘 시켰어요 그랬더니 허허허허허</td>\n",
       "      <td>정부 수매 나가면 일등 맞을라고 건조를 잘 시켰어요 그랬더니 허허허허허</td>\n",
       "      <td>When the government goes out to buy it, I dri...</td>\n",
       "      <td>[['(맞을라고)/(받으려고)']]</td>\n",
       "      <td>0.107805</td>\n",
       "      <td>99</td>\n",
       "      <td>True</td>\n",
       "      <td>repeated words</td>\n",
       "      <td>I sold it well to get the first place when the...</td>\n",
       "      <td>True</td>\n",
       "      <td>When the government goes out to buy it, I dri...</td>\n",
       "      <td>True</td>\n",
       "    </tr>\n",
       "    <tr>\n",
       "      <th>947833</th>\n",
       "      <td>jj</td>\n",
       "      <td>역사</td>\n",
       "      <td>왜 왜 왜 왜 그럴까 왜 그럴까 생각을 해 봤더니</td>\n",
       "      <td>왜 왜 무사 무사 겅헌고 무사 겅헌고 생각을 해 봤더니</td>\n",
       "      <td>Why why why why why why why</td>\n",
       "      <td>[['(무사)/(왜)', '(무사)/(왜)', '(겅헌고)/(그럴까)', '(무사)...</td>\n",
       "      <td>-0.000802</td>\n",
       "      <td>39</td>\n",
       "      <td>True</td>\n",
       "      <td>repeated words</td>\n",
       "      <td>I thought about why why why why why why</td>\n",
       "      <td>True</td>\n",
       "      <td>Why why why why why why why</td>\n",
       "      <td>True</td>\n",
       "    </tr>\n",
       "  </tbody>\n",
       "</table>\n",
       "<p>95 rows × 14 columns</p>\n",
       "</div>"
      ],
      "text/plain": [
       "       reg  topic                                               stdn  \\\n",
       "7746    jd    스타일         이거 이거 이거 이거 이거 이거 이거 이거 이거 뭐~ 턱도 깎고 막 그러는데   \n",
       "9703    jd  아르바이트                                    아니야 아니야 아니야 아니야   \n",
       "33508   jd  꿈(목표)  동생한테 야 야 야 저기 뭐야 거시기 거시기 아~ 야 야 야 저기 우리는 이제 마당...   \n",
       "145828  jj     취미                              아주 아주 아주 아주 많이 엄청 엄청.   \n",
       "148343  jj    드라마            피도 나왔다가 계속 막 바뀌어서 뭐 뭐가 뭔지 뭐가 하나 뭐가 맞는건지   \n",
       "...     ..    ...                                                ...   \n",
       "926291  jj    먹거리                   저 겨울 없으면 그 이거 이거 이거 뭐라 이거 손 손전화기   \n",
       "940191  jj     가족                             아 그래도 이거 이거 이거 이거 임플란트   \n",
       "942487  gs    먹거리  그~ 먹으라고 소고기도 이렇게 막 세 개씩 꽂은 거 세 개씩 이렇게 세 개 세 개 ...   \n",
       "944585  jd  방송/연예            정부 수매 나가면 일등 받으려고 건조를 잘 시켰어요 그랬더니 허허허허허   \n",
       "947833  jj     역사                        왜 왜 왜 왜 그럴까 왜 그럴까 생각을 해 봤더니   \n",
       "\n",
       "                                                     dial  \\\n",
       "7746           이거 이거 이거 이거 이거 이거 이거 이거 이거 뭐~ 턱도 깎고 막 그러는디   \n",
       "9703                                         아녀 아니여 아녀 아녀   \n",
       "33508   동생한테 야 야 야 저기 뭐여 거시기 거시기 아~ 야 야 야 저기 우리는 이제 마당...   \n",
       "145828                              아주 아주 아주 아주 많이 하영 하영.   \n",
       "148343           피도 나왔다가 계속 막 바껴가지고 뭐 뭐가 뭔지 뭐가 하나 뭐가 맞는건지   \n",
       "...                                                   ...   \n",
       "926291                   저 겨울 어시면 그 이거 이거 이거 뭐라 이거 손 손전화기   \n",
       "940191                             아 경해도 이거 이거 이거 이거 임플란트   \n",
       "942487  그~ 먹으라고 소고기도 이렇게 막 세 개씩 꽂은 거 세 개씩 이케 세 개 세 개 이...   \n",
       "944585            정부 수매 나가면 일등 맞을라고 건조를 잘 시켰어요 그랬더니 허허허허허   \n",
       "947833                     왜 왜 무사 무사 겅헌고 무사 겅헌고 생각을 해 봤더니   \n",
       "\n",
       "                                                      eng  \\\n",
       "7746     This, this, this, this, this, this, this, thi...   \n",
       "9703                                          no no no no   \n",
       "33508    To my younger brother Hey hey hey hey hey hey...   \n",
       "145828      very very very very very very very very much.   \n",
       "148343   Blood came out, but it kept changing so what ...   \n",
       "...                                                   ...   \n",
       "926291   If there is no winter, that this this this th...   \n",
       "940191      Oh, but this this this this this this implant   \n",
       "942487   To eat it, the beef is like this, three piece...   \n",
       "944585   When the government goes out to buy it, I dri...   \n",
       "947833                        Why why why why why why why   \n",
       "\n",
       "                                              eojeol_stdn       sts  \\\n",
       "7746                                  [['(그러는디)/(그러는데)']]  0.182807   \n",
       "9703    [['(아녀)/(아니야)', '(아니여)/(아니야)', '(아녀)/(아니야)', '...  0.009290   \n",
       "33508   [['(뭐여)/(뭐야)', '(쩌쪽)/(저쪽)', '(쩌쪽)/(저쪽)', '(있었응... -0.049492   \n",
       "145828                     [['(하영)/(엄청)', '(하영.)/(엄청.)']]  0.048581   \n",
       "148343                               [['(바껴가지고)/(바뀌어서)']]  0.055134   \n",
       "...                                                   ...       ...   \n",
       "926291                                  [['(어시면)/(없으면)']]  0.012777   \n",
       "940191                                  [['(경해도)/(그래도)']] -0.082162   \n",
       "942487                                   [['(이케)/(이렇게)']]  0.234536   \n",
       "944585                                [['(맞을라고)/(받으려고)']]  0.107805   \n",
       "947833  [['(무사)/(왜)', '(무사)/(왜)', '(겅헌고)/(그럴까)', '(무사)... -0.000802   \n",
       "\n",
       "        eng_c_len  anom     description  \\\n",
       "7746          829  True  repeated words   \n",
       "9703           19  True  repeated words   \n",
       "33508         119  True  repeated words   \n",
       "145828         47  True  repeated words   \n",
       "148343        547  True  repeated words   \n",
       "...           ...   ...             ...   \n",
       "926291        626  True  repeated words   \n",
       "940191         34  True  repeated words   \n",
       "942487         72  True  repeated words   \n",
       "944585         99  True  repeated words   \n",
       "947833         39  True  repeated words   \n",
       "\n",
       "                                                 eng_corr  anom_corr  \\\n",
       "7746    This this this this this this this this this t...       True   \n",
       "9703                                       No no no no no       True   \n",
       "33508   Hey hey hey hey hey hey hey hey hey hey hey he...       True   \n",
       "145828            Very very very very very very very very       True   \n",
       "148343  The blood came out and changed so what what wh...       True   \n",
       "...                                                   ...        ...   \n",
       "926291  If there is no winter this this this this this...       True   \n",
       "940191                 Oh but this this this this implant       True   \n",
       "942487  To eat these days three beef three beef three ...       True   \n",
       "944585  I sold it well to get the first place when the...       True   \n",
       "947833            I thought about why why why why why why       True   \n",
       "\n",
       "                                                eng_corr2  anom_corr2  \n",
       "7746     This, this, this, this, this, this, this, thi...        True  \n",
       "9703                                          no no no no        True  \n",
       "33508    To my younger brother Hey hey hey hey hey hey...        True  \n",
       "145828      very very very very very very very very much.        True  \n",
       "148343   Blood came out, but it kept changing so what ...        True  \n",
       "...                                                   ...         ...  \n",
       "926291   If there is no winter, that this this this th...        True  \n",
       "940191      Oh, but this this this this this this implant        True  \n",
       "942487   To eat it, the beef is like this, three piece...        True  \n",
       "944585   When the government goes out to buy it, I dri...        True  \n",
       "947833                        Why why why why why why why        True  \n",
       "\n",
       "[95 rows x 14 columns]"
      ]
     },
     "execution_count": 141,
     "metadata": {},
     "output_type": "execute_result"
    }
   ],
   "source": [
    "df2.loc[df2['anom_corr2'] == True]"
   ]
  },
  {
   "cell_type": "code",
   "execution_count": 153,
   "id": "53d11586",
   "metadata": {},
   "outputs": [
    {
     "data": {
      "text/plain": [
       "reg                                                           jd\n",
       "topic                                                      방송/연예\n",
       "stdn                     정부 수매 나가면 일등 받으려고 건조를 잘 시켰어요 그랬더니 허허허허허\n",
       "dial                     정부 수매 나가면 일등 맞을라고 건조를 잘 시켰어요 그랬더니 허허허허허\n",
       "eng             When the government goes out to buy it, I dri...\n",
       "eojeol_stdn                                  [['(맞을라고)/(받으려고)']]\n",
       "sts                                                     0.107805\n",
       "Name: 944585, dtype: object"
      ]
     },
     "execution_count": 153,
     "metadata": {},
     "output_type": "execute_result"
    }
   ],
   "source": [
    "df_final.iloc[944585]"
   ]
  },
  {
   "cell_type": "code",
   "execution_count": 154,
   "id": "38b97804",
   "metadata": {},
   "outputs": [],
   "source": [
    "df_final.to_csv(directory + 'meta_raw_eng_corrected_sts_v_final.csv')"
   ]
  }
 ],
 "metadata": {
  "kernelspec": {
   "display_name": "Python 3 (ipykernel)",
   "language": "python",
   "name": "python3"
  },
  "language_info": {
   "codemirror_mode": {
    "name": "ipython",
    "version": 3
   },
   "file_extension": ".py",
   "mimetype": "text/x-python",
   "name": "python",
   "nbconvert_exporter": "python",
   "pygments_lexer": "ipython3",
   "version": "3.9.16"
  }
 },
 "nbformat": 4,
 "nbformat_minor": 5
}
