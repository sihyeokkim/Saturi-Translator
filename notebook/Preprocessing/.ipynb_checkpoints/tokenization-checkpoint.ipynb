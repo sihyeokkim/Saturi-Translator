{
 "cells": [
  {
   "cell_type": "code",
   "execution_count": 1,
   "id": "def49c8d",
   "metadata": {},
   "outputs": [],
   "source": [
    "import pandas as pd\n",
    "import sentencepiece as spm\n",
    "import numpy as np\n",
    "import os\n",
    "from konlpy.tag import Mecab\n",
    "import glob"
   ]
  },
  {
   "cell_type": "code",
   "execution_count": 2,
   "id": "6111e9a5",
   "metadata": {},
   "outputs": [],
   "source": [
    "dir_path = os.getenv(\"HOME\") +'/aiffel/DATA'"
   ]
  },
  {
   "cell_type": "code",
   "execution_count": 3,
   "id": "5394d0b3",
   "metadata": {},
   "outputs": [],
   "source": [
    "df_train=pd.read_csv(dir_path + '/train_data_0324.csv', index_col='Unnamed: 0')\n",
    "df_test=pd.read_csv(dir_path + '/test_data_0324.csv', index_col='Unnamed: 0')"
   ]
  },
  {
   "cell_type": "code",
   "execution_count": 4,
   "id": "582588df",
   "metadata": {},
   "outputs": [
    {
     "data": {
      "text/plain": [
       "125"
      ]
     },
     "execution_count": 4,
     "metadata": {},
     "output_type": "execute_result"
    }
   ],
   "source": [
    "len(df_test)"
   ]
  },
  {
   "cell_type": "code",
   "execution_count": 5,
   "id": "f1460cc0",
   "metadata": {},
   "outputs": [
    {
     "data": {
      "text/html": [
       "<div>\n",
       "<style scoped>\n",
       "    .dataframe tbody tr th:only-of-type {\n",
       "        vertical-align: middle;\n",
       "    }\n",
       "\n",
       "    .dataframe tbody tr th {\n",
       "        vertical-align: top;\n",
       "    }\n",
       "\n",
       "    .dataframe thead th {\n",
       "        text-align: right;\n",
       "    }\n",
       "</style>\n",
       "<table border=\"1\" class=\"dataframe\">\n",
       "  <thead>\n",
       "    <tr style=\"text-align: right;\">\n",
       "      <th></th>\n",
       "      <th>reg</th>\n",
       "      <th>topic</th>\n",
       "      <th>stdn</th>\n",
       "      <th>dial</th>\n",
       "      <th>eng</th>\n",
       "    </tr>\n",
       "  </thead>\n",
       "  <tbody>\n",
       "    <tr>\n",
       "      <th>0</th>\n",
       "      <td>jd</td>\n",
       "      <td>역사</td>\n",
       "      <td>생각이 쪼금씩 바뀌더라고</td>\n",
       "      <td>생각이 쪼금씩 바뀌드라고</td>\n",
       "      <td>I've changed my mind a little bit.</td>\n",
       "    </tr>\n",
       "    <tr>\n",
       "      <th>1</th>\n",
       "      <td>jd</td>\n",
       "      <td>가족</td>\n",
       "      <td>어 알겠는가 외국인들이 그래도 잘 적응하고</td>\n",
       "      <td>어 알겄는가 애국인들이 그또 잘 적응하고</td>\n",
       "      <td>You know what? Foreigners still get used to it.</td>\n",
       "    </tr>\n",
       "    <tr>\n",
       "      <th>2</th>\n",
       "      <td>jd</td>\n",
       "      <td>건강</td>\n",
       "      <td>아으 갑자기 예전에 맹장 뜯은 게 생각난다.</td>\n",
       "      <td>아으 갑자기 에전에 맹장 뜯은 게 생각난디야.</td>\n",
       "      <td>All of a sudden, I think I've ripped off my ap...</td>\n",
       "    </tr>\n",
       "    <tr>\n",
       "      <th>3</th>\n",
       "      <td>jd</td>\n",
       "      <td>스타일</td>\n",
       "      <td>보면은 조금 품위 있게 나이 들어가야 되겠단 생각을 참 많이 해요.</td>\n",
       "      <td>보먼은 쫌 품위 있게 나이 들어가야 되겠단 싱각을 참 많이 해요잉.</td>\n",
       "      <td>I have a lot of ideas about getting older in a...</td>\n",
       "    </tr>\n",
       "    <tr>\n",
       "      <th>4</th>\n",
       "      <td>jd</td>\n",
       "      <td>먹거리</td>\n",
       "      <td>약간 조금 약간 맛이 쪼끔 거시기 하긴 한데 그래도</td>\n",
       "      <td>약간 쫌 약간 맛이 쪼끔 머시기 하긴 한디 그또</td>\n",
       "      <td>It's a little bit of a tastey, but still.</td>\n",
       "    </tr>\n",
       "  </tbody>\n",
       "</table>\n",
       "</div>"
      ],
      "text/plain": [
       "  reg topic                                   stdn  \\\n",
       "0  jd    역사                          생각이 쪼금씩 바뀌더라고   \n",
       "1  jd    가족                어 알겠는가 외국인들이 그래도 잘 적응하고   \n",
       "2  jd    건강               아으 갑자기 예전에 맹장 뜯은 게 생각난다.   \n",
       "3  jd   스타일  보면은 조금 품위 있게 나이 들어가야 되겠단 생각을 참 많이 해요.   \n",
       "4  jd   먹거리           약간 조금 약간 맛이 쪼끔 거시기 하긴 한데 그래도   \n",
       "\n",
       "                                     dial  \\\n",
       "0                          생각이 쪼금씩 바뀌드라고    \n",
       "1                 어 알겄는가 애국인들이 그또 잘 적응하고    \n",
       "2              아으 갑자기 에전에 맹장 뜯은 게 생각난디야.    \n",
       "3  보먼은 쫌 품위 있게 나이 들어가야 되겠단 싱각을 참 많이 해요잉.    \n",
       "4             약간 쫌 약간 맛이 쪼끔 머시기 하긴 한디 그또    \n",
       "\n",
       "                                                 eng  \n",
       "0                 I've changed my mind a little bit.  \n",
       "1    You know what? Foreigners still get used to it.  \n",
       "2  All of a sudden, I think I've ripped off my ap...  \n",
       "3  I have a lot of ideas about getting older in a...  \n",
       "4          It's a little bit of a tastey, but still.  "
      ]
     },
     "execution_count": 5,
     "metadata": {},
     "output_type": "execute_result"
    }
   ],
   "source": [
    "df_train.head()"
   ]
  },
  {
   "cell_type": "code",
   "execution_count": 6,
   "id": "a9887cc8",
   "metadata": {},
   "outputs": [],
   "source": [
    "# mecab = Mecab()"
   ]
  },
  {
   "cell_type": "code",
   "execution_count": 33,
   "id": "3bb29ab1",
   "metadata": {},
   "outputs": [],
   "source": [
    "# import tqdm\n",
    "# cm_dial = []\n",
    "# for i in tqdm.tqdm(df_train.dial.values) :\n",
    "#     temp = ' '.join(mecab.morphs(i))\n",
    "#     cm_dial.append(temp)"
   ]
  },
  {
   "cell_type": "code",
   "execution_count": 7,
   "id": "3df635f6",
   "metadata": {},
   "outputs": [],
   "source": [
    "def generate_tokenizer(corpus, vocab_size, lang=\"en\", pad_id=0, bos_id=1, eos_id=2, unk_id=3):\n",
    "\n",
    "    temp_file = os.getenv('HOME') + f'/aiffel/DATA/corpus_{lang}.txt'     # corpus를 받아 txt파일로 저장\n",
    "    \n",
    "    with open(temp_file, 'w') as f:\n",
    "        for row in corpus:\n",
    "            f.write(str(row) + '\\n')\n",
    "    \n",
    "    # Sentencepiece를 이용해 \n",
    "    spm.SentencePieceTrainer.Train(\n",
    "        f'--input={temp_file} --pad_id={pad_id} --bos_id={bos_id} --eos_id={eos_id} \\\n",
    "        --unk_id={unk_id} --model_prefix=spm_{lang} --vocab_size={vocab_size} --model_type=bpe \\\n",
    "        --user_defined_symbols=<jj>,<jd>,<gs>,<cc>,<kw>,<std>'   # model_r1\n",
    "    )\n",
    "    tokenizer = spm.SentencePieceProcessor()\n",
    "    tokenizer.Load(f'spm_{lang}.model') # model_r1\n",
    "\n",
    "    return tokenizer"
   ]
  },
  {
   "cell_type": "code",
   "execution_count": 8,
   "id": "4b05bed9",
   "metadata": {},
   "outputs": [
    {
     "name": "stderr",
     "output_type": "stream",
     "text": [
      "sentencepiece_trainer.cc(177) LOG(INFO) Running command: --input=/home/seuyon0101/aiffel/DATA/corpus_enc_spm8010.txt --pad_id=0 --bos_id=1 --eos_id=2         --unk_id=3 --model_prefix=spm_enc_spm8010 --vocab_size=8010 --model_type=bpe         --user_defined_symbols=<jj>,<jd>,<gs>,<cc>,<kw>,<std>\n",
      "sentencepiece_trainer.cc(77) LOG(INFO) Starts training with : \n",
      "trainer_spec {\n",
      "  input: /home/seuyon0101/aiffel/DATA/corpus_enc_spm8010.txt\n",
      "  input_format: \n",
      "  model_prefix: spm_enc_spm8010\n",
      "  model_type: BPE\n",
      "  vocab_size: 8010\n",
      "  self_test_sample_size: 0\n",
      "  character_coverage: 0.9995\n",
      "  input_sentence_size: 0\n",
      "  shuffle_input_sentence: 1\n",
      "  seed_sentencepiece_size: 1000000\n",
      "  shrinking_factor: 0.75\n",
      "  max_sentence_length: 4192\n",
      "  num_threads: 16\n",
      "  num_sub_iterations: 2\n",
      "  max_sentencepiece_length: 16\n",
      "  split_by_unicode_script: 1\n",
      "  split_by_number: 1\n",
      "  split_by_whitespace: 1\n",
      "  split_digits: 0\n",
      "  treat_whitespace_as_suffix: 0\n",
      "  allow_whitespace_only_pieces: 0\n",
      "  user_defined_symbols: <jj>\n",
      "  user_defined_symbols: <jd>\n",
      "  user_defined_symbols: <gs>\n",
      "  user_defined_symbols: <cc>\n",
      "  user_defined_symbols: <kw>\n",
      "  user_defined_symbols: <std>\n",
      "  required_chars: \n",
      "  byte_fallback: 0\n",
      "  vocabulary_output_piece_score: 1\n",
      "  train_extremely_large_corpus: 0\n",
      "  hard_vocab_limit: 1\n",
      "  use_all_vocab: 0\n",
      "  unk_id: 3\n",
      "  bos_id: 1\n",
      "  eos_id: 2\n",
      "  pad_id: 0\n",
      "  unk_piece: <unk>\n",
      "  bos_piece: <s>\n",
      "  eos_piece: </s>\n",
      "  pad_piece: <pad>\n",
      "  unk_surface:  ⁇ \n",
      "  enable_differential_privacy: 0\n",
      "  differential_privacy_noise_level: 0\n",
      "  differential_privacy_clipping_threshold: 0\n",
      "}\n",
      "normalizer_spec {\n",
      "  name: nmt_nfkc\n",
      "  add_dummy_prefix: 1\n",
      "  remove_extra_whitespaces: 1\n",
      "  escape_whitespaces: 1\n",
      "  normalization_rule_tsv: \n",
      "}\n",
      "denormalizer_spec {}\n",
      "trainer_interface.cc(350) LOG(INFO) SentenceIterator is not specified. Using MultiFileSentenceIterator.\n",
      "trainer_interface.cc(181) LOG(INFO) Loading corpus: /home/seuyon0101/aiffel/DATA/corpus_enc_spm8010.txt\n",
      "trainer_interface.cc(406) LOG(INFO) Loaded all 948219 sentences\n",
      "trainer_interface.cc(422) LOG(INFO) Adding meta_piece: <pad>\n",
      "trainer_interface.cc(422) LOG(INFO) Adding meta_piece: <s>\n",
      "trainer_interface.cc(422) LOG(INFO) Adding meta_piece: </s>\n",
      "trainer_interface.cc(422) LOG(INFO) Adding meta_piece: <unk>\n",
      "trainer_interface.cc(422) LOG(INFO) Adding meta_piece: <jj>\n",
      "trainer_interface.cc(422) LOG(INFO) Adding meta_piece: <jd>\n",
      "trainer_interface.cc(422) LOG(INFO) Adding meta_piece: <gs>\n",
      "trainer_interface.cc(422) LOG(INFO) Adding meta_piece: <cc>\n",
      "trainer_interface.cc(422) LOG(INFO) Adding meta_piece: <kw>\n",
      "trainer_interface.cc(422) LOG(INFO) Adding meta_piece: <std>\n",
      "trainer_interface.cc(427) LOG(INFO) Normalizing sentences...\n",
      "trainer_interface.cc(536) LOG(INFO) all chars count=48906336\n",
      "trainer_interface.cc(547) LOG(INFO) Done: 99.9538% characters are covered.\n",
      "trainer_interface.cc(557) LOG(INFO) Alphabet size=58\n",
      "trainer_interface.cc(558) LOG(INFO) Final character coverage=0.999538\n",
      "trainer_interface.cc(590) LOG(INFO) Done! preprocessed 948219 sentences.\n",
      "trainer_interface.cc(596) LOG(INFO) Tokenizing input sentences with whitespace: 948219\n",
      "trainer_interface.cc(607) LOG(INFO) Done! 107184\n",
      "bpe_model_trainer.cc(167) LOG(INFO) Updating active symbols. max_freq=1305857 min_freq=12\n",
      "bpe_model_trainer.cc(258) LOG(INFO) Added: freq=356145 size=20 all=2519 active=1809 piece=▁m\n",
      "bpe_model_trainer.cc(258) LOG(INFO) Added: freq=165980 size=40 all=3582 active=2872 piece=ow\n",
      "bpe_model_trainer.cc(258) LOG(INFO) Added: freq=118654 size=60 all=4920 active=4210 piece=ed\n",
      "bpe_model_trainer.cc(258) LOG(INFO) Added: freq=85170 size=80 all=5782 active=5072 piece=▁we\n",
      "bpe_model_trainer.cc(258) LOG(INFO) Added: freq=67073 size=100 all=6705 active=5995 piece=ce\n",
      "bpe_model_trainer.cc(167) LOG(INFO) Updating active symbols. max_freq=66142 min_freq=2480\n",
      "bpe_model_trainer.cc(258) LOG(INFO) Added: freq=54227 size=120 all=7913 active=2126 piece=▁an\n",
      "bpe_model_trainer.cc(258) LOG(INFO) Added: freq=47761 size=140 all=8712 active=2925 piece=▁u\n",
      "bpe_model_trainer.cc(258) LOG(INFO) Added: freq=40543 size=160 all=9825 active=4038 piece=▁can\n",
      "bpe_model_trainer.cc(258) LOG(INFO) Added: freq=32365 size=180 all=10564 active=4777 piece=ac\n",
      "bpe_model_trainer.cc(258) LOG(INFO) Added: freq=28614 size=200 all=11495 active=5708 piece=ive\n",
      "bpe_model_trainer.cc(167) LOG(INFO) Updating active symbols. max_freq=28371 min_freq=2517\n",
      "bpe_model_trainer.cc(258) LOG(INFO) Added: freq=24999 size=220 all=12171 active=1590 piece=el\n",
      "bpe_model_trainer.cc(258) LOG(INFO) Added: freq=22056 size=240 all=12895 active=2314 piece=▁people\n",
      "bpe_model_trainer.cc(258) LOG(INFO) Added: freq=19491 size=260 all=13724 active=3143 piece=os\n",
      "bpe_model_trainer.cc(258) LOG(INFO) Added: freq=17387 size=280 all=15111 active=4530 piece=▁doing\n",
      "bpe_model_trainer.cc(258) LOG(INFO) Added: freq=15919 size=300 all=15757 active=5176 piece=very\n",
      "bpe_model_trainer.cc(167) LOG(INFO) Updating active symbols. max_freq=15844 min_freq=2296\n",
      "bpe_model_trainer.cc(258) LOG(INFO) Added: freq=14287 size=320 all=16516 active=1744 piece=ide\n",
      "bpe_model_trainer.cc(258) LOG(INFO) Added: freq=12775 size=340 all=17453 active=2681 piece=chool\n",
      "bpe_model_trainer.cc(258) LOG(INFO) Added: freq=12247 size=360 all=17938 active=3166 piece=▁tw\n",
      "bpe_model_trainer.cc(258) LOG(INFO) Added: freq=11689 size=380 all=18343 active=3571 piece=ace\n",
      "bpe_model_trainer.cc(258) LOG(INFO) Added: freq=10698 size=400 all=18914 active=4142 piece=▁way\n",
      "bpe_model_trainer.cc(167) LOG(INFO) Updating active symbols. max_freq=10697 min_freq=2004\n",
      "bpe_model_trainer.cc(258) LOG(INFO) Added: freq=9951 size=420 all=19488 active=1573 piece=ity\n",
      "bpe_model_trainer.cc(258) LOG(INFO) Added: freq=9357 size=440 all=19962 active=2047 piece=ty\n",
      "bpe_model_trainer.cc(258) LOG(INFO) Added: freq=8694 size=460 all=21023 active=3108 piece=▁car\n",
      "bpe_model_trainer.cc(258) LOG(INFO) Added: freq=7986 size=480 all=21769 active=3854 piece=▁our\n",
      "bpe_model_trainer.cc(258) LOG(INFO) Added: freq=7552 size=500 all=22234 active=4319 piece=▁happ\n",
      "bpe_model_trainer.cc(167) LOG(INFO) Updating active symbols. max_freq=7540 min_freq=1586\n",
      "bpe_model_trainer.cc(258) LOG(INFO) Added: freq=7141 size=520 all=23120 active=1994 piece=▁Well\n",
      "bpe_model_trainer.cc(258) LOG(INFO) Added: freq=6749 size=540 all=23526 active=2400 piece=self\n",
      "bpe_model_trainer.cc(258) LOG(INFO) Added: freq=6438 size=560 all=23888 active=2762 piece=▁part\n",
      "bpe_model_trainer.cc(258) LOG(INFO) Added: freq=6140 size=580 all=24335 active=3209 piece=▁call\n",
      "bpe_model_trainer.cc(258) LOG(INFO) Added: freq=5844 size=600 all=24919 active=3793 piece=▁father\n",
      "bpe_model_trainer.cc(167) LOG(INFO) Updating active symbols. max_freq=5830 min_freq=1238\n",
      "bpe_model_trainer.cc(258) LOG(INFO) Added: freq=5547 size=620 all=25381 active=1705 piece=hing\n",
      "bpe_model_trainer.cc(258) LOG(INFO) Added: freq=5245 size=640 all=25678 active=2002 piece=▁own\n",
      "bpe_model_trainer.cc(258) LOG(INFO) Added: freq=5075 size=660 all=25994 active=2318 piece=▁thinking\n",
      "bpe_model_trainer.cc(258) LOG(INFO) Added: freq=4885 size=680 all=26394 active=2718 piece=▁into\n",
      "bpe_model_trainer.cc(258) LOG(INFO) Added: freq=4682 size=700 all=26752 active=3076 piece=▁times\n",
      "bpe_model_trainer.cc(167) LOG(INFO) Updating active symbols. max_freq=4671 min_freq=1026\n",
      "bpe_model_trainer.cc(258) LOG(INFO) Added: freq=4421 size=720 all=27304 active=1888 piece=vel\n",
      "bpe_model_trainer.cc(258) LOG(INFO) Added: freq=4283 size=740 all=27776 active=2360 piece=▁mid\n",
      "bpe_model_trainer.cc(258) LOG(INFO) Added: freq=4084 size=760 all=28064 active=2648 piece=old\n",
      "bpe_model_trainer.cc(258) LOG(INFO) Added: freq=3960 size=780 all=28777 active=3361 piece=▁ask\n",
      "bpe_model_trainer.cc(258) LOG(INFO) Added: freq=3855 size=800 all=29200 active=3784 piece=mer\n",
      "bpe_model_trainer.cc(167) LOG(INFO) Updating active symbols. max_freq=3845 min_freq=858\n",
      "bpe_model_trainer.cc(258) LOG(INFO) Added: freq=3738 size=820 all=29750 active=1954 piece=▁song\n",
      "bpe_model_trainer.cc(258) LOG(INFO) Added: freq=3562 size=840 all=29998 active=2202 piece=ird\n",
      "bpe_model_trainer.cc(258) LOG(INFO) Added: freq=3438 size=860 all=30355 active=2559 piece=sh\n",
      "bpe_model_trainer.cc(258) LOG(INFO) Added: freq=3340 size=880 all=30841 active=3045 piece=erc\n",
      "bpe_model_trainer.cc(258) LOG(INFO) Added: freq=3210 size=900 all=31096 active=3300 piece=▁less\n",
      "bpe_model_trainer.cc(167) LOG(INFO) Updating active symbols. max_freq=3206 min_freq=734\n",
      "bpe_model_trainer.cc(258) LOG(INFO) Added: freq=3095 size=920 all=31520 active=1975 piece=▁teacher\n",
      "bpe_model_trainer.cc(258) LOG(INFO) Added: freq=3011 size=940 all=31887 active=2342 piece=usband\n",
      "bpe_model_trainer.cc(258) LOG(INFO) Added: freq=2897 size=960 all=32119 active=2574 piece=▁Jeju\n",
      "bpe_model_trainer.cc(258) LOG(INFO) Added: freq=2807 size=980 all=32402 active=2857 piece=ition\n",
      "bpe_model_trainer.cc(258) LOG(INFO) Added: freq=2744 size=1000 all=32948 active=3403 piece=▁fall\n",
      "bpe_model_trainer.cc(167) LOG(INFO) Updating active symbols. max_freq=2743 min_freq=634\n",
      "bpe_model_trainer.cc(258) LOG(INFO) Added: freq=2678 size=1020 all=33191 active=1884 piece=▁woman\n",
      "bpe_model_trainer.cc(258) LOG(INFO) Added: freq=2586 size=1040 all=33416 active=2109 piece=▁class\n",
      "bpe_model_trainer.cc(258) LOG(INFO) Added: freq=2527 size=1060 all=33885 active=2578 piece=more\n",
      "bpe_model_trainer.cc(258) LOG(INFO) Added: freq=2473 size=1080 all=34224 active=2917 piece=▁bir\n",
      "bpe_model_trainer.cc(258) LOG(INFO) Added: freq=2418 size=1100 all=34449 active=3142 piece=ountain\n",
      "bpe_model_trainer.cc(167) LOG(INFO) Updating active symbols. max_freq=2417 min_freq=558\n",
      "bpe_model_trainer.cc(258) LOG(INFO) Added: freq=2353 size=1120 all=34724 active=1988 piece=▁fight\n",
      "bpe_model_trainer.cc(258) LOG(INFO) Added: freq=2284 size=1140 all=34970 active=2234 piece=aurant\n",
      "bpe_model_trainer.cc(258) LOG(INFO) Added: freq=2229 size=1160 all=35431 active=2695 piece=▁goes\n",
      "bpe_model_trainer.cc(258) LOG(INFO) Added: freq=2147 size=1180 all=35930 active=3194 piece=ple\n",
      "bpe_model_trainer.cc(258) LOG(INFO) Added: freq=2084 size=1200 all=36113 active=3377 piece=▁happy\n",
      "bpe_model_trainer.cc(167) LOG(INFO) Updating active symbols. max_freq=2082 min_freq=493\n",
      "bpe_model_trainer.cc(258) LOG(INFO) Added: freq=2021 size=1220 all=36485 active=2177 piece=▁often\n",
      "bpe_model_trainer.cc(258) LOG(INFO) Added: freq=1979 size=1240 all=36819 active=2511 piece=▁beaut\n",
      "bpe_model_trainer.cc(258) LOG(INFO) Added: freq=1937 size=1260 all=37033 active=2725 piece=▁Island\n",
      "bpe_model_trainer.cc(258) LOG(INFO) Added: freq=1884 size=1280 all=37346 active=3038 piece=▁soup\n",
      "bpe_model_trainer.cc(258) LOG(INFO) Added: freq=1828 size=1300 all=37627 active=3319 piece=joy\n",
      "bpe_model_trainer.cc(167) LOG(INFO) Updating active symbols. max_freq=1826 min_freq=441\n",
      "bpe_model_trainer.cc(258) LOG(INFO) Added: freq=1786 size=1320 all=37896 active=2143 piece=ces\n",
      "bpe_model_trainer.cc(258) LOG(INFO) Added: freq=1745 size=1340 all=38163 active=2410 piece=ork\n",
      "bpe_model_trainer.cc(258) LOG(INFO) Added: freq=1708 size=1360 all=38601 active=2848 piece=▁disapp\n",
      "bpe_model_trainer.cc(258) LOG(INFO) Added: freq=1663 size=1380 all=38883 active=3130 piece=uct\n",
      "bpe_model_trainer.cc(258) LOG(INFO) Added: freq=1633 size=1400 all=39112 active=3359 piece=ates\n",
      "bpe_model_trainer.cc(167) LOG(INFO) Updating active symbols. max_freq=1633 min_freq=398\n"
     ]
    },
    {
     "name": "stderr",
     "output_type": "stream",
     "text": [
      "bpe_model_trainer.cc(258) LOG(INFO) Added: freq=1593 size=1420 all=39330 active=2115 piece=▁bag\n",
      "bpe_model_trainer.cc(258) LOG(INFO) Added: freq=1555 size=1440 all=39574 active=2359 piece=ship\n",
      "bpe_model_trainer.cc(258) LOG(INFO) Added: freq=1530 size=1460 all=39870 active=2655 piece=ations\n",
      "bpe_model_trainer.cc(258) LOG(INFO) Added: freq=1492 size=1480 all=40281 active=3066 piece=▁tend\n",
      "bpe_model_trainer.cc(258) LOG(INFO) Added: freq=1459 size=1500 all=40630 active=3415 piece=▁games\n",
      "bpe_model_trainer.cc(167) LOG(INFO) Updating active symbols. max_freq=1459 min_freq=368\n",
      "bpe_model_trainer.cc(258) LOG(INFO) Added: freq=1424 size=1520 all=40861 active=2263 piece=iting\n",
      "bpe_model_trainer.cc(258) LOG(INFO) Added: freq=1395 size=1540 all=41118 active=2520 piece=▁straight\n",
      "bpe_model_trainer.cc(258) LOG(INFO) Added: freq=1358 size=1560 all=41394 active=2796 piece=▁fix\n",
      "bpe_model_trainer.cc(258) LOG(INFO) Added: freq=1338 size=1580 all=41798 active=3200 piece=▁begin\n",
      "bpe_model_trainer.cc(258) LOG(INFO) Added: freq=1310 size=1600 all=42074 active=3476 piece=ared\n",
      "bpe_model_trainer.cc(167) LOG(INFO) Updating active symbols. max_freq=1308 min_freq=337\n",
      "bpe_model_trainer.cc(258) LOG(INFO) Added: freq=1289 size=1620 all=42292 active=2297 piece=▁'\n",
      "bpe_model_trainer.cc(258) LOG(INFO) Added: freq=1258 size=1640 all=42449 active=2454 piece=cle\n",
      "bpe_model_trainer.cc(258) LOG(INFO) Added: freq=1239 size=1660 all=42915 active=2920 piece=▁worth\n",
      "bpe_model_trainer.cc(258) LOG(INFO) Added: freq=1215 size=1680 all=43191 active=3196 piece=▁ball\n",
      "bpe_model_trainer.cc(258) LOG(INFO) Added: freq=1196 size=1700 all=43367 active=3372 piece=▁eight\n",
      "bpe_model_trainer.cc(167) LOG(INFO) Updating active symbols. max_freq=1193 min_freq=312\n",
      "bpe_model_trainer.cc(258) LOG(INFO) Added: freq=1170 size=1720 all=43536 active=2324 piece=icy\n",
      "bpe_model_trainer.cc(258) LOG(INFO) Added: freq=1150 size=1740 all=43670 active=2458 piece=▁prog\n",
      "bpe_model_trainer.cc(258) LOG(INFO) Added: freq=1139 size=1760 all=43750 active=2538 piece=▁may\n",
      "bpe_model_trainer.cc(258) LOG(INFO) Added: freq=1114 size"
     ]
    }
   ],
   "source": [
    "enc_tokenizer = generate_tokenizer(df_train.eng.values, 8010, lang ='enc_spm8010')\n",
    "# dec_tokenizer = generate_tokenizer(cm_dial, 8009, lang ='dec_cmsp8009')"
   ]
  },
  {
   "cell_type": "code",
   "execution_count": 36,
   "id": "17a52342",
   "metadata": {},
   "outputs": [
    {
     "data": {
      "text/plain": [
       "True"
      ]
     },
     "execution_count": 36,
     "metadata": {},
     "output_type": "execute_result"
    }
   ],
   "source": [
    "# dir_path = os.getenv(\"HOME\") + '/aiffel/saturi/notebook/Model/'\n",
    "\n",
    "enc_tokenizer = spm.SentencePieceProcessor()\n",
    "enc_tokenizer.Load('spm_enc_spm8009.model')\n",
    "\n",
    "dec_tokenizer = spm.SentencePieceProcessor()\n",
    "dec_tokenizer.Load('spm_dec_msp8009.model')\n",
    "\n",
    "# # dec_tokenizer_msp = spm.SentencePieceProcessor()\n",
    "# # dec_tokenizer_msp.Load('spm_dec_mecab_4009.model')\n",
    "\n",
    "dec_tokenizer.set_encode_extra_options(\"bos:eos\")"
   ]
  },
  {
   "cell_type": "code",
   "execution_count": 37,
   "id": "8dc84523",
   "metadata": {},
   "outputs": [],
   "source": [
    "df_train['eng'] = '<'+df_train['reg']+'> ' + df_train['eng']\n",
    "df_test['eng'] = '<'+df_test['reg']+'> ' + df_test['eng']"
   ]
  },
  {
   "cell_type": "code",
   "execution_count": 38,
   "id": "203d2ace",
   "metadata": {},
   "outputs": [
    {
     "data": {
      "text/html": [
       "<div>\n",
       "<style scoped>\n",
       "    .dataframe tbody tr th:only-of-type {\n",
       "        vertical-align: middle;\n",
       "    }\n",
       "\n",
       "    .dataframe tbody tr th {\n",
       "        vertical-align: top;\n",
       "    }\n",
       "\n",
       "    .dataframe thead th {\n",
       "        text-align: right;\n",
       "    }\n",
       "</style>\n",
       "<table border=\"1\" class=\"dataframe\">\n",
       "  <thead>\n",
       "    <tr style=\"text-align: right;\">\n",
       "      <th></th>\n",
       "      <th>reg</th>\n",
       "      <th>topic</th>\n",
       "      <th>stdn</th>\n",
       "      <th>dial</th>\n",
       "      <th>eng</th>\n",
       "    </tr>\n",
       "  </thead>\n",
       "  <tbody>\n",
       "    <tr>\n",
       "      <th>0</th>\n",
       "      <td>jd</td>\n",
       "      <td>역사</td>\n",
       "      <td>생각이 쪼금씩 바뀌더라고</td>\n",
       "      <td>생각이 쪼금씩 바뀌드라고</td>\n",
       "      <td>&lt;jd&gt; I've changed my mind a little bit.</td>\n",
       "    </tr>\n",
       "    <tr>\n",
       "      <th>1</th>\n",
       "      <td>jd</td>\n",
       "      <td>가족</td>\n",
       "      <td>어 알겠는가 외국인들이 그래도 잘 적응하고</td>\n",
       "      <td>어 알겄는가 애국인들이 그또 잘 적응하고</td>\n",
       "      <td>&lt;jd&gt; You know what? Foreigners still get used ...</td>\n",
       "    </tr>\n",
       "    <tr>\n",
       "      <th>2</th>\n",
       "      <td>jd</td>\n",
       "      <td>건강</td>\n",
       "      <td>아으 갑자기 예전에 맹장 뜯은 게 생각난다.</td>\n",
       "      <td>아으 갑자기 에전에 맹장 뜯은 게 생각난디야.</td>\n",
       "      <td>&lt;jd&gt; All of a sudden, I think I've ripped off ...</td>\n",
       "    </tr>\n",
       "    <tr>\n",
       "      <th>3</th>\n",
       "      <td>jd</td>\n",
       "      <td>스타일</td>\n",
       "      <td>보면은 조금 품위 있게 나이 들어가야 되겠단 생각을 참 많이 해요.</td>\n",
       "      <td>보먼은 쫌 품위 있게 나이 들어가야 되겠단 싱각을 참 많이 해요잉.</td>\n",
       "      <td>&lt;jd&gt; I have a lot of ideas about getting older...</td>\n",
       "    </tr>\n",
       "    <tr>\n",
       "      <th>4</th>\n",
       "      <td>jd</td>\n",
       "      <td>먹거리</td>\n",
       "      <td>약간 조금 약간 맛이 쪼끔 거시기 하긴 한데 그래도</td>\n",
       "      <td>약간 쫌 약간 맛이 쪼끔 머시기 하긴 한디 그또</td>\n",
       "      <td>&lt;jd&gt; It's a little bit of a tastey, but still.</td>\n",
       "    </tr>\n",
       "  </tbody>\n",
       "</table>\n",
       "</div>"
      ],
      "text/plain": [
       "  reg topic                                   stdn  \\\n",
       "0  jd    역사                          생각이 쪼금씩 바뀌더라고   \n",
       "1  jd    가족                어 알겠는가 외국인들이 그래도 잘 적응하고   \n",
       "2  jd    건강               아으 갑자기 예전에 맹장 뜯은 게 생각난다.   \n",
       "3  jd   스타일  보면은 조금 품위 있게 나이 들어가야 되겠단 생각을 참 많이 해요.   \n",
       "4  jd   먹거리           약간 조금 약간 맛이 쪼끔 거시기 하긴 한데 그래도   \n",
       "\n",
       "                                     dial  \\\n",
       "0                          생각이 쪼금씩 바뀌드라고    \n",
       "1                 어 알겄는가 애국인들이 그또 잘 적응하고    \n",
       "2              아으 갑자기 에전에 맹장 뜯은 게 생각난디야.    \n",
       "3  보먼은 쫌 품위 있게 나이 들어가야 되겠단 싱각을 참 많이 해요잉.    \n",
       "4             약간 쫌 약간 맛이 쪼끔 머시기 하긴 한디 그또    \n",
       "\n",
       "                                                 eng  \n",
       "0            <jd> I've changed my mind a little bit.  \n",
       "1  <jd> You know what? Foreigners still get used ...  \n",
       "2  <jd> All of a sudden, I think I've ripped off ...  \n",
       "3  <jd> I have a lot of ideas about getting older...  \n",
       "4     <jd> It's a little bit of a tastey, but still.  "
      ]
     },
     "execution_count": 38,
     "metadata": {},
     "output_type": "execute_result"
    }
   ],
   "source": [
    "df_train.head()"
   ]
  },
  {
   "cell_type": "markdown",
   "id": "2d28ebe7",
   "metadata": {},
   "source": [
    " 0.   toks_en     \n",
    " 1.   toks_dec    \n",
    " 2.   source_txt  \n",
    " 3.   target_txt  \n",
    " 4.   topic       \n",
    " 5.   reg         "
   ]
  },
  {
   "cell_type": "code",
   "execution_count": 39,
   "id": "30de9f44",
   "metadata": {},
   "outputs": [
    {
     "data": {
      "text/plain": [
       "\"<jd> I've changed my mind a little bit.\""
      ]
     },
     "execution_count": 39,
     "metadata": {},
     "output_type": "execute_result"
    }
   ],
   "source": [
    "df_train.eng.values[0]"
   ]
  },
  {
   "cell_type": "code",
   "execution_count": 40,
   "id": "f1bc28b8",
   "metadata": {},
   "outputs": [
    {
     "data": {
      "text/plain": [
       "['▁prep', 'os', 'ition']"
      ]
     },
     "execution_count": 40,
     "metadata": {},
     "output_type": "execute_result"
    }
   ],
   "source": [
    "# spm\n",
    "enc_tokenizer.encode_as_pieces('preposition')"
   ]
  },
  {
   "cell_type": "code",
   "execution_count": 41,
   "id": "12576cfc",
   "metadata": {},
   "outputs": [],
   "source": [
    "# # msp\n",
    "# dec_tokenizer_msp.encode_as_pieces(df_train.dial.values[0])"
   ]
  },
  {
   "cell_type": "code",
   "execution_count": 42,
   "id": "dc5a47dd",
   "metadata": {},
   "outputs": [],
   "source": [
    "# # custom msp\n",
    "# dec_tokenizer.encode_as_pieces(df_train.dial.values[0])"
   ]
  },
  {
   "cell_type": "code",
   "execution_count": 43,
   "id": "30e3469f",
   "metadata": {},
   "outputs": [],
   "source": [
    "import tqdm\n",
    "def tokenize_data(df) :\n",
    "    dial_text = df['dial'].values\n",
    "    eng_text = df['eng'].values\n",
    "\n",
    "    toks_en = []\n",
    "    toks_dec = []\n",
    "\n",
    "    for i in tqdm.tqdm(range(len(df))) :\n",
    "        \n",
    "        en_tokenized = enc_tokenizer.encode(eng_text[i])\n",
    "        dial_tokenized = dec_tokenizer.encode(dial_text[i])\n",
    "        toks_en.append(en_tokenized)\n",
    "        toks_dec.append(dial_tokenized)\n",
    "    \n",
    "    df['toks_en'] = toks_en\n",
    "    df['toks_dec'] = toks_dec"
   ]
  },
  {
   "cell_type": "code",
   "execution_count": 44,
   "id": "39af5f68",
   "metadata": {},
   "outputs": [
    {
     "name": "stderr",
     "output_type": "stream",
     "text": [
      "100%|██████████████████████████████████████| 125/125 [00:00<00:00, 11846.44it/s]\n",
      "100%|████████████████████████████████| 948219/948219 [00:55<00:00, 16947.31it/s]\n"
     ]
    }
   ],
   "source": [
    "for i in [df_test, df_train]:\n",
    "    tokenize_data(i)"
   ]
  },
  {
   "cell_type": "code",
   "execution_count": 45,
   "id": "39605bbf",
   "metadata": {},
   "outputs": [
    {
     "data": {
      "text/html": [
       "<div>\n",
       "<style scoped>\n",
       "    .dataframe tbody tr th:only-of-type {\n",
       "        vertical-align: middle;\n",
       "    }\n",
       "\n",
       "    .dataframe tbody tr th {\n",
       "        vertical-align: top;\n",
       "    }\n",
       "\n",
       "    .dataframe thead th {\n",
       "        text-align: right;\n",
       "    }\n",
       "</style>\n",
       "<table border=\"1\" class=\"dataframe\">\n",
       "  <thead>\n",
       "    <tr style=\"text-align: right;\">\n",
       "      <th></th>\n",
       "      <th>reg</th>\n",
       "      <th>topic</th>\n",
       "      <th>stdn</th>\n",
       "      <th>dial</th>\n",
       "      <th>eng</th>\n",
       "      <th>toks_en</th>\n",
       "      <th>toks_dec</th>\n",
       "    </tr>\n",
       "  </thead>\n",
       "  <tbody>\n",
       "    <tr>\n",
       "      <th>0</th>\n",
       "      <td>jd</td>\n",
       "      <td>역사</td>\n",
       "      <td>생각이 쪼금씩 바뀌더라고</td>\n",
       "      <td>생각이 쪼금씩 바뀌드라고</td>\n",
       "      <td>&lt;jd&gt; I've changed my mind a little bit.</td>\n",
       "      <td>[7951, 5, 12, 7974, 35, 922, 104, 871, 10, 76,...</td>\n",
       "      <td>[1, 103, 6516, 674, 6860, 1930, 6590, 648, 2]</td>\n",
       "    </tr>\n",
       "    <tr>\n",
       "      <th>1</th>\n",
       "      <td>jd</td>\n",
       "      <td>가족</td>\n",
       "      <td>어 알겠는가 외국인들이 그래도 잘 적응하고</td>\n",
       "      <td>어 알겄는가 애국인들이 그또 잘 적응하고</td>\n",
       "      <td>&lt;jd&gt; You know what? Foreigners still get used ...</td>\n",
       "      <td>[7951, 5, 116, 142, 165, 7978, 6154, 845, 258,...</td>\n",
       "      <td>[1, 16, 113, 6812, 6520, 6517, 84, 6735, 6555,...</td>\n",
       "    </tr>\n",
       "  </tbody>\n",
       "</table>\n",
       "</div>"
      ],
      "text/plain": [
       "  reg topic                     stdn                     dial  \\\n",
       "0  jd    역사            생각이 쪼금씩 바뀌더라고           생각이 쪼금씩 바뀌드라고    \n",
       "1  jd    가족  어 알겠는가 외국인들이 그래도 잘 적응하고  어 알겄는가 애국인들이 그또 잘 적응하고    \n",
       "\n",
       "                                                 eng  \\\n",
       "0            <jd> I've changed my mind a little bit.   \n",
       "1  <jd> You know what? Foreigners still get used ...   \n",
       "\n",
       "                                             toks_en  \\\n",
       "0  [7951, 5, 12, 7974, 35, 922, 104, 871, 10, 76,...   \n",
       "1  [7951, 5, 116, 142, 165, 7978, 6154, 845, 258,...   \n",
       "\n",
       "                                            toks_dec  \n",
       "0      [1, 103, 6516, 674, 6860, 1930, 6590, 648, 2]  \n",
       "1  [1, 16, 113, 6812, 6520, 6517, 84, 6735, 6555,...  "
      ]
     },
     "execution_count": 45,
     "metadata": {},
     "output_type": "execute_result"
    }
   ],
   "source": [
    "df_train.head(2)"
   ]
  },
  {
   "cell_type": "code",
   "execution_count": 46,
   "id": "e5ea2446",
   "metadata": {},
   "outputs": [],
   "source": [
    "dir_path = os.getenv(\"HOME\") +'/aiffel/DATA/pickle'\n",
    "os.makedirs(dir_path, exist_ok=True)\n",
    "df_train.to_pickle(dir_path + '/data_train_msp_8000_0324.pkl','gzip')\n",
    "df_test.to_pickle(dir_path + '/data_test_msp_8000_0324.pkl','gzip')"
   ]
  },
  {
   "cell_type": "code",
   "execution_count": null,
   "id": "3c0ba626",
   "metadata": {},
   "outputs": [],
   "source": []
  }
 ],
 "metadata": {
  "kernelspec": {
   "display_name": "Python 3 (ipykernel)",
   "language": "python",
   "name": "python3"
  },
  "language_info": {
   "codemirror_mode": {
    "name": "ipython",
    "version": 3
   },
   "file_extension": ".py",
   "mimetype": "text/x-python",
   "name": "python",
   "nbconvert_exporter": "python",
   "pygments_lexer": "ipython3",
   "version": "3.9.16"
  }
 },
 "nbformat": 4,
 "nbformat_minor": 5
}
