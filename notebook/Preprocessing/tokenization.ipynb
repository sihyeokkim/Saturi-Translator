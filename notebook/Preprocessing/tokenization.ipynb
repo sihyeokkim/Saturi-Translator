{
 "cells": [
  {
   "cell_type": "code",
   "execution_count": 1,
   "id": "def49c8d",
   "metadata": {},
   "outputs": [],
   "source": [
    "import pandas as pd\n",
    "import sentencepiece as spm\n",
    "import numpy as np\n",
    "import os\n",
    "from konlpy.tag import Mecab\n",
    "import glob"
   ]
  },
  {
   "cell_type": "code",
   "execution_count": 2,
   "id": "6111e9a5",
   "metadata": {},
   "outputs": [],
   "source": [
    "dir_path = os.getenv(\"HOME\") +'/aiffel/DATA'"
   ]
  },
  {
   "cell_type": "code",
   "execution_count": 3,
   "id": "5394d0b3",
   "metadata": {},
   "outputs": [],
   "source": [
    "df_train=pd.read_csv(dir_path + '/train_data_0324.csv', index_col='Unnamed: 0')\n",
    "df_test=pd.read_csv(dir_path + '/test_data_0324.csv', index_col='Unnamed: 0')"
   ]
  },
  {
   "cell_type": "code",
   "execution_count": 4,
   "id": "582588df",
   "metadata": {},
   "outputs": [
    {
     "data": {
      "text/plain": [
       "125"
      ]
     },
     "execution_count": 4,
     "metadata": {},
     "output_type": "execute_result"
    }
   ],
   "source": [
    "len(df_test)"
   ]
  },
  {
   "cell_type": "code",
   "execution_count": 5,
   "id": "f1460cc0",
   "metadata": {},
   "outputs": [
    {
     "data": {
      "text/html": [
       "<div>\n",
       "<style scoped>\n",
       "    .dataframe tbody tr th:only-of-type {\n",
       "        vertical-align: middle;\n",
       "    }\n",
       "\n",
       "    .dataframe tbody tr th {\n",
       "        vertical-align: top;\n",
       "    }\n",
       "\n",
       "    .dataframe thead th {\n",
       "        text-align: right;\n",
       "    }\n",
       "</style>\n",
       "<table border=\"1\" class=\"dataframe\">\n",
       "  <thead>\n",
       "    <tr style=\"text-align: right;\">\n",
       "      <th></th>\n",
       "      <th>reg</th>\n",
       "      <th>topic</th>\n",
       "      <th>stdn</th>\n",
       "      <th>dial</th>\n",
       "      <th>eng</th>\n",
       "    </tr>\n",
       "  </thead>\n",
       "  <tbody>\n",
       "    <tr>\n",
       "      <th>0</th>\n",
       "      <td>jd</td>\n",
       "      <td>역사</td>\n",
       "      <td>생각이 쪼금씩 바뀌더라고</td>\n",
       "      <td>생각이 쪼금씩 바뀌드라고</td>\n",
       "      <td>I've changed my mind a little bit.</td>\n",
       "    </tr>\n",
       "    <tr>\n",
       "      <th>1</th>\n",
       "      <td>jd</td>\n",
       "      <td>가족</td>\n",
       "      <td>어 알겠는가 외국인들이 그래도 잘 적응하고</td>\n",
       "      <td>어 알겄는가 애국인들이 그또 잘 적응하고</td>\n",
       "      <td>You know what? Foreigners still get used to it.</td>\n",
       "    </tr>\n",
       "    <tr>\n",
       "      <th>2</th>\n",
       "      <td>jd</td>\n",
       "      <td>건강</td>\n",
       "      <td>아으 갑자기 예전에 맹장 뜯은 게 생각난다.</td>\n",
       "      <td>아으 갑자기 에전에 맹장 뜯은 게 생각난디야.</td>\n",
       "      <td>All of a sudden, I think I've ripped off my ap...</td>\n",
       "    </tr>\n",
       "    <tr>\n",
       "      <th>3</th>\n",
       "      <td>jd</td>\n",
       "      <td>스타일</td>\n",
       "      <td>보면은 조금 품위 있게 나이 들어가야 되겠단 생각을 참 많이 해요.</td>\n",
       "      <td>보먼은 쫌 품위 있게 나이 들어가야 되겠단 싱각을 참 많이 해요잉.</td>\n",
       "      <td>I have a lot of ideas about getting older in a...</td>\n",
       "    </tr>\n",
       "    <tr>\n",
       "      <th>4</th>\n",
       "      <td>jd</td>\n",
       "      <td>먹거리</td>\n",
       "      <td>약간 조금 약간 맛이 쪼끔 거시기 하긴 한데 그래도</td>\n",
       "      <td>약간 쫌 약간 맛이 쪼끔 머시기 하긴 한디 그또</td>\n",
       "      <td>It's a little bit of a tastey, but still.</td>\n",
       "    </tr>\n",
       "  </tbody>\n",
       "</table>\n",
       "</div>"
      ],
      "text/plain": [
       "  reg topic                                   stdn  \\\n",
       "0  jd    역사                          생각이 쪼금씩 바뀌더라고   \n",
       "1  jd    가족                어 알겠는가 외국인들이 그래도 잘 적응하고   \n",
       "2  jd    건강               아으 갑자기 예전에 맹장 뜯은 게 생각난다.   \n",
       "3  jd   스타일  보면은 조금 품위 있게 나이 들어가야 되겠단 생각을 참 많이 해요.   \n",
       "4  jd   먹거리           약간 조금 약간 맛이 쪼끔 거시기 하긴 한데 그래도   \n",
       "\n",
       "                                     dial  \\\n",
       "0                          생각이 쪼금씩 바뀌드라고    \n",
       "1                 어 알겄는가 애국인들이 그또 잘 적응하고    \n",
       "2              아으 갑자기 에전에 맹장 뜯은 게 생각난디야.    \n",
       "3  보먼은 쫌 품위 있게 나이 들어가야 되겠단 싱각을 참 많이 해요잉.    \n",
       "4             약간 쫌 약간 맛이 쪼끔 머시기 하긴 한디 그또    \n",
       "\n",
       "                                                 eng  \n",
       "0                 I've changed my mind a little bit.  \n",
       "1    You know what? Foreigners still get used to it.  \n",
       "2  All of a sudden, I think I've ripped off my ap...  \n",
       "3  I have a lot of ideas about getting older in a...  \n",
       "4          It's a little bit of a tastey, but still.  "
      ]
     },
     "execution_count": 5,
     "metadata": {},
     "output_type": "execute_result"
    }
   ],
   "source": [
    "df_train.head()"
   ]
  },
  {
   "cell_type": "code",
   "execution_count": 19,
   "id": "cf89c6bb",
   "metadata": {},
   "outputs": [],
   "source": [
    "vc = df_train.eng.values +' '+df_train.dial.values"
   ]
  },
  {
   "cell_type": "code",
   "execution_count": 20,
   "id": "a9887cc8",
   "metadata": {},
   "outputs": [],
   "source": [
    "mecab = Mecab()"
   ]
  },
  {
   "cell_type": "code",
   "execution_count": 21,
   "id": "3bb29ab1",
   "metadata": {},
   "outputs": [
    {
     "name": "stderr",
     "output_type": "stream",
     "text": [
      "100%|████████████████████████████████| 948219/948219 [00:43<00:00, 22031.35it/s]\n"
     ]
    }
   ],
   "source": [
    "import tqdm\n",
    "cm_dial = []\n",
    "for i in tqdm.tqdm(df_train.dial.values) :\n",
    "    temp = ' '.join(mecab.morphs(i))\n",
    "    cm_dial.append(temp)"
   ]
  },
  {
   "cell_type": "code",
   "execution_count": 35,
   "id": "3df635f6",
   "metadata": {},
   "outputs": [],
   "source": [
    "def generate_tokenizer(corpus, vocab_size, lang=\"en\", pad_id=0, bos_id=1, eos_id=2, unk_id=3):\n",
    "\n",
    "    temp_file = os.getenv('HOME') + f'/aiffel/DATA/corpus_{lang}.txt'     # corpus를 받아 txt파일로 저장\n",
    "    \n",
    "    with open(temp_file, 'w') as f:\n",
    "        for row in corpus:\n",
    "            f.write(str(row) + '\\n')\n",
    "    \n",
    "    # Sentencepiece를 이용해 \n",
    "    spm.SentencePieceTrainer.Train(\n",
    "        f'--input={temp_file} --pad_id={pad_id} --bos_id={bos_id} --eos_id={eos_id} \\\n",
    "        --unk_id={unk_id} --model_prefix=spm_{lang} --vocab_size={vocab_size} --model_type=unigram \\\n",
    "        --user_defined_symbols=<jj>,<jd>,<gs>,<cc>,<kw>,<std>'   # model_r1\n",
    "    )\n",
    "    tokenizer = spm.SentencePieceProcessor()\n",
    "    tokenizer.Load(f'spm_{lang}.model') # model_r1\n",
    "\n",
    "    return tokenizer"
   ]
  },
  {
   "cell_type": "code",
   "execution_count": 23,
   "id": "166b81f4",
   "metadata": {},
   "outputs": [],
   "source": [
    "# one_tokenizer = generate_tokenizer(vc, 16009, lang ='enc_spm16000')"
   ]
  },
  {
   "cell_type": "code",
   "execution_count": 24,
   "id": "4b05bed9",
   "metadata": {},
   "outputs": [],
   "source": [
    "enc_tokenizer = generate_tokenizer(df_train.eng.values, 16009, lang ='enc_spm16000')"
   ]
  },
  {
   "cell_type": "code",
   "execution_count": 37,
   "id": "a8e29144",
   "metadata": {},
   "outputs": [],
   "source": [
    "dec_tokenizer = generate_tokenizer(df_train.dial.values, 16009, lang ='dec_spm16000')"
   ]
  },
  {
   "cell_type": "code",
   "execution_count": 34,
   "id": "52dc1032",
   "metadata": {},
   "outputs": [
    {
     "data": {
      "text/plain": [
       "['▁', '뭐라카노']"
      ]
     },
     "execution_count": 34,
     "metadata": {},
     "output_type": "execute_result"
    }
   ],
   "source": [
    "enc_tokenizer.encode_as_pieces('뭐라카노')"
   ]
  },
  {
   "cell_type": "code",
   "execution_count": 6,
   "id": "17a52342",
   "metadata": {},
   "outputs": [
    {
     "data": {
      "text/plain": [
       "True"
      ]
     },
     "execution_count": 6,
     "metadata": {},
     "output_type": "execute_result"
    }
   ],
   "source": [
    "# dir_path = os.getenv(\"HOME\") + '/aiffel/saturi/notebook/Model/'\n",
    "\n",
    "enc_tokenizer = spm.SentencePieceProcessor()\n",
    "enc_tokenizer.Load('spm_enc_spm16000.model')\n",
    "\n",
    "dec_tokenizer = spm.SentencePieceProcessor()\n",
    "dec_tokenizer.Load('spm_dec_msp16000.model')\n",
    "\n",
    "dec_tokenizer1 = spm.SentencePieceProcessor()\n",
    "dec_tokenizer1.Load('spm_dec_cmsp16000.model')\n",
    "\n",
    "dec_tokenizer.set_encode_extra_options(\"bos:eos\")"
   ]
  },
  {
   "cell_type": "code",
   "execution_count": 7,
   "id": "8dc84523",
   "metadata": {},
   "outputs": [],
   "source": [
    "df_train['eng'] = '<'+df_train['reg']+'> ' + df_train['eng']\n",
    "df_test['eng'] = '<'+df_test['reg']+'> ' + df_test['eng']"
   ]
  },
  {
   "cell_type": "code",
   "execution_count": 8,
   "id": "203d2ace",
   "metadata": {},
   "outputs": [
    {
     "data": {
      "text/html": [
       "<div>\n",
       "<style scoped>\n",
       "    .dataframe tbody tr th:only-of-type {\n",
       "        vertical-align: middle;\n",
       "    }\n",
       "\n",
       "    .dataframe tbody tr th {\n",
       "        vertical-align: top;\n",
       "    }\n",
       "\n",
       "    .dataframe thead th {\n",
       "        text-align: right;\n",
       "    }\n",
       "</style>\n",
       "<table border=\"1\" class=\"dataframe\">\n",
       "  <thead>\n",
       "    <tr style=\"text-align: right;\">\n",
       "      <th></th>\n",
       "      <th>reg</th>\n",
       "      <th>topic</th>\n",
       "      <th>stdn</th>\n",
       "      <th>dial</th>\n",
       "      <th>eng</th>\n",
       "    </tr>\n",
       "  </thead>\n",
       "  <tbody>\n",
       "    <tr>\n",
       "      <th>0</th>\n",
       "      <td>jd</td>\n",
       "      <td>역사</td>\n",
       "      <td>생각이 쪼금씩 바뀌더라고</td>\n",
       "      <td>생각이 쪼금씩 바뀌드라고</td>\n",
       "      <td>&lt;jd&gt; I've changed my mind a little bit.</td>\n",
       "    </tr>\n",
       "    <tr>\n",
       "      <th>1</th>\n",
       "      <td>jd</td>\n",
       "      <td>가족</td>\n",
       "      <td>어 알겠는가 외국인들이 그래도 잘 적응하고</td>\n",
       "      <td>어 알겄는가 애국인들이 그또 잘 적응하고</td>\n",
       "      <td>&lt;jd&gt; You know what? Foreigners still get used ...</td>\n",
       "    </tr>\n",
       "    <tr>\n",
       "      <th>2</th>\n",
       "      <td>jd</td>\n",
       "      <td>건강</td>\n",
       "      <td>아으 갑자기 예전에 맹장 뜯은 게 생각난다.</td>\n",
       "      <td>아으 갑자기 에전에 맹장 뜯은 게 생각난디야.</td>\n",
       "      <td>&lt;jd&gt; All of a sudden, I think I've ripped off ...</td>\n",
       "    </tr>\n",
       "    <tr>\n",
       "      <th>3</th>\n",
       "      <td>jd</td>\n",
       "      <td>스타일</td>\n",
       "      <td>보면은 조금 품위 있게 나이 들어가야 되겠단 생각을 참 많이 해요.</td>\n",
       "      <td>보먼은 쫌 품위 있게 나이 들어가야 되겠단 싱각을 참 많이 해요잉.</td>\n",
       "      <td>&lt;jd&gt; I have a lot of ideas about getting older...</td>\n",
       "    </tr>\n",
       "    <tr>\n",
       "      <th>4</th>\n",
       "      <td>jd</td>\n",
       "      <td>먹거리</td>\n",
       "      <td>약간 조금 약간 맛이 쪼끔 거시기 하긴 한데 그래도</td>\n",
       "      <td>약간 쫌 약간 맛이 쪼끔 머시기 하긴 한디 그또</td>\n",
       "      <td>&lt;jd&gt; It's a little bit of a tastey, but still.</td>\n",
       "    </tr>\n",
       "  </tbody>\n",
       "</table>\n",
       "</div>"
      ],
      "text/plain": [
       "  reg topic                                   stdn  \\\n",
       "0  jd    역사                          생각이 쪼금씩 바뀌더라고   \n",
       "1  jd    가족                어 알겠는가 외국인들이 그래도 잘 적응하고   \n",
       "2  jd    건강               아으 갑자기 예전에 맹장 뜯은 게 생각난다.   \n",
       "3  jd   스타일  보면은 조금 품위 있게 나이 들어가야 되겠단 생각을 참 많이 해요.   \n",
       "4  jd   먹거리           약간 조금 약간 맛이 쪼끔 거시기 하긴 한데 그래도   \n",
       "\n",
       "                                     dial  \\\n",
       "0                          생각이 쪼금씩 바뀌드라고    \n",
       "1                 어 알겄는가 애국인들이 그또 잘 적응하고    \n",
       "2              아으 갑자기 에전에 맹장 뜯은 게 생각난디야.    \n",
       "3  보먼은 쫌 품위 있게 나이 들어가야 되겠단 싱각을 참 많이 해요잉.    \n",
       "4             약간 쫌 약간 맛이 쪼끔 머시기 하긴 한디 그또    \n",
       "\n",
       "                                                 eng  \n",
       "0            <jd> I've changed my mind a little bit.  \n",
       "1  <jd> You know what? Foreigners still get used ...  \n",
       "2  <jd> All of a sudden, I think I've ripped off ...  \n",
       "3  <jd> I have a lot of ideas about getting older...  \n",
       "4     <jd> It's a little bit of a tastey, but still.  "
      ]
     },
     "execution_count": 8,
     "metadata": {},
     "output_type": "execute_result"
    }
   ],
   "source": [
    "df_train.head()"
   ]
  },
  {
   "cell_type": "markdown",
   "id": "2d28ebe7",
   "metadata": {},
   "source": [
    " 0.   toks_en     \n",
    " 1.   toks_dec    \n",
    " 2.   source_txt  \n",
    " 3.   target_txt  \n",
    " 4.   topic       \n",
    " 5.   reg         "
   ]
  },
  {
   "cell_type": "code",
   "execution_count": 9,
   "id": "30de9f44",
   "metadata": {},
   "outputs": [
    {
     "data": {
      "text/plain": [
       "'생각이 쪼금씩 바뀌드라고 '"
      ]
     },
     "execution_count": 9,
     "metadata": {},
     "output_type": "execute_result"
    }
   ],
   "source": [
    "txt = df_train.dial.values[0]\n",
    "txt"
   ]
  },
  {
   "cell_type": "code",
   "execution_count": 10,
   "id": "f1bc28b8",
   "metadata": {},
   "outputs": [
    {
     "data": {
      "text/plain": [
       "['<s>', '▁생각', '이', '▁쪼금', '씩', '▁바뀌', '드', '라고', '</s>']"
      ]
     },
     "execution_count": 10,
     "metadata": {},
     "output_type": "execute_result"
    }
   ],
   "source": [
    "# spm\n",
    "dec_tokenizer.encode_as_pieces(txt)"
   ]
  },
  {
   "cell_type": "code",
   "execution_count": 11,
   "id": "3b283e2c",
   "metadata": {},
   "outputs": [
    {
     "data": {
      "text/plain": [
       "['▁생각', '이', '▁쪼금', '씩', '▁바뀌', '드라고']"
      ]
     },
     "execution_count": 11,
     "metadata": {},
     "output_type": "execute_result"
    }
   ],
   "source": [
    "# spm\n",
    "dec_tokenizer1.encode_as_pieces(txt)"
   ]
  },
  {
   "cell_type": "code",
   "execution_count": 12,
   "id": "12576cfc",
   "metadata": {},
   "outputs": [],
   "source": [
    "# # msp\n",
    "# dec_tokenizer_msp.encode_as_pieces(df_train.dial.values[0])"
   ]
  },
  {
   "cell_type": "code",
   "execution_count": 13,
   "id": "dc5a47dd",
   "metadata": {},
   "outputs": [],
   "source": [
    "# # custom msp\n",
    "# dec_tokenizer.encode_as_pieces(df_train.dial.values[0])"
   ]
  },
  {
   "cell_type": "code",
   "execution_count": 14,
   "id": "30e3469f",
   "metadata": {},
   "outputs": [],
   "source": [
    "import tqdm\n",
    "def tokenize_data(df) :\n",
    "    dial_text = df['dial'].values\n",
    "    eng_text = df['eng'].values\n",
    "\n",
    "    toks_en = []\n",
    "    toks_dec = []\n",
    "\n",
    "    for i in tqdm.tqdm(range(len(df))) :\n",
    "        \n",
    "        en_tokenized = enc_tokenizer.encode(eng_text[i])\n",
    "        dial_tokenized = dec_tokenizer.encode(dial_text[i])\n",
    "        toks_en.append(en_tokenized)\n",
    "        toks_dec.append(dial_tokenized)\n",
    "    \n",
    "    df['toks_en'] = toks_en\n",
    "    df['toks_dec'] = toks_dec"
   ]
  },
  {
   "cell_type": "code",
   "execution_count": 15,
   "id": "39af5f68",
   "metadata": {},
   "outputs": [
    {
     "name": "stderr",
     "output_type": "stream",
     "text": [
      "100%|██████████████████████████████████████| 125/125 [00:00<00:00, 14488.30it/s]\n",
      "100%|████████████████████████████████| 948219/948219 [00:51<00:00, 18423.67it/s]\n"
     ]
    }
   ],
   "source": [
    "for i in [df_test, df_train]:\n",
    "    tokenize_data(i)"
   ]
  },
  {
   "cell_type": "code",
   "execution_count": 34,
   "id": "cceaf537",
   "metadata": {},
   "outputs": [
    {
     "data": {
      "text/html": [
       "<div>\n",
       "<style scoped>\n",
       "    .dataframe tbody tr th:only-of-type {\n",
       "        vertical-align: middle;\n",
       "    }\n",
       "\n",
       "    .dataframe tbody tr th {\n",
       "        vertical-align: top;\n",
       "    }\n",
       "\n",
       "    .dataframe thead th {\n",
       "        text-align: right;\n",
       "    }\n",
       "</style>\n",
       "<table border=\"1\" class=\"dataframe\">\n",
       "  <thead>\n",
       "    <tr style=\"text-align: right;\">\n",
       "      <th></th>\n",
       "      <th>reg</th>\n",
       "      <th>topic</th>\n",
       "      <th>stdn</th>\n",
       "      <th>dial</th>\n",
       "      <th>eng</th>\n",
       "      <th>toks_en</th>\n",
       "      <th>toks_dec</th>\n",
       "    </tr>\n",
       "  </thead>\n",
       "  <tbody>\n",
       "    <tr>\n",
       "      <th>0</th>\n",
       "      <td>jd</td>\n",
       "      <td>역사</td>\n",
       "      <td>생각이 쪼금씩 바뀌더라고</td>\n",
       "      <td>생각이 쪼금씩 바뀌드라고</td>\n",
       "      <td>&lt;jd&gt; &lt;jd&gt; I've changed my mind a little bit.</td>\n",
       "      <td>[15951, 5, 15951, 5, 13, 15974, 36, 923, 105, ...</td>\n",
       "      <td>[1, 98, 14511, 692, 14855, 2053, 1175, 2]</td>\n",
       "    </tr>\n",
       "    <tr>\n",
       "      <th>1</th>\n",
       "      <td>jd</td>\n",
       "      <td>가족</td>\n",
       "      <td>어 알겠는가 외국인들이 그래도 잘 적응하고</td>\n",
       "      <td>어 알겄는가 애국인들이 그또 잘 적응하고</td>\n",
       "      <td>&lt;jd&gt; &lt;jd&gt; You know what? Foreigners still get ...</td>\n",
       "      <td>[15951, 5, 15951, 5, 117, 143, 166, 15978, 132...</td>\n",
       "      <td>[1, 17, 109, 14807, 14515, 14512, 9265, 14550,...</td>\n",
       "    </tr>\n",
       "  </tbody>\n",
       "</table>\n",
       "</div>"
      ],
      "text/plain": [
       "  reg topic                     stdn                     dial  \\\n",
       "0  jd    역사            생각이 쪼금씩 바뀌더라고           생각이 쪼금씩 바뀌드라고    \n",
       "1  jd    가족  어 알겠는가 외국인들이 그래도 잘 적응하고  어 알겄는가 애국인들이 그또 잘 적응하고    \n",
       "\n",
       "                                                 eng  \\\n",
       "0       <jd> <jd> I've changed my mind a little bit.   \n",
       "1  <jd> <jd> You know what? Foreigners still get ...   \n",
       "\n",
       "                                             toks_en  \\\n",
       "0  [15951, 5, 15951, 5, 13, 15974, 36, 923, 105, ...   \n",
       "1  [15951, 5, 15951, 5, 117, 143, 166, 15978, 132...   \n",
       "\n",
       "                                            toks_dec  \n",
       "0          [1, 98, 14511, 692, 14855, 2053, 1175, 2]  \n",
       "1  [1, 17, 109, 14807, 14515, 14512, 9265, 14550,...  "
      ]
     },
     "execution_count": 34,
     "metadata": {},
     "output_type": "execute_result"
    }
   ],
   "source": [
    "df_train.head(2)"
   ]
  },
  {
   "cell_type": "code",
   "execution_count": 16,
   "id": "e5ea2446",
   "metadata": {},
   "outputs": [],
   "source": [
    "dir_path = os.getenv(\"HOME\") +'/aiffel/DATA/pickle'\n",
    "os.makedirs(dir_path, exist_ok=True)\n",
    "df_train.to_pickle(dir_path + '/data_train_msp_16000_0324.pkl','gzip')\n",
    "df_test.to_pickle(dir_path + '/data_test_msp_16000_0324.pkl','gzip')"
   ]
  },
  {
   "cell_type": "code",
   "execution_count": null,
   "id": "9c749e96",
   "metadata": {},
   "outputs": [],
   "source": []
  }
 ],
 "metadata": {
  "kernelspec": {
   "display_name": "Python 3 (ipykernel)",
   "language": "python",
   "name": "python3"
  },
  "language_info": {
   "codemirror_mode": {
    "name": "ipython",
    "version": 3
   },
   "file_extension": ".py",
   "mimetype": "text/x-python",
   "name": "python",
   "nbconvert_exporter": "python",
   "pygments_lexer": "ipython3",
   "version": "3.9.16"
  }
 },
 "nbformat": 4,
 "nbformat_minor": 5
}
