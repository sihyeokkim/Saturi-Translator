{
 "cells": [
  {
   "cell_type": "code",
   "execution_count": 1,
   "id": "fd79f0d9",
   "metadata": {},
   "outputs": [],
   "source": [
    "# !pip install transformers --upgrade\n",
    "from transformers import pipeline, AutoModelForSeq2SeqLM, AutoTokenizer\n",
    "import os\n",
    "import pandas as pd\n",
    "import datasets\n",
    "import gc\n",
    "from tqdm import tqdm"
   ]
  },
  {
   "cell_type": "code",
   "execution_count": 2,
   "id": "ea673f1f",
   "metadata": {},
   "outputs": [],
   "source": [
    "model_ckpt = 'Helsinki-NLP/opus-mt-ko-en'\n",
    "# model_ckpt2 = 'alphahg/opus-mt-ko-en-finetuned-ko-to-en100'\n",
    "# pipe2 = pipeline('translation', model=model_ckpt2, device=0)"
   ]
  },
  {
   "cell_type": "code",
   "execution_count": 3,
   "id": "a38888e7",
   "metadata": {},
   "outputs": [],
   "source": [
    "pipe = pipeline('translation', model = model_ckpt, device=0)"
   ]
  },
  {
   "cell_type": "code",
   "execution_count": 4,
   "id": "92444e15",
   "metadata": {},
   "outputs": [
    {
     "data": {
      "text/plain": [
       "[{'translation_text': 'The reason the human GO driver was able to win AI is because he inherited a strategy directly from AI.'}]"
      ]
     },
     "execution_count": 4,
     "metadata": {},
     "output_type": "execute_result"
    }
   ],
   "source": [
    "# test\n",
    "pipe('인간 바둑기사가 인공지능에 승리할 수 있었던 이유는 인공지능으로부터 전술을 직접 물려 받았기 때문이다.')"
   ]
  },
  {
   "cell_type": "markdown",
   "id": "4e9058f0",
   "metadata": {},
   "source": [
    "---\n",
    "# kor -> eng backtranslation 작업 순서\n",
    "\n",
    "### 작업 할당 :\n",
    "\n",
    "- `김시혁` :  'jd' 전라도\n",
    "- `정선아` :  'kw' 강원도\n",
    "- `임종인` :  'gs' 경상도\n",
    "- `이승용` :  'jj' 제주도\n",
    "- `신덕식` :  'cc' 충청도\n",
    "\n",
    "---\n",
    "\n",
    "### `data_save(dataset, pipe, '지역', 작업크기, 시작index)`\n",
    ">1. ### `dataset` : 데이터 셋 [dataframe : pandas dataframe]\n",
    ">2. ### `pipe` : hugging face pipeline [func : huggingface pipeline function]\n",
    ">3. ### `지역` : 사투리 지역 [str : 'jj', 'gs', 'kw', 'cc', 'jd']\n",
    ">4. ### `작업크기` : num of rows [int]\n",
    ">5. ### `directory` : 저장 경로 [str : directory]\n",
    ">>예) data_save(df,pipe,'jj',5000,0,'/aiffel/aiffelthon/') -> '지역', 시작index만 변경해주시면 됩니다."
   ]
  },
  {
   "cell_type": "code",
   "execution_count": 5,
   "id": "f9c13d61",
   "metadata": {},
   "outputs": [],
   "source": [
    "directory = os.getenv('HOME') + '/aiffel/aiffelthon/' # 데이터 경로 지정\n",
    "\n",
    "df = pd.read_csv(directory+'dataset_full_v1.csv') # 데이터 파일 불러오기\n",
    "df.drop_duplicates(inplace=True)\n",
    "df['text'] = df['text'].str.replace('[\\(\\)]','',regex=True)\n",
    "df['dial'] = df['dial'].str.replace('[\\(\\)]','',regex=True)"
   ]
  },
  {
   "cell_type": "code",
   "execution_count": 6,
   "id": "c920cbf1",
   "metadata": {},
   "outputs": [],
   "source": [
    "def data_save(data, pipe, reg, num_rows, directory) :\n",
    "    '''\n",
    "    1. ### `dataset` : 데이터 셋 [dataframe : pandas dataframe]\n",
    "    2. ### `pipe` : hugging face pipeline [func : huggingface pipeline function]\n",
    "    3. ### `지역` : 사투리 지역 [str : 'jj', 'gs', 'kw', 'cc', 'jd']\n",
    "    4. ### `작업크기` : num of rows [int]\n",
    "    5. ### `directory` : 저장 경로 [str : directory]\n",
    "        예) data_save(df,pipe,'jj',5000,0,'/aiffel/aiffelthon/') -> '지역', 시작index만 변경해주시면 됩니다.\n",
    "    '''\n",
    "    data = data.loc[data['reg'] == reg]\n",
    "    \n",
    "    df_final = pd.DataFrame(columns=['text', 'dial', 'reg', 'pair','eng'])\n",
    "\n",
    "    for i in range(0,len(data), num_rows) :\n",
    "        dataset = data[i : i +num_rows].sample(frac=1).reset_index()\n",
    "        dataset = datasets.Dataset.from_pandas(dataset)\n",
    "        dataset = dataset.map(lambda ds : {'eng' : pipe(ds['text'])[0]['translation_text']})\n",
    "        dataset.set_format('pandas')\n",
    "        df_final = df_final.merge(dataset[:], how='outer')\n",
    "        df_final.to_csv(directory + f'dataset_en_ko_{reg}_{i}_{i+num_rows}.csv', index=False)\n",
    "        print(f'작업 완료 : {reg}_{i}_{i+num_rows}' )\n",
    "        print(f'저장 경로 : {directory}dataset_en_ko_{reg}_{i}_{i+num_rows}.csv')"
   ]
  },
  {
   "cell_type": "code",
   "execution_count": 7,
   "id": "171781c2",
   "metadata": {},
   "outputs": [],
   "source": [
    "reg = 'jd' # 지역\n",
    "num_rows = 10000"
   ]
  },
  {
   "cell_type": "code",
   "execution_count": null,
   "id": "1263da69",
   "metadata": {},
   "outputs": [
    {
     "data": {
      "application/vnd.jupyter.widget-view+json": {
       "model_id": "ef1fdb62d2de400db6b86065bd513fa3",
       "version_major": 2,
       "version_minor": 0
      },
      "text/plain": [
       "  0%|          | 0/10000 [00:00<?, ?ex/s]"
      ]
     },
     "metadata": {},
     "output_type": "display_data"
    },
    {
     "name": "stderr",
     "output_type": "stream",
     "text": [
      "/opt/conda/lib/python3.9/site-packages/transformers/pipelines/base.py:899: UserWarning: You seem to be using the pipelines sequentially on GPU. In order to maximize efficiency please use a dataset\n",
      "  warnings.warn(\n"
     ]
    },
    {
     "name": "stdout",
     "output_type": "stream",
     "text": [
      "작업 완료 : jd_0_10000\n",
      "저장 경로 : /aiffel/aiffel/aiffelthon/dataset_en_ko_jd_0_10000.csv\n"
     ]
    },
    {
     "data": {
      "application/vnd.jupyter.widget-view+json": {
       "model_id": "5720fba0a8224e67bee7e01284459a03",
       "version_major": 2,
       "version_minor": 0
      },
      "text/plain": [
       "  0%|          | 0/10000 [00:00<?, ?ex/s]"
      ]
     },
     "metadata": {},
     "output_type": "display_data"
    },
    {
     "name": "stdout",
     "output_type": "stream",
     "text": [
      "작업 완료 : jd_10000_20000\n",
      "저장 경로 : /aiffel/aiffel/aiffelthon/dataset_en_ko_jd_10000_20000.csv\n"
     ]
    },
    {
     "data": {
      "application/vnd.jupyter.widget-view+json": {
       "model_id": "cb1166e6527646b3a72aa31c93bdafbf",
       "version_major": 2,
       "version_minor": 0
      },
      "text/plain": [
       "  0%|          | 0/10000 [00:00<?, ?ex/s]"
      ]
     },
     "metadata": {},
     "output_type": "display_data"
    },
    {
     "name": "stdout",
     "output_type": "stream",
     "text": [
      "작업 완료 : jd_20000_30000\n",
      "저장 경로 : /aiffel/aiffel/aiffelthon/dataset_en_ko_jd_20000_30000.csv\n"
     ]
    },
    {
     "data": {
      "application/vnd.jupyter.widget-view+json": {
       "model_id": "cb063ebba3904f6fb46fe7a3a44b8567",
       "version_major": 2,
       "version_minor": 0
      },
      "text/plain": [
       "  0%|          | 0/10000 [00:00<?, ?ex/s]"
      ]
     },
     "metadata": {},
     "output_type": "display_data"
    },
    {
     "name": "stdout",
     "output_type": "stream",
     "text": [
      "작업 완료 : jd_30000_40000\n",
      "저장 경로 : /aiffel/aiffel/aiffelthon/dataset_en_ko_jd_30000_40000.csv\n"
     ]
    },
    {
     "data": {
      "application/vnd.jupyter.widget-view+json": {
       "model_id": "1d458c553c444696877687af69a481c0",
       "version_major": 2,
       "version_minor": 0
      },
      "text/plain": [
       "  0%|          | 0/10000 [00:00<?, ?ex/s]"
      ]
     },
     "metadata": {},
     "output_type": "display_data"
    },
    {
     "name": "stdout",
     "output_type": "stream",
     "text": [
      "작업 완료 : jd_40000_50000\n",
      "저장 경로 : /aiffel/aiffel/aiffelthon/dataset_en_ko_jd_40000_50000.csv\n"
     ]
    },
    {
     "data": {
      "application/vnd.jupyter.widget-view+json": {
       "model_id": "0d53f9b1f12f4eb09584336212263c47",
       "version_major": 2,
       "version_minor": 0
      },
      "text/plain": [
       "  0%|          | 0/10000 [00:00<?, ?ex/s]"
      ]
     },
     "metadata": {},
     "output_type": "display_data"
    },
    {
     "name": "stdout",
     "output_type": "stream",
     "text": [
      "작업 완료 : jd_50000_60000\n",
      "저장 경로 : /aiffel/aiffel/aiffelthon/dataset_en_ko_jd_50000_60000.csv\n"
     ]
    },
    {
     "data": {
      "application/vnd.jupyter.widget-view+json": {
       "model_id": "810a5d8308d341998c70b14d273e447c",
       "version_major": 2,
       "version_minor": 0
      },
      "text/plain": [
       "  0%|          | 0/10000 [00:00<?, ?ex/s]"
      ]
     },
     "metadata": {},
     "output_type": "display_data"
    },
    {
     "name": "stdout",
     "output_type": "stream",
     "text": [
      "작업 완료 : jd_60000_70000\n",
      "저장 경로 : /aiffel/aiffel/aiffelthon/dataset_en_ko_jd_60000_70000.csv\n"
     ]
    },
    {
     "data": {
      "application/vnd.jupyter.widget-view+json": {
       "model_id": "5d9bb5166c68475fac0d13c2a77244a0",
       "version_major": 2,
       "version_minor": 0
      },
      "text/plain": [
       "  0%|          | 0/10000 [00:00<?, ?ex/s]"
      ]
     },
     "metadata": {},
     "output_type": "display_data"
    },
    {
     "name": "stdout",
     "output_type": "stream",
     "text": [
      "작업 완료 : jd_70000_80000\n",
      "저장 경로 : /aiffel/aiffel/aiffelthon/dataset_en_ko_jd_70000_80000.csv\n"
     ]
    },
    {
     "data": {
      "application/vnd.jupyter.widget-view+json": {
       "model_id": "1cf2e9650e5f4de0a6e2c81e8c85772a",
       "version_major": 2,
       "version_minor": 0
      },
      "text/plain": [
       "  0%|          | 0/10000 [00:00<?, ?ex/s]"
      ]
     },
     "metadata": {},
     "output_type": "display_data"
    },
    {
     "name": "stdout",
     "output_type": "stream",
     "text": [
      "작업 완료 : jd_80000_90000\n",
      "저장 경로 : /aiffel/aiffel/aiffelthon/dataset_en_ko_jd_80000_90000.csv\n"
     ]
    },
    {
     "data": {
      "application/vnd.jupyter.widget-view+json": {
       "model_id": "35e802a51cb1492eb4b1cd1d6cf30f02",
       "version_major": 2,
       "version_minor": 0
      },
      "text/plain": [
       "  0%|          | 0/10000 [00:00<?, ?ex/s]"
      ]
     },
     "metadata": {},
     "output_type": "display_data"
    },
    {
     "name": "stdout",
     "output_type": "stream",
     "text": [
      "작업 완료 : jd_90000_100000\n",
      "저장 경로 : /aiffel/aiffel/aiffelthon/dataset_en_ko_jd_90000_100000.csv\n"
     ]
    },
    {
     "data": {
      "application/vnd.jupyter.widget-view+json": {
       "model_id": "eac97cfa065849a7a147f23bcc8ba9ba",
       "version_major": 2,
       "version_minor": 0
      },
      "text/plain": [
       "  0%|          | 0/10000 [00:00<?, ?ex/s]"
      ]
     },
     "metadata": {},
     "output_type": "display_data"
    }
   ],
   "source": [
    "jd = data_save(df,pipe,reg,num_rows,directory)"
   ]
  },
  {
   "cell_type": "code",
   "execution_count": null,
   "id": "98db6071",
   "metadata": {},
   "outputs": [],
   "source": [
    "# data merge하기\n",
    "files = glob.glob(directory+f'*{reg}*.csv')\n",
    "df_final = pd.DataFrame(columns=['text', 'dial', 'reg', 'pair','eng'])\n",
    "for i in files :\n",
    "    df_new = pd.read_csv(i)\n",
    "    df_final = df_final.merge(df_new, how='outer')\n",
    "df_final.to_csv(directory + f'datset_{reg}_{num_rows}_final_v{start}.csv' , index=False)\n",
    "df_final.head()"
   ]
  }
 ],
 "metadata": {
  "kernelspec": {
   "display_name": "Python 3 (ipykernel)",
   "language": "python",
   "name": "python3"
  },
  "language_info": {
   "codemirror_mode": {
    "name": "ipython",
    "version": 3
   },
   "file_extension": ".py",
   "mimetype": "text/x-python",
   "name": "python",
   "nbconvert_exporter": "python",
   "pygments_lexer": "ipython3",
   "version": "3.9.7"
  }
 },
 "nbformat": 4,
 "nbformat_minor": 5
}
