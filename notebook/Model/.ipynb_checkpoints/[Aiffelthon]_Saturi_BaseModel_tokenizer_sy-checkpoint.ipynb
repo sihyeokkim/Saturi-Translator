{
 "cells": [
  {
   "cell_type": "code",
   "execution_count": 426,
   "id": "55d87760",
   "metadata": {},
   "outputs": [
    {
     "name": "stdout",
     "output_type": "stream",
     "text": [
      "2.8.0\n",
      "1.5.3\n",
      "1.24.2\n"
     ]
    }
   ],
   "source": [
    "import warnings\n",
    "warnings.filterwarnings('ignore')\n",
    "\n",
    "import tensorflow as tf\n",
    "import numpy as np\n",
    "import pandas as pd\n",
    "\n",
    "import matplotlib as mpl\n",
    "import matplotlib.ticker as ticker\n",
    "import matplotlib.pyplot as plt\n",
    "\n",
    "import time\n",
    "import re\n",
    "import os\n",
    "import io\n",
    "\n",
    "\n",
    "# from tqdm import tqdm_notebook \n",
    "from tqdm import tqdm \n",
    "import random\n",
    "\n",
    "import sentencepiece as spm\n",
    "from konlpy.tag import Mecab\n",
    "\n",
    "print(tf.__version__)\n",
    "print(pd.__version__)\n",
    "print(np.__version__)"
   ]
  },
  {
   "cell_type": "markdown",
   "id": "4b2e8c9a",
   "metadata": {},
   "source": [
    "# Step 1. 데이터 불러오기\n",
    "   "
   ]
  },
  {
   "cell_type": "code",
   "execution_count": 599,
   "id": "6b5c700d",
   "metadata": {},
   "outputs": [],
   "source": [
    "data_dir = os.getenv(\"HOME\") + '/aiffel/DATA'\n",
    "tokenizer_name = 'cmsp'"
   ]
  },
  {
   "cell_type": "code",
   "execution_count": 600,
   "id": "c0bbbb0b",
   "metadata": {},
   "outputs": [],
   "source": [
    "# # train data load\n",
    "data_dir = os.getenv('HOME')+'/aiffel/DATA/pickle' # 파일 경로 지정\n",
    "data_train_path = data_dir+f\"/data_train_{tokenizer_name}_8000_0324.pkl\"\n",
    "data_test_path = data_dir+f\"/data_test_{tokenizer_name}_8000_0324.pkl\"\n",
    "full_data = pd.read_pickle(data_train_path, 'gzip')\n",
    "full_data_test = pd.read_pickle(data_test_path, 'gzip')"
   ]
  },
  {
   "cell_type": "code",
   "execution_count": 601,
   "id": "19760f15",
   "metadata": {},
   "outputs": [
    {
     "name": "stdout",
     "output_type": "stream",
     "text": [
      "<class 'pandas.core.frame.DataFrame'>\n",
      "Int64Index: 948219 entries, 0 to 949887\n",
      "Data columns (total 7 columns):\n",
      " #   Column    Non-Null Count   Dtype \n",
      "---  ------    --------------   ----- \n",
      " 0   reg       948219 non-null  object\n",
      " 1   topic     948219 non-null  object\n",
      " 2   stdn      948219 non-null  object\n",
      " 3   dial      948219 non-null  object\n",
      " 4   eng       948219 non-null  object\n",
      " 5   toks_en   948219 non-null  object\n",
      " 6   toks_dec  948219 non-null  object\n",
      "dtypes: object(7)\n",
      "memory usage: 57.9+ MB\n"
     ]
    }
   ],
   "source": [
    "full_data.info()"
   ]
  },
  {
   "cell_type": "code",
   "execution_count": 602,
   "id": "104b7edb",
   "metadata": {},
   "outputs": [
    {
     "name": "stdout",
     "output_type": "stream",
     "text": [
      "<class 'pandas.core.frame.DataFrame'>\n",
      "Int64Index: 125 entries, 39379 to 297204\n",
      "Data columns (total 7 columns):\n",
      " #   Column    Non-Null Count  Dtype \n",
      "---  ------    --------------  ----- \n",
      " 0   reg       125 non-null    object\n",
      " 1   topic     125 non-null    object\n",
      " 2   stdn      125 non-null    object\n",
      " 3   dial      125 non-null    object\n",
      " 4   eng       125 non-null    object\n",
      " 5   toks_en   125 non-null    object\n",
      " 6   toks_dec  125 non-null    object\n",
      "dtypes: object(7)\n",
      "memory usage: 7.8+ KB\n"
     ]
    }
   ],
   "source": [
    "full_data_test.info()"
   ]
  },
  {
   "cell_type": "code",
   "execution_count": 603,
   "id": "18cb69b5",
   "metadata": {},
   "outputs": [],
   "source": [
    "regs = full_data.reg.unique()"
   ]
  },
  {
   "cell_type": "code",
   "execution_count": 604,
   "id": "50d62e87",
   "metadata": {},
   "outputs": [
    {
     "data": {
      "image/png": "[encoded data removed]",
      "text/plain": [
       "<Figure size 640x480 with 1 Axes>"
      ]
     },
     "metadata": {},
     "output_type": "display_data"
    }
   ],
   "source": [
    "import seaborn as sns\n",
    "full_data['tok_len'] = full_data['toks_en'].apply(lambda x : len(x))\n",
    "sns.histplot(x='tok_len',data = full_data, bins= 50,stat='probability' )\n",
    "plt.show()"
   ]
  },
  {
   "cell_type": "code",
   "execution_count": 605,
   "id": "c7343821",
   "metadata": {},
   "outputs": [
    {
     "data": {
      "text/plain": [
       "reg\n",
       "cc    17.677237\n",
       "gs    16.400323\n",
       "jd    17.122636\n",
       "jj    13.385811\n",
       "kw    13.777223\n",
       "Name: tok_len, dtype: float64"
      ]
     },
     "execution_count": 605,
     "metadata": {},
     "output_type": "execute_result"
    }
   ],
   "source": [
    "full_data.groupby(full_data['reg'])['tok_len'].mean()"
   ]
  },
  {
   "cell_type": "code",
   "execution_count": 606,
   "id": "372d27c7",
   "metadata": {},
   "outputs": [],
   "source": [
    "# full_data['tok_cat'] = pd.qcut(full_data['tok_len'], [0,0.7,0.8,0.85,0.9,0.92,0.94,0.96,0.98,0.985,0.986,0.994,0.999,1],labels =[1,2,3,4,5,6,7,8,9,10,11,12,13])"
   ]
  },
  {
   "cell_type": "code",
   "execution_count": 607,
   "id": "9491cbf9",
   "metadata": {},
   "outputs": [],
   "source": [
    "full_data['tok_cat'] = pd.qcut(full_data['tok_len'], [0,0.9,0.9999,1],labels =[1,2,3])"
   ]
  },
  {
   "cell_type": "code",
   "execution_count": 608,
   "id": "e8565ca2",
   "metadata": {},
   "outputs": [
    {
     "data": {
      "text/plain": [
       "94"
      ]
     },
     "execution_count": 608,
     "metadata": {},
     "output_type": "execute_result"
    }
   ],
   "source": [
    "len(full_data.loc[full_data['tok_cat']==3,'tok_len'])"
   ]
  },
  {
   "cell_type": "code",
   "execution_count": 609,
   "id": "8215d204",
   "metadata": {},
   "outputs": [
    {
     "data": {
      "text/plain": [
       "min     66\n",
       "max    176\n",
       "Name: tok_len, dtype: int64"
      ]
     },
     "execution_count": 609,
     "metadata": {},
     "output_type": "execute_result"
    }
   ],
   "source": [
    "full_data.loc[full_data['tok_cat']==3,'tok_len'].agg([min,max])"
   ]
  },
  {
   "cell_type": "code",
   "execution_count": 610,
   "id": "d817acf0",
   "metadata": {},
   "outputs": [
    {
     "data": {
      "text/plain": [
       "True"
      ]
     },
     "execution_count": 610,
     "metadata": {},
     "output_type": "execute_result"
    }
   ],
   "source": [
    "data_path = os.getenv('HOME') + '/aiffel/saturi/notebook/Preprocessing/'\n",
    "SRC_VOCAB_SIZE = 8009\n",
    "TGT_VOCAB_SIZE = 8009\n",
    "\n",
    "enc_tokenizer = spm.SentencePieceProcessor()\n",
    "enc_tokenizer.Load(data_path+'spm_enc_spm8009.model')\n",
    "\n",
    "dec_tokenizer = spm.SentencePieceProcessor()\n",
    "dec_tokenizer.Load(data_path+f'spm_dec_{tokenizer_name}8009.model')\n",
    "\n",
    "dec_tokenizer.set_encode_extra_options(\"bos:eos\")"
   ]
  },
  {
   "cell_type": "markdown",
   "id": "b68adf64",
   "metadata": {},
   "source": [
    "# Step 2. 모델불러오기"
   ]
  },
  {
   "cell_type": "code",
   "execution_count": 611,
   "id": "cf9adca2",
   "metadata": {},
   "outputs": [
    {
     "name": "stderr",
     "output_type": "stream",
     "text": [
      "\u001b[34m\u001b[1mwandb\u001b[0m: \u001b[33mWARNING\u001b[0m Calling wandb.login() after wandb.init() has no effect.\n"
     ]
    },
    {
     "data": {
      "text/plain": [
       "True"
      ]
     },
     "execution_count": 611,
     "metadata": {},
     "output_type": "execute_result"
    }
   ],
   "source": [
    "import wandb\n",
    "wandb.login()"
   ]
  },
  {
   "cell_type": "code",
   "execution_count": 612,
   "id": "8fca30f1",
   "metadata": {},
   "outputs": [
    {
     "data": {
      "text/html": [
       "Finishing last run (ID:d1078yol) before initializing another..."
      ],
      "text/plain": [
       "<IPython.core.display.HTML object>"
      ]
     },
     "metadata": {},
     "output_type": "display_data"
    },
    {
     "data": {
      "text/html": [
       "Waiting for W&B process to finish... <strong style=\"color:green\">(success).</strong>"
      ],
      "text/plain": [
       "<IPython.core.display.HTML object>"
      ]
     },
     "metadata": {},
     "output_type": "display_data"
    },
    {
     "data": {
      "text/html": [
       "<style>\n",
       "    table.wandb td:nth-child(1) { padding: 0 10px; text-align: left ; width: auto;} td:nth-child(2) {text-align: left ; width: 100%}\n",
       "    .wandb-row { display: flex; flex-direction: row; flex-wrap: wrap; justify-content: flex-start; width: 100% }\n",
       "    .wandb-col { display: flex; flex-direction: column; flex-basis: 100%; flex: 1; padding: 10px; }\n",
       "    </style>\n",
       "<div class=\"wandb-row\"><div class=\"wandb-col\"><h3>Run history:</h3><br/><table class=\"wandb\"><tr><td>bleu</td><td>▁</td></tr><tr><td>train_loss</td><td>██▇▇▁▁▁▁▁▁▁▁▁▁▁▁▁▁▁▂▂▂▂▂▂▂▂▂▂▂▂▂▂▂▂▂▂▂▂▂</td></tr><tr><td>valid_loss</td><td>▃▅▆▅▄▁▃▃▃▂▇▇█▇▅</td></tr></table><br/></div><div class=\"wandb-col\"><h3>Run summary:</h3><br/><table class=\"wandb\"><tr><td>bleu</td><td>14.06032</td></tr><tr><td>train_loss</td><td>2.36271</td></tr><tr><td>valid_loss</td><td>3.47433</td></tr></table><br/></div></div>"
      ],
      "text/plain": [
       "<IPython.core.display.HTML object>"
      ]
     },
     "metadata": {},
     "output_type": "display_data"
    },
    {
     "data": {
      "text/html": [
       " View run <strong style=\"color:#cdcd00\">proud-lion-14</strong> at: <a href='https://wandb.ai/saturi/model_exp_spm_8000_0327_final_v3v/runs/d1078yol' target=\"_blank\">https://wandb.ai/saturi/model_exp_spm_8000_0327_final_v3v/runs/d1078yol</a><br/>Synced 6 W&B file(s), 0 media file(s), 0 artifact file(s) and 0 other file(s)"
      ],
      "text/plain": [
       "<IPython.core.display.HTML object>"
      ]
     },
     "metadata": {},
     "output_type": "display_data"
    },
    {
     "data": {
      "text/html": [
       "Find logs at: <code>./wandb/run-20230327_103002-d1078yol/logs</code>"
      ],
      "text/plain": [
       "<IPython.core.display.HTML object>"
      ]
     },
     "metadata": {},
     "output_type": "display_data"
    },
    {
     "data": {
      "text/html": [
       "Successfully finished last run (ID:d1078yol). Initializing new run:<br/>"
      ],
      "text/plain": [
       "<IPython.core.display.HTML object>"
      ]
     },
     "metadata": {},
     "output_type": "display_data"
    },
    {
     "data": {
      "text/html": [
       "Tracking run with wandb version 0.14.0"
      ],
      "text/plain": [
       "<IPython.core.display.HTML object>"
      ]
     },
     "metadata": {},
     "output_type": "display_data"
    },
    {
     "data": {
      "text/html": [
       "Run data is saved locally in <code>/home/seuyon0101/aiffel/saturi/notebook/Model/wandb/run-20230327_105740-9fi66jdc</code>"
      ],
      "text/plain": [
       "<IPython.core.display.HTML object>"
      ]
     },
     "metadata": {},
     "output_type": "display_data"
    },
    {
     "data": {
      "text/html": [
       "Syncing run <strong><a href='https://wandb.ai/saturi/model_exp_cmsp_8000_0327_final_v3v/runs/9fi66jdc' target=\"_blank\">stellar-surf-1</a></strong> to <a href='https://wandb.ai/saturi/model_exp_cmsp_8000_0327_final_v3v' target=\"_blank\">Weights & Biases</a> (<a href='https://wandb.me/run' target=\"_blank\">docs</a>)<br/>"
      ],
      "text/plain": [
       "<IPython.core.display.HTML object>"
      ]
     },
     "metadata": {},
     "output_type": "display_data"
    },
    {
     "data": {
      "text/html": [
       " View project at <a href='https://wandb.ai/saturi/model_exp_cmsp_8000_0327_final_v3v' target=\"_blank\">https://wandb.ai/saturi/model_exp_cmsp_8000_0327_final_v3v</a>"
      ],
      "text/plain": [
       "<IPython.core.display.HTML object>"
      ]
     },
     "metadata": {},
     "output_type": "display_data"
    },
    {
     "data": {
      "text/html": [
       " View run at <a href='https://wandb.ai/saturi/model_exp_cmsp_8000_0327_final_v3v/runs/9fi66jdc' target=\"_blank\">https://wandb.ai/saturi/model_exp_cmsp_8000_0327_final_v3v/runs/9fi66jdc</a>"
      ],
      "text/plain": [
       "<IPython.core.display.HTML object>"
      ]
     },
     "metadata": {},
     "output_type": "display_data"
    }
   ],
   "source": [
    "#wandb 설정\n",
    "project_name = f'model_exp_{tokenizer_name}_8000_0327_final_v3v'\n",
    "run  = wandb.init(project = project_name ,\n",
    "                 entity = 'saturi',\n",
    "                 config = {\n",
    "                     'model_name':'Vanilla_Transformer',\n",
    "                     'n_layers':6,\n",
    "                     'd_model':512,\n",
    "                     'n_heads':8,\n",
    "                     'd_ff':2048,\n",
    "                     'src_vocab_size':SRC_VOCAB_SIZE,\n",
    "                     'tgt_vocab_size':TGT_VOCAB_SIZE,\n",
    "                     'pos_len': 512,\n",
    "                     'dropout':0.2,\n",
    "                     'shared':True,\n",
    "                     'warmups' : 8000,\n",
    "                     'epochs':1,\n",
    "                     'optimizer' :'ADAM',\n",
    "                     'loss' : 'SparseCategoricalCrossentropy',\n",
    "                     'metric' : 'bleu'\n",
    "                 })\n",
    "config = wandb.config"
   ]
  },
  {
   "cell_type": "code",
   "execution_count": 613,
   "id": "c948ef42",
   "metadata": {},
   "outputs": [],
   "source": [
    "import sys\n",
    "sys.path.insert(0,os.getenv('HOME') + '/aiffel/saturi/MODEL/') # vanilla transformer 파일경로에서 불러오기 위해 설정\n",
    "sys.path.insert(0,os.getenv('HOME') + '/aiffel/saturi/PRE/')\n",
    "sys.path.insert(0,os.getenv('HOME') + '/aiffel/saturi/POST/')"
   ]
  },
  {
   "cell_type": "code",
   "execution_count": 614,
   "id": "dc718fdd",
   "metadata": {},
   "outputs": [],
   "source": [
    "from vanilla_transformer import Transformer, generate_masks\n",
    "\n",
    "transformer = Transformer(\n",
    "    n_layers=config.n_layers,\n",
    "    d_model=config.d_model,\n",
    "    n_heads=config.n_heads,\n",
    "    d_ff=config.d_ff,\n",
    "    src_vocab_size=config.src_vocab_size,\n",
    "    tgt_vocab_size=config.tgt_vocab_size,\n",
    "    pos_len=config.pos_len,\n",
    "    dropout=config.dropout,\n",
    "    shared=config.shared\n",
    ")"
   ]
  },
  {
   "cell_type": "markdown",
   "id": "f342277c",
   "metadata": {},
   "source": [
    "##  Learning Rate Scheduler를 선언하고, 이를 포함하는 Adam Optimizer를 선언"
   ]
  },
  {
   "cell_type": "code",
   "execution_count": 615,
   "id": "206e432d",
   "metadata": {},
   "outputs": [],
   "source": [
    "class LearningRateScheduler(tf.keras.optimizers.schedules.LearningRateSchedule):\n",
    "    def __init__(self, d_model, warmup_steps=config.warmups):\n",
    "        super(LearningRateScheduler, self).__init__()\n",
    "        self.d_model = d_model\n",
    "        self.warmup_steps = warmup_steps\n",
    "    \n",
    "    def __call__(self, step):\n",
    "        arg1 = step ** np.array(-0.5)\n",
    "        arg2 = step * np.array(self.warmup_steps ** -1.5)\n",
    "        \n",
    "        return np.array(self.d_model ** -0.5) * tf.math.minimum(arg1, arg2)"
   ]
  },
  {
   "cell_type": "code",
   "execution_count": 616,
   "id": "ea6594ae",
   "metadata": {},
   "outputs": [],
   "source": [
    "learningrate = LearningRateScheduler(512)"
   ]
  },
  {
   "cell_type": "code",
   "execution_count": 617,
   "id": "8786194f",
   "metadata": {},
   "outputs": [],
   "source": [
    "optimizer = tf.keras.optimizers.Adam(learningrate, beta_1=0.9, beta_2=0.98, epsilon=1e-9)"
   ]
  },
  {
   "cell_type": "markdown",
   "id": "acb5db58",
   "metadata": {},
   "source": [
    "## Loss 함수를 정의\n"
   ]
  },
  {
   "cell_type": "code",
   "execution_count": 618,
   "id": "2a8f5f9e",
   "metadata": {},
   "outputs": [],
   "source": [
    "# Loss 함수 정의\n",
    "loss_object = tf.keras.losses.SparseCategoricalCrossentropy(from_logits=True, reduction='none')\n",
    "\n",
    "def loss_function(real, pred):\n",
    "    mask = tf.math.logical_not(tf.math.equal(real, 0))\n",
    "    loss_ = loss_object(real, pred)\n",
    "\n",
    "    # Masking 되지 않은 입력의 개수로 Scaling하는 과정\n",
    "    mask = tf.cast(mask, dtype=loss_.dtype)\n",
    "    loss_ *= mask\n",
    "\n",
    "    return tf.reduce_sum(loss_)/tf.reduce_sum(mask)"
   ]
  },
  {
   "cell_type": "markdown",
   "id": "c3145902",
   "metadata": {},
   "source": [
    "## train_step 함수를 정의\n"
   ]
  },
  {
   "cell_type": "code",
   "execution_count": 619,
   "id": "6a1078f5",
   "metadata": {},
   "outputs": [],
   "source": [
    "@tf.function()\n",
    "def train_step(src, tgt, model, optimizer):\n",
    "    gold = tgt[:, 1:]\n",
    "        \n",
    "    enc_mask, dec_enc_mask, dec_mask = generate_masks(src, tgt)\n",
    "\n",
    "    # 계산된 loss에 tf.GradientTape()를 적용해 학습을 진행합니다.\n",
    "    with tf.GradientTape() as tape:\n",
    "        predictions, enc_attns, dec_attns, dec_enc_attns = model(src, tgt, enc_mask, dec_enc_mask, dec_mask)\n",
    "        loss = loss_function(gold, predictions[:, :-1])\n",
    "\n",
    "    # 최종적으로 optimizer.apply_gradients()가 사용됩니다. \n",
    "    gradients = tape.gradient(loss, model.trainable_variables)    \n",
    "    optimizer.apply_gradients(zip(gradients, model.trainable_variables))\n",
    "    \n",
    "    \n",
    "    return loss, enc_attns, dec_attns, dec_enc_attns, predictions"
   ]
  },
  {
   "cell_type": "code",
   "execution_count": 620,
   "id": "59985e0a",
   "metadata": {},
   "outputs": [],
   "source": [
    "# Validating the model\n",
    "@tf.function\n",
    "def model_validate(src, tgt, model):\n",
    "    gold = tgt[:, 1:]\n",
    "        \n",
    "    enc_mask, dec_enc_mask, dec_mask = generate_masks(src, tgt)\n",
    "    predictions, enc_attns, dec_attns, dec_enc_attns = model(src, tgt, enc_mask, dec_enc_mask, dec_mask)\n",
    "    v_loss = loss_function(gold, predictions[:, :-1])\n",
    "    \n",
    "    return v_loss, predictions"
   ]
  },
  {
   "cell_type": "code",
   "execution_count": 621,
   "id": "2c47c6ab",
   "metadata": {},
   "outputs": [],
   "source": [
    "# 학습 매니저 설정\n",
    "from evaluation import evaluate, compute_metric, translate\n",
    "\n",
    "def train_and_checkpoint(transformer, manager, EPOCHS):\n",
    "    ckpt.restore(manager.latest_checkpoint)\n",
    "    if manager.latest_checkpoint:\n",
    "        print(\"Restored from {}\".format(manager.latest_checkpoint))\n",
    "    \n",
    "    else:\n",
    "        print(\"Initializing from scratch.\")\n",
    "\n",
    "\n",
    "    for epoch in range(EPOCHS):\n",
    "        \n",
    "        batch_size = 64\n",
    "        buckets = iter(reversed(full_data['tok_cat'].unique().tolist()))\n",
    "\n",
    "        for bucket in buckets :\n",
    "            total_loss = 0     \n",
    "            \n",
    "            src_corpus = full_data.loc[full_data['tok_cat']==bucket,'toks_en'].values\n",
    "            tgt_corpus = full_data.loc[full_data['tok_cat']==bucket,'toks_dec'].values\n",
    "            src_valid_corpus = full_data_test['toks_en'].values\n",
    "            tgt_valid_corpus = full_data_test['toks_dec'].values\n",
    "            max_len = full_data.loc[full_data['tok_cat']==bucket,'tok_len'].max()\n",
    "\n",
    "            if max_len > 380 :\n",
    "                batch_size = 8\n",
    "\n",
    "            if max_len > 512 : \n",
    "                max_len = 512\n",
    "\n",
    "            enc_train = tf.keras.preprocessing.sequence.pad_sequences(src_corpus, padding='post', maxlen=max_len)\n",
    "            dec_train = tf.keras.preprocessing.sequence.pad_sequences(tgt_corpus, padding='post', maxlen=max_len)\n",
    "            enc_test = tf.keras.preprocessing.sequence.pad_sequences(src_valid_corpus, padding='post', maxlen=max_len)\n",
    "            dec_test = tf.keras.preprocessing.sequence.pad_sequences(tgt_valid_corpus, padding='post', maxlen=max_len)\n",
    "\n",
    "            idx_list = list(range(0, enc_train.shape[0], batch_size))\n",
    "            random.shuffle(idx_list)\n",
    "\n",
    "            t = tqdm(idx_list)\n",
    "            \n",
    "            for (batch, idx) in enumerate(t):\n",
    "                batch_loss, enc_attns, dec_attns, dec_enc_attns, preds = train_step(enc_train[idx:idx+batch_size],\n",
    "                                                                             dec_train[idx:idx+batch_size],\n",
    "                                                                             transformer,\n",
    "                                                                             optimizer)\n",
    "\n",
    "                total_loss += batch_loss\n",
    "\n",
    "                t.set_description_str('Bucket %2d' % (bucket))\n",
    "                t.set_postfix_str('Loss %.4f' % (total_loss.numpy() / (batch + 1)))\n",
    "            \n",
    "                wandb.log({\n",
    "                       \"train_loss\": (total_loss.numpy() / (batch + 1)),\n",
    "                       })\n",
    "            \n",
    "            #validation\n",
    "            total_loss_val = 0\n",
    "            val_size=25\n",
    "            tv = tqdm(range(0,enc_test.shape[0], val_size))\n",
    "            \n",
    "            for (batch_val,test_idx) in enumerate(tv) :\n",
    "                val_loss, val_preds = model_validate(enc_test[test_idx : test_idx + val_size],\n",
    "                                          dec_test[test_idx : test_idx + val_size],\n",
    "                                          transformer)\n",
    "                total_loss_val += val_loss\n",
    "                tv.set_postfix_str('val_Loss %.4f' % (total_loss_val.numpy() / (batch_val + 1)))\n",
    "                \n",
    "                wandb.log({\n",
    "                           \"valid_loss\" : (total_loss_val.numpy() / (batch_val + 1))\n",
    "                           })\n",
    "\n",
    "            save_path = manager.save()\n",
    "            print(\"Saved checkpoint for step {}: {}\".format(int(ckpt.step), save_path))\n",
    "            \n",
    "        # bleu score\n",
    "        from datasets import load_metric\n",
    "\n",
    "        bleu = load_metric(\"sacrebleu\")\n",
    "        test_translate = []\n",
    "        bleu_valid_score = []\n",
    "        \n",
    "        test_text = full_data_test.eng.values\n",
    "        test_tgt = full_data_test.dial.values\n",
    "        \n",
    "        for i in tqdm(range(len(test_text))) :\n",
    "            trans = translate(test_text[i], transformer, enc_tokenizer, dec_tokenizer, verbose =False)\n",
    "            test_translate.append(trans)\n",
    "            label = dec_tokenizer.decode(test_tgt[i])\n",
    "            result = bleu.compute(predictions=[trans], references=[[label]], smooth_method='add-k')['score']\n",
    "            bleu_valid_score.append(result)\n",
    "\n",
    "        sum(bleu_valid_score)/len(test_text)\n",
    "        wandb.log({\"bleu\": sum(bleu_valid_score)/len(test_text)})\n",
    "\n",
    "        full_data_test['bleu'] = np.array(bleu_valid_score)\n",
    "        full_data_test['pred'] = test_translate\n",
    "            \n",
    "directory = os.getenv('HOME') + '/aiffel/MODEL/'\n",
    "ckpt = tf.train.Checkpoint(step = tf.Variable(1), optimizer = optimizer , transformer = transformer)\n",
    "manager = tf.train.CheckpointManager(ckpt, directory +f'tf_{tokenizer_name}8000_ckpt_final_0327',max_to_keep=6)"
   ]
  },
  {
   "cell_type": "code",
   "execution_count": 622,
   "id": "17e48b2e",
   "metadata": {},
   "outputs": [],
   "source": [
    "# import shutil\n",
    "# dir_mo = os.getenv(\"HOME\") + '/aiffel/MODEL'\n",
    "# os.listdir(dir_mo)"
   ]
  },
  {
   "cell_type": "code",
   "execution_count": 623,
   "id": "48de87f6",
   "metadata": {},
   "outputs": [],
   "source": [
    "# shutil.rmtree(dir_mo + '/##')"
   ]
  },
  {
   "cell_type": "code",
   "execution_count": 624,
   "id": "c3f06577",
   "metadata": {},
   "outputs": [],
   "source": [
    "# ckpt.restore(manager.latest_checkpoint)"
   ]
  },
  {
   "cell_type": "markdown",
   "id": "73a3045a",
   "metadata": {},
   "source": [
    "## 학습"
   ]
  },
  {
   "cell_type": "code",
   "execution_count": 625,
   "id": "70834cb0",
   "metadata": {},
   "outputs": [
    {
     "data": {
      "text/html": [
       "Finishing last run (ID:9fi66jdc) before initializing another..."
      ],
      "text/plain": [
       "<IPython.core.display.HTML object>"
      ]
     },
     "metadata": {},
     "output_type": "display_data"
    },
    {
     "data": {
      "text/html": [
       "Waiting for W&B process to finish... <strong style=\"color:green\">(success).</strong>"
      ],
      "text/plain": [
       "<IPython.core.display.HTML object>"
      ]
     },
     "metadata": {},
     "output_type": "display_data"
    },
    {
     "data": {
      "text/html": [
       " View run <strong style=\"color:#cdcd00\">stellar-surf-1</strong> at: <a href='https://wandb.ai/saturi/model_exp_cmsp_8000_0327_final_v3v/runs/9fi66jdc' target=\"_blank\">https://wandb.ai/saturi/model_exp_cmsp_8000_0327_final_v3v/runs/9fi66jdc</a><br/>Synced 5 W&B file(s), 0 media file(s), 0 artifact file(s) and 0 other file(s)"
      ],
      "text/plain": [
       "<IPython.core.display.HTML object>"
      ]
     },
     "metadata": {},
     "output_type": "display_data"
    },
    {
     "data": {
      "text/html": [
       "Find logs at: <code>./wandb/run-20230327_105740-9fi66jdc/logs</code>"
      ],
      "text/plain": [
       "<IPython.core.display.HTML object>"
      ]
     },
     "metadata": {},
     "output_type": "display_data"
    },
    {
     "data": {
      "text/html": [
       "Successfully finished last run (ID:9fi66jdc). Initializing new run:<br/>"
      ],
      "text/plain": [
       "<IPython.core.display.HTML object>"
      ]
     },
     "metadata": {},
     "output_type": "display_data"
    },
    {
     "data": {
      "text/html": [
       "Tracking run with wandb version 0.14.0"
      ],
      "text/plain": [
       "<IPython.core.display.HTML object>"
      ]
     },
     "metadata": {},
     "output_type": "display_data"
    },
    {
     "data": {
      "text/html": [
       "Run data is saved locally in <code>/home/seuyon0101/aiffel/saturi/notebook/Model/wandb/run-20230327_105750-t8wflt0j</code>"
      ],
      "text/plain": [
       "<IPython.core.display.HTML object>"
      ]
     },
     "metadata": {},
     "output_type": "display_data"
    },
    {
     "data": {
      "text/html": [
       "Syncing run <strong><a href='https://wandb.ai/saturi/model_exp_cmsp_8000_0327_final_v3v/runs/t8wflt0j' target=\"_blank\">copper-forest-2</a></strong> to <a href='https://wandb.ai/saturi/model_exp_cmsp_8000_0327_final_v3v' target=\"_blank\">Weights & Biases</a> (<a href='https://wandb.me/run' target=\"_blank\">docs</a>)<br/>"
      ],
      "text/plain": [
       "<IPython.core.display.HTML object>"
      ]
     },
     "metadata": {},
     "output_type": "display_data"
    },
    {
     "data": {
      "text/html": [
       " View project at <a href='https://wandb.ai/saturi/model_exp_cmsp_8000_0327_final_v3v' target=\"_blank\">https://wandb.ai/saturi/model_exp_cmsp_8000_0327_final_v3v</a>"
      ],
      "text/plain": [
       "<IPython.core.display.HTML object>"
      ]
     },
     "metadata": {},
     "output_type": "display_data"
    },
    {
     "data": {
      "text/html": [
       " View run at <a href='https://wandb.ai/saturi/model_exp_cmsp_8000_0327_final_v3v/runs/t8wflt0j' target=\"_blank\">https://wandb.ai/saturi/model_exp_cmsp_8000_0327_final_v3v/runs/t8wflt0j</a>"
      ],
      "text/plain": [
       "<IPython.core.display.HTML object>"
      ]
     },
     "metadata": {},
     "output_type": "display_data"
    },
    {
     "name": "stdout",
     "output_type": "stream",
     "text": [
      "Initializing from scratch.\n"
     ]
    },
    {
     "name": "stderr",
     "output_type": "stream",
     "text": [
      "Bucket  3: 100%|████████████████████| 2/2 [00:16<00:00,  8.10s/it, Loss 11.8966]\n",
      "100%|███████████████████████████| 5/5 [00:02<00:00,  2.37it/s, val_Loss 12.1836]\n"
     ]
    },
    {
     "name": "stdout",
     "output_type": "stream",
     "text": [
      "Saved checkpoint for step 1: /home/seuyon0101/aiffel/MODEL/tf_cmsp8000_ckpt_final_0327/ckpt-1\n"
     ]
    },
    {
     "name": "stderr",
     "output_type": "stream",
     "text": [
      "Bucket  2: 100%|███████████████| 1330/1330 [03:44<00:00,  5.92it/s, Loss 6.6540]\n",
      "100%|████████████████████████████| 5/5 [00:01<00:00,  2.71it/s, val_Loss 5.4406]\n"
     ]
    },
    {
     "name": "stdout",
     "output_type": "stream",
     "text": [
      "Saved checkpoint for step 1: /home/seuyon0101/aiffel/MODEL/tf_cmsp8000_ckpt_final_0327/ckpt-2\n"
     ]
    },
    {
     "name": "stderr",
     "output_type": "stream",
     "text": [
      "Bucket  1: 100%|█████████████| 13486/13486 [15:39<00:00, 14.36it/s, Loss 4.0302]\n",
      "100%|████████████████████████████| 5/5 [00:01<00:00,  2.87it/s, val_Loss 3.4226]\n"
     ]
    },
    {
     "name": "stdout",
     "output_type": "stream",
     "text": [
      "Saved checkpoint for step 1: /home/seuyon0101/aiffel/MODEL/tf_cmsp8000_ckpt_final_0327/ckpt-3\n"
     ]
    },
    {
     "name": "stderr",
     "output_type": "stream",
     "text": [
      "100%|█████████████████████████████████████████| 125/125 [04:03<00:00,  1.95s/it]\n"
     ]
    },
    {
     "data": {
      "text/html": [
       "Finishing last run (ID:t8wflt0j) before initializing another..."
      ],
      "text/plain": [
       "<IPython.core.display.HTML object>"
      ]
     },
     "metadata": {},
     "output_type": "display_data"
    },
    {
     "data": {
      "text/html": [
       "Waiting for W&B process to finish... <strong style=\"color:green\">(success).</strong>"
      ],
      "text/plain": [
       "<IPython.core.display.HTML object>"
      ]
     },
     "metadata": {},
     "output_type": "display_data"
    },
    {
     "data": {
      "application/vnd.jupyter.widget-view+json": {
       "model_id": "07ec01bafcf2447a8f22faf02cb1fb12",
       "version_major": 2,
       "version_minor": 0
      },
      "text/plain": [
       "VBox(children=(Label(value='0.002 MB of 0.002 MB uploaded (0.000 MB deduped)\\r'), FloatProgress(value=1.0, max…"
      ]
     },
     "metadata": {},
     "output_type": "display_data"
    },
    {
     "data": {
      "text/html": [
       "<style>\n",
       "    table.wandb td:nth-child(1) { padding: 0 10px; text-align: left ; width: auto;} td:nth-child(2) {text-align: left ; width: 100%}\n",
       "    .wandb-row { display: flex; flex-direction: row; flex-wrap: wrap; justify-content: flex-start; width: 100% }\n",
       "    .wandb-col { display: flex; flex-direction: column; flex-basis: 100%; flex: 1; padding: 10px; }\n",
       "    </style>\n",
       "<div class=\"wandb-row\"><div class=\"wandb-col\"><h3>Run history:</h3><br/><table class=\"wandb\"><tr><td>bleu</td><td>▁</td></tr><tr><td>train_loss</td><td>█▆▅▅▃▃▂▂▂▂▂▂▂▂▂▂▂▂▂▂▂▂▁▁▁▁▁▁▁▁▁▁▁▁▁▁▁▁▁▁</td></tr><tr><td>valid_loss</td><td>█████▂▃▃▃▃▁▁▁▁▁</td></tr></table><br/></div><div class=\"wandb-col\"><h3>Run summary:</h3><br/><table class=\"wandb\"><tr><td>bleu</td><td>14.20165</td></tr><tr><td>train_loss</td><td>4.03023</td></tr><tr><td>valid_loss</td><td>3.42261</td></tr></table><br/></div></div>"
      ],
      "text/plain": [
       "<IPython.core.display.HTML object>"
      ]
     },
     "metadata": {},
     "output_type": "display_data"
    },
    {
     "data": {
      "text/html": [
       " View run <strong style=\"color:#cdcd00\">copper-forest-2</strong> at: <a href='https://wandb.ai/saturi/model_exp_cmsp_8000_0327_final_v3v/runs/t8wflt0j' target=\"_blank\">https://wandb.ai/saturi/model_exp_cmsp_8000_0327_final_v3v/runs/t8wflt0j</a><br/>Synced 6 W&B file(s), 0 media file(s), 0 artifact file(s) and 0 other file(s)"
      ],
      "text/plain": [
       "<IPython.core.display.HTML object>"
      ]
     },
     "metadata": {},
     "output_type": "display_data"
    },
    {
     "data": {
      "text/html": [
       "Find logs at: <code>./wandb/run-20230327_105750-t8wflt0j/logs</code>"
      ],
      "text/plain": [
       "<IPython.core.display.HTML object>"
      ]
     },
     "metadata": {},
     "output_type": "display_data"
    },
    {
     "data": {
      "text/html": [
       "Successfully finished last run (ID:t8wflt0j). Initializing new run:<br/>"
      ],
      "text/plain": [
       "<IPython.core.display.HTML object>"
      ]
     },
     "metadata": {},
     "output_type": "display_data"
    },
    {
     "data": {
      "text/html": [
       "Tracking run with wandb version 0.14.0"
      ],
      "text/plain": [
       "<IPython.core.display.HTML object>"
      ]
     },
     "metadata": {},
     "output_type": "display_data"
    },
    {
     "data": {
      "text/html": [
       "Run data is saved locally in <code>/home/seuyon0101/aiffel/saturi/notebook/Model/wandb/run-20230327_112155-rt8czf5w</code>"
      ],
      "text/plain": [
       "<IPython.core.display.HTML object>"
      ]
     },
     "metadata": {},
     "output_type": "display_data"
    },
    {
     "data": {
      "text/html": [
       "Syncing run <strong><a href='https://wandb.ai/saturi/model_exp_cmsp_8000_0327_final_v3v/runs/rt8czf5w' target=\"_blank\">woven-leaf-3</a></strong> to <a href='https://wandb.ai/saturi/model_exp_cmsp_8000_0327_final_v3v' target=\"_blank\">Weights & Biases</a> (<a href='https://wandb.me/run' target=\"_blank\">docs</a>)<br/>"
      ],
      "text/plain": [
       "<IPython.core.display.HTML object>"
      ]
     },
     "metadata": {},
     "output_type": "display_data"
    },
    {
     "data": {
      "text/html": [
       " View project at <a href='https://wandb.ai/saturi/model_exp_cmsp_8000_0327_final_v3v' target=\"_blank\">https://wandb.ai/saturi/model_exp_cmsp_8000_0327_final_v3v</a>"
      ],
      "text/plain": [
       "<IPython.core.display.HTML object>"
      ]
     },
     "metadata": {},
     "output_type": "display_data"
    },
    {
     "data": {
      "text/html": [
       " View run at <a href='https://wandb.ai/saturi/model_exp_cmsp_8000_0327_final_v3v/runs/rt8czf5w' target=\"_blank\">https://wandb.ai/saturi/model_exp_cmsp_8000_0327_final_v3v/runs/rt8czf5w</a>"
      ],
      "text/plain": [
       "<IPython.core.display.HTML object>"
      ]
     },
     "metadata": {},
     "output_type": "display_data"
    },
    {
     "name": "stdout",
     "output_type": "stream",
     "text": [
      "Restored from /home/seuyon0101/aiffel/MODEL/tf_cmsp8000_ckpt_final_0327/ckpt-3\n"
     ]
    },
    {
     "name": "stderr",
     "output_type": "stream",
     "text": [
      "Bucket  3: 100%|█████████████████████| 2/2 [00:00<00:00,  3.21it/s, Loss 5.6100]\n",
      "100%|████████████████████████████| 5/5 [00:00<00:00, 16.53it/s, val_Loss 3.4571]\n"
     ]
    },
    {
     "name": "stdout",
     "output_type": "stream",
     "text": [
      "Saved checkpoint for step 1: /home/seuyon0101/aiffel/MODEL/tf_cmsp8000_ckpt_final_0327/ckpt-4\n"
     ]
    },
    {
     "name": "stderr",
     "output_type": "stream",
     "text": [
      "Bucket  2: 100%|███████████████| 1330/1330 [03:32<00:00,  6.25it/s, Loss 3.6263]\n",
      "100%|████████████████████████████| 5/5 [00:00<00:00, 38.90it/s, val_Loss 3.2336]\n"
     ]
    },
    {
     "name": "stdout",
     "output_type": "stream",
     "text": [
      "Saved checkpoint for step 1: /home/seuyon0101/aiffel/MODEL/tf_cmsp8000_ckpt_final_0327/ckpt-5\n"
     ]
    },
    {
     "name": "stderr",
     "output_type": "stream",
     "text": [
      "Bucket  1: 100%|█████████████| 13486/13486 [15:33<00:00, 14.45it/s, Loss 3.0843]\n",
      "100%|████████████████████████████| 5/5 [00:00<00:00, 79.01it/s, val_Loss 2.9684]\n"
     ]
    },
    {
     "name": "stdout",
     "output_type": "stream",
     "text": [
      "Saved checkpoint for step 1: /home/seuyon0101/aiffel/MODEL/tf_cmsp8000_ckpt_final_0327/ckpt-6\n"
     ]
    },
    {
     "name": "stderr",
     "output_type": "stream",
     "text": [
      "100%|█████████████████████████████████████████| 125/125 [04:09<00:00,  1.99s/it]\n"
     ]
    },
    {
     "data": {
      "text/html": [
       "Finishing last run (ID:rt8czf5w) before initializing another..."
      ],
      "text/plain": [
       "<IPython.core.display.HTML object>"
      ]
     },
     "metadata": {},
     "output_type": "display_data"
    },
    {
     "data": {
      "text/html": [
       "Waiting for W&B process to finish... <strong style=\"color:green\">(success).</strong>"
      ],
      "text/plain": [
       "<IPython.core.display.HTML object>"
      ]
     },
     "metadata": {},
     "output_type": "display_data"
    },
    {
     "data": {
      "text/html": [
       "<style>\n",
       "    table.wandb td:nth-child(1) { padding: 0 10px; text-align: left ; width: auto;} td:nth-child(2) {text-align: left ; width: 100%}\n",
       "    .wandb-row { display: flex; flex-direction: row; flex-wrap: wrap; justify-content: flex-start; width: 100% }\n",
       "    .wandb-col { display: flex; flex-direction: column; flex-basis: 100%; flex: 1; padding: 10px; }\n",
       "    </style>\n",
       "<div class=\"wandb-row\"><div class=\"wandb-col\"><h3>Run history:</h3><br/><table class=\"wandb\"><tr><td>bleu</td><td>▁</td></tr><tr><td>train_loss</td><td>█▇▇▆▂▂▂▂▂▂▂▂▂▂▂▂▂▂▂▂▂▂▂▁▁▁▁▁▁▁▁▁▁▁▁▁▁▁▁▁</td></tr><tr><td>valid_loss</td><td>▆▇█▇▆▃▆▆▄▄▁▃▄▃▂</td></tr></table><br/></div><div class=\"wandb-col\"><h3>Run summary:</h3><br/><table class=\"wandb\"><tr><td>bleu</td><td>14.24466</td></tr><tr><td>train_loss</td><td>3.08428</td></tr><tr><td>valid_loss</td><td>2.96845</td></tr></table><br/></div></div>"
      ],
      "text/plain": [
       "<IPython.core.display.HTML object>"
      ]
     },
     "metadata": {},
     "output_type": "display_data"
    },
    {
     "data": {
      "text/html": [
       " View run <strong style=\"color:#cdcd00\">woven-leaf-3</strong> at: <a href='https://wandb.ai/saturi/model_exp_cmsp_8000_0327_final_v3v/runs/rt8czf5w' target=\"_blank\">https://wandb.ai/saturi/model_exp_cmsp_8000_0327_final_v3v/runs/rt8czf5w</a><br/>Synced 6 W&B file(s), 0 media file(s), 0 artifact file(s) and 0 other file(s)"
      ],
      "text/plain": [
       "<IPython.core.display.HTML object>"
      ]
     },
     "metadata": {},
     "output_type": "display_data"
    },
    {
     "data": {
      "text/html": [
       "Find logs at: <code>./wandb/run-20230327_112155-rt8czf5w/logs</code>"
      ],
      "text/plain": [
       "<IPython.core.display.HTML object>"
      ]
     },
     "metadata": {},
     "output_type": "display_data"
    },
    {
     "data": {
      "text/html": [
       "Successfully finished last run (ID:rt8czf5w). Initializing new run:<br/>"
      ],
      "text/plain": [
       "<IPython.core.display.HTML object>"
      ]
     },
     "metadata": {},
     "output_type": "display_data"
    },
    {
     "data": {
      "text/html": [
       "Tracking run with wandb version 0.14.0"
      ],
      "text/plain": [
       "<IPython.core.display.HTML object>"
      ]
     },
     "metadata": {},
     "output_type": "display_data"
    },
    {
     "data": {
      "text/html": [
       "Run data is saved locally in <code>/home/seuyon0101/aiffel/saturi/notebook/Model/wandb/run-20230327_114529-dy5d7oz3</code>"
      ],
      "text/plain": [
       "<IPython.core.display.HTML object>"
      ]
     },
     "metadata": {},
     "output_type": "display_data"
    },
    {
     "data": {
      "text/html": [
       "Syncing run <strong><a href='https://wandb.ai/saturi/model_exp_cmsp_8000_0327_final_v3v/runs/dy5d7oz3' target=\"_blank\">devout-serenity-4</a></strong> to <a href='https://wandb.ai/saturi/model_exp_cmsp_8000_0327_final_v3v' target=\"_blank\">Weights & Biases</a> (<a href='https://wandb.me/run' target=\"_blank\">docs</a>)<br/>"
      ],
      "text/plain": [
       "<IPython.core.display.HTML object>"
      ]
     },
     "metadata": {},
     "output_type": "display_data"
    },
    {
     "data": {
      "text/html": [
       " View project at <a href='https://wandb.ai/saturi/model_exp_cmsp_8000_0327_final_v3v' target=\"_blank\">https://wandb.ai/saturi/model_exp_cmsp_8000_0327_final_v3v</a>"
      ],
      "text/plain": [
       "<IPython.core.display.HTML object>"
      ]
     },
     "metadata": {},
     "output_type": "display_data"
    },
    {
     "data": {
      "text/html": [
       " View run at <a href='https://wandb.ai/saturi/model_exp_cmsp_8000_0327_final_v3v/runs/dy5d7oz3' target=\"_blank\">https://wandb.ai/saturi/model_exp_cmsp_8000_0327_final_v3v/runs/dy5d7oz3</a>"
      ],
      "text/plain": [
       "<IPython.core.display.HTML object>"
      ]
     },
     "metadata": {},
     "output_type": "display_data"
    },
    {
     "name": "stdout",
     "output_type": "stream",
     "text": [
      "Restored from /home/seuyon0101/aiffel/MODEL/tf_cmsp8000_ckpt_final_0327/ckpt-6\n"
     ]
    },
    {
     "name": "stderr",
     "output_type": "stream",
     "text": [
      "Bucket  3: 100%|█████████████████████| 2/2 [00:00<00:00,  3.19it/s, Loss 4.8461]\n",
      "100%|████████████████████████████| 5/5 [00:00<00:00, 16.64it/s, val_Loss 2.9828]\n"
     ]
    },
    {
     "name": "stdout",
     "output_type": "stream",
     "text": [
      "Saved checkpoint for step 1: /home/seuyon0101/aiffel/MODEL/tf_cmsp8000_ckpt_final_0327/ckpt-7\n"
     ]
    },
    {
     "name": "stderr",
     "output_type": "stream",
     "text": [
      "Bucket  2: 100%|███████████████| 1330/1330 [03:33<00:00,  6.23it/s, Loss 3.1855]\n",
      "100%|████████████████████████████| 5/5 [00:00<00:00, 38.19it/s, val_Loss 2.8967]\n"
     ]
    },
    {
     "name": "stdout",
     "output_type": "stream",
     "text": [
      "Saved checkpoint for step 1: /home/seuyon0101/aiffel/MODEL/tf_cmsp8000_ckpt_final_0327/ckpt-8\n"
     ]
    },
    {
     "name": "stderr",
     "output_type": "stream",
     "text": [
      "Bucket  1: 100%|█████████████| 13486/13486 [15:29<00:00, 14.51it/s, Loss 2.7483]\n",
      "100%|████████████████████████████| 5/5 [00:00<00:00, 79.99it/s, val_Loss 2.9061]\n"
     ]
    },
    {
     "name": "stdout",
     "output_type": "stream",
     "text": [
      "Saved checkpoint for step 1: /home/seuyon0101/aiffel/MODEL/tf_cmsp8000_ckpt_final_0327/ckpt-9\n"
     ]
    },
    {
     "name": "stderr",
     "output_type": "stream",
     "text": [
      "100%|█████████████████████████████████████████| 125/125 [04:15<00:00,  2.05s/it]\n"
     ]
    },
    {
     "data": {
      "text/html": [
       "Finishing last run (ID:dy5d7oz3) before initializing another..."
      ],
      "text/plain": [
       "<IPython.core.display.HTML object>"
      ]
     },
     "metadata": {},
     "output_type": "display_data"
    },
    {
     "data": {
      "text/html": [
       "Waiting for W&B process to finish... <strong style=\"color:green\">(success).</strong>"
      ],
      "text/plain": [
       "<IPython.core.display.HTML object>"
      ]
     },
     "metadata": {},
     "output_type": "display_data"
    },
    {
     "data": {
      "text/html": [
       "<style>\n",
       "    table.wandb td:nth-child(1) { padding: 0 10px; text-align: left ; width: auto;} td:nth-child(2) {text-align: left ; width: 100%}\n",
       "    .wandb-row { display: flex; flex-direction: row; flex-wrap: wrap; justify-content: flex-start; width: 100% }\n",
       "    .wandb-col { display: flex; flex-direction: column; flex-basis: 100%; flex: 1; padding: 10px; }\n",
       "    </style>\n",
       "<div class=\"wandb-row\"><div class=\"wandb-col\"><h3>Run history:</h3><br/><table class=\"wandb\"><tr><td>bleu</td><td>▁</td></tr><tr><td>train_loss</td><td>█▇▇▇▁▁▁▁▁▁▁▁▁▁▁▁▁▁▁▁▁▂▂▂▂▂▂▂▂▂▂▂▂▂▂▂▂▂▂▂</td></tr><tr><td>valid_loss</td><td>▃▆█▆▄▁▆▆▃▂▂▅▆▄▂</td></tr></table><br/></div><div class=\"wandb-col\"><h3>Run summary:</h3><br/><table class=\"wandb\"><tr><td>bleu</td><td>15.36317</td></tr><tr><td>train_loss</td><td>2.74831</td></tr><tr><td>valid_loss</td><td>2.90608</td></tr></table><br/></div></div>"
      ],
      "text/plain": [
       "<IPython.core.display.HTML object>"
      ]
     },
     "metadata": {},
     "output_type": "display_data"
    },
    {
     "data": {
      "text/html": [
       " View run <strong style=\"color:#cdcd00\">devout-serenity-4</strong> at: <a href='https://wandb.ai/saturi/model_exp_cmsp_8000_0327_final_v3v/runs/dy5d7oz3' target=\"_blank\">https://wandb.ai/saturi/model_exp_cmsp_8000_0327_final_v3v/runs/dy5d7oz3</a><br/>Synced 6 W&B file(s), 0 media file(s), 0 artifact file(s) and 0 other file(s)"
      ],
      "text/plain": [
       "<IPython.core.display.HTML object>"
      ]
     },
     "metadata": {},
     "output_type": "display_data"
    },
    {
     "data": {
      "text/html": [
       "Find logs at: <code>./wandb/run-20230327_114529-dy5d7oz3/logs</code>"
      ],
      "text/plain": [
       "<IPython.core.display.HTML object>"
      ]
     },
     "metadata": {},
     "output_type": "display_data"
    },
    {
     "data": {
      "text/html": [
       "Successfully finished last run (ID:dy5d7oz3). Initializing new run:<br/>"
      ],
      "text/plain": [
       "<IPython.core.display.HTML object>"
      ]
     },
     "metadata": {},
     "output_type": "display_data"
    },
    {
     "data": {
      "text/html": [
       "Tracking run with wandb version 0.14.0"
      ],
      "text/plain": [
       "<IPython.core.display.HTML object>"
      ]
     },
     "metadata": {},
     "output_type": "display_data"
    },
    {
     "data": {
      "text/html": [
       "Run data is saved locally in <code>/home/seuyon0101/aiffel/saturi/notebook/Model/wandb/run-20230327_120907-9zsqxc52</code>"
      ],
      "text/plain": [
       "<IPython.core.display.HTML object>"
      ]
     },
     "metadata": {},
     "output_type": "display_data"
    },
    {
     "data": {
      "text/html": [
       "Syncing run <strong><a href='https://wandb.ai/saturi/model_exp_cmsp_8000_0327_final_v3v/runs/9zsqxc52' target=\"_blank\">morning-moon-5</a></strong> to <a href='https://wandb.ai/saturi/model_exp_cmsp_8000_0327_final_v3v' target=\"_blank\">Weights & Biases</a> (<a href='https://wandb.me/run' target=\"_blank\">docs</a>)<br/>"
      ],
      "text/plain": [
       "<IPython.core.display.HTML object>"
      ]
     },
     "metadata": {},
     "output_type": "display_data"
    },
    {
     "data": {
      "text/html": [
       " View project at <a href='https://wandb.ai/saturi/model_exp_cmsp_8000_0327_final_v3v' target=\"_blank\">https://wandb.ai/saturi/model_exp_cmsp_8000_0327_final_v3v</a>"
      ],
      "text/plain": [
       "<IPython.core.display.HTML object>"
      ]
     },
     "metadata": {},
     "output_type": "display_data"
    },
    {
     "data": {
      "text/html": [
       " View run at <a href='https://wandb.ai/saturi/model_exp_cmsp_8000_0327_final_v3v/runs/9zsqxc52' target=\"_blank\">https://wandb.ai/saturi/model_exp_cmsp_8000_0327_final_v3v/runs/9zsqxc52</a>"
      ],
      "text/plain": [
       "<IPython.core.display.HTML object>"
      ]
     },
     "metadata": {},
     "output_type": "display_data"
    },
    {
     "name": "stdout",
     "output_type": "stream",
     "text": [
      "Restored from /home/seuyon0101/aiffel/MODEL/tf_cmsp8000_ckpt_final_0327/ckpt-9\n"
     ]
    },
    {
     "name": "stderr",
     "output_type": "stream",
     "text": [
      "Bucket  3: 100%|█████████████████████| 2/2 [00:00<00:00,  3.20it/s, Loss 4.4883]\n",
      "100%|████████████████████████████| 5/5 [00:00<00:00, 16.53it/s, val_Loss 2.9431]\n"
     ]
    },
    {
     "name": "stdout",
     "output_type": "stream",
     "text": [
      "Saved checkpoint for step 1: /home/seuyon0101/aiffel/MODEL/tf_cmsp8000_ckpt_final_0327/ckpt-10\n"
     ]
    },
    {
     "name": "stderr",
     "output_type": "stream",
     "text": [
      "Bucket  2: 100%|███████████████| 1330/1330 [03:32<00:00,  6.25it/s, Loss 2.9575]\n",
      "100%|████████████████████████████| 5/5 [00:00<00:00, 39.82it/s, val_Loss 2.7815]\n"
     ]
    },
    {
     "name": "stdout",
     "output_type": "stream",
     "text": [
      "Saved checkpoint for step 1: /home/seuyon0101/aiffel/MODEL/tf_cmsp8000_ckpt_final_0327/ckpt-11\n"
     ]
    },
    {
     "name": "stderr",
     "output_type": "stream",
     "text": [
      "Bucket  1: 100%|█████████████| 13486/13486 [15:24<00:00, 14.59it/s, Loss 2.5331]\n",
      "100%|████████████████████████████| 5/5 [00:00<00:00, 80.02it/s, val_Loss 2.8294]\n"
     ]
    },
    {
     "name": "stdout",
     "output_type": "stream",
     "text": [
      "Saved checkpoint for step 1: /home/seuyon0101/aiffel/MODEL/tf_cmsp8000_ckpt_final_0327/ckpt-12\n"
     ]
    },
    {
     "name": "stderr",
     "output_type": "stream",
     "text": [
      "100%|█████████████████████████████████████████| 125/125 [04:08<00:00,  1.99s/it]\n"
     ]
    },
    {
     "data": {
      "text/html": [
       "Finishing last run (ID:9zsqxc52) before initializing another..."
      ],
      "text/plain": [
       "<IPython.core.display.HTML object>"
      ]
     },
     "metadata": {},
     "output_type": "display_data"
    },
    {
     "data": {
      "text/html": [
       "Waiting for W&B process to finish... <strong style=\"color:green\">(success).</strong>"
      ],
      "text/plain": [
       "<IPython.core.display.HTML object>"
      ]
     },
     "metadata": {},
     "output_type": "display_data"
    },
    {
     "data": {
      "text/html": [
       "<style>\n",
       "    table.wandb td:nth-child(1) { padding: 0 10px; text-align: left ; width: auto;} td:nth-child(2) {text-align: left ; width: 100%}\n",
       "    .wandb-row { display: flex; flex-direction: row; flex-wrap: wrap; justify-content: flex-start; width: 100% }\n",
       "    .wandb-col { display: flex; flex-direction: column; flex-basis: 100%; flex: 1; padding: 10px; }\n",
       "    </style>\n",
       "<div class=\"wandb-row\"><div class=\"wandb-col\"><h3>Run history:</h3><br/><table class=\"wandb\"><tr><td>bleu</td><td>▁</td></tr><tr><td>train_loss</td><td>█▇▇▆▁▁▁▁▁▁▁▁▁▁▁▁▁▁▂▂▂▂▂▂▂▂▂▂▂▂▂▂▂▂▂▂▂▂▂▂</td></tr><tr><td>valid_loss</td><td>▄▇█▆▅▁▅▅▃▂▂▅▆▄▃</td></tr></table><br/></div><div class=\"wandb-col\"><h3>Run summary:</h3><br/><table class=\"wandb\"><tr><td>bleu</td><td>14.37376</td></tr><tr><td>train_loss</td><td>2.53305</td></tr><tr><td>valid_loss</td><td>2.82938</td></tr></table><br/></div></div>"
      ],
      "text/plain": [
       "<IPython.core.display.HTML object>"
      ]
     },
     "metadata": {},
     "output_type": "display_data"
    },
    {
     "data": {
      "text/html": [
       " View run <strong style=\"color:#cdcd00\">morning-moon-5</strong> at: <a href='https://wandb.ai/saturi/model_exp_cmsp_8000_0327_final_v3v/runs/9zsqxc52' target=\"_blank\">https://wandb.ai/saturi/model_exp_cmsp_8000_0327_final_v3v/runs/9zsqxc52</a><br/>Synced 6 W&B file(s), 0 media file(s), 0 artifact file(s) and 0 other file(s)"
      ],
      "text/plain": [
       "<IPython.core.display.HTML object>"
      ]
     },
     "metadata": {},
     "output_type": "display_data"
    },
    {
     "data": {
      "text/html": [
       "Find logs at: <code>./wandb/run-20230327_120907-9zsqxc52/logs</code>"
      ],
      "text/plain": [
       "<IPython.core.display.HTML object>"
      ]
     },
     "metadata": {},
     "output_type": "display_data"
    },
    {
     "data": {
      "text/html": [
       "Successfully finished last run (ID:9zsqxc52). Initializing new run:<br/>"
      ],
      "text/plain": [
       "<IPython.core.display.HTML object>"
      ]
     },
     "metadata": {},
     "output_type": "display_data"
    },
    {
     "data": {
      "text/html": [
       "Tracking run with wandb version 0.14.0"
      ],
      "text/plain": [
       "<IPython.core.display.HTML object>"
      ]
     },
     "metadata": {},
     "output_type": "display_data"
    },
    {
     "data": {
      "text/html": [
       "Run data is saved locally in <code>/home/seuyon0101/aiffel/saturi/notebook/Model/wandb/run-20230327_123230-wlhvy1cp</code>"
      ],
      "text/plain": [
       "<IPython.core.display.HTML object>"
      ]
     },
     "metadata": {},
     "output_type": "display_data"
    },
    {
     "data": {
      "text/html": [
       "Syncing run <strong><a href='https://wandb.ai/saturi/model_exp_cmsp_8000_0327_final_v3v/runs/wlhvy1cp' target=\"_blank\">fanciful-frost-6</a></strong> to <a href='https://wandb.ai/saturi/model_exp_cmsp_8000_0327_final_v3v' target=\"_blank\">Weights & Biases</a> (<a href='https://wandb.me/run' target=\"_blank\">docs</a>)<br/>"
      ],
      "text/plain": [
       "<IPython.core.display.HTML object>"
      ]
     },
     "metadata": {},
     "output_type": "display_data"
    },
    {
     "data": {
      "text/html": [
       " View project at <a href='https://wandb.ai/saturi/model_exp_cmsp_8000_0327_final_v3v' target=\"_blank\">https://wandb.ai/saturi/model_exp_cmsp_8000_0327_final_v3v</a>"
      ],
      "text/plain": [
       "<IPython.core.display.HTML object>"
      ]
     },
     "metadata": {},
     "output_type": "display_data"
    },
    {
     "data": {
      "text/html": [
       " View run at <a href='https://wandb.ai/saturi/model_exp_cmsp_8000_0327_final_v3v/runs/wlhvy1cp' target=\"_blank\">https://wandb.ai/saturi/model_exp_cmsp_8000_0327_final_v3v/runs/wlhvy1cp</a>"
      ],
      "text/plain": [
       "<IPython.core.display.HTML object>"
      ]
     },
     "metadata": {},
     "output_type": "display_data"
    },
    {
     "name": "stdout",
     "output_type": "stream",
     "text": [
      "Restored from /home/seuyon0101/aiffel/MODEL/tf_cmsp8000_ckpt_final_0327/ckpt-12\n"
     ]
    },
    {
     "name": "stderr",
     "output_type": "stream",
     "text": [
      "Bucket  3: 100%|█████████████████████| 2/2 [00:00<00:00,  3.25it/s, Loss 4.2337]\n",
      "100%|████████████████████████████| 5/5 [00:00<00:00, 16.51it/s, val_Loss 2.8655]\n"
     ]
    },
    {
     "name": "stdout",
     "output_type": "stream",
     "text": [
      "Saved checkpoint for step 1: /home/seuyon0101/aiffel/MODEL/tf_cmsp8000_ckpt_final_0327/ckpt-13\n"
     ]
    },
    {
     "name": "stderr",
     "output_type": "stream",
     "text": [
      "Bucket  2: 100%|███████████████| 1330/1330 [03:32<00:00,  6.26it/s, Loss 2.7995]\n",
      "100%|████████████████████████████| 5/5 [00:00<00:00, 39.72it/s, val_Loss 2.7241]\n"
     ]
    },
    {
     "name": "stdout",
     "output_type": "stream",
     "text": [
      "Saved checkpoint for step 1: /home/seuyon0101/aiffel/MODEL/tf_cmsp8000_ckpt_final_0327/ckpt-14\n"
     ]
    },
    {
     "name": "stderr",
     "output_type": "stream",
     "text": [
      "Bucket  1: 100%|█████████████| 13486/13486 [15:30<00:00, 14.50it/s, Loss 2.3597]\n",
      "100%|████████████████████████████| 5/5 [00:00<00:00, 74.66it/s, val_Loss 2.8466]\n"
     ]
    },
    {
     "name": "stdout",
     "output_type": "stream",
     "text": [
      "Saved checkpoint for step 1: /home/seuyon0101/aiffel/MODEL/tf_cmsp8000_ckpt_final_0327/ckpt-15\n"
     ]
    },
    {
     "name": "stderr",
     "output_type": "stream",
     "text": [
      "100%|█████████████████████████████████████████| 125/125 [04:18<00:00,  2.07s/it]\n"
     ]
    },
    {
     "data": {
      "text/html": [
       "Finishing last run (ID:wlhvy1cp) before initializing another..."
      ],
      "text/plain": [
       "<IPython.core.display.HTML object>"
      ]
     },
     "metadata": {},
     "output_type": "display_data"
    },
    {
     "data": {
      "text/html": [
       "Waiting for W&B process to finish... <strong style=\"color:green\">(success).</strong>"
      ],
      "text/plain": [
       "<IPython.core.display.HTML object>"
      ]
     },
     "metadata": {},
     "output_type": "display_data"
    },
    {
     "data": {
      "text/html": [
       "<style>\n",
       "    table.wandb td:nth-child(1) { padding: 0 10px; text-align: left ; width: auto;} td:nth-child(2) {text-align: left ; width: 100%}\n",
       "    .wandb-row { display: flex; flex-direction: row; flex-wrap: wrap; justify-content: flex-start; width: 100% }\n",
       "    .wandb-col { display: flex; flex-direction: column; flex-basis: 100%; flex: 1; padding: 10px; }\n",
       "    </style>\n",
       "<div class=\"wandb-row\"><div class=\"wandb-col\"><h3>Run history:</h3><br/><table class=\"wandb\"><tr><td>bleu</td><td>▁</td></tr><tr><td>train_loss</td><td>█▇▇▇▁▁▁▁▁▁▁▁▁▁▁▁▁▁▁▁▁▁▁▁▂▂▂▂▂▂▂▂▂▂▂▂▂▂▂▂</td></tr><tr><td>valid_loss</td><td>▃▆█▆▄▁▅▅▃▁▂▆▇▅▃</td></tr></table><br/></div><div class=\"wandb-col\"><h3>Run summary:</h3><br/><table class=\"wandb\"><tr><td>bleu</td><td>14.9419</td></tr><tr><td>train_loss</td><td>2.35968</td></tr><tr><td>valid_loss</td><td>2.84658</td></tr></table><br/></div></div>"
      ],
      "text/plain": [
       "<IPython.core.display.HTML object>"
      ]
     },
     "metadata": {},
     "output_type": "display_data"
    },
    {
     "data": {
      "text/html": [
       " View run <strong style=\"color:#cdcd00\">fanciful-frost-6</strong> at: <a href='https://wandb.ai/saturi/model_exp_cmsp_8000_0327_final_v3v/runs/wlhvy1cp' target=\"_blank\">https://wandb.ai/saturi/model_exp_cmsp_8000_0327_final_v3v/runs/wlhvy1cp</a><br/>Synced 6 W&B file(s), 0 media file(s), 0 artifact file(s) and 0 other file(s)"
      ],
      "text/plain": [
       "<IPython.core.display.HTML object>"
      ]
     },
     "metadata": {},
     "output_type": "display_data"
    },
    {
     "data": {
      "text/html": [
       "Find logs at: <code>./wandb/run-20230327_123230-wlhvy1cp/logs</code>"
      ],
      "text/plain": [
       "<IPython.core.display.HTML object>"
      ]
     },
     "metadata": {},
     "output_type": "display_data"
    },
    {
     "data": {
      "text/html": [
       "Successfully finished last run (ID:wlhvy1cp). Initializing new run:<br/>"
      ],
      "text/plain": [
       "<IPython.core.display.HTML object>"
      ]
     },
     "metadata": {},
     "output_type": "display_data"
    },
    {
     "data": {
      "text/html": [
       "Tracking run with wandb version 0.14.0"
      ],
      "text/plain": [
       "<IPython.core.display.HTML object>"
      ]
     },
     "metadata": {},
     "output_type": "display_data"
    },
    {
     "data": {
      "text/html": [
       "Run data is saved locally in <code>/home/seuyon0101/aiffel/saturi/notebook/Model/wandb/run-20230327_125612-ldi38g8z</code>"
      ],
      "text/plain": [
       "<IPython.core.display.HTML object>"
      ]
     },
     "metadata": {},
     "output_type": "display_data"
    },
    {
     "data": {
      "text/html": [
       "Syncing run <strong><a href='https://wandb.ai/saturi/model_exp_cmsp_8000_0327_final_v3v/runs/ldi38g8z' target=\"_blank\">vague-darkness-7</a></strong> to <a href='https://wandb.ai/saturi/model_exp_cmsp_8000_0327_final_v3v' target=\"_blank\">Weights & Biases</a> (<a href='https://wandb.me/run' target=\"_blank\">docs</a>)<br/>"
      ],
      "text/plain": [
       "<IPython.core.display.HTML object>"
      ]
     },
     "metadata": {},
     "output_type": "display_data"
    },
    {
     "data": {
      "text/html": [
       " View project at <a href='https://wandb.ai/saturi/model_exp_cmsp_8000_0327_final_v3v' target=\"_blank\">https://wandb.ai/saturi/model_exp_cmsp_8000_0327_final_v3v</a>"
      ],
      "text/plain": [
       "<IPython.core.display.HTML object>"
      ]
     },
     "metadata": {},
     "output_type": "display_data"
    },
    {
     "data": {
      "text/html": [
       " View run at <a href='https://wandb.ai/saturi/model_exp_cmsp_8000_0327_final_v3v/runs/ldi38g8z' target=\"_blank\">https://wandb.ai/saturi/model_exp_cmsp_8000_0327_final_v3v/runs/ldi38g8z</a>"
      ],
      "text/plain": [
       "<IPython.core.display.HTML object>"
      ]
     },
     "metadata": {},
     "output_type": "display_data"
    },
    {
     "name": "stdout",
     "output_type": "stream",
     "text": [
      "Restored from /home/seuyon0101/aiffel/MODEL/tf_cmsp8000_ckpt_final_0327/ckpt-15\n"
     ]
    },
    {
     "name": "stderr",
     "output_type": "stream",
     "text": [
      "Bucket  3: 100%|█████████████████████| 2/2 [00:00<00:00,  3.24it/s, Loss 3.9993]\n",
      "100%|████████████████████████████| 5/5 [00:00<00:00, 16.42it/s, val_Loss 2.9181]\n"
     ]
    },
    {
     "name": "stdout",
     "output_type": "stream",
     "text": [
      "Saved checkpoint for step 1: /home/seuyon0101/aiffel/MODEL/tf_cmsp8000_ckpt_final_0327/ckpt-16\n"
     ]
    },
    {
     "name": "stderr",
     "output_type": "stream",
     "text": [
      "Bucket  2: 100%|███████████████| 1330/1330 [03:32<00:00,  6.25it/s, Loss 2.6739]\n",
      "100%|████████████████████████████| 5/5 [00:00<00:00, 38.76it/s, val_Loss 2.7364]\n"
     ]
    },
    {
     "name": "stdout",
     "output_type": "stream",
     "text": [
      "Saved checkpoint for step 1: /home/seuyon0101/aiffel/MODEL/tf_cmsp8000_ckpt_final_0327/ckpt-17\n"
     ]
    },
    {
     "name": "stderr",
     "output_type": "stream",
     "text": [
      "Bucket  1: 100%|█████████████| 13486/13486 [15:25<00:00, 14.58it/s, Loss 2.2097]\n",
      "100%|████████████████████████████| 5/5 [00:00<00:00, 79.29it/s, val_Loss 2.8273]\n"
     ]
    },
    {
     "name": "stdout",
     "output_type": "stream",
     "text": [
      "Saved checkpoint for step 1: /home/seuyon0101/aiffel/MODEL/tf_cmsp8000_ckpt_final_0327/ckpt-18\n"
     ]
    },
    {
     "name": "stderr",
     "output_type": "stream",
     "text": [
      "100%|█████████████████████████████████████████| 125/125 [04:17<00:00,  2.06s/it]\n"
     ]
    },
    {
     "data": {
      "text/html": [
       "Finishing last run (ID:ldi38g8z) before initializing another..."
      ],
      "text/plain": [
       "<IPython.core.display.HTML object>"
      ]
     },
     "metadata": {},
     "output_type": "display_data"
    },
    {
     "data": {
      "text/html": [
       "Waiting for W&B process to finish... <strong style=\"color:green\">(success).</strong>"
      ],
      "text/plain": [
       "<IPython.core.display.HTML object>"
      ]
     },
     "metadata": {},
     "output_type": "display_data"
    },
    {
     "data": {
      "application/vnd.jupyter.widget-view+json": {
       "model_id": "6dc54d37c97c48e0b0b620bcca14a5dd",
       "version_major": 2,
       "version_minor": 0
      },
      "text/plain": [
       "VBox(children=(Label(value='0.002 MB of 0.002 MB uploaded (0.000 MB deduped)\\r'), FloatProgress(value=1.0, max…"
      ]
     },
     "metadata": {},
     "output_type": "display_data"
    },
    {
     "data": {
      "text/html": [
       "<style>\n",
       "    table.wandb td:nth-child(1) { padding: 0 10px; text-align: left ; width: auto;} td:nth-child(2) {text-align: left ; width: 100%}\n",
       "    .wandb-row { display: flex; flex-direction: row; flex-wrap: wrap; justify-content: flex-start; width: 100% }\n",
       "    .wandb-col { display: flex; flex-direction: column; flex-basis: 100%; flex: 1; padding: 10px; }\n",
       "    </style>\n",
       "<div class=\"wandb-row\"><div class=\"wandb-col\"><h3>Run history:</h3><br/><table class=\"wandb\"><tr><td>bleu</td><td>▁</td></tr><tr><td>train_loss</td><td>█▇▇▇▁▁▁▁▁▁▁▁▁▁▁▁▂▂▂▂▂▂▂▂▂▂▂▂▂▂▂▂▂▂▂▂▂▂▂▂</td></tr><tr><td>valid_loss</td><td>▃▆█▆▅▁▅▅▃▂▃▆▇▅▄</td></tr></table><br/></div><div class=\"wandb-col\"><h3>Run summary:</h3><br/><table class=\"wandb\"><tr><td>bleu</td><td>15.71251</td></tr><tr><td>train_loss</td><td>2.20966</td></tr><tr><td>valid_loss</td><td>2.82733</td></tr></table><br/></div></div>"
      ],
      "text/plain": [
       "<IPython.core.display.HTML object>"
      ]
     },
     "metadata": {},
     "output_type": "display_data"
    },
    {
     "data": {
      "text/html": [
       " View run <strong style=\"color:#cdcd00\">vague-darkness-7</strong> at: <a href='https://wandb.ai/saturi/model_exp_cmsp_8000_0327_final_v3v/runs/ldi38g8z' target=\"_blank\">https://wandb.ai/saturi/model_exp_cmsp_8000_0327_final_v3v/runs/ldi38g8z</a><br/>Synced 6 W&B file(s), 0 media file(s), 0 artifact file(s) and 0 other file(s)"
      ],
      "text/plain": [
       "<IPython.core.display.HTML object>"
      ]
     },
     "metadata": {},
     "output_type": "display_data"
    },
    {
     "data": {
      "text/html": [
       "Find logs at: <code>./wandb/run-20230327_125612-ldi38g8z/logs</code>"
      ],
      "text/plain": [
       "<IPython.core.display.HTML object>"
      ]
     },
     "metadata": {},
     "output_type": "display_data"
    },
    {
     "data": {
      "text/html": [
       "Successfully finished last run (ID:ldi38g8z). Initializing new run:<br/>"
      ],
      "text/plain": [
       "<IPython.core.display.HTML object>"
      ]
     },
     "metadata": {},
     "output_type": "display_data"
    },
    {
     "data": {
      "text/html": [
       "Tracking run with wandb version 0.14.0"
      ],
      "text/plain": [
       "<IPython.core.display.HTML object>"
      ]
     },
     "metadata": {},
     "output_type": "display_data"
    },
    {
     "data": {
      "text/html": [
       "Run data is saved locally in <code>/home/seuyon0101/aiffel/saturi/notebook/Model/wandb/run-20230327_131948-nfnmexz1</code>"
      ],
      "text/plain": [
       "<IPython.core.display.HTML object>"
      ]
     },
     "metadata": {},
     "output_type": "display_data"
    },
    {
     "data": {
      "text/html": [
       "Syncing run <strong><a href='https://wandb.ai/saturi/model_exp_cmsp_8000_0327_final_v3v/runs/nfnmexz1' target=\"_blank\">usual-pyramid-8</a></strong> to <a href='https://wandb.ai/saturi/model_exp_cmsp_8000_0327_final_v3v' target=\"_blank\">Weights & Biases</a> (<a href='https://wandb.me/run' target=\"_blank\">docs</a>)<br/>"
      ],
      "text/plain": [
       "<IPython.core.display.HTML object>"
      ]
     },
     "metadata": {},
     "output_type": "display_data"
    },
    {
     "data": {
      "text/html": [
       " View project at <a href='https://wandb.ai/saturi/model_exp_cmsp_8000_0327_final_v3v' target=\"_blank\">https://wandb.ai/saturi/model_exp_cmsp_8000_0327_final_v3v</a>"
      ],
      "text/plain": [
       "<IPython.core.display.HTML object>"
      ]
     },
     "metadata": {},
     "output_type": "display_data"
    },
    {
     "data": {
      "text/html": [
       " View run at <a href='https://wandb.ai/saturi/model_exp_cmsp_8000_0327_final_v3v/runs/nfnmexz1' target=\"_blank\">https://wandb.ai/saturi/model_exp_cmsp_8000_0327_final_v3v/runs/nfnmexz1</a>"
      ],
      "text/plain": [
       "<IPython.core.display.HTML object>"
      ]
     },
     "metadata": {},
     "output_type": "display_data"
    },
    {
     "name": "stdout",
     "output_type": "stream",
     "text": [
      "Restored from /home/seuyon0101/aiffel/MODEL/tf_cmsp8000_ckpt_final_0327/ckpt-18\n"
     ]
    },
    {
     "name": "stderr",
     "output_type": "stream",
     "text": [
      "Bucket  3: 100%|█████████████████████| 2/2 [00:00<00:00,  3.20it/s, Loss 3.8289]\n",
      "100%|████████████████████████████| 5/5 [00:00<00:00, 16.36it/s, val_Loss 2.8695]\n"
     ]
    },
    {
     "name": "stdout",
     "output_type": "stream",
     "text": [
      "Saved checkpoint for step 1: /home/seuyon0101/aiffel/MODEL/tf_cmsp8000_ckpt_final_0327/ckpt-19\n"
     ]
    },
    {
     "name": "stderr",
     "output_type": "stream",
     "text": [
      "Bucket  2: 100%|███████████████| 1330/1330 [03:33<00:00,  6.22it/s, Loss 2.5667]\n",
      "100%|████████████████████████████| 5/5 [00:00<00:00, 39.09it/s, val_Loss 2.7232]\n"
     ]
    },
    {
     "name": "stdout",
     "output_type": "stream",
     "text": [
      "Saved checkpoint for step 1: /home/seuyon0101/aiffel/MODEL/tf_cmsp8000_ckpt_final_0327/ckpt-20\n"
     ]
    },
    {
     "name": "stderr",
     "output_type": "stream",
     "text": [
      "Bucket  1: 100%|█████████████| 13486/13486 [15:26<00:00, 14.55it/s, Loss 2.0740]\n",
      "100%|████████████████████████████| 5/5 [00:00<00:00, 78.03it/s, val_Loss 2.9104]\n"
     ]
    },
    {
     "name": "stdout",
     "output_type": "stream",
     "text": [
      "Saved checkpoint for step 1: /home/seuyon0101/aiffel/MODEL/tf_cmsp8000_ckpt_final_0327/ckpt-21\n"
     ]
    },
    {
     "name": "stderr",
     "output_type": "stream",
     "text": [
      "100%|█████████████████████████████████████████| 125/125 [04:18<00:00,  2.07s/it]\n"
     ]
    }
   ],
   "source": [
    "for _ in range(7):\n",
    "    run  = wandb.init(project = project_name,\n",
    "                     entity = 'saturi',\n",
    "                     config = {\n",
    "                         'model_name':'Vanilla_Transformer',\n",
    "                         'n_layers':6,\n",
    "                         'd_model':512,\n",
    "                         'n_heads':8,\n",
    "                         'd_ff':2048,\n",
    "                         'src_vocab_size':SRC_VOCAB_SIZE,\n",
    "                         'tgt_vocab_size':TGT_VOCAB_SIZE,\n",
    "                         'pos_len': 512,\n",
    "                         'dropout':0.2,\n",
    "                         'shared':True,\n",
    "                         'warmups' : 8000,\n",
    "                         'epochs':1,\n",
    "                         'optimizer' :'ADAM',\n",
    "                         'loss' : 'SparseCategoricalCrossentropy',\n",
    "                         'metric' : 'bleu'\n",
    "                     })\n",
    "    train_and_checkpoint(transformer, manager, config.epochs)"
   ]
  },
  {
   "cell_type": "markdown",
   "id": "9d1bcdd0",
   "metadata": {},
   "source": [
    "# Step 3. 평가"
   ]
  },
  {
   "cell_type": "code",
   "execution_count": 404,
   "id": "5dc1abbe",
   "metadata": {},
   "outputs": [
    {
     "name": "stderr",
     "output_type": "stream",
     "text": [
      "100%|██████████████████████████| 63/63 [00:04<00:00, 14.34it/s, val_Loss 4.4106]\n"
     ]
    },
    {
     "data": {
      "text/plain": [
       "<tf.Tensor: shape=(), dtype=float32, numpy=277.86502>"
      ]
     },
     "execution_count": 404,
     "metadata": {},
     "output_type": "execute_result"
    }
   ],
   "source": [
    "# # src_corpus = full_data.loc[full_data['tok_cat']==bucket,'toks_en'].values\n",
    "# # tgt_corpus = full_data.loc[full_data['tok_cat']==bucket,'toks_dec'].values\n",
    "# src_valid_corpus = full_data_test['toks_en'].values\n",
    "# tgt_valid_corpus = full_data_test['toks_dec'].values\n",
    "# max_len = full_data.loc[full_data['tok_cat']==3,'tok_len'].max()\n",
    "\n",
    "\n",
    "# # enc_train = tf.keras.preprocessing.sequence.pad_sequences(src_corpus, padding='post', maxlen=max_len)\n",
    "# # dec_train = tf.keras.preprocessing.sequence.pad_sequences(tgt_corpus, padding='post', maxlen=max_len)\n",
    "# enc_test = tf.keras.preprocessing.sequence.pad_sequences(src_valid_corpus, padding='post', maxlen=max_len)\n",
    "# dec_test = tf.keras.preprocessing.sequence.pad_sequences(tgt_valid_corpus, padding='post', maxlen=max_len)\n",
    "\n",
    "# #validation\n",
    "# total_loss_val = 0\n",
    "# val_size=2\n",
    "# tv = tqdm(range(0,enc_test.shape[0], val_size))\n",
    "# for (batch_val,test_idx) in enumerate(tv) :\n",
    "#     val_loss, val_preds = model_validate(enc_test[test_idx : test_idx + val_size],\n",
    "#                               dec_test[test_idx : test_idx + val_size],\n",
    "#                               transformer)\n",
    "#     total_loss_val += val_loss\n",
    "#     tv.set_postfix_str('val_Loss %.4f' % (total_loss_val.numpy() / (batch_val + 1)))\n",
    "\n",
    "# total_loss_val"
   ]
  },
  {
   "cell_type": "code",
   "execution_count": 522,
   "id": "33b95666",
   "metadata": {},
   "outputs": [
    {
     "data": {
      "text/plain": [
       "Text(0.5, 0, 'Train Step')"
      ]
     },
     "execution_count": 522,
     "metadata": {},
     "output_type": "execute_result"
    },
    {
     "data": {
      "image/png": "[encoded data removed]",
      "text/plain": [
       "<Figure size 640x480 with 1 Axes>"
      ]
     },
     "metadata": {},
     "output_type": "display_data"
    }
   ],
   "source": [
    "plt.plot(learningrate(tf.range(13486, dtype=tf.float32)))\n",
    "plt.ylabel('Learning Rate')\n",
    "plt.xlabel('Train Step')"
   ]
  },
  {
   "cell_type": "code",
   "execution_count": 554,
   "id": "40876e03",
   "metadata": {},
   "outputs": [],
   "source": [
    "from time import perf_counter"
   ]
  },
  {
   "cell_type": "code",
   "execution_count": 626,
   "id": "65f6300e",
   "metadata": {},
   "outputs": [],
   "source": [
    "examples = [\"<jj> what are you doing ?\",'<cc> what are you doing ?','<gs> what are you doing ?','<jd> what are you doing ?','<kw> what are you doing ?']"
   ]
  },
  {
   "cell_type": "code",
   "execution_count": 628,
   "id": "d7af72c0",
   "metadata": {},
   "outputs": [],
   "source": [
    "examples = [\"<jj> i like this song .\",'<cc> i like this song . ','<gs> i like this song . ','<jd> i like this song . ','<kw> i like this song . ']"
   ]
  },
  {
   "cell_type": "code",
   "execution_count": 630,
   "id": "4e413630",
   "metadata": {},
   "outputs": [],
   "source": [
    "examples = [\"<jj> Let's do homework together .\",\"<cc> Let's do homework together .\",\"<gs> Let's do homework together .\",\"<jd> Let's do homework together .\",\"<kw> Let's do homework together .\"]"
   ]
  },
  {
   "cell_type": "code",
   "execution_count": 633,
   "id": "cfe748a5",
   "metadata": {},
   "outputs": [],
   "source": [
    "examples = [\"<jj> Are you going to sleep ?\",\"<cc> Are you going to sleep ?\",\"<gs> Are you going to sleep ?\",\"<jd> Are you going to sleep ?\",\"<kw> Are you going to sleep ?\"]"
   ]
  },
  {
   "cell_type": "code",
   "execution_count": 635,
   "id": "1ece3c94",
   "metadata": {},
   "outputs": [],
   "source": [
    "examples = [\"<jj> I want to go out to eat .\",\"<cc> I want to go out to eat .\",\"<gs> I want to go out to eat .\",\"<jd> I want to go out to eat .\",\"<kw> I want to go out to eat .\"]"
   ]
  },
  {
   "cell_type": "code",
   "execution_count": 636,
   "id": "d991f6b4",
   "metadata": {},
   "outputs": [
    {
     "name": "stdout",
     "output_type": "stream",
     "text": [
      "Input: <jj> I want to go out to eat .\n",
      "Predicted translation: 먹을래 가고 싶은 거 이서.\n",
      "Input: <cc> I want to go out to eat .\n",
      "Predicted translation: 밥 먹구 싶은 거는 쫌 나가구\n",
      "Input: <gs> I want to go out to eat .\n",
      "Predicted translation: 밥 무로 나가꼬 싶은 거 있제\n",
      "Input: <jd> I want to go out to eat .\n",
      "Predicted translation: 밥 먹을라고 나가는 것이 좋겄\n",
      "Input: <kw> I want to go out to eat .\n",
      "Predicted translation: 밥 처먹으러 나가는 거 좋은데\n",
      "7.793992708000587\n"
     ]
    }
   ],
   "source": [
    "start = perf_counter()\n",
    "for example in examples :\n",
    "    translate(example, transformer, enc_tokenizer, dec_tokenizer, verbose =True)\n",
    "print(perf_counter() - start)"
   ]
  },
  {
   "cell_type": "code",
   "execution_count": 383,
   "id": "6e3c1e0f",
   "metadata": {},
   "outputs": [
    {
     "name": "stderr",
     "output_type": "stream",
     "text": [
      "100%|█████████████████████████████████████████| 125/125 [04:01<00:00,  1.93s/it]\n"
     ]
    }
   ],
   "source": [
    "# from datasets import load_metric\n",
    "\n",
    "# bleu = load_metric(\"sacrebleu\")\n",
    "# test_translate = []\n",
    "# bleu_valid_score = []\n",
    "\n",
    "# test_text = full_data_test.eng.values\n",
    "# test_tgt = full_data_test.dial.values\n",
    "\n",
    "# for i in tqdm(range(len(test_text))) :\n",
    "#     trans = translate(test_text[i], transformer, enc_tokenizer, dec_tokenizer, verbose =False)\n",
    "#     test_translate.append(trans)\n",
    "#     label = dec_tokenizer.decode(test_tgt[i])\n",
    "#     result = bleu.compute(predictions=[trans], references=[[label]], smooth_method='add-k')['score']\n",
    "#     bleu_valid_score.append(result)\n",
    "\n",
    "# full_data_test['bleu'] = np.array(bleu_valid_score)\n",
    "# full_data_test['pred'] = test_translate"
   ]
  },
  {
   "cell_type": "code",
   "execution_count": 637,
   "id": "ea5c2a4b",
   "metadata": {},
   "outputs": [
    {
     "data": {
      "text/plain": [
       "14.276615327208242"
      ]
     },
     "execution_count": 637,
     "metadata": {},
     "output_type": "execute_result"
    }
   ],
   "source": [
    "full_data_test.bleu.mean()"
   ]
  },
  {
   "cell_type": "code",
   "execution_count": 638,
   "id": "90a43c07",
   "metadata": {},
   "outputs": [
    {
     "data": {
      "text/html": [
       "<div>\n",
       "<style scoped>\n",
       "    .dataframe tbody tr th:only-of-type {\n",
       "        vertical-align: middle;\n",
       "    }\n",
       "\n",
       "    .dataframe tbody tr th {\n",
       "        vertical-align: top;\n",
       "    }\n",
       "\n",
       "    .dataframe thead th {\n",
       "        text-align: right;\n",
       "    }\n",
       "</style>\n",
       "<table border=\"1\" class=\"dataframe\">\n",
       "  <thead>\n",
       "    <tr style=\"text-align: right;\">\n",
       "      <th></th>\n",
       "      <th>topic</th>\n",
       "      <th>eng</th>\n",
       "      <th>reg</th>\n",
       "      <th>dial</th>\n",
       "      <th>pred</th>\n",
       "      <th>bleu</th>\n",
       "    </tr>\n",
       "  </thead>\n",
       "  <tbody>\n",
       "    <tr>\n",
       "      <th>94210</th>\n",
       "      <td>선물</td>\n",
       "      <td>&lt;cc&gt; That's why I don't cheap it.</td>\n",
       "      <td>cc</td>\n",
       "      <td>게서 고거를 싸던 않아.</td>\n",
       "      <td>그~ 왜 그껴 싸구 싸구 가야지</td>\n",
       "      <td>0.000000</td>\n",
       "    </tr>\n",
       "    <tr>\n",
       "      <th>204242</th>\n",
       "      <td>종교</td>\n",
       "      <td>&lt;jj&gt; It was really good</td>\n",
       "      <td>jj</td>\n",
       "      <td>진짜 맛있언,</td>\n",
       "      <td>잘도 좋안</td>\n",
       "      <td>0.000000</td>\n",
       "    </tr>\n",
       "    <tr>\n",
       "      <th>684233</th>\n",
       "      <td>꿈(목표)</td>\n",
       "      <td>&lt;jj&gt; I solicited you to buy it before you leave</td>\n",
       "      <td>jj</td>\n",
       "      <td>가기 전에 사준다 핸</td>\n",
       "      <td>두고보게 사켄 한게 아니라예</td>\n",
       "      <td>0.000000</td>\n",
       "    </tr>\n",
       "    <tr>\n",
       "      <th>138855</th>\n",
       "      <td>가족</td>\n",
       "      <td>&lt;jj&gt; What's a pick-up?</td>\n",
       "      <td>jj</td>\n",
       "      <td>절간 뭐꽈?</td>\n",
       "      <td>주서먹는 거는 뭐가 이서</td>\n",
       "      <td>0.000000</td>\n",
       "    </tr>\n",
       "    <tr>\n",
       "      <th>216555</th>\n",
       "      <td>먹거리</td>\n",
       "      <td>&lt;jj&gt; I heard youre recording it too</td>\n",
       "      <td>jj</td>\n",
       "      <td>성님도 녹음헌댄 허니까</td>\n",
       "      <td>너 녹음도 했댄 하던디 것도</td>\n",
       "      <td>0.000000</td>\n",
       "    </tr>\n",
       "    <tr>\n",
       "      <th>...</th>\n",
       "      <td>...</td>\n",
       "      <td>...</td>\n",
       "      <td>...</td>\n",
       "      <td>...</td>\n",
       "      <td>...</td>\n",
       "      <td>...</td>\n",
       "    </tr>\n",
       "    <tr>\n",
       "      <th>922232</th>\n",
       "      <td>스타일</td>\n",
       "      <td>&lt;jj&gt; Isnt it so fun to watch things like this?</td>\n",
       "      <td>jj</td>\n",
       "      <td>이런 거 보는 거 너무 재밌주이 않?</td>\n",
       "      <td>이런 거 보는 거 너무 재미 없지 아네?</td>\n",
       "      <td>53.077122</td>\n",
       "    </tr>\n",
       "    <tr>\n",
       "      <th>851942</th>\n",
       "      <td>스타일</td>\n",
       "      <td>&lt;gs&gt; Then you want me to do it</td>\n",
       "      <td>gs</td>\n",
       "      <td>그머 니가 원하느</td>\n",
       "      <td>그머 니가 하래이</td>\n",
       "      <td>68.658905</td>\n",
       "    </tr>\n",
       "    <tr>\n",
       "      <th>806339</th>\n",
       "      <td>먹거리</td>\n",
       "      <td>&lt;jj&gt; Oh mix it</td>\n",
       "      <td>jj</td>\n",
       "      <td>아 속아알령</td>\n",
       "      <td>아 섞어부러</td>\n",
       "      <td>70.710678</td>\n",
       "    </tr>\n",
       "    <tr>\n",
       "      <th>281381</th>\n",
       "      <td>연애/결혼</td>\n",
       "      <td>&lt;jd&gt; You have to buy it.</td>\n",
       "      <td>jd</td>\n",
       "      <td>사야제.</td>\n",
       "      <td>사줘야제.</td>\n",
       "      <td>70.710678</td>\n",
       "    </tr>\n",
       "    <tr>\n",
       "      <th>802973</th>\n",
       "      <td>전자기기</td>\n",
       "      <td>&lt;gs&gt; Battery a little bit</td>\n",
       "      <td>gs</td>\n",
       "      <td>배터리 쫌</td>\n",
       "      <td>배터리가 쫌</td>\n",
       "      <td>70.710678</td>\n",
       "    </tr>\n",
       "  </tbody>\n",
       "</table>\n",
       "<p>125 rows × 6 columns</p>\n",
       "</div>"
      ],
      "text/plain": [
       "        topic                                              eng reg  \\\n",
       "94210      선물                <cc> That's why I don't cheap it.  cc   \n",
       "204242     종교                          <jj> It was really good  jj   \n",
       "684233  꿈(목표)  <jj> I solicited you to buy it before you leave  jj   \n",
       "138855     가족                           <jj> What's a pick-up?  jj   \n",
       "216555    먹거리              <jj> I heard youre recording it too  jj   \n",
       "...       ...                                              ...  ..   \n",
       "922232    스타일   <jj> Isnt it so fun to watch things like this?  jj   \n",
       "851942    스타일                   <gs> Then you want me to do it  gs   \n",
       "806339    먹거리                                   <jj> Oh mix it  jj   \n",
       "281381  연애/결혼                         <jd> You have to buy it.  jd   \n",
       "802973   전자기기                        <gs> Battery a little bit  gs   \n",
       "\n",
       "                         dial                    pred       bleu  \n",
       "94210          게서 고거를 싸던 않아.        그~ 왜 그껴 싸구 싸구 가야지   0.000000  \n",
       "204242               진짜 맛있언,                    잘도 좋안   0.000000  \n",
       "684233           가기 전에 사준다 핸          두고보게 사켄 한게 아니라예   0.000000  \n",
       "138855                절간 뭐꽈?            주서먹는 거는 뭐가 이서   0.000000  \n",
       "216555          성님도 녹음헌댄 허니까          너 녹음도 했댄 하던디 것도   0.000000  \n",
       "...                       ...                     ...        ...  \n",
       "922232  이런 거 보는 거 너무 재밌주이 않?   이런 거 보는 거 너무 재미 없지 아네?  53.077122  \n",
       "851942             그머 니가 원하느                그머 니가 하래이  68.658905  \n",
       "806339                아 속아알령                   아 섞어부러  70.710678  \n",
       "281381                  사야제.                    사줘야제.  70.710678  \n",
       "802973                 배터리 쫌                   배터리가 쫌  70.710678  \n",
       "\n",
       "[125 rows x 6 columns]"
      ]
     },
     "execution_count": 638,
     "metadata": {},
     "output_type": "execute_result"
    }
   ],
   "source": [
    "full_data_test.loc[:,['topic','eng','reg','dial','pred','bleu']].sort_values('bleu')"
   ]
  },
  {
   "cell_type": "code",
   "execution_count": 639,
   "id": "c1c7abd5",
   "metadata": {},
   "outputs": [],
   "source": [
    "data_dir = os.getenv('HOME')+'/aiffel/DATA' # 파일 경로 지정\n",
    "full_data_test.to_csv(data_dir + f'/test_results_{tokenizer_name}8000_final_needs_merge_327.csv')"
   ]
  },
  {
   "cell_type": "code",
   "execution_count": 640,
   "id": "d6b591e9",
   "metadata": {},
   "outputs": [
    {
     "data": {
      "text/html": [
       "Waiting for W&B process to finish... <strong style=\"color:green\">(success).</strong>"
      ],
      "text/plain": [
       "<IPython.core.display.HTML object>"
      ]
     },
     "metadata": {},
     "output_type": "display_data"
    },
    {
     "data": {
      "text/html": [
       "<style>\n",
       "    table.wandb td:nth-child(1) { padding: 0 10px; text-align: left ; width: auto;} td:nth-child(2) {text-align: left ; width: 100%}\n",
       "    .wandb-row { display: flex; flex-direction: row; flex-wrap: wrap; justify-content: flex-start; width: 100% }\n",
       "    .wandb-col { display: flex; flex-direction: column; flex-basis: 100%; flex: 1; padding: 10px; }\n",
       "    </style>\n",
       "<div class=\"wandb-row\"><div class=\"wandb-col\"><h3>Run history:</h3><br/><table class=\"wandb\"><tr><td>bleu</td><td>▁</td></tr><tr><td>train_loss</td><td>█▇▇▇▁▁▁▁▁▁▁▁▁▁▁▁▁▁▁▁▁▁▁▁▂▂▂▂▂▂▂▂▂▂▂▂▂▂▂▂</td></tr><tr><td>valid_loss</td><td>▃▆▇▆▄▁▅▅▄▂▄▇█▆▅</td></tr></table><br/></div><div class=\"wandb-col\"><h3>Run summary:</h3><br/><table class=\"wandb\"><tr><td>bleu</td><td>14.27662</td></tr><tr><td>train_loss</td><td>2.07403</td></tr><tr><td>valid_loss</td><td>2.91041</td></tr></table><br/></div></div>"
      ],
      "text/plain": [
       "<IPython.core.display.HTML object>"
      ]
     },
     "metadata": {},
     "output_type": "display_data"
    },
    {
     "data": {
      "text/html": [
       " View run <strong style=\"color:#cdcd00\">usual-pyramid-8</strong> at: <a href='https://wandb.ai/saturi/model_exp_cmsp_8000_0327_final_v3v/runs/nfnmexz1' target=\"_blank\">https://wandb.ai/saturi/model_exp_cmsp_8000_0327_final_v3v/runs/nfnmexz1</a><br/>Synced 6 W&B file(s), 0 media file(s), 0 artifact file(s) and 0 other file(s)"
      ],
      "text/plain": [
       "<IPython.core.display.HTML object>"
      ]
     },
     "metadata": {},
     "output_type": "display_data"
    },
    {
     "data": {
      "text/html": [
       "Find logs at: <code>./wandb/run-20230327_131948-nfnmexz1/logs</code>"
      ],
      "text/plain": [
       "<IPython.core.display.HTML object>"
      ]
     },
     "metadata": {},
     "output_type": "display_data"
    }
   ],
   "source": [
    "wandb.finish()"
   ]
  },
  {
   "cell_type": "code",
   "execution_count": null,
   "id": "9dea15ca",
   "metadata": {},
   "outputs": [],
   "source": []
  }
 ],
 "metadata": {
  "hide_input": false,
  "kernelspec": {
   "display_name": "Python 3 (ipykernel)",
   "language": "python",
   "name": "python3"
  },
  "language_info": {
   "codemirror_mode": {
    "name": "ipython",
    "version": 3
   },
   "file_extension": ".py",
   "mimetype": "text/x-python",
   "name": "python",
   "nbconvert_exporter": "python",
   "pygments_lexer": "ipython3",
   "version": "3.9.16"
  },
  "toc": {
   "base_numbering": 1,
   "nav_menu": {},
   "number_sections": true,
   "sideBar": true,
   "skip_h1_title": false,
   "title_cell": "Table of Contents",
   "title_sidebar": "Contents",
   "toc_cell": true,
   "toc_position": {
    "height": "670px",
    "left": "54px",
    "top": "208px",
    "width": "336px"
   },
   "toc_section_display": true,
   "toc_window_display": true
  },
  "varInspector": {
   "cols": {
    "lenName": 16,
    "lenType": 16,
    "lenVar": 40
   },
   "kernels_config": {
    "python": {
     "delete_cmd_postfix": "",
     "delete_cmd_prefix": "del ",
     "library": "var_list.py",
     "varRefreshCmd": "print(var_dic_list())"
    },
    "r": {
     "delete_cmd_postfix": ") ",
     "delete_cmd_prefix": "rm(",
     "library": "var_list.r",
     "varRefreshCmd": "cat(var_dic_list()) "
    }
   },
   "types_to_exclude": [
    "module",
    "function",
    "builtin_function_or_method",
    "instance",
    "_Feature"
   ],
   "window_display": false
  }
 },
 "nbformat": 4,
 "nbformat_minor": 5
}
