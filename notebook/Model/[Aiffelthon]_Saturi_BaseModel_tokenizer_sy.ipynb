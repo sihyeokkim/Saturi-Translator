{
 "cells": [
  {
   "cell_type": "code",
   "execution_count": 1,
   "id": "ae5eee58",
   "metadata": {},
   "outputs": [
    {
     "name": "stdout",
     "output_type": "stream",
     "text": [
      "2.8.0\n",
      "1.5.3\n",
      "1.24.2\n"
     ]
    }
   ],
   "source": [
    "import warnings\n",
    "warnings.filterwarnings('ignore')\n",
    "\n",
    "import tensorflow as tf\n",
    "import numpy as np\n",
    "import pandas as pd\n",
    "\n",
    "import matplotlib as mpl\n",
    "import matplotlib.ticker as ticker\n",
    "import matplotlib.pyplot as plt\n",
    "from sklearn.model_selection import train_test_split\n",
    "import time\n",
    "import re\n",
    "import os\n",
    "import io\n",
    "\n",
    "\n",
    "# from tqdm import tqdm_notebook \n",
    "from tqdm import tqdm \n",
    "import random\n",
    "\n",
    "import sentencepiece as spm\n",
    "from konlpy.tag import Mecab\n",
    "\n",
    "print(tf.__version__)\n",
    "print(pd.__version__)\n",
    "print(np.__version__)"
   ]
  },
  {
   "cell_type": "markdown",
   "id": "5972d3f0",
   "metadata": {},
   "source": [
    "# Step 1. 데이터 불러오기\n",
    "   "
   ]
  },
  {
   "cell_type": "code",
   "execution_count": 32,
   "id": "b13fac1d",
   "metadata": {},
   "outputs": [],
   "source": [
    "data_dir = os.getenv(\"HOME\") + '/aiffel/DATA'\n",
    "tokenizer_name = 'spm'"
   ]
  },
  {
   "cell_type": "code",
   "execution_count": 33,
   "id": "18605dc3",
   "metadata": {},
   "outputs": [],
   "source": [
    "# # train data load\n",
    "data_dir = os.getenv('HOME')+'/aiffel/DATA/pickle' # 파일 경로 지정\n",
    "data_train_path = data_dir+f\"/data_train_{tokenizer_name}_16000_0324.pkl\"\n",
    "data_test_path = data_dir+f\"/data_test_{tokenizer_name}_16000_0324.pkl\"\n",
    "full_data = pd.read_pickle(data_train_path, 'gzip')\n",
    "full_data_test = pd.read_pickle(data_test_path, 'gzip')"
   ]
  },
  {
   "cell_type": "code",
   "execution_count": 34,
   "id": "884fccf9",
   "metadata": {},
   "outputs": [
    {
     "name": "stdout",
     "output_type": "stream",
     "text": [
      "<class 'pandas.core.frame.DataFrame'>\n",
      "Int64Index: 948219 entries, 0 to 949887\n",
      "Data columns (total 7 columns):\n",
      " #   Column    Non-Null Count   Dtype \n",
      "---  ------    --------------   ----- \n",
      " 0   reg       948219 non-null  object\n",
      " 1   topic     948219 non-null  object\n",
      " 2   stdn      948219 non-null  object\n",
      " 3   dial      948219 non-null  object\n",
      " 4   eng       948219 non-null  object\n",
      " 5   toks_en   948219 non-null  object\n",
      " 6   toks_dec  948219 non-null  object\n",
      "dtypes: object(7)\n",
      "memory usage: 57.9+ MB\n"
     ]
    }
   ],
   "source": [
    "full_data.info()"
   ]
  },
  {
   "cell_type": "code",
   "execution_count": 35,
   "id": "b67c59cb",
   "metadata": {},
   "outputs": [
    {
     "name": "stdout",
     "output_type": "stream",
     "text": [
      "<class 'pandas.core.frame.DataFrame'>\n",
      "Int64Index: 125 entries, 39379 to 297204\n",
      "Data columns (total 7 columns):\n",
      " #   Column    Non-Null Count  Dtype \n",
      "---  ------    --------------  ----- \n",
      " 0   reg       125 non-null    object\n",
      " 1   topic     125 non-null    object\n",
      " 2   stdn      125 non-null    object\n",
      " 3   dial      125 non-null    object\n",
      " 4   eng       125 non-null    object\n",
      " 5   toks_en   125 non-null    object\n",
      " 6   toks_dec  125 non-null    object\n",
      "dtypes: object(7)\n",
      "memory usage: 7.8+ KB\n"
     ]
    }
   ],
   "source": [
    "full_data_test.info()"
   ]
  },
  {
   "cell_type": "code",
   "execution_count": 36,
   "id": "88cac627",
   "metadata": {},
   "outputs": [],
   "source": [
    "regs = full_data.reg.unique()"
   ]
  },
  {
   "cell_type": "code",
   "execution_count": 37,
   "id": "26aca42c",
   "metadata": {},
   "outputs": [
    {
     "data": {
      "image/png": "[encoded data removed]",
      "text/plain": [
       "<Figure size 640x480 with 1 Axes>"
      ]
     },
     "metadata": {},
     "output_type": "display_data"
    }
   ],
   "source": [
    "import seaborn as sns\n",
    "full_data['tok_len'] = full_data['toks_en'].apply(lambda x : len(x))\n",
    "sns.histplot(x='tok_len',data = full_data, bins= 50,stat='probability' )\n",
    "plt.show()"
   ]
  },
  {
   "cell_type": "code",
   "execution_count": 38,
   "id": "54f9ba1f",
   "metadata": {},
   "outputs": [
    {
     "data": {
      "text/plain": [
       "reg\n",
       "cc    17.258820\n",
       "gs    16.009518\n",
       "jd    16.796067\n",
       "jj    13.125946\n",
       "kw    13.556690\n",
       "Name: tok_len, dtype: float64"
      ]
     },
     "execution_count": 38,
     "metadata": {},
     "output_type": "execute_result"
    }
   ],
   "source": [
    "full_data.groupby(full_data['reg'])['tok_len'].mean()"
   ]
  },
  {
   "cell_type": "code",
   "execution_count": 39,
   "id": "1d484a95",
   "metadata": {},
   "outputs": [],
   "source": [
    "full_data['tok_cat'] = pd.qcut(full_data['tok_len'], [0,0.9,0.9999,1],labels =[1,2,3])"
   ]
  },
  {
   "cell_type": "code",
   "execution_count": 40,
   "id": "515ed5df",
   "metadata": {},
   "outputs": [
    {
     "data": {
      "text/plain": [
       "90"
      ]
     },
     "execution_count": 40,
     "metadata": {},
     "output_type": "execute_result"
    }
   ],
   "source": [
    "len(full_data.loc[full_data['tok_cat']==3,'tok_len'])"
   ]
  },
  {
   "cell_type": "code",
   "execution_count": 41,
   "id": "e1f21c21",
   "metadata": {},
   "outputs": [
    {
     "data": {
      "text/plain": [
       "min     66\n",
       "max    167\n",
       "Name: tok_len, dtype: int64"
      ]
     },
     "execution_count": 41,
     "metadata": {},
     "output_type": "execute_result"
    }
   ],
   "source": [
    "full_data.loc[full_data['tok_cat']==3,'tok_len'].agg([min,max])"
   ]
  },
  {
   "cell_type": "code",
   "execution_count": 42,
   "id": "4456cac0",
   "metadata": {},
   "outputs": [
    {
     "data": {
      "text/plain": [
       "True"
      ]
     },
     "execution_count": 42,
     "metadata": {},
     "output_type": "execute_result"
    }
   ],
   "source": [
    "data_path = os.getenv('HOME') + '/aiffel/saturi/notebook/Preprocessing/'\n",
    "sizes = 16009\n",
    "SRC_VOCAB_SIZE = sizes\n",
    "TGT_VOCAB_SIZE = sizes\n",
    "\n",
    "enc_tokenizer = spm.SentencePieceProcessor()\n",
    "enc_tokenizer.Load(data_path+'spm_enc_spm16000.model')\n",
    "\n",
    "dec_tokenizer = spm.SentencePieceProcessor()\n",
    "dec_tokenizer.Load(data_path+f'spm_dec_{tokenizer_name}16000.model')\n",
    "\n",
    "dec_tokenizer.set_encode_extra_options(\"bos:eos\")"
   ]
  },
  {
   "cell_type": "markdown",
   "id": "9bad6420",
   "metadata": {},
   "source": [
    "# Step 2. 모델불러오기"
   ]
  },
  {
   "cell_type": "code",
   "execution_count": 43,
   "id": "405fab28",
   "metadata": {},
   "outputs": [
    {
     "name": "stderr",
     "output_type": "stream",
     "text": [
      "\u001b[34m\u001b[1mwandb\u001b[0m: \u001b[33mWARNING\u001b[0m Calling wandb.login() after wandb.init() has no effect.\n"
     ]
    },
    {
     "data": {
      "text/plain": [
       "True"
      ]
     },
     "execution_count": 43,
     "metadata": {},
     "output_type": "execute_result"
    }
   ],
   "source": [
    "import wandb\n",
    "wandb.login()"
   ]
  },
  {
   "cell_type": "code",
   "execution_count": 44,
   "id": "1ebcd720",
   "metadata": {},
   "outputs": [
    {
     "data": {
      "text/html": [
       "Finishing last run (ID:2e69yl4v) before initializing another..."
      ],
      "text/plain": [
       "<IPython.core.display.HTML object>"
      ]
     },
     "metadata": {},
     "output_type": "display_data"
    },
    {
     "data": {
      "text/html": [
       "Waiting for W&B process to finish... <strong style=\"color:green\">(success).</strong>"
      ],
      "text/plain": [
       "<IPython.core.display.HTML object>"
      ]
     },
     "metadata": {},
     "output_type": "display_data"
    },
    {
     "data": {
      "text/html": [
       " View run <strong style=\"color:#cdcd00\">brisk-sea-1</strong> at: <a href='https://wandb.ai/saturi/model_exp_cmsp_16000_0329_final_%EC%B5%9C%EC%A2%85cc/runs/2e69yl4v' target=\"_blank\">https://wandb.ai/saturi/model_exp_cmsp_16000_0329_final_%EC%B5%9C%EC%A2%85cc/runs/2e69yl4v</a><br/>Synced 6 W&B file(s), 0 media file(s), 0 artifact file(s) and 0 other file(s)"
      ],
      "text/plain": [
       "<IPython.core.display.HTML object>"
      ]
     },
     "metadata": {},
     "output_type": "display_data"
    },
    {
     "data": {
      "text/html": [
       "Find logs at: <code>./wandb/run-20230330_000244-2e69yl4v/logs</code>"
      ],
      "text/plain": [
       "<IPython.core.display.HTML object>"
      ]
     },
     "metadata": {},
     "output_type": "display_data"
    },
    {
     "data": {
      "text/html": [
       "Successfully finished last run (ID:2e69yl4v). Initializing new run:<br/>"
      ],
      "text/plain": [
       "<IPython.core.display.HTML object>"
      ]
     },
     "metadata": {},
     "output_type": "display_data"
    },
    {
     "data": {
      "application/vnd.jupyter.widget-view+json": {
       "model_id": "32564bb4dbb5496b9a4217b6947561be",
       "version_major": 2,
       "version_minor": 0
      },
      "text/plain": [
       "VBox(children=(Label(value='Waiting for wandb.init()...\\r'), FloatProgress(value=0.01666962186670086, max=1.0)…"
      ]
     },
     "metadata": {},
     "output_type": "display_data"
    },
    {
     "data": {
      "text/html": [
       "Tracking run with wandb version 0.14.0"
      ],
      "text/plain": [
       "<IPython.core.display.HTML object>"
      ]
     },
     "metadata": {},
     "output_type": "display_data"
    },
    {
     "data": {
      "text/html": [
       "Run data is saved locally in <code>/home/seuyon0101/aiffel/saturi/notebook/Model/wandb/run-20230330_000820-465wq5bw</code>"
      ],
      "text/plain": [
       "<IPython.core.display.HTML object>"
      ]
     },
     "metadata": {},
     "output_type": "display_data"
    },
    {
     "data": {
      "text/html": [
       "Syncing run <strong><a href='https://wandb.ai/saturi/model_exp_spm_16000_0329_final_%EC%B5%9C%EC%A2%85cc/runs/465wq5bw' target=\"_blank\">sleek-water-1</a></strong> to <a href='https://wandb.ai/saturi/model_exp_spm_16000_0329_final_%EC%B5%9C%EC%A2%85cc' target=\"_blank\">Weights & Biases</a> (<a href='https://wandb.me/run' target=\"_blank\">docs</a>)<br/>"
      ],
      "text/plain": [
       "<IPython.core.display.HTML object>"
      ]
     },
     "metadata": {},
     "output_type": "display_data"
    },
    {
     "data": {
      "text/html": [
       " View project at <a href='https://wandb.ai/saturi/model_exp_spm_16000_0329_final_%EC%B5%9C%EC%A2%85cc' target=\"_blank\">https://wandb.ai/saturi/model_exp_spm_16000_0329_final_%EC%B5%9C%EC%A2%85cc</a>"
      ],
      "text/plain": [
       "<IPython.core.display.HTML object>"
      ]
     },
     "metadata": {},
     "output_type": "display_data"
    },
    {
     "data": {
      "text/html": [
       " View run at <a href='https://wandb.ai/saturi/model_exp_spm_16000_0329_final_%EC%B5%9C%EC%A2%85cc/runs/465wq5bw' target=\"_blank\">https://wandb.ai/saturi/model_exp_spm_16000_0329_final_%EC%B5%9C%EC%A2%85cc/runs/465wq5bw</a>"
      ],
      "text/plain": [
       "<IPython.core.display.HTML object>"
      ]
     },
     "metadata": {},
     "output_type": "display_data"
    }
   ],
   "source": [
    "#wandb 설정\n",
    "warmups = 8500\n",
    "project_name = f'model_exp_{tokenizer_name}_16000_0329_final_최종cc'\n",
    "run  = wandb.init(project = project_name ,\n",
    "                 entity = 'saturi',\n",
    "                 config = {\n",
    "                     'model_name':'Vanilla_Transformer',\n",
    "                     'n_layers':6,\n",
    "                     'd_model':512,\n",
    "                     'n_heads':8,\n",
    "                     'd_ff':2048,\n",
    "                     'src_vocab_size':SRC_VOCAB_SIZE,\n",
    "                     'tgt_vocab_size':TGT_VOCAB_SIZE,\n",
    "                     'pos_len': 512,\n",
    "                     'dropout':0.2,\n",
    "                     'shared':True,\n",
    "                     'warmups' : warmups,\n",
    "                     'epochs':1,\n",
    "                     'optimizer' :'ADAM',\n",
    "                     'loss' : 'SparseCategoricalCrossentropy',\n",
    "                     'metric' : 'bleu'\n",
    "                 })\n",
    "config = wandb.config"
   ]
  },
  {
   "cell_type": "code",
   "execution_count": 45,
   "id": "3c68dd94",
   "metadata": {},
   "outputs": [],
   "source": [
    "import sys\n",
    "sys.path.insert(0,os.getenv('HOME') + '/aiffel/saturi/MODEL/') # vanilla transformer 파일경로에서 불러오기 위해 설정\n",
    "sys.path.insert(0,os.getenv('HOME') + '/aiffel/saturi/PRE/')\n",
    "sys.path.insert(0,os.getenv('HOME') + '/aiffel/saturi/POST/')"
   ]
  },
  {
   "cell_type": "code",
   "execution_count": 46,
   "id": "6a2d4769",
   "metadata": {},
   "outputs": [],
   "source": [
    "from vanilla_transformer import Transformer, generate_masks\n",
    "\n",
    "transformer = Transformer(\n",
    "    n_layers=config.n_layers,\n",
    "    d_model=config.d_model,\n",
    "    n_heads=config.n_heads,\n",
    "    d_ff=config.d_ff,\n",
    "    src_vocab_size=config.src_vocab_size,\n",
    "    tgt_vocab_size=config.tgt_vocab_size,\n",
    "    pos_len=config.pos_len,\n",
    "    dropout=config.dropout,\n",
    "    shared=config.shared\n",
    ")"
   ]
  },
  {
   "cell_type": "markdown",
   "id": "6a3da29a",
   "metadata": {},
   "source": [
    "##  Learning Rate Scheduler를 선언하고, 이를 포함하는 Adam Optimizer를 선언"
   ]
  },
  {
   "cell_type": "code",
   "execution_count": 47,
   "id": "c347df49",
   "metadata": {},
   "outputs": [],
   "source": [
    "class LearningRateScheduler(tf.keras.optimizers.schedules.LearningRateSchedule):\n",
    "    def __init__(self, d_model, warmup_steps=config.warmups):\n",
    "        super(LearningRateScheduler, self).__init__()\n",
    "        self.d_model = d_model\n",
    "        self.warmup_steps = warmup_steps\n",
    "    \n",
    "    def __call__(self, step):\n",
    "        arg1 = step ** np.array(-0.5)\n",
    "        arg2 = step * np.array(self.warmup_steps ** -1.5)\n",
    "        \n",
    "        return np.array(self.d_model ** -0.5) * tf.math.minimum(arg1, arg2)"
   ]
  },
  {
   "cell_type": "code",
   "execution_count": 48,
   "id": "c2ed1ebb",
   "metadata": {},
   "outputs": [],
   "source": [
    "learningrate = LearningRateScheduler(512)"
   ]
  },
  {
   "cell_type": "code",
   "execution_count": 49,
   "id": "b2f40927",
   "metadata": {},
   "outputs": [],
   "source": [
    "optimizer = tf.keras.optimizers.Adam(learningrate, beta_1=0.9, beta_2=0.98, epsilon=1e-9)"
   ]
  },
  {
   "cell_type": "markdown",
   "id": "cc4d202f",
   "metadata": {},
   "source": [
    "## Loss 함수를 정의\n"
   ]
  },
  {
   "cell_type": "code",
   "execution_count": 50,
   "id": "fda4bea9",
   "metadata": {},
   "outputs": [],
   "source": [
    "# Loss 함수 정의\n",
    "loss_object = tf.keras.losses.SparseCategoricalCrossentropy(from_logits=True, reduction='none')\n",
    "\n",
    "def loss_function(real, pred):\n",
    "    mask = tf.math.logical_not(tf.math.equal(real, 0))\n",
    "    loss_ = loss_object(real, pred)\n",
    "\n",
    "    # Masking 되지 않은 입력의 개수로 Scaling하는 과정\n",
    "    mask = tf.cast(mask, dtype=loss_.dtype)\n",
    "    loss_ *= mask\n",
    "\n",
    "    return tf.reduce_sum(loss_)/tf.reduce_sum(mask)"
   ]
  },
  {
   "cell_type": "markdown",
   "id": "e3a3c9f1",
   "metadata": {},
   "source": [
    "## train_step 함수를 정의\n"
   ]
  },
  {
   "cell_type": "code",
   "execution_count": 51,
   "id": "003c8aef",
   "metadata": {},
   "outputs": [],
   "source": [
    "@tf.function()\n",
    "def train_step(src, tgt, model, optimizer):\n",
    "    gold = tgt[:, 1:]\n",
    "        \n",
    "    enc_mask, dec_enc_mask, dec_mask = generate_masks(src, tgt)\n",
    "\n",
    "    # 계산된 loss에 tf.GradientTape()를 적용해 학습을 진행합니다.\n",
    "    with tf.GradientTape() as tape:\n",
    "        predictions, enc_attns, dec_attns, dec_enc_attns = model(src, tgt, enc_mask, dec_enc_mask, dec_mask)\n",
    "        loss = loss_function(gold, predictions[:, :-1])\n",
    "\n",
    "    # 최종적으로 optimizer.apply_gradients()가 사용됩니다. \n",
    "    gradients = tape.gradient(loss, model.trainable_variables)    \n",
    "    optimizer.apply_gradients(zip(gradients, model.trainable_variables))\n",
    "    \n",
    "    \n",
    "    return loss, enc_attns, dec_attns, dec_enc_attns, predictions"
   ]
  },
  {
   "cell_type": "code",
   "execution_count": 52,
   "id": "68bb0b83",
   "metadata": {},
   "outputs": [],
   "source": [
    "# Validating the model\n",
    "@tf.function\n",
    "def model_validate(src, tgt, model):\n",
    "    gold = tgt[:, 1:]\n",
    "        \n",
    "    enc_mask, dec_enc_mask, dec_mask = generate_masks(src, tgt)\n",
    "    predictions, enc_attns, dec_attns, dec_enc_attns = model(src, tgt, enc_mask, dec_enc_mask, dec_mask)\n",
    "    v_loss = loss_function(gold, predictions[:, :-1])\n",
    "    \n",
    "    return v_loss, predictions"
   ]
  },
  {
   "cell_type": "code",
   "execution_count": 53,
   "id": "a67b14d0",
   "metadata": {},
   "outputs": [],
   "source": [
    "# 학습 매니저 설정\n",
    "from evaluation import evaluate, compute_metric, translate\n",
    "full_data = full_data.sample(frac=1).copy()\n",
    "\n",
    "def train_and_checkpoint(transformer, manager, EPOCHS):\n",
    "    ckpt.restore(manager.latest_checkpoint)\n",
    "    if manager.latest_checkpoint:\n",
    "        print(\"Restored from {}\".format(manager.latest_checkpoint))\n",
    "    \n",
    "    else:\n",
    "        print(\"Initializing from scratch.\")\n",
    "\n",
    "\n",
    "    for epoch in range(EPOCHS):\n",
    "        \n",
    "        batch_size = 64\n",
    "        buckets = iter(reversed(full_data['tok_cat'].unique().tolist()))\n",
    "\n",
    "        for bucket in buckets :\n",
    "            total_loss = 0     \n",
    "            \n",
    "            src_corpus = full_data.loc[full_data['tok_cat']==bucket,'toks_en'].values\n",
    "            tgt_corpus = full_data.loc[full_data['tok_cat']==bucket,'toks_dec'].values\n",
    "            src_valid_corpus = full_data_test['toks_en'].values\n",
    "            tgt_valid_corpus = full_data_test['toks_dec'].values\n",
    "            max_len = full_data.loc[full_data['tok_cat']==bucket,'tok_len'].max()\n",
    "\n",
    "            if max_len > 380 :\n",
    "                batch_size = 8\n",
    "\n",
    "            if max_len > 512 : \n",
    "                max_len = 512\n",
    "\n",
    "\n",
    "            enc_train = tf.keras.preprocessing.sequence.pad_sequences(src_corpus, padding='post', maxlen=max_len)\n",
    "            dec_train = tf.keras.preprocessing.sequence.pad_sequences(tgt_corpus, padding='post', maxlen=max_len)\n",
    "            enc_test = tf.keras.preprocessing.sequence.pad_sequences(src_valid_corpus, padding='post', maxlen=max_len)\n",
    "            dec_test = tf.keras.preprocessing.sequence.pad_sequences(tgt_valid_corpus, padding='post', maxlen=max_len)\n",
    "            \n",
    "            idx_list = list(range(0, enc_train.shape[0], batch_size))\n",
    "            random.shuffle(idx_list)\n",
    "\n",
    "            t = tqdm(idx_list)\n",
    "            \n",
    "            for (batch, idx) in enumerate(t):\n",
    "                batch_loss, enc_attns, dec_attns, dec_enc_attns, preds = train_step(enc_train[idx:idx+batch_size],\n",
    "                                                                             dec_train[idx:idx+batch_size],\n",
    "                                                                             transformer,\n",
    "                                                                             optimizer)\n",
    "\n",
    "                total_loss += batch_loss\n",
    "\n",
    "                t.set_description_str('Bucket %2d' % (bucket))\n",
    "                t.set_postfix_str('Loss %.4f' % (total_loss.numpy() / (batch + 1)))\n",
    "            \n",
    "                wandb.log({\n",
    "                       \"train_loss\": (total_loss.numpy() / (batch + 1)),\n",
    "                       })\n",
    "            \n",
    "            #validation\n",
    "            total_loss_val = 0\n",
    "            val_size=25\n",
    "            tv = tqdm(range(0,enc_test.shape[0], val_size))\n",
    "            \n",
    "            for (batch_val,test_idx) in enumerate(tv) :\n",
    "                val_loss, val_preds = model_validate(enc_test[test_idx : test_idx + val_size],\n",
    "                                          dec_test[test_idx : test_idx + val_size],\n",
    "                                          transformer)\n",
    "                total_loss_val += val_loss\n",
    "                tv.set_postfix_str('val_Loss %.4f' % (total_loss_val.numpy() / (batch_val + 1)))\n",
    "                \n",
    "                wandb.log({\n",
    "                           \"valid_loss\" : (total_loss_val.numpy() / (batch_val + 1))\n",
    "                           })\n",
    "\n",
    "            save_path = manager.save()\n",
    "            print(\"Saved checkpoint for step {}: {}\".format(int(ckpt.step), save_path))\n",
    "            \n",
    "        # bleu score\n",
    "        from datasets import load_metric\n",
    "\n",
    "        bleu = load_metric(\"sacrebleu\")\n",
    "        test_translate = []\n",
    "        bleu_valid_score = []\n",
    "        \n",
    "        test_text = full_data_test.eng.values\n",
    "        test_tgt = full_data_test.dial.values\n",
    "        \n",
    "        for i in tqdm(range(len(test_text))) :\n",
    "            trans = translate(test_text[i], transformer, enc_tokenizer, dec_tokenizer, verbose =False)\n",
    "            test_translate.append(trans)\n",
    "            label = dec_tokenizer.decode(test_tgt[i])\n",
    "            result = bleu.compute(predictions=[trans], references=[[label]], smooth_method='add-k')['score']\n",
    "            bleu_valid_score.append(result)\n",
    "\n",
    "        sum(bleu_valid_score)/len(test_text)\n",
    "        wandb.log({\"bleu\": sum(bleu_valid_score)/len(test_text)})\n",
    "\n",
    "        full_data_test['bleu'] = np.array(bleu_valid_score)\n",
    "        full_data_test['pred'] = test_translate\n",
    "            \n",
    "directory = os.getenv('HOME') + '/aiffel/MODEL/'\n",
    "ckpt = tf.train.Checkpoint(step = tf.Variable(1), optimizer = optimizer , transformer = transformer)\n",
    "manager = tf.train.CheckpointManager(ckpt, directory +f'tf_{tokenizer_name}16000_ckpt_final_0329_최종',max_to_keep=6)"
   ]
  },
  {
   "cell_type": "code",
   "execution_count": 76,
   "id": "ca39fb37",
   "metadata": {},
   "outputs": [],
   "source": [
    "# import shutil\n",
    "# dir_mo = os.getenv(\"HOME\") + '/aiffel/MODEL'\n",
    "# os.listdir(dir_mo)"
   ]
  },
  {
   "cell_type": "code",
   "execution_count": 77,
   "id": "ebb2b08c",
   "metadata": {},
   "outputs": [],
   "source": [
    "# shutil.rmtree(dir_mo + '/##')"
   ]
  },
  {
   "cell_type": "code",
   "execution_count": 78,
   "id": "fbae181d",
   "metadata": {},
   "outputs": [
    {
     "data": {
      "text/plain": [
       "'/home/seuyon0101/aiffel/MODEL/tf_cmsp16000_ckpt_final_0329_최종/ckpt-21'"
      ]
     },
     "execution_count": 78,
     "metadata": {},
     "output_type": "execute_result"
    }
   ],
   "source": [
    "manager.latest_checkpoint"
   ]
  },
  {
   "cell_type": "code",
   "execution_count": 54,
   "id": "f2638afa",
   "metadata": {},
   "outputs": [
    {
     "data": {
      "text/plain": [
       "<tensorflow.python.training.tracking.util.CheckpointLoadStatus at 0x7f39c5c73f40>"
      ]
     },
     "execution_count": 54,
     "metadata": {},
     "output_type": "execute_result"
    }
   ],
   "source": [
    "ckpt.restore(manager.latest_checkpoint)"
   ]
  },
  {
   "cell_type": "markdown",
   "id": "fdc947d2",
   "metadata": {},
   "source": [
    "## 학습"
   ]
  },
  {
   "cell_type": "code",
   "execution_count": 60,
   "id": "3d13972d",
   "metadata": {},
   "outputs": [
    {
     "data": {
      "text/html": [
       "Finishing last run (ID:hgov3hje) before initializing another..."
      ],
      "text/plain": [
       "<IPython.core.display.HTML object>"
      ]
     },
     "metadata": {},
     "output_type": "display_data"
    },
    {
     "data": {
      "text/html": [
       "Waiting for W&B process to finish... <strong style=\"color:green\">(success).</strong>"
      ],
      "text/plain": [
       "<IPython.core.display.HTML object>"
      ]
     },
     "metadata": {},
     "output_type": "display_data"
    },
    {
     "data": {
      "text/html": [
       " View run <strong style=\"color:#cdcd00\">desert-planet-1</strong> at: <a href='https://wandb.ai/saturi/model_exp_msp_16000_0329_final_%EC%B5%9C%EC%A2%85/runs/hgov3hje' target=\"_blank\">https://wandb.ai/saturi/model_exp_msp_16000_0329_final_%EC%B5%9C%EC%A2%85/runs/hgov3hje</a><br/>Synced 5 W&B file(s), 0 media file(s), 0 artifact file(s) and 0 other file(s)"
      ],
      "text/plain": [
       "<IPython.core.display.HTML object>"
      ]
     },
     "metadata": {},
     "output_type": "display_data"
    },
    {
     "data": {
      "text/html": [
       "Find logs at: <code>./wandb/run-20230329_204719-hgov3hje/logs</code>"
      ],
      "text/plain": [
       "<IPython.core.display.HTML object>"
      ]
     },
     "metadata": {},
     "output_type": "display_data"
    },
    {
     "data": {
      "text/html": [
       "Successfully finished last run (ID:hgov3hje). Initializing new run:<br/>"
      ],
      "text/plain": [
       "<IPython.core.display.HTML object>"
      ]
     },
     "metadata": {},
     "output_type": "display_data"
    },
    {
     "data": {
      "text/html": [
       "Tracking run with wandb version 0.14.0"
      ],
      "text/plain": [
       "<IPython.core.display.HTML object>"
      ]
     },
     "metadata": {},
     "output_type": "display_data"
    },
    {
     "data": {
      "text/html": [
       "Run data is saved locally in <code>/home/seuyon0101/aiffel/saturi/notebook/Model/wandb/run-20230329_204742-mob959zs</code>"
      ],
      "text/plain": [
       "<IPython.core.display.HTML object>"
      ]
     },
     "metadata": {},
     "output_type": "display_data"
    },
    {
     "data": {
      "text/html": [
       "Syncing run <strong><a href='https://wandb.ai/saturi/model_exp_msp_16000_0329_final_%EC%B5%9C%EC%A2%85/runs/mob959zs' target=\"_blank\">likely-plant-2</a></strong> to <a href='https://wandb.ai/saturi/model_exp_msp_16000_0329_final_%EC%B5%9C%EC%A2%85' target=\"_blank\">Weights & Biases</a> (<a href='https://wandb.me/run' target=\"_blank\">docs</a>)<br/>"
      ],
      "text/plain": [
       "<IPython.core.display.HTML object>"
      ]
     },
     "metadata": {},
     "output_type": "display_data"
    },
    {
     "data": {
      "text/html": [
       " View project at <a href='https://wandb.ai/saturi/model_exp_msp_16000_0329_final_%EC%B5%9C%EC%A2%85' target=\"_blank\">https://wandb.ai/saturi/model_exp_msp_16000_0329_final_%EC%B5%9C%EC%A2%85</a>"
      ],
      "text/plain": [
       "<IPython.core.display.HTML object>"
      ]
     },
     "metadata": {},
     "output_type": "display_data"
    },
    {
     "data": {
      "text/html": [
       " View run at <a href='https://wandb.ai/saturi/model_exp_msp_16000_0329_final_%EC%B5%9C%EC%A2%85/runs/mob959zs' target=\"_blank\">https://wandb.ai/saturi/model_exp_msp_16000_0329_final_%EC%B5%9C%EC%A2%85/runs/mob959zs</a>"
      ],
      "text/plain": [
       "<IPython.core.display.HTML object>"
      ]
     },
     "metadata": {},
     "output_type": "display_data"
    },
    {
     "name": "stdout",
     "output_type": "stream",
     "text": [
      "Initializing from scratch.\n"
     ]
    },
    {
     "name": "stderr",
     "output_type": "stream",
     "text": [
      "Bucket  3: 100%|████████████████████| 2/2 [00:15<00:00,  7.69s/it, Loss 10.9560]\n",
      "100%|███████████████████████████| 5/5 [00:02<00:00,  2.42it/s, val_Loss 11.1400]\n"
     ]
    },
    {
     "name": "stdout",
     "output_type": "stream",
     "text": [
      "Saved checkpoint for step 1: /home/seuyon0101/aiffel/MODEL/tf_msp16000_ckpt_final_0329_최종/ckpt-1\n"
     ]
    },
    {
     "name": "stderr",
     "output_type": "stream",
     "text": [
      "Bucket  2: 100%|███████████████| 1455/1455 [04:20<00:00,  5.57it/s, Loss 6.3693]\n",
      "100%|████████████████████████████| 5/5 [00:01<00:00,  2.69it/s, val_Loss 5.1792]\n"
     ]
    },
    {
     "name": "stdout",
     "output_type": "stream",
     "text": [
      "Saved checkpoint for step 1: /home/seuyon0101/aiffel/MODEL/tf_msp16000_ckpt_final_0329_최종/ckpt-2\n"
     ]
    },
    {
     "name": "stderr",
     "output_type": "stream",
     "text": [
      "Bucket  1: 100%|█████████████| 13360/13360 [15:57<00:00, 13.96it/s, Loss 4.0195]\n",
      "100%|████████████████████████████| 5/5 [00:01<00:00,  2.84it/s, val_Loss 3.4688]\n"
     ]
    },
    {
     "name": "stdout",
     "output_type": "stream",
     "text": [
      "Saved checkpoint for step 1: /home/seuyon0101/aiffel/MODEL/tf_msp16000_ckpt_final_0329_최종/ckpt-3\n"
     ]
    },
    {
     "name": "stderr",
     "output_type": "stream",
     "text": [
      "100%|█████████████████████████████████████████| 125/125 [03:57<00:00,  1.90s/it]\n"
     ]
    },
    {
     "data": {
      "text/html": [
       "Finishing last run (ID:mob959zs) before initializing another..."
      ],
      "text/plain": [
       "<IPython.core.display.HTML object>"
      ]
     },
     "metadata": {},
     "output_type": "display_data"
    },
    {
     "data": {
      "text/html": [
       "Waiting for W&B process to finish... <strong style=\"color:green\">(success).</strong>"
      ],
      "text/plain": [
       "<IPython.core.display.HTML object>"
      ]
     },
     "metadata": {},
     "output_type": "display_data"
    },
    {
     "data": {
      "text/html": [
       "<style>\n",
       "    table.wandb td:nth-child(1) { padding: 0 10px; text-align: left ; width: auto;} td:nth-child(2) {text-align: left ; width: 100%}\n",
       "    .wandb-row { display: flex; flex-direction: row; flex-wrap: wrap; justify-content: flex-start; width: 100% }\n",
       "    .wandb-col { display: flex; flex-direction: column; flex-basis: 100%; flex: 1; padding: 10px; }\n",
       "    </style>\n",
       "<div class=\"wandb-row\"><div class=\"wandb-col\"><h3>Run history:</h3><br/><table class=\"wandb\"><tr><td>bleu</td><td>▁</td></tr><tr><td>train_loss</td><td>█▆▅▄▃▂▂▂▂▂▂▂▂▂▂▂▂▂▂▁▁▁▁▁▁▁▁▁▁▁▁▁▁▁▁▁▁▁▁▁</td></tr><tr><td>valid_loss</td><td>█████▂▃▃▃▃▁▁▁▁▁</td></tr></table><br/></div><div class=\"wandb-col\"><h3>Run summary:</h3><br/><table class=\"wandb\"><tr><td>bleu</td><td>13.49475</td></tr><tr><td>train_loss</td><td>4.01946</td></tr><tr><td>valid_loss</td><td>3.46879</td></tr></table><br/></div></div>"
      ],
      "text/plain": [
       "<IPython.core.display.HTML object>"
      ]
     },
     "metadata": {},
     "output_type": "display_data"
    },
    {
     "data": {
      "text/html": [
       " View run <strong style=\"color:#cdcd00\">likely-plant-2</strong> at: <a href='https://wandb.ai/saturi/model_exp_msp_16000_0329_final_%EC%B5%9C%EC%A2%85/runs/mob959zs' target=\"_blank\">https://wandb.ai/saturi/model_exp_msp_16000_0329_final_%EC%B5%9C%EC%A2%85/runs/mob959zs</a><br/>Synced 6 W&B file(s), 0 media file(s), 0 artifact file(s) and 0 other file(s)"
      ],
      "text/plain": [
       "<IPython.core.display.HTML object>"
      ]
     },
     "metadata": {},
     "output_type": "display_data"
    },
    {
     "data": {
      "text/html": [
       "Find logs at: <code>./wandb/run-20230329_204742-mob959zs/logs</code>"
      ],
      "text/plain": [
       "<IPython.core.display.HTML object>"
      ]
     },
     "metadata": {},
     "output_type": "display_data"
    },
    {
     "data": {
      "text/html": [
       "Successfully finished last run (ID:mob959zs). Initializing new run:<br/>"
      ],
      "text/plain": [
       "<IPython.core.display.HTML object>"
      ]
     },
     "metadata": {},
     "output_type": "display_data"
    },
    {
     "data": {
      "text/html": [
       "Tracking run with wandb version 0.14.0"
      ],
      "text/plain": [
       "<IPython.core.display.HTML object>"
      ]
     },
     "metadata": {},
     "output_type": "display_data"
    },
    {
     "data": {
      "text/html": [
       "Run data is saved locally in <code>/home/seuyon0101/aiffel/saturi/notebook/Model/wandb/run-20230329_211239-lttxbvog</code>"
      ],
      "text/plain": [
       "<IPython.core.display.HTML object>"
      ]
     },
     "metadata": {},
     "output_type": "display_data"
    },
    {
     "data": {
      "text/html": [
       "Syncing run <strong><a href='https://wandb.ai/saturi/model_exp_msp_16000_0329_final_%EC%B5%9C%EC%A2%85/runs/lttxbvog' target=\"_blank\">divine-pyramid-3</a></strong> to <a href='https://wandb.ai/saturi/model_exp_msp_16000_0329_final_%EC%B5%9C%EC%A2%85' target=\"_blank\">Weights & Biases</a> (<a href='https://wandb.me/run' target=\"_blank\">docs</a>)<br/>"
      ],
      "text/plain": [
       "<IPython.core.display.HTML object>"
      ]
     },
     "metadata": {},
     "output_type": "display_data"
    },
    {
     "data": {
      "text/html": [
       " View project at <a href='https://wandb.ai/saturi/model_exp_msp_16000_0329_final_%EC%B5%9C%EC%A2%85' target=\"_blank\">https://wandb.ai/saturi/model_exp_msp_16000_0329_final_%EC%B5%9C%EC%A2%85</a>"
      ],
      "text/plain": [
       "<IPython.core.display.HTML object>"
      ]
     },
     "metadata": {},
     "output_type": "display_data"
    },
    {
     "data": {
      "text/html": [
       " View run at <a href='https://wandb.ai/saturi/model_exp_msp_16000_0329_final_%EC%B5%9C%EC%A2%85/runs/lttxbvog' target=\"_blank\">https://wandb.ai/saturi/model_exp_msp_16000_0329_final_%EC%B5%9C%EC%A2%85/runs/lttxbvog</a>"
      ],
      "text/plain": [
       "<IPython.core.display.HTML object>"
      ]
     },
     "metadata": {},
     "output_type": "display_data"
    },
    {
     "name": "stdout",
     "output_type": "stream",
     "text": [
      "Restored from /home/seuyon0101/aiffel/MODEL/tf_msp16000_ckpt_final_0329_최종/ckpt-3\n"
     ]
    },
    {
     "name": "stderr",
     "output_type": "stream",
     "text": [
      "Bucket  3: 100%|█████████████████████| 2/2 [00:00<00:00,  3.27it/s, Loss 5.9534]\n",
      "100%|████████████████████████████| 5/5 [00:00<00:00, 16.07it/s, val_Loss 3.6166]\n"
     ]
    },
    {
     "name": "stdout",
     "output_type": "stream",
     "text": [
      "Saved checkpoint for step 1: /home/seuyon0101/aiffel/MODEL/tf_msp16000_ckpt_final_0329_최종/ckpt-4\n"
     ]
    },
    {
     "name": "stderr",
     "output_type": "stream",
     "text": [
      "Bucket  2: 100%|███████████████| 1455/1455 [04:09<00:00,  5.84it/s, Loss 3.6591]\n",
      "100%|████████████████████████████| 5/5 [00:00<00:00, 36.57it/s, val_Loss 3.3120]\n"
     ]
    },
    {
     "name": "stdout",
     "output_type": "stream",
     "text": [
      "Saved checkpoint for step 1: /home/seuyon0101/aiffel/MODEL/tf_msp16000_ckpt_final_0329_최종/ckpt-5\n"
     ]
    },
    {
     "name": "stderr",
     "output_type": "stream",
     "text": [
      "Bucket  1: 100%|█████████████| 13360/13360 [15:47<00:00, 14.10it/s, Loss 3.1533]\n",
      "100%|████████████████████████████| 5/5 [00:00<00:00, 75.64it/s, val_Loss 3.1712]\n"
     ]
    },
    {
     "name": "stdout",
     "output_type": "stream",
     "text": [
      "Saved checkpoint for step 1: /home/seuyon0101/aiffel/MODEL/tf_msp16000_ckpt_final_0329_최종/ckpt-6\n"
     ]
    },
    {
     "name": "stderr",
     "output_type": "stream",
     "text": [
      "100%|█████████████████████████████████████████| 125/125 [04:10<00:00,  2.01s/it]\n"
     ]
    },
    {
     "data": {
      "text/html": [
       "Finishing last run (ID:lttxbvog) before initializing another..."
      ],
      "text/plain": [
       "<IPython.core.display.HTML object>"
      ]
     },
     "metadata": {},
     "output_type": "display_data"
    },
    {
     "data": {
      "text/html": [
       "Waiting for W&B process to finish... <strong style=\"color:green\">(success).</strong>"
      ],
      "text/plain": [
       "<IPython.core.display.HTML object>"
      ]
     },
     "metadata": {},
     "output_type": "display_data"
    },
    {
     "data": {
      "application/vnd.jupyter.widget-view+json": {
       "model_id": "24d62cb587d941709ee5190bd76a782d",
       "version_major": 2,
       "version_minor": 0
      },
      "text/plain": [
       "VBox(children=(Label(value='0.002 MB of 0.002 MB uploaded (0.000 MB deduped)\\r'), FloatProgress(value=1.0, max…"
      ]
     },
     "metadata": {},
     "output_type": "display_data"
    },
    {
     "data": {
      "text/html": [
       "<style>\n",
       "    table.wandb td:nth-child(1) { padding: 0 10px; text-align: left ; width: auto;} td:nth-child(2) {text-align: left ; width: 100%}\n",
       "    .wandb-row { display: flex; flex-direction: row; flex-wrap: wrap; justify-content: flex-start; width: 100% }\n",
       "    .wandb-col { display: flex; flex-direction: column; flex-basis: 100%; flex: 1; padding: 10px; }\n",
       "    </style>\n",
       "<div class=\"wandb-row\"><div class=\"wandb-col\"><h3>Run history:</h3><br/><table class=\"wandb\"><tr><td>bleu</td><td>▁</td></tr><tr><td>train_loss</td><td>█▇▇▆▂▂▂▂▂▂▂▂▂▂▂▂▂▂▂▂▂▂▁▁▁▁▁▁▁▁▁▁▁▁▁▁▁▁▁▁</td></tr><tr><td>valid_loss</td><td>▆▇█▇▆▁▄▄▃▃▂▂▃▂▁</td></tr></table><br/></div><div class=\"wandb-col\"><h3>Run summary:</h3><br/><table class=\"wandb\"><tr><td>bleu</td><td>14.48771</td></tr><tr><td>train_loss</td><td>3.15328</td></tr><tr><td>valid_loss</td><td>3.17121</td></tr></table><br/></div></div>"
      ],
      "text/plain": [
       "<IPython.core.display.HTML object>"
      ]
     },
     "metadata": {},
     "output_type": "display_data"
    },
    {
     "data": {
      "text/html": [
       " View run <strong style=\"color:#cdcd00\">divine-pyramid-3</strong> at: <a href='https://wandb.ai/saturi/model_exp_msp_16000_0329_final_%EC%B5%9C%EC%A2%85/runs/lttxbvog' target=\"_blank\">https://wandb.ai/saturi/model_exp_msp_16000_0329_final_%EC%B5%9C%EC%A2%85/runs/lttxbvog</a><br/>Synced 6 W&B file(s), 0 media file(s), 0 artifact file(s) and 0 other file(s)"
      ],
      "text/plain": [
       "<IPython.core.display.HTML object>"
      ]
     },
     "metadata": {},
     "output_type": "display_data"
    },
    {
     "data": {
      "text/html": [
       "Find logs at: <code>./wandb/run-20230329_211239-lttxbvog/logs</code>"
      ],
      "text/plain": [
       "<IPython.core.display.HTML object>"
      ]
     },
     "metadata": {},
     "output_type": "display_data"
    },
    {
     "data": {
      "text/html": [
       "Successfully finished last run (ID:lttxbvog). Initializing new run:<br/>"
      ],
      "text/plain": [
       "<IPython.core.display.HTML object>"
      ]
     },
     "metadata": {},
     "output_type": "display_data"
    },
    {
     "data": {
      "text/html": [
       "Tracking run with wandb version 0.14.0"
      ],
      "text/plain": [
       "<IPython.core.display.HTML object>"
      ]
     },
     "metadata": {},
     "output_type": "display_data"
    },
    {
     "data": {
      "text/html": [
       "Run data is saved locally in <code>/home/seuyon0101/aiffel/saturi/notebook/Model/wandb/run-20230329_213711-v71ii37g</code>"
      ],
      "text/plain": [
       "<IPython.core.display.HTML object>"
      ]
     },
     "metadata": {},
     "output_type": "display_data"
    },
    {
     "data": {
      "text/html": [
       "Syncing run <strong><a href='https://wandb.ai/saturi/model_exp_msp_16000_0329_final_%EC%B5%9C%EC%A2%85/runs/v71ii37g' target=\"_blank\">earthy-darkness-4</a></strong> to <a href='https://wandb.ai/saturi/model_exp_msp_16000_0329_final_%EC%B5%9C%EC%A2%85' target=\"_blank\">Weights & Biases</a> (<a href='https://wandb.me/run' target=\"_blank\">docs</a>)<br/>"
      ],
      "text/plain": [
       "<IPython.core.display.HTML object>"
      ]
     },
     "metadata": {},
     "output_type": "display_data"
    },
    {
     "data": {
      "text/html": [
       " View project at <a href='https://wandb.ai/saturi/model_exp_msp_16000_0329_final_%EC%B5%9C%EC%A2%85' target=\"_blank\">https://wandb.ai/saturi/model_exp_msp_16000_0329_final_%EC%B5%9C%EC%A2%85</a>"
      ],
      "text/plain": [
       "<IPython.core.display.HTML object>"
      ]
     },
     "metadata": {},
     "output_type": "display_data"
    },
    {
     "data": {
      "text/html": [
       " View run at <a href='https://wandb.ai/saturi/model_exp_msp_16000_0329_final_%EC%B5%9C%EC%A2%85/runs/v71ii37g' target=\"_blank\">https://wandb.ai/saturi/model_exp_msp_16000_0329_final_%EC%B5%9C%EC%A2%85/runs/v71ii37g</a>"
      ],
      "text/plain": [
       "<IPython.core.display.HTML object>"
      ]
     },
     "metadata": {},
     "output_type": "display_data"
    },
    {
     "name": "stdout",
     "output_type": "stream",
     "text": [
      "Restored from /home/seuyon0101/aiffel/MODEL/tf_msp16000_ckpt_final_0329_최종/ckpt-6\n"
     ]
    },
    {
     "name": "stderr",
     "output_type": "stream",
     "text": [
      "Bucket  3: 100%|█████████████████████| 2/2 [00:00<00:00,  3.26it/s, Loss 5.0421]\n",
      "100%|████████████████████████████| 5/5 [00:00<00:00, 16.10it/s, val_Loss 3.2199]\n"
     ]
    },
    {
     "name": "stdout",
     "output_type": "stream",
     "text": [
      "Saved checkpoint for step 1: /home/seuyon0101/aiffel/MODEL/tf_msp16000_ckpt_final_0329_최종/ckpt-7\n"
     ]
    },
    {
     "name": "stderr",
     "output_type": "stream",
     "text": [
      "Bucket  2: 100%|███████████████| 1455/1455 [04:08<00:00,  5.84it/s, Loss 3.2279]\n",
      "100%|████████████████████████████| 5/5 [00:00<00:00, 37.07it/s, val_Loss 2.9666]\n"
     ]
    },
    {
     "name": "stdout",
     "output_type": "stream",
     "text": [
      "Saved checkpoint for step 1: /home/seuyon0101/aiffel/MODEL/tf_msp16000_ckpt_final_0329_최종/ckpt-8\n"
     ]
    },
    {
     "name": "stderr",
     "output_type": "stream",
     "text": [
      "Bucket  1: 100%|█████████████| 13360/13360 [15:45<00:00, 14.13it/s, Loss 2.8352]\n",
      "100%|████████████████████████████| 5/5 [00:00<00:00, 76.50it/s, val_Loss 3.0164]\n"
     ]
    },
    {
     "name": "stdout",
     "output_type": "stream",
     "text": [
      "Saved checkpoint for step 1: /home/seuyon0101/aiffel/MODEL/tf_msp16000_ckpt_final_0329_최종/ckpt-9\n"
     ]
    },
    {
     "name": "stderr",
     "output_type": "stream",
     "text": [
      "100%|█████████████████████████████████████████| 125/125 [04:08<00:00,  1.98s/it]\n"
     ]
    },
    {
     "data": {
      "text/html": [
       "Finishing last run (ID:v71ii37g) before initializing another..."
      ],
      "text/plain": [
       "<IPython.core.display.HTML object>"
      ]
     },
     "metadata": {},
     "output_type": "display_data"
    },
    {
     "data": {
      "text/html": [
       "Waiting for W&B process to finish... <strong style=\"color:green\">(success).</strong>"
      ],
      "text/plain": [
       "<IPython.core.display.HTML object>"
      ]
     },
     "metadata": {},
     "output_type": "display_data"
    },
    {
     "data": {
      "text/html": [
       "<style>\n",
       "    table.wandb td:nth-child(1) { padding: 0 10px; text-align: left ; width: auto;} td:nth-child(2) {text-align: left ; width: 100%}\n",
       "    .wandb-row { display: flex; flex-direction: row; flex-wrap: wrap; justify-content: flex-start; width: 100% }\n",
       "    .wandb-col { display: flex; flex-direction: column; flex-basis: 100%; flex: 1; padding: 10px; }\n",
       "    </style>\n",
       "<div class=\"wandb-row\"><div class=\"wandb-col\"><h3>Run history:</h3><br/><table class=\"wandb\"><tr><td>bleu</td><td>▁</td></tr><tr><td>train_loss</td><td>█▇▇▆▁▁▁▁▁▁▁▁▁▁▁▁▁▁▁▁▁▁▂▂▂▂▂▂▂▂▂▂▂▂▂▂▂▂▂▂</td></tr><tr><td>valid_loss</td><td>▇▇█▇▅▁▄▄▂▂▃▄▅▄▃</td></tr></table><br/></div><div class=\"wandb-col\"><h3>Run summary:</h3><br/><table class=\"wandb\"><tr><td>bleu</td><td>14.46051</td></tr><tr><td>train_loss</td><td>2.83516</td></tr><tr><td>valid_loss</td><td>3.01635</td></tr></table><br/></div></div>"
      ],
      "text/plain": [
       "<IPython.core.display.HTML object>"
      ]
     },
     "metadata": {},
     "output_type": "display_data"
    },
    {
     "data": {
      "text/html": [
       " View run <strong style=\"color:#cdcd00\">earthy-darkness-4</strong> at: <a href='https://wandb.ai/saturi/model_exp_msp_16000_0329_final_%EC%B5%9C%EC%A2%85/runs/v71ii37g' target=\"_blank\">https://wandb.ai/saturi/model_exp_msp_16000_0329_final_%EC%B5%9C%EC%A2%85/runs/v71ii37g</a><br/>Synced 6 W&B file(s), 0 media file(s), 0 artifact file(s) and 0 other file(s)"
      ],
      "text/plain": [
       "<IPython.core.display.HTML object>"
      ]
     },
     "metadata": {},
     "output_type": "display_data"
    },
    {
     "data": {
      "text/html": [
       "Find logs at: <code>./wandb/run-20230329_213711-v71ii37g/logs</code>"
      ],
      "text/plain": [
       "<IPython.core.display.HTML object>"
      ]
     },
     "metadata": {},
     "output_type": "display_data"
    },
    {
     "data": {
      "text/html": [
       "Successfully finished last run (ID:v71ii37g). Initializing new run:<br/>"
      ],
      "text/plain": [
       "<IPython.core.display.HTML object>"
      ]
     },
     "metadata": {},
     "output_type": "display_data"
    },
    {
     "data": {
      "text/html": [
       "Tracking run with wandb version 0.14.0"
      ],
      "text/plain": [
       "<IPython.core.display.HTML object>"
      ]
     },
     "metadata": {},
     "output_type": "display_data"
    },
    {
     "data": {
      "text/html": [
       "Run data is saved locally in <code>/home/seuyon0101/aiffel/saturi/notebook/Model/wandb/run-20230329_220136-h644pv5j</code>"
      ],
      "text/plain": [
       "<IPython.core.display.HTML object>"
      ]
     },
     "metadata": {},
     "output_type": "display_data"
    },
    {
     "data": {
      "text/html": [
       "Syncing run <strong><a href='https://wandb.ai/saturi/model_exp_msp_16000_0329_final_%EC%B5%9C%EC%A2%85/runs/h644pv5j' target=\"_blank\">splendid-snowflake-5</a></strong> to <a href='https://wandb.ai/saturi/model_exp_msp_16000_0329_final_%EC%B5%9C%EC%A2%85' target=\"_blank\">Weights & Biases</a> (<a href='https://wandb.me/run' target=\"_blank\">docs</a>)<br/>"
      ],
      "text/plain": [
       "<IPython.core.display.HTML object>"
      ]
     },
     "metadata": {},
     "output_type": "display_data"
    },
    {
     "data": {
      "text/html": [
       " View project at <a href='https://wandb.ai/saturi/model_exp_msp_16000_0329_final_%EC%B5%9C%EC%A2%85' target=\"_blank\">https://wandb.ai/saturi/model_exp_msp_16000_0329_final_%EC%B5%9C%EC%A2%85</a>"
      ],
      "text/plain": [
       "<IPython.core.display.HTML object>"
      ]
     },
     "metadata": {},
     "output_type": "display_data"
    },
    {
     "data": {
      "text/html": [
       " View run at <a href='https://wandb.ai/saturi/model_exp_msp_16000_0329_final_%EC%B5%9C%EC%A2%85/runs/h644pv5j' target=\"_blank\">https://wandb.ai/saturi/model_exp_msp_16000_0329_final_%EC%B5%9C%EC%A2%85/runs/h644pv5j</a>"
      ],
      "text/plain": [
       "<IPython.core.display.HTML object>"
      ]
     },
     "metadata": {},
     "output_type": "display_data"
    },
    {
     "name": "stdout",
     "output_type": "stream",
     "text": [
      "Restored from /home/seuyon0101/aiffel/MODEL/tf_msp16000_ckpt_final_0329_최종/ckpt-9\n"
     ]
    },
    {
     "name": "stderr",
     "output_type": "stream",
     "text": [
      "Bucket  3: 100%|█████████████████████| 2/2 [00:00<00:00,  3.26it/s, Loss 4.6700]\n",
      "100%|████████████████████████████| 5/5 [00:00<00:00, 15.86it/s, val_Loss 3.0463]\n"
     ]
    },
    {
     "name": "stdout",
     "output_type": "stream",
     "text": [
      "Saved checkpoint for step 1: /home/seuyon0101/aiffel/MODEL/tf_msp16000_ckpt_final_0329_최종/ckpt-10\n"
     ]
    },
    {
     "name": "stderr",
     "output_type": "stream",
     "text": [
      "Bucket  2: 100%|███████████████| 1455/1455 [04:09<00:00,  5.84it/s, Loss 3.0106]\n",
      "100%|████████████████████████████| 5/5 [00:00<00:00, 37.25it/s, val_Loss 2.8115]\n"
     ]
    },
    {
     "name": "stdout",
     "output_type": "stream",
     "text": [
      "Saved checkpoint for step 1: /home/seuyon0101/aiffel/MODEL/tf_msp16000_ckpt_final_0329_최종/ckpt-11\n"
     ]
    },
    {
     "name": "stderr",
     "output_type": "stream",
     "text": [
      "Bucket  1: 100%|█████████████| 13360/13360 [15:46<00:00, 14.11it/s, Loss 2.6361]\n",
      "100%|████████████████████████████| 5/5 [00:00<00:00, 76.58it/s, val_Loss 2.9851]\n"
     ]
    },
    {
     "name": "stdout",
     "output_type": "stream",
     "text": [
      "Saved checkpoint for step 1: /home/seuyon0101/aiffel/MODEL/tf_msp16000_ckpt_final_0329_최종/ckpt-12\n"
     ]
    },
    {
     "name": "stderr",
     "output_type": "stream",
     "text": [
      "100%|█████████████████████████████████████████| 125/125 [04:06<00:00,  1.98s/it]\n"
     ]
    },
    {
     "data": {
      "text/html": [
       "Finishing last run (ID:h644pv5j) before initializing another..."
      ],
      "text/plain": [
       "<IPython.core.display.HTML object>"
      ]
     },
     "metadata": {},
     "output_type": "display_data"
    },
    {
     "data": {
      "text/html": [
       "Waiting for W&B process to finish... <strong style=\"color:green\">(success).</strong>"
      ],
      "text/plain": [
       "<IPython.core.display.HTML object>"
      ]
     },
     "metadata": {},
     "output_type": "display_data"
    },
    {
     "data": {
      "text/html": [
       "<style>\n",
       "    table.wandb td:nth-child(1) { padding: 0 10px; text-align: left ; width: auto;} td:nth-child(2) {text-align: left ; width: 100%}\n",
       "    .wandb-row { display: flex; flex-direction: row; flex-wrap: wrap; justify-content: flex-start; width: 100% }\n",
       "    .wandb-col { display: flex; flex-direction: column; flex-basis: 100%; flex: 1; padding: 10px; }\n",
       "    </style>\n",
       "<div class=\"wandb-row\"><div class=\"wandb-col\"><h3>Run history:</h3><br/><table class=\"wandb\"><tr><td>bleu</td><td>▁</td></tr><tr><td>train_loss</td><td>█▇▇▆▁▁▁▁▁▁▁▁▁▂▂▂▂▂▂▂▂▂▂▂▂▂▂▂▂▂▂▂▂▂▂▂▂▂▂▂</td></tr><tr><td>valid_loss</td><td>▅▇█▆▅▁▄▄▂▂▄▆▆▅▄</td></tr></table><br/></div><div class=\"wandb-col\"><h3>Run summary:</h3><br/><table class=\"wandb\"><tr><td>bleu</td><td>13.57258</td></tr><tr><td>train_loss</td><td>2.63609</td></tr><tr><td>valid_loss</td><td>2.9851</td></tr></table><br/></div></div>"
      ],
      "text/plain": [
       "<IPython.core.display.HTML object>"
      ]
     },
     "metadata": {},
     "output_type": "display_data"
    },
    {
     "data": {
      "text/html": [
       " View run <strong style=\"color:#cdcd00\">splendid-snowflake-5</strong> at: <a href='https://wandb.ai/saturi/model_exp_msp_16000_0329_final_%EC%B5%9C%EC%A2%85/runs/h644pv5j' target=\"_blank\">https://wandb.ai/saturi/model_exp_msp_16000_0329_final_%EC%B5%9C%EC%A2%85/runs/h644pv5j</a><br/>Synced 6 W&B file(s), 0 media file(s), 0 artifact file(s) and 0 other file(s)"
      ],
      "text/plain": [
       "<IPython.core.display.HTML object>"
      ]
     },
     "metadata": {},
     "output_type": "display_data"
    },
    {
     "data": {
      "text/html": [
       "Find logs at: <code>./wandb/run-20230329_220136-h644pv5j/logs</code>"
      ],
      "text/plain": [
       "<IPython.core.display.HTML object>"
      ]
     },
     "metadata": {},
     "output_type": "display_data"
    },
    {
     "data": {
      "text/html": [
       "Successfully finished last run (ID:h644pv5j). Initializing new run:<br/>"
      ],
      "text/plain": [
       "<IPython.core.display.HTML object>"
      ]
     },
     "metadata": {},
     "output_type": "display_data"
    },
    {
     "data": {
      "text/html": [
       "Tracking run with wandb version 0.14.0"
      ],
      "text/plain": [
       "<IPython.core.display.HTML object>"
      ]
     },
     "metadata": {},
     "output_type": "display_data"
    },
    {
     "data": {
      "text/html": [
       "Run data is saved locally in <code>/home/seuyon0101/aiffel/saturi/notebook/Model/wandb/run-20230329_222603-rymajur1</code>"
      ],
      "text/plain": [
       "<IPython.core.display.HTML object>"
      ]
     },
     "metadata": {},
     "output_type": "display_data"
    },
    {
     "data": {
      "text/html": [
       "Syncing run <strong><a href='https://wandb.ai/saturi/model_exp_msp_16000_0329_final_%EC%B5%9C%EC%A2%85/runs/rymajur1' target=\"_blank\">soft-music-6</a></strong> to <a href='https://wandb.ai/saturi/model_exp_msp_16000_0329_final_%EC%B5%9C%EC%A2%85' target=\"_blank\">Weights & Biases</a> (<a href='https://wandb.me/run' target=\"_blank\">docs</a>)<br/>"
      ],
      "text/plain": [
       "<IPython.core.display.HTML object>"
      ]
     },
     "metadata": {},
     "output_type": "display_data"
    },
    {
     "data": {
      "text/html": [
       " View project at <a href='https://wandb.ai/saturi/model_exp_msp_16000_0329_final_%EC%B5%9C%EC%A2%85' target=\"_blank\">https://wandb.ai/saturi/model_exp_msp_16000_0329_final_%EC%B5%9C%EC%A2%85</a>"
      ],
      "text/plain": [
       "<IPython.core.display.HTML object>"
      ]
     },
     "metadata": {},
     "output_type": "display_data"
    },
    {
     "data": {
      "text/html": [
       " View run at <a href='https://wandb.ai/saturi/model_exp_msp_16000_0329_final_%EC%B5%9C%EC%A2%85/runs/rymajur1' target=\"_blank\">https://wandb.ai/saturi/model_exp_msp_16000_0329_final_%EC%B5%9C%EC%A2%85/runs/rymajur1</a>"
      ],
      "text/plain": [
       "<IPython.core.display.HTML object>"
      ]
     },
     "metadata": {},
     "output_type": "display_data"
    },
    {
     "name": "stdout",
     "output_type": "stream",
     "text": [
      "Restored from /home/seuyon0101/aiffel/MODEL/tf_msp16000_ckpt_final_0329_최종/ckpt-12\n"
     ]
    },
    {
     "name": "stderr",
     "output_type": "stream",
     "text": [
      "Bucket  3: 100%|█████████████████████| 2/2 [00:00<00:00,  3.22it/s, Loss 4.4440]\n",
      "100%|████████████████████████████| 5/5 [00:00<00:00, 15.97it/s, val_Loss 3.0402]\n"
     ]
    },
    {
     "name": "stdout",
     "output_type": "stream",
     "text": [
      "Saved checkpoint for step 1: /home/seuyon0101/aiffel/MODEL/tf_msp16000_ckpt_final_0329_최종/ckpt-13\n"
     ]
    },
    {
     "name": "stderr",
     "output_type": "stream",
     "text": [
      "Bucket  2: 100%|███████████████| 1455/1455 [04:09<00:00,  5.83it/s, Loss 2.8591]\n",
      "100%|████████████████████████████| 5/5 [00:00<00:00, 36.61it/s, val_Loss 2.8034]\n"
     ]
    },
    {
     "name": "stdout",
     "output_type": "stream",
     "text": [
      "Saved checkpoint for step 1: /home/seuyon0101/aiffel/MODEL/tf_msp16000_ckpt_final_0329_최종/ckpt-14\n"
     ]
    },
    {
     "name": "stderr",
     "output_type": "stream",
     "text": [
      "Bucket  1: 100%|█████████████| 13360/13360 [15:47<00:00, 14.11it/s, Loss 2.4742]\n",
      "100%|████████████████████████████| 5/5 [00:00<00:00, 77.55it/s, val_Loss 2.9712]\n"
     ]
    },
    {
     "name": "stdout",
     "output_type": "stream",
     "text": [
      "Saved checkpoint for step 1: /home/seuyon0101/aiffel/MODEL/tf_msp16000_ckpt_final_0329_최종/ckpt-15\n"
     ]
    },
    {
     "name": "stderr",
     "output_type": "stream",
     "text": [
      "100%|█████████████████████████████████████████| 125/125 [04:10<00:00,  2.00s/it]\n"
     ]
    },
    {
     "data": {
      "text/html": [
       "Finishing last run (ID:rymajur1) before initializing another..."
      ],
      "text/plain": [
       "<IPython.core.display.HTML object>"
      ]
     },
     "metadata": {},
     "output_type": "display_data"
    },
    {
     "data": {
      "text/html": [
       "Waiting for W&B process to finish... <strong style=\"color:green\">(success).</strong>"
      ],
      "text/plain": [
       "<IPython.core.display.HTML object>"
      ]
     },
     "metadata": {},
     "output_type": "display_data"
    },
    {
     "data": {
      "text/html": [
       "<style>\n",
       "    table.wandb td:nth-child(1) { padding: 0 10px; text-align: left ; width: auto;} td:nth-child(2) {text-align: left ; width: 100%}\n",
       "    .wandb-row { display: flex; flex-direction: row; flex-wrap: wrap; justify-content: flex-start; width: 100% }\n",
       "    .wandb-col { display: flex; flex-direction: column; flex-basis: 100%; flex: 1; padding: 10px; }\n",
       "    </style>\n",
       "<div class=\"wandb-row\"><div class=\"wandb-col\"><h3>Run history:</h3><br/><table class=\"wandb\"><tr><td>bleu</td><td>▁</td></tr><tr><td>train_loss</td><td>█▇▇▆▁▁▁▁▁▁▁▁▂▂▂▂▂▂▂▂▂▂▂▂▂▂▂▂▂▂▂▂▂▂▂▂▂▂▂▂</td></tr><tr><td>valid_loss</td><td>▅▆█▆▅▁▄▃▂▂▅▇▇▆▄</td></tr></table><br/></div><div class=\"wandb-col\"><h3>Run summary:</h3><br/><table class=\"wandb\"><tr><td>bleu</td><td>14.60063</td></tr><tr><td>train_loss</td><td>2.47421</td></tr><tr><td>valid_loss</td><td>2.97119</td></tr></table><br/></div></div>"
      ],
      "text/plain": [
       "<IPython.core.display.HTML object>"
      ]
     },
     "metadata": {},
     "output_type": "display_data"
    },
    {
     "data": {
      "text/html": [
       " View run <strong style=\"color:#cdcd00\">soft-music-6</strong> at: <a href='https://wandb.ai/saturi/model_exp_msp_16000_0329_final_%EC%B5%9C%EC%A2%85/runs/rymajur1' target=\"_blank\">https://wandb.ai/saturi/model_exp_msp_16000_0329_final_%EC%B5%9C%EC%A2%85/runs/rymajur1</a><br/>Synced 6 W&B file(s), 0 media file(s), 0 artifact file(s) and 0 other file(s)"
      ],
      "text/plain": [
       "<IPython.core.display.HTML object>"
      ]
     },
     "metadata": {},
     "output_type": "display_data"
    },
    {
     "data": {
      "text/html": [
       "Find logs at: <code>./wandb/run-20230329_222603-rymajur1/logs</code>"
      ],
      "text/plain": [
       "<IPython.core.display.HTML object>"
      ]
     },
     "metadata": {},
     "output_type": "display_data"
    },
    {
     "data": {
      "text/html": [
       "Successfully finished last run (ID:rymajur1). Initializing new run:<br/>"
      ],
      "text/plain": [
       "<IPython.core.display.HTML object>"
      ]
     },
     "metadata": {},
     "output_type": "display_data"
    },
    {
     "data": {
      "text/html": [
       "Tracking run with wandb version 0.14.0"
      ],
      "text/plain": [
       "<IPython.core.display.HTML object>"
      ]
     },
     "metadata": {},
     "output_type": "display_data"
    },
    {
     "data": {
      "text/html": [
       "Run data is saved locally in <code>/home/seuyon0101/aiffel/saturi/notebook/Model/wandb/run-20230329_225033-l0dhlgmg</code>"
      ],
      "text/plain": [
       "<IPython.core.display.HTML object>"
      ]
     },
     "metadata": {},
     "output_type": "display_data"
    },
    {
     "data": {
      "text/html": [
       "Syncing run <strong><a href='https://wandb.ai/saturi/model_exp_msp_16000_0329_final_%EC%B5%9C%EC%A2%85/runs/l0dhlgmg' target=\"_blank\">valiant-yogurt-7</a></strong> to <a href='https://wandb.ai/saturi/model_exp_msp_16000_0329_final_%EC%B5%9C%EC%A2%85' target=\"_blank\">Weights & Biases</a> (<a href='https://wandb.me/run' target=\"_blank\">docs</a>)<br/>"
      ],
      "text/plain": [
       "<IPython.core.display.HTML object>"
      ]
     },
     "metadata": {},
     "output_type": "display_data"
    },
    {
     "data": {
      "text/html": [
       " View project at <a href='https://wandb.ai/saturi/model_exp_msp_16000_0329_final_%EC%B5%9C%EC%A2%85' target=\"_blank\">https://wandb.ai/saturi/model_exp_msp_16000_0329_final_%EC%B5%9C%EC%A2%85</a>"
      ],
      "text/plain": [
       "<IPython.core.display.HTML object>"
      ]
     },
     "metadata": {},
     "output_type": "display_data"
    },
    {
     "data": {
      "text/html": [
       " View run at <a href='https://wandb.ai/saturi/model_exp_msp_16000_0329_final_%EC%B5%9C%EC%A2%85/runs/l0dhlgmg' target=\"_blank\">https://wandb.ai/saturi/model_exp_msp_16000_0329_final_%EC%B5%9C%EC%A2%85/runs/l0dhlgmg</a>"
      ],
      "text/plain": [
       "<IPython.core.display.HTML object>"
      ]
     },
     "metadata": {},
     "output_type": "display_data"
    },
    {
     "name": "stdout",
     "output_type": "stream",
     "text": [
      "Restored from /home/seuyon0101/aiffel/MODEL/tf_msp16000_ckpt_final_0329_최종/ckpt-15\n"
     ]
    },
    {
     "name": "stderr",
     "output_type": "stream",
     "text": [
      "Bucket  3: 100%|█████████████████████| 2/2 [00:00<00:00,  3.24it/s, Loss 4.2102]\n",
      "100%|████████████████████████████| 5/5 [00:00<00:00, 16.02it/s, val_Loss 3.0409]\n"
     ]
    },
    {
     "name": "stdout",
     "output_type": "stream",
     "text": [
      "Saved checkpoint for step 1: /home/seuyon0101/aiffel/MODEL/tf_msp16000_ckpt_final_0329_최종/ckpt-16\n"
     ]
    },
    {
     "name": "stderr",
     "output_type": "stream",
     "text": [
      "Bucket  2: 100%|███████████████| 1455/1455 [04:09<00:00,  5.84it/s, Loss 2.7324]\n",
      "100%|████████████████████████████| 5/5 [00:00<00:00, 37.00it/s, val_Loss 2.7842]\n"
     ]
    },
    {
     "name": "stdout",
     "output_type": "stream",
     "text": [
      "Saved checkpoint for step 1: /home/seuyon0101/aiffel/MODEL/tf_msp16000_ckpt_final_0329_최종/ckpt-17\n"
     ]
    },
    {
     "name": "stderr",
     "output_type": "stream",
     "text": [
      "Bucket  1: 100%|█████████████| 13360/13360 [15:46<00:00, 14.12it/s, Loss 2.3297]\n",
      "100%|████████████████████████████| 5/5 [00:00<00:00, 75.46it/s, val_Loss 3.0455]\n"
     ]
    },
    {
     "name": "stdout",
     "output_type": "stream",
     "text": [
      "Saved checkpoint for step 1: /home/seuyon0101/aiffel/MODEL/tf_msp16000_ckpt_final_0329_최종/ckpt-18\n"
     ]
    },
    {
     "name": "stderr",
     "output_type": "stream",
     "text": [
      "100%|█████████████████████████████████████████| 125/125 [04:02<00:00,  1.94s/it]\n"
     ]
    },
    {
     "data": {
      "text/html": [
       "Finishing last run (ID:l0dhlgmg) before initializing another..."
      ],
      "text/plain": [
       "<IPython.core.display.HTML object>"
      ]
     },
     "metadata": {},
     "output_type": "display_data"
    },
    {
     "data": {
      "text/html": [
       "Waiting for W&B process to finish... <strong style=\"color:green\">(success).</strong>"
      ],
      "text/plain": [
       "<IPython.core.display.HTML object>"
      ]
     },
     "metadata": {},
     "output_type": "display_data"
    },
    {
     "data": {
      "application/vnd.jupyter.widget-view+json": {
       "model_id": "16f01c5bd1e447eb9df7608659835663",
       "version_major": 2,
       "version_minor": 0
      },
      "text/plain": [
       "VBox(children=(Label(value='0.002 MB of 0.012 MB uploaded (0.000 MB deduped)\\r'), FloatProgress(value=0.159325…"
      ]
     },
     "metadata": {},
     "output_type": "display_data"
    },
    {
     "data": {
      "text/html": [
       "<style>\n",
       "    table.wandb td:nth-child(1) { padding: 0 10px; text-align: left ; width: auto;} td:nth-child(2) {text-align: left ; width: 100%}\n",
       "    .wandb-row { display: flex; flex-direction: row; flex-wrap: wrap; justify-content: flex-start; width: 100% }\n",
       "    .wandb-col { display: flex; flex-direction: column; flex-basis: 100%; flex: 1; padding: 10px; }\n",
       "    </style>\n",
       "<div class=\"wandb-row\"><div class=\"wandb-col\"><h3>Run history:</h3><br/><table class=\"wandb\"><tr><td>bleu</td><td>▁</td></tr><tr><td>train_loss</td><td>█▇▇▆▁▁▁▁▁▁▁▁▁▁▂▂▂▂▂▂▂▂▂▂▂▂▂▂▂▂▂▂▂▂▂▂▂▂▂▂</td></tr><tr><td>valid_loss</td><td>▅▆█▇▅▁▄▄▂▁▅▇█▆▅</td></tr></table><br/></div><div class=\"wandb-col\"><h3>Run summary:</h3><br/><table class=\"wandb\"><tr><td>bleu</td><td>15.98425</td></tr><tr><td>train_loss</td><td>2.32973</td></tr><tr><td>valid_loss</td><td>3.04548</td></tr></table><br/></div></div>"
      ],
      "text/plain": [
       "<IPython.core.display.HTML object>"
      ]
     },
     "metadata": {},
     "output_type": "display_data"
    },
    {
     "data": {
      "text/html": [
       " View run <strong style=\"color:#cdcd00\">valiant-yogurt-7</strong> at: <a href='https://wandb.ai/saturi/model_exp_msp_16000_0329_final_%EC%B5%9C%EC%A2%85/runs/l0dhlgmg' target=\"_blank\">https://wandb.ai/saturi/model_exp_msp_16000_0329_final_%EC%B5%9C%EC%A2%85/runs/l0dhlgmg</a><br/>Synced 6 W&B file(s), 0 media file(s), 0 artifact file(s) and 0 other file(s)"
      ],
      "text/plain": [
       "<IPython.core.display.HTML object>"
      ]
     },
     "metadata": {},
     "output_type": "display_data"
    },
    {
     "data": {
      "text/html": [
       "Find logs at: <code>./wandb/run-20230329_225033-l0dhlgmg/logs</code>"
      ],
      "text/plain": [
       "<IPython.core.display.HTML object>"
      ]
     },
     "metadata": {},
     "output_type": "display_data"
    },
    {
     "data": {
      "text/html": [
       "Successfully finished last run (ID:l0dhlgmg). Initializing new run:<br/>"
      ],
      "text/plain": [
       "<IPython.core.display.HTML object>"
      ]
     },
     "metadata": {},
     "output_type": "display_data"
    },
    {
     "data": {
      "text/html": [
       "Tracking run with wandb version 0.14.0"
      ],
      "text/plain": [
       "<IPython.core.display.HTML object>"
      ]
     },
     "metadata": {},
     "output_type": "display_data"
    },
    {
     "data": {
      "text/html": [
       "Run data is saved locally in <code>/home/seuyon0101/aiffel/saturi/notebook/Model/wandb/run-20230329_231455-ul26onzg</code>"
      ],
      "text/plain": [
       "<IPython.core.display.HTML object>"
      ]
     },
     "metadata": {},
     "output_type": "display_data"
    },
    {
     "data": {
      "text/html": [
       "Syncing run <strong><a href='https://wandb.ai/saturi/model_exp_msp_16000_0329_final_%EC%B5%9C%EC%A2%85/runs/ul26onzg' target=\"_blank\">peach-deluge-8</a></strong> to <a href='https://wandb.ai/saturi/model_exp_msp_16000_0329_final_%EC%B5%9C%EC%A2%85' target=\"_blank\">Weights & Biases</a> (<a href='https://wandb.me/run' target=\"_blank\">docs</a>)<br/>"
      ],
      "text/plain": [
       "<IPython.core.display.HTML object>"
      ]
     },
     "metadata": {},
     "output_type": "display_data"
    },
    {
     "data": {
      "text/html": [
       " View project at <a href='https://wandb.ai/saturi/model_exp_msp_16000_0329_final_%EC%B5%9C%EC%A2%85' target=\"_blank\">https://wandb.ai/saturi/model_exp_msp_16000_0329_final_%EC%B5%9C%EC%A2%85</a>"
      ],
      "text/plain": [
       "<IPython.core.display.HTML object>"
      ]
     },
     "metadata": {},
     "output_type": "display_data"
    },
    {
     "data": {
      "text/html": [
       " View run at <a href='https://wandb.ai/saturi/model_exp_msp_16000_0329_final_%EC%B5%9C%EC%A2%85/runs/ul26onzg' target=\"_blank\">https://wandb.ai/saturi/model_exp_msp_16000_0329_final_%EC%B5%9C%EC%A2%85/runs/ul26onzg</a>"
      ],
      "text/plain": [
       "<IPython.core.display.HTML object>"
      ]
     },
     "metadata": {},
     "output_type": "display_data"
    },
    {
     "name": "stdout",
     "output_type": "stream",
     "text": [
      "Restored from /home/seuyon0101/aiffel/MODEL/tf_msp16000_ckpt_final_0329_최종/ckpt-18\n"
     ]
    },
    {
     "name": "stderr",
     "output_type": "stream",
     "text": [
      "Bucket  3: 100%|█████████████████████| 2/2 [00:00<00:00,  3.22it/s, Loss 4.0652]\n",
      "100%|████████████████████████████| 5/5 [00:00<00:00, 16.00it/s, val_Loss 3.1103]\n"
     ]
    },
    {
     "name": "stdout",
     "output_type": "stream",
     "text": [
      "Saved checkpoint for step 1: /home/seuyon0101/aiffel/MODEL/tf_msp16000_ckpt_final_0329_최종/ckpt-19\n"
     ]
    },
    {
     "name": "stderr",
     "output_type": "stream",
     "text": [
      "Bucket  2: 100%|███████████████| 1455/1455 [04:09<00:00,  5.84it/s, Loss 2.6241]\n",
      "100%|████████████████████████████| 5/5 [00:00<00:00, 36.76it/s, val_Loss 2.8204]\n"
     ]
    },
    {
     "name": "stdout",
     "output_type": "stream",
     "text": [
      "Saved checkpoint for step 1: /home/seuyon0101/aiffel/MODEL/tf_msp16000_ckpt_final_0329_최종/ckpt-20\n"
     ]
    },
    {
     "name": "stderr",
     "output_type": "stream",
     "text": [
      "Bucket  1: 100%|█████████████| 13360/13360 [15:47<00:00, 14.09it/s, Loss 2.2000]\n",
      "100%|████████████████████████████| 5/5 [00:00<00:00, 75.93it/s, val_Loss 3.0612]\n"
     ]
    },
    {
     "name": "stdout",
     "output_type": "stream",
     "text": [
      "Saved checkpoint for step 1: /home/seuyon0101/aiffel/MODEL/tf_msp16000_ckpt_final_0329_최종/ckpt-21\n"
     ]
    },
    {
     "name": "stderr",
     "output_type": "stream",
     "text": [
      "100%|█████████████████████████████████████████| 125/125 [04:05<00:00,  1.96s/it]\n"
     ]
    }
   ],
   "source": [
    "for _ in range(7):\n",
    "    run  = wandb.init(project = project_name,\n",
    "                     entity = 'saturi',\n",
    "                     config = {\n",
    "                         'model_name':'Vanilla_Transformer',\n",
    "                         'n_layers':6,\n",
    "                         'd_model':512,\n",
    "                         'n_heads':8,\n",
    "                         'd_ff':2048,\n",
    "                         'src_vocab_size':SRC_VOCAB_SIZE,\n",
    "                         'tgt_vocab_size':TGT_VOCAB_SIZE,\n",
    "                         'pos_len': 512,\n",
    "                         'dropout':0.2,\n",
    "                         'shared':True,\n",
    "                         'warmups' : warmups,\n",
    "                         'epochs':1,\n",
    "                         'optimizer' :'ADAM',\n",
    "                         'loss' : 'SparseCategoricalCrossentropy',\n",
    "                         'metric' : 'bleu'\n",
    "                     })\n",
    "    train_and_checkpoint(transformer, manager, config.epochs)"
   ]
  },
  {
   "cell_type": "markdown",
   "id": "58425c9b",
   "metadata": {},
   "source": [
    "# Step 3. 평가"
   ]
  },
  {
   "cell_type": "code",
   "execution_count": 58,
   "id": "3e80af59",
   "metadata": {},
   "outputs": [
    {
     "data": {
      "text/plain": [
       "Text(0.5, 0, 'Train Step')"
      ]
     },
     "execution_count": 58,
     "metadata": {},
     "output_type": "execute_result"
    },
    {
     "data": {
      "image/png": "[encoded data removed]",
      "text/plain": [
       "<Figure size 640x480 with 1 Axes>"
      ]
     },
     "metadata": {},
     "output_type": "display_data"
    }
   ],
   "source": [
    "plt.plot(learningrate(tf.range(15412, dtype=tf.float32)))\n",
    "plt.ylabel('Learning Rate')\n",
    "plt.xlabel('Train Step')"
   ]
  },
  {
   "cell_type": "code",
   "execution_count": 26,
   "id": "66454391",
   "metadata": {},
   "outputs": [],
   "source": [
    "from time import perf_counter"
   ]
  },
  {
   "cell_type": "code",
   "execution_count": 112,
   "id": "9d5950dd",
   "metadata": {},
   "outputs": [],
   "source": [
    "examples = [\"<jj> what are you doing ?\",'<cc> what are you doing ?','<gs> what are you doing ?','<jd> what are you doing ?','<kw> what are you doing ?']"
   ]
  },
  {
   "cell_type": "code",
   "execution_count": 110,
   "id": "96871c16",
   "metadata": {},
   "outputs": [],
   "source": [
    "examples = [\"<jj> i like this song .\",'<cc> i like this song . ','<gs> i like this song . ','<jd> i like this song . ','<kw> i like this song . ']"
   ]
  },
  {
   "cell_type": "code",
   "execution_count": 64,
   "id": "fba59417",
   "metadata": {},
   "outputs": [],
   "source": [
    "examples = [\"<jj> Let's do homework together .\",\"<cc> Let's do homework together .\",\"<gs> Let's do homework together .\",\"<jd> Let's do homework together .\",\"<kw> Let's do homework together .\"]"
   ]
  },
  {
   "cell_type": "code",
   "execution_count": 36,
   "id": "de9cfaa5",
   "metadata": {},
   "outputs": [],
   "source": [
    "examples = [\"<jj> Are you going to sleep ?\",\"<cc> Are you going to sleep ?\",\"<gs> Are you going to sleep ?\",\"<jd> Are you going to sleep ?\",\"<kw> Are you going to sleep ?\"]"
   ]
  },
  {
   "cell_type": "code",
   "execution_count": 55,
   "id": "843c5941",
   "metadata": {},
   "outputs": [],
   "source": [
    "examples = [\"<jj> I want to go out to eat .\",\"<cc> I want to go out to eat .\",\"<gs> I want to go out to eat .\",\"<jd> I want to go out to eat .\",\"<kw> I want to go out to eat .\"]"
   ]
  },
  {
   "cell_type": "code",
   "execution_count": 56,
   "id": "2ee58599",
   "metadata": {},
   "outputs": [
    {
     "name": "stdout",
     "output_type": "stream",
     "text": [
      "Input: <jj> I want to go out to eat .\n",
      "Predicted translation: 밥 먹으래 나갈려고.\n",
      "Input: <cc> I want to go out to eat .\n",
      "Predicted translation: 아이 밥을 먹을라구 나가라 이 말이지.\n",
      "Input: <gs> I want to go out to eat .\n",
      "Predicted translation: 밥 무로 나갈라꼬.\n",
      "Input: <jd> I want to go out to eat .\n",
      "Predicted translation: 아이 밥을 먹을라 해.\n",
      "Input: <kw> I want to go out to eat .\n",
      "Predicted translation: 밥을 먹을라 이글세.\n",
      "7.503337403999467\n"
     ]
    }
   ],
   "source": [
    "start = perf_counter()\n",
    "for example in examples :\n",
    "    translate(example, transformer, enc_tokenizer, dec_tokenizer, verbose =True)\n",
    "print(perf_counter() - start)"
   ]
  },
  {
   "cell_type": "code",
   "execution_count": 57,
   "id": "df8dde9e",
   "metadata": {},
   "outputs": [
    {
     "name": "stderr",
     "output_type": "stream",
     "text": [
      "100%|█████████████████████████████████████████| 125/125 [03:35<00:00,  1.72s/it]\n"
     ]
    }
   ],
   "source": [
    "from datasets import load_metric\n",
    "\n",
    "bleu = load_metric(\"sacrebleu\")\n",
    "test_translate = []\n",
    "bleu_valid_score = []\n",
    "\n",
    "test_text = full_data_test.eng.values\n",
    "test_tgt = full_data_test.dial.values\n",
    "\n",
    "for i in tqdm(range(len(test_text))) :\n",
    "    trans = translate(test_text[i], transformer, enc_tokenizer, dec_tokenizer, verbose =False)\n",
    "    test_translate.append(trans)\n",
    "    label = dec_tokenizer.decode(test_tgt[i])\n",
    "    result = bleu.compute(predictions=[trans], references=[[label]], smooth_method='add-k')['score']\n",
    "    bleu_valid_score.append(result)\n",
    "\n",
    "full_data_test['bleu'] = np.array(bleu_valid_score)\n",
    "full_data_test['pred'] = test_translate"
   ]
  },
  {
   "cell_type": "code",
   "execution_count": 29,
   "id": "e401300c",
   "metadata": {},
   "outputs": [
    {
     "data": {
      "text/plain": [
       "15.273744047134048"
      ]
     },
     "execution_count": 29,
     "metadata": {},
     "output_type": "execute_result"
    }
   ],
   "source": [
    "full_data_test.bleu.mean()"
   ]
  },
  {
   "cell_type": "code",
   "execution_count": 30,
   "id": "082c8e9b",
   "metadata": {},
   "outputs": [
    {
     "data": {
      "text/html": [
       "<div>\n",
       "<style scoped>\n",
       "    .dataframe tbody tr th:only-of-type {\n",
       "        vertical-align: middle;\n",
       "    }\n",
       "\n",
       "    .dataframe tbody tr th {\n",
       "        vertical-align: top;\n",
       "    }\n",
       "\n",
       "    .dataframe thead th {\n",
       "        text-align: right;\n",
       "    }\n",
       "</style>\n",
       "<table border=\"1\" class=\"dataframe\">\n",
       "  <thead>\n",
       "    <tr style=\"text-align: right;\">\n",
       "      <th></th>\n",
       "      <th>topic</th>\n",
       "      <th>eng</th>\n",
       "      <th>reg</th>\n",
       "      <th>dial</th>\n",
       "      <th>pred</th>\n",
       "      <th>bleu</th>\n",
       "    </tr>\n",
       "  </thead>\n",
       "  <tbody>\n",
       "    <tr>\n",
       "      <th>802973</th>\n",
       "      <td>전자기기</td>\n",
       "      <td>&lt;gs&gt; &lt;gs&gt; Battery a little bit</td>\n",
       "      <td>gs</td>\n",
       "      <td>배터리 쫌</td>\n",
       "      <td>쫌 위험하꼬</td>\n",
       "      <td>70.710678</td>\n",
       "    </tr>\n",
       "    <tr>\n",
       "      <th>851942</th>\n",
       "      <td>스타일</td>\n",
       "      <td>&lt;gs&gt; &lt;gs&gt; Then you want me to do it</td>\n",
       "      <td>gs</td>\n",
       "      <td>그머 니가 원하느</td>\n",
       "      <td>그머 니가 한번</td>\n",
       "      <td>68.658905</td>\n",
       "    </tr>\n",
       "    <tr>\n",
       "      <th>922232</th>\n",
       "      <td>스타일</td>\n",
       "      <td>&lt;jj&gt; &lt;jj&gt; Isnt it so fun to watch things like ...</td>\n",
       "      <td>jj</td>\n",
       "      <td>이런 거 보는 거 너무 재밌주이 않?</td>\n",
       "      <td>이런 거 보는 거 너무 재미지메 않?</td>\n",
       "      <td>65.803701</td>\n",
       "    </tr>\n",
       "    <tr>\n",
       "      <th>308203</th>\n",
       "      <td>스포츠/레저</td>\n",
       "      <td>&lt;kw&gt; &lt;kw&gt; Where can you buy that?</td>\n",
       "      <td>kw</td>\n",
       "      <td>그건 어부어서 살 수 있습니까?</td>\n",
       "      <td>그건 어데서 살 수 있습니까?</td>\n",
       "      <td>63.894310</td>\n",
       "    </tr>\n",
       "    <tr>\n",
       "      <th>204242</th>\n",
       "      <td>종교</td>\n",
       "      <td>&lt;jj&gt; &lt;jj&gt; It was really good</td>\n",
       "      <td>jj</td>\n",
       "      <td>진짜 맛있언,</td>\n",
       "      <td>진짜 맛 좋안</td>\n",
       "      <td>48.549177</td>\n",
       "    </tr>\n",
       "  </tbody>\n",
       "</table>\n",
       "</div>"
      ],
      "text/plain": [
       "         topic                                                eng reg  \\\n",
       "802973    전자기기                     <gs> <gs> Battery a little bit  gs   \n",
       "851942     스타일                <gs> <gs> Then you want me to do it  gs   \n",
       "922232     스타일  <jj> <jj> Isnt it so fun to watch things like ...  jj   \n",
       "308203  스포츠/레저                  <kw> <kw> Where can you buy that?  kw   \n",
       "204242      종교                       <jj> <jj> It was really good  jj   \n",
       "\n",
       "                         dial                  pred       bleu  \n",
       "802973                 배터리 쫌                 쫌 위험하꼬  70.710678  \n",
       "851942             그머 니가 원하느               그머 니가 한번  68.658905  \n",
       "922232  이런 거 보는 거 너무 재밌주이 않?   이런 거 보는 거 너무 재미지메 않?  65.803701  \n",
       "308203     그건 어부어서 살 수 있습니까?       그건 어데서 살 수 있습니까?  63.894310  \n",
       "204242               진짜 맛있언,                진짜 맛 좋안  48.549177  "
      ]
     },
     "execution_count": 30,
     "metadata": {},
     "output_type": "execute_result"
    }
   ],
   "source": [
    "full_data_test.loc[:,['topic','eng','reg','dial','pred','bleu']].sort_values('bleu', ascending=False).head()"
   ]
  },
  {
   "cell_type": "code",
   "execution_count": 31,
   "id": "cd2b571d",
   "metadata": {},
   "outputs": [],
   "source": [
    "data_dir = os.getenv('HOME')+'/aiffel/DATA' # 파일 경로 지정\n",
    "full_data_test.to_csv(data_dir + f'/test_results_{tokenizer_name}16000_final_needs_merge_329.csv')"
   ]
  },
  {
   "cell_type": "code",
   "execution_count": null,
   "id": "df000aa5",
   "metadata": {},
   "outputs": [],
   "source": [
    "wandb.finish()"
   ]
  },
  {
   "cell_type": "code",
   "execution_count": null,
   "id": "ae20c7ef",
   "metadata": {},
   "outputs": [],
   "source": []
  }
 ],
 "metadata": {
  "hide_input": false,
  "kernelspec": {
   "display_name": "Python 3 (ipykernel)",
   "language": "python",
   "name": "python3"
  },
  "language_info": {
   "codemirror_mode": {
    "name": "ipython",
    "version": 3
   },
   "file_extension": ".py",
   "mimetype": "text/x-python",
   "name": "python",
   "nbconvert_exporter": "python",
   "pygments_lexer": "ipython3",
   "version": "3.9.7"
  },
  "toc": {
   "base_numbering": 1,
   "nav_menu": {},
   "number_sections": true,
   "sideBar": true,
   "skip_h1_title": false,
   "title_cell": "Table of Contents",
   "title_sidebar": "Contents",
   "toc_cell": true,
   "toc_position": {
    "height": "670px",
    "left": "54px",
    "top": "208px",
    "width": "336px"
   },
   "toc_section_display": true,
   "toc_window_display": true
  },
  "varInspector": {
   "cols": {
    "lenName": 16,
    "lenType": 16,
    "lenVar": 40
   },
   "kernels_config": {
    "python": {
     "delete_cmd_postfix": "",
     "delete_cmd_prefix": "del ",
     "library": "var_list.py",
     "varRefreshCmd": "print(var_dic_list())"
    },
    "r": {
     "delete_cmd_postfix": ") ",
     "delete_cmd_prefix": "rm(",
     "library": "var_list.r",
     "varRefreshCmd": "cat(var_dic_list()) "
    }
   },
   "types_to_exclude": [
    "module",
    "function",
    "builtin_function_or_method",
    "instance",
    "_Feature"
   ],
   "window_display": false
  }
 },
 "nbformat": 4,
 "nbformat_minor": 5
}
