{
 "cells": [
  {
   "cell_type": "code",
   "execution_count": 3,
   "id": "f25b316c",
   "metadata": {},
   "outputs": [],
   "source": [
    "import os\n",
    "import shutil\n",
    "import pandas as pd\n",
    "import numpy as np\n",
    "import glob"
   ]
  },
  {
   "cell_type": "code",
   "execution_count": 5,
   "id": "86cfc8df",
   "metadata": {},
   "outputs": [],
   "source": [
    "directory = os.getenv(\"HOME\") + '/aiffel/aiffelthon/added/'"
   ]
  },
  {
   "cell_type": "code",
   "execution_count": 4,
   "id": "385bcd3f",
   "metadata": {},
   "outputs": [
    {
     "data": {
      "text/plain": [
       "['dataset_full_ko_en_added_2022_sa.zip',\n",
       " '__MACOSX',\n",
       " '.ipynb_checkpoints',\n",
       " 'dataset_full_translated_en_ko_0221_last_added_0221_12h.csv',\n",
       " 'dataset_en_ko_translated_sihyeok_145000.zip',\n",
       " 'dataset_full_ko_en_added_0221_Jongin.csv']"
      ]
     },
     "execution_count": 4,
     "metadata": {},
     "output_type": "execute_result"
    }
   ],
   "source": [
    "os.listdir(directory)"
   ]
  },
  {
   "cell_type": "code",
   "execution_count": 93,
   "id": "5cc9ab9e",
   "metadata": {},
   "outputs": [],
   "source": [
    "df = pd.read_csv(directory + 'dataset_full_translated_en_ko_0221_last_added_0221_12h.csv' )"
   ]
  },
  {
   "cell_type": "code",
   "execution_count": 94,
   "id": "6d22bd7a",
   "metadata": {},
   "outputs": [
    {
     "name": "stdout",
     "output_type": "stream",
     "text": [
      "<class 'pandas.core.frame.DataFrame'>\n",
      "RangeIndex: 678355 entries, 0 to 678354\n",
      "Data columns (total 4 columns):\n",
      " #   Column  Non-Null Count   Dtype \n",
      "---  ------  --------------   ----- \n",
      " 0   text    678354 non-null  object\n",
      " 1   dial    678355 non-null  object\n",
      " 2   reg     678355 non-null  object\n",
      " 3   eng     678355 non-null  object\n",
      "dtypes: object(4)\n",
      "memory usage: 20.7+ MB\n"
     ]
    }
   ],
   "source": [
    "del df['Unnamed: 0']\n",
    "df.info()"
   ]
  },
  {
   "cell_type": "code",
   "execution_count": 9,
   "id": "8cccdd66",
   "metadata": {},
   "outputs": [
    {
     "data": {
      "text/plain": [
       "['/aiffel/aiffel/aiffelthon/added/dataset_full_ko_en_added_2022_sa.zip',\n",
       " '/aiffel/aiffel/aiffelthon/added/dataset_en_ko_translated_sihyeok_145000.zip']"
      ]
     },
     "execution_count": 9,
     "metadata": {},
     "output_type": "execute_result"
    }
   ],
   "source": [
    "zipfiles = glob.glob(directory + '*zip')\n",
    "zipfiles"
   ]
  },
  {
   "cell_type": "code",
   "execution_count": 10,
   "id": "7b71c4fe",
   "metadata": {},
   "outputs": [],
   "source": [
    "for i in zipfiles :\n",
    "    shutil.unpack_archive(i,directory)"
   ]
  },
  {
   "cell_type": "code",
   "execution_count": null,
   "id": "fe8296f7",
   "metadata": {},
   "outputs": [],
   "source": [
    "pd.read_csv()"
   ]
  },
  {
   "cell_type": "code",
   "execution_count": 12,
   "id": "de394aaa",
   "metadata": {},
   "outputs": [
    {
     "data": {
      "text/plain": [
       "['dataset_en_ko_translated_sa_0_5000.csv',\n",
       " 'dataset_en_ko_translated_sa_15000_20000.csv',\n",
       " 'dataset_en_ko_translated_sa_60000_65000.csv',\n",
       " 'dataset_en_ko_translated_sa_140000_145000.csv',\n",
       " 'dataset_en_ko_translated_sa_85000_90000.csv',\n",
       " 'dataset_en_ko_translated_sa_125000_130000.csv',\n",
       " 'dataset_en_ko_translated_sa_135000_140000.csv',\n",
       " 'dataset_en_ko_translated_sa_165000_170000.csv',\n",
       " 'dataset_en_ko_translated_sa_110000_115000.csv',\n",
       " 'dataset_en_ko_translated_sa_100000_105000.csv',\n",
       " 'dataset_en_ko_translated_sa_5000_10000.csv',\n",
       " 'dataset_en_ko_translated_sa_150000_155000.csv',\n",
       " 'dataset_en_ko_translated_sa_25000_30000.csv',\n",
       " 'dataset_en_ko_translated_sa_70000_75000.csv',\n",
       " 'dataset_en_ko_translated_sa_160000_165000.csv',\n",
       " 'dataset_en_ko_translated_sa_35000_40000.csv',\n",
       " 'dataset_en_ko_translated_sa_95000_100000.csv',\n",
       " 'dataset_en_ko_translated_sa_80000_85000.csv',\n",
       " 'dataset_en_ko_translated_sa_175000_180000.csv',\n",
       " 'dataset_en_ko_translated_sa_40000_45000.csv',\n",
       " 'dataset_en_ko_translated_sa_30000_35000.csv',\n",
       " 'dataset_en_ko_translated_sa_120000_125000.csv',\n",
       " 'dataset_en_ko_translated_sa_50000_55000.csv',\n",
       " 'dataset_en_ko_translated_sa_130000_135000.csv',\n",
       " 'dataset_en_ko_translated_sa_10000_15000.csv',\n",
       " 'dataset_en_ko_translated_sa_105000_110000.csv',\n",
       " 'dataset_en_ko_translated_sa_75000_80000.csv',\n",
       " 'dataset_en_ko_translated_sa_55000_60000.csv',\n",
       " 'dataset_en_ko_translated_sa_115000_120000.csv',\n",
       " 'dataset_en_ko_translated_sa_90000_95000.csv',\n",
       " 'dataset_en_ko_translated_sa_170000_175000.csv',\n",
       " 'dataset_en_ko_translated_sa_145000_150000.csv',\n",
       " 'dataset_en_ko_translated_sa_155000_160000.csv',\n",
       " 'dataset_en_ko_translated_sa_45000_50000.csv',\n",
       " 'dataset_en_ko_translated_sa_65000_70000.csv',\n",
       " 'dataset_en_ko_translated_sa_20000_25000.csv']"
      ]
     },
     "execution_count": 12,
     "metadata": {},
     "output_type": "execute_result"
    }
   ],
   "source": [
    "os.listdir(directory+'dataset_full_ko_en_added_2022_sa')"
   ]
  },
  {
   "cell_type": "code",
   "execution_count": 18,
   "id": "0789eb31",
   "metadata": {},
   "outputs": [],
   "source": [
    "sa = glob.glob(directory+'dataset_full_ko_en_added_2022_sa/*csv')"
   ]
  },
  {
   "cell_type": "code",
   "execution_count": 20,
   "id": "886a08b8",
   "metadata": {},
   "outputs": [
    {
     "data": {
      "text/plain": [
       "'/aiffel/aiffel/aiffelthon/added/dataset_full_ko_en_added_2022_sa/dataset_en_ko_translated_sa_0_5000.csv'"
      ]
     },
     "execution_count": 20,
     "metadata": {},
     "output_type": "execute_result"
    }
   ],
   "source": [
    "sa[0]"
   ]
  },
  {
   "cell_type": "code",
   "execution_count": 51,
   "id": "480dcc94",
   "metadata": {},
   "outputs": [],
   "source": [
    "dff = pd.DataFrame(columns=dfm.columns)"
   ]
  },
  {
   "cell_type": "code",
   "execution_count": 30,
   "id": "34adf275",
   "metadata": {},
   "outputs": [],
   "source": [
    "dfm = pd.read_csv('/aiffel/aiffel/aiffelthon/added/dataset_full_ko_en_added_2022_sa/dataset_en_ko_translated_sa_0_5000.csv')"
   ]
  },
  {
   "cell_type": "code",
   "execution_count": 31,
   "id": "82599c64",
   "metadata": {},
   "outputs": [
    {
     "data": {
      "text/plain": [
       "Index(['index', 'text', 'dial', 'reg', 'pair', 'eng'], dtype='object')"
      ]
     },
     "execution_count": 31,
     "metadata": {},
     "output_type": "execute_result"
    }
   ],
   "source": [
    "dff.columns"
   ]
  },
  {
   "cell_type": "code",
   "execution_count": 38,
   "id": "8bf4fad1",
   "metadata": {},
   "outputs": [],
   "source": [
    "for i in sa :\n",
    "    dfn = pd.read_csv(i)\n",
    "    dff = pd.concat([dff,dfn], axis=0)"
   ]
  },
  {
   "cell_type": "code",
   "execution_count": 39,
   "id": "59414b30",
   "metadata": {},
   "outputs": [
    {
     "name": "stdout",
     "output_type": "stream",
     "text": [
      "<class 'pandas.core.frame.DataFrame'>\n",
      "Int64Index: 270000 entries, 0 to 179999\n",
      "Data columns (total 6 columns):\n",
      " #   Column  Non-Null Count   Dtype \n",
      "---  ------  --------------   ----- \n",
      " 0   index   270000 non-null  object\n",
      " 1   text    270000 non-null  object\n",
      " 2   dial    270000 non-null  object\n",
      " 3   reg     270000 non-null  object\n",
      " 4   pair    270000 non-null  object\n",
      " 5   eng     270000 non-null  object\n",
      "dtypes: object(6)\n",
      "memory usage: 14.4+ MB\n"
     ]
    }
   ],
   "source": [
    "dff.drop_duplicates(inplace=True)\n",
    "dff.info()"
   ]
  },
  {
   "cell_type": "code",
   "execution_count": 49,
   "id": "268ecb4d",
   "metadata": {},
   "outputs": [
    {
     "data": {
      "text/plain": [
       "['dataset_en_ko_translated_sihyeok_20000_25000.csv',\n",
       " 'dataset_en_ko_translated_sihyeok_25000_30000.csv',\n",
       " 'dataset_full_ko_en_added_2022_sa',\n",
       " 'dataset_full_ko_en_added_2022_sa.zip',\n",
       " 'dataset_en_ko_translated_sihyeok_115000_120000.csv',\n",
       " 'dataset_en_ko_translated_sihyeok_85000_90000.csv',\n",
       " 'dataset_en_ko_translated_sihyeok_105000_110000.csv',\n",
       " '__MACOSX',\n",
       " 'dataset_en_ko_translated_sihyeok_55000_60000.csv',\n",
       " '.ipynb_checkpoints',\n",
       " 'dataset_en_ko_translated_sihyeok_75000_80000.csv',\n",
       " 'dataset_en_ko_translated_sihyeok_125000_130000.csv',\n",
       " 'dataset_en_ko_translated_sihyeok_70000_75000.csv',\n",
       " 'dataset_en_ko_translated_sihyeok_35000_40000.csv',\n",
       " 'dataset_en_ko_translated_sihyeok_5000_10000.csv',\n",
       " 'dataset_en_ko_translated_sihyeok_140000_145000.csv',\n",
       " 'dataset_en_ko_translated_sihyeok_15000_20000.csv',\n",
       " 'dataset_en_ko_translated_sihyeok_100000_105000.csv',\n",
       " 'dataset_en_ko_translated_sihyeok_95000_100000.csv',\n",
       " 'dataset_en_ko_translated_sihyeok_45000_50000.csv',\n",
       " 'dataset_en_ko_translated_sihyeok_30000_35000.csv',\n",
       " 'dataset_en_ko_translated_sihyeok_135000_140000.csv',\n",
       " 'dataset_full_translated_en_ko_0221_last_added_0221_12h.csv',\n",
       " 'dataset_en_ko_translated_sihyeok_50000_55000.csv',\n",
       " 'dataset_en_ko_translated_sihyeok_145000.zip',\n",
       " 'dataset_en_ko_translated_sihyeok_110000_115000.csv',\n",
       " 'dataset_en_ko_translated_sihyeok_80000_85000.csv',\n",
       " 'dataset_en_ko_translated_sihyeok_40000_45000.csv',\n",
       " 'dataset_en_ko_translated_sihyeok_60000_65000.csv',\n",
       " 'dataset_full_ko_en_added_0221_Jongin.csv',\n",
       " 'dataset_en_ko_translated_sihyeok_120000_125000.csv',\n",
       " 'dataset_en_ko_translated_sihyeok_0_5000.csv',\n",
       " 'dataset_en_ko_translated_sihyeok_65000_70000.csv',\n",
       " 'dataset_en_ko_translated_sihyeok_10000_15000.csv']"
      ]
     },
     "execution_count": 49,
     "metadata": {},
     "output_type": "execute_result"
    }
   ],
   "source": [
    "os.listdir(directory)"
   ]
  },
  {
   "cell_type": "code",
   "execution_count": 61,
   "id": "f9f76681",
   "metadata": {},
   "outputs": [],
   "source": [
    "sh = glob.glob(directory+'*sihyeok*.csv')"
   ]
  },
  {
   "cell_type": "code",
   "execution_count": 62,
   "id": "1e529592",
   "metadata": {},
   "outputs": [
    {
     "name": "stdout",
     "output_type": "stream",
     "text": [
      "<class 'pandas.core.frame.DataFrame'>\n",
      "Int64Index: 145000 entries, 0 to 144999\n",
      "Data columns (total 6 columns):\n",
      " #   Column  Non-Null Count   Dtype \n",
      "---  ------  --------------   ----- \n",
      " 0   index   145000 non-null  int64 \n",
      " 1   text    145000 non-null  object\n",
      " 2   dial    145000 non-null  object\n",
      " 3   reg     145000 non-null  object\n",
      " 4   pair    145000 non-null  object\n",
      " 5   eng     145000 non-null  object\n",
      "dtypes: int64(1), object(5)\n",
      "memory usage: 7.7+ MB\n"
     ]
    }
   ],
   "source": [
    "dff2 = pd.DataFrame(columns=dfm.columns)\n",
    "for i in sh :\n",
    "    dfn = pd.read_csv(i)\n",
    "    dff2 = dff2.merge(dfn, how='outer')\n",
    "dff2.info()"
   ]
  },
  {
   "cell_type": "code",
   "execution_count": 64,
   "id": "a666f44f",
   "metadata": {},
   "outputs": [
    {
     "data": {
      "text/plain": [
       "['/aiffel/aiffel/aiffelthon/added/dataset_full_ko_en_added_0221_Jongin.csv']"
      ]
     },
     "execution_count": 64,
     "metadata": {},
     "output_type": "execute_result"
    }
   ],
   "source": [
    "ji = glob.glob(directory+'*Jong*.csv')\n",
    "ji"
   ]
  },
  {
   "cell_type": "code",
   "execution_count": 65,
   "id": "1b45d6df",
   "metadata": {},
   "outputs": [],
   "source": [
    "dff3 = pd.read_csv(ji[0])"
   ]
  },
  {
   "cell_type": "code",
   "execution_count": 66,
   "id": "356814dc",
   "metadata": {},
   "outputs": [
    {
     "name": "stdout",
     "output_type": "stream",
     "text": [
      "<class 'pandas.core.frame.DataFrame'>\n",
      "RangeIndex: 195947 entries, 0 to 195946\n",
      "Data columns (total 5 columns):\n",
      " #   Column  Non-Null Count   Dtype \n",
      "---  ------  --------------   ----- \n",
      " 0   text    195947 non-null  object\n",
      " 1   dial    195947 non-null  object\n",
      " 2   reg     195947 non-null  object\n",
      " 3   pair    195947 non-null  object\n",
      " 4   eng     195947 non-null  object\n",
      "dtypes: object(5)\n",
      "memory usage: 7.5+ MB\n"
     ]
    }
   ],
   "source": [
    "dff3.info()"
   ]
  },
  {
   "cell_type": "code",
   "execution_count": 70,
   "id": "2c69f95f",
   "metadata": {},
   "outputs": [],
   "source": [
    "fmerge = [df, dff[df.columns], dff2[df.columns], dff3[df.columns]]"
   ]
  },
  {
   "cell_type": "code",
   "execution_count": 99,
   "id": "48358ca2",
   "metadata": {},
   "outputs": [],
   "source": [
    "dfff = pd.DataFrame(columns = df.columns)\n",
    "for i in fmerge:\n",
    "    dfff = dfff.merge(i, how='outer')"
   ]
  },
  {
   "cell_type": "code",
   "execution_count": 100,
   "id": "21722940",
   "metadata": {},
   "outputs": [
    {
     "name": "stdout",
     "output_type": "stream",
     "text": [
      "<class 'pandas.core.frame.DataFrame'>\n",
      "Int64Index: 992792 entries, 0 to 992791\n",
      "Data columns (total 4 columns):\n",
      " #   Column  Non-Null Count   Dtype \n",
      "---  ------  --------------   ----- \n",
      " 0   text    992791 non-null  object\n",
      " 1   dial    992792 non-null  object\n",
      " 2   reg     992792 non-null  object\n",
      " 3   eng     992792 non-null  object\n",
      "dtypes: object(4)\n",
      "memory usage: 37.9+ MB\n"
     ]
    }
   ],
   "source": [
    "dfff.info()"
   ]
  },
  {
   "cell_type": "code",
   "execution_count": 102,
   "id": "c712d28b",
   "metadata": {},
   "outputs": [
    {
     "data": {
      "text/plain": [
       "81085"
      ]
     },
     "execution_count": 102,
     "metadata": {},
     "output_type": "execute_result"
    }
   ],
   "source": [
    "dfff.duplicated(subset='dial').sum()"
   ]
  },
  {
   "cell_type": "code",
   "execution_count": 103,
   "id": "f24a6a22",
   "metadata": {},
   "outputs": [
    {
     "data": {
      "text/plain": [
       "kw    402885\n",
       "jj    222671\n",
       "jd    192163\n",
       "cc     89189\n",
       "gs     85884\n",
       "Name: reg, dtype: int64"
      ]
     },
     "execution_count": 103,
     "metadata": {},
     "output_type": "execute_result"
    }
   ],
   "source": [
    "dfff.reg.value_counts()"
   ]
  },
  {
   "cell_type": "code",
   "execution_count": 104,
   "id": "20ce08dc",
   "metadata": {},
   "outputs": [],
   "source": [
    "dfff.drop_duplicates(subset='dial',inplace=True)"
   ]
  },
  {
   "cell_type": "code",
   "execution_count": 111,
   "id": "c633d899",
   "metadata": {},
   "outputs": [],
   "source": [
    "idx = dfff.loc[dfff.duplicated(subset='eng',keep=False)].index"
   ]
  },
  {
   "cell_type": "code",
   "execution_count": 113,
   "id": "728a887e",
   "metadata": {},
   "outputs": [
    {
     "data": {
      "text/plain": [
       "kw    360401\n",
       "jj    216213\n",
       "jd    170010\n",
       "cc     83274\n",
       "gs     81809\n",
       "Name: reg, dtype: int64"
      ]
     },
     "execution_count": 113,
     "metadata": {},
     "output_type": "execute_result"
    }
   ],
   "source": [
    "dfff.reg.value_counts()"
   ]
  },
  {
   "cell_type": "code",
   "execution_count": 114,
   "id": "04767962",
   "metadata": {},
   "outputs": [
    {
     "name": "stdout",
     "output_type": "stream",
     "text": [
      "<class 'pandas.core.frame.DataFrame'>\n",
      "Int64Index: 911707 entries, 0 to 992791\n",
      "Data columns (total 4 columns):\n",
      " #   Column  Non-Null Count   Dtype \n",
      "---  ------  --------------   ----- \n",
      " 0   text    911706 non-null  object\n",
      " 1   dial    911707 non-null  object\n",
      " 2   reg     911707 non-null  object\n",
      " 3   eng     911707 non-null  object\n",
      "dtypes: object(4)\n",
      "memory usage: 67.0+ MB\n"
     ]
    }
   ],
   "source": [
    "dfff.info()"
   ]
  },
  {
   "cell_type": "code",
   "execution_count": 118,
   "id": "e3d36bc3",
   "metadata": {},
   "outputs": [
    {
     "name": "stdout",
     "output_type": "stream",
     "text": [
      "<class 'pandas.core.frame.DataFrame'>\n",
      "Int64Index: 360401 entries, 143902 to 992771\n",
      "Data columns (total 4 columns):\n",
      " #   Column  Non-Null Count   Dtype \n",
      "---  ------  --------------   ----- \n",
      " 0   text    360400 non-null  object\n",
      " 1   dial    360401 non-null  object\n",
      " 2   reg     360401 non-null  object\n",
      " 3   eng     360401 non-null  object\n",
      "dtypes: object(4)\n",
      "memory usage: 13.7+ MB\n"
     ]
    }
   ],
   "source": [
    "kw = dfff.loc[(dfff.reg == 'kw') ]\n",
    "kw.info()"
   ]
  },
  {
   "cell_type": "code",
   "execution_count": 122,
   "id": "7465bea3",
   "metadata": {},
   "outputs": [
    {
     "data": {
      "text/html": [
       "<div>\n",
       "<style scoped>\n",
       "    .dataframe tbody tr th:only-of-type {\n",
       "        vertical-align: middle;\n",
       "    }\n",
       "\n",
       "    .dataframe tbody tr th {\n",
       "        vertical-align: top;\n",
       "    }\n",
       "\n",
       "    .dataframe thead th {\n",
       "        text-align: right;\n",
       "    }\n",
       "</style>\n",
       "<table border=\"1\" class=\"dataframe\">\n",
       "  <thead>\n",
       "    <tr style=\"text-align: right;\">\n",
       "      <th></th>\n",
       "      <th>text</th>\n",
       "      <th>dial</th>\n",
       "      <th>reg</th>\n",
       "      <th>eng</th>\n",
       "    </tr>\n",
       "  </thead>\n",
       "  <tbody>\n",
       "  </tbody>\n",
       "</table>\n",
       "</div>"
      ],
      "text/plain": [
       "Empty DataFrame\n",
       "Columns: [text, dial, reg, eng]\n",
       "Index: []"
      ]
     },
     "execution_count": 122,
     "metadata": {},
     "output_type": "execute_result"
    }
   ],
   "source": [
    "kw.loc[kw.duplicated(subset='dial')]"
   ]
  },
  {
   "cell_type": "code",
   "execution_count": 115,
   "id": "57c77d80",
   "metadata": {},
   "outputs": [
    {
     "data": {
      "text/plain": [
       "'/aiffel/aiffel/aiffelthon/added/'"
      ]
     },
     "execution_count": 115,
     "metadata": {},
     "output_type": "execute_result"
    }
   ],
   "source": [
    "directory"
   ]
  },
  {
   "cell_type": "code",
   "execution_count": 117,
   "id": "b7e8824f",
   "metadata": {},
   "outputs": [],
   "source": [
    "dfff.to_csv(directory + '★dataset_full_raw_0222★.csv', index=False)"
   ]
  }
 ],
 "metadata": {
  "kernelspec": {
   "display_name": "Python 3 (ipykernel)",
   "language": "python",
   "name": "python3"
  },
  "language_info": {
   "codemirror_mode": {
    "name": "ipython",
    "version": 3
   },
   "file_extension": ".py",
   "mimetype": "text/x-python",
   "name": "python",
   "nbconvert_exporter": "python",
   "pygments_lexer": "ipython3",
   "version": "3.9.7"
  }
 },
 "nbformat": 4,
 "nbformat_minor": 5
}
