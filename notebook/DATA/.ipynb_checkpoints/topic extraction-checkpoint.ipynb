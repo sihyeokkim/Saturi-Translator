{
 "cells": [
  {
   "cell_type": "code",
   "execution_count": 1,
   "id": "1e95398b",
   "metadata": {},
   "outputs": [],
   "source": [
    "import pandas as pd\n",
    "import numpy as np\n",
    "import glob\n",
    "import re\n",
    "import os\n",
    "import json"
   ]
  },
  {
   "cell_type": "code",
   "execution_count": 2,
   "id": "efbb366e",
   "metadata": {},
   "outputs": [],
   "source": [
    "directory = os.getenv('HOME') +'/aiffel/aiffelthon/'"
   ]
  },
  {
   "cell_type": "code",
   "execution_count": 3,
   "id": "f2860424",
   "metadata": {},
   "outputs": [
    {
     "data": {
      "text/plain": [
       "['MODELtf_ckpts_gd12_r1',\n",
       " 'reg_2',\n",
       " 'meta',\n",
       " 'w2v_meaning_jj.model',\n",
       " 'past_files',\n",
       " 'onnx',\n",
       " '.ipynb_checkpoints',\n",
       " '[라벨]제주도_학습용데이터_1.zip',\n",
       " 'corpus_ko.txt',\n",
       " '[라벨]전라도_학습데이터_1.zip',\n",
       " 'added',\n",
       " 'final',\n",
       " '[라벨]경상도_학습데이터_1.zip',\n",
       " 'reg_1',\n",
       " 'reg_4',\n",
       " 'spm',\n",
       " 'datset_full_raw_needs_translation_0221_v2.csv',\n",
       " '[라벨]충청도_학습데이터_1.zip',\n",
       " 'reg_5',\n",
       " 'saturi_crawling_thesaurus_0223.csv',\n",
       " 'final_dataset.zip',\n",
       " '[라벨]강원도_학습데이터_1.zip',\n",
       " 'reg_3',\n",
       " 'DATA',\n",
       " 'corpus_en.txt']"
      ]
     },
     "execution_count": 3,
     "metadata": {},
     "output_type": "execute_result"
    }
   ],
   "source": [
    "os.listdir(directory)"
   ]
  },
  {
   "cell_type": "markdown",
   "id": "eea06bfc",
   "metadata": {},
   "source": [
    "1 제주도\n",
    "2 전라도\n",
    "3 경상도\n",
    "4 충청도\n",
    "5 강원도"
   ]
  },
  {
   "cell_type": "code",
   "execution_count": 4,
   "id": "a463723c",
   "metadata": {},
   "outputs": [],
   "source": [
    "regs = ['reg_1','reg_2','reg_3','reg_4','reg_5']"
   ]
  },
  {
   "cell_type": "code",
   "execution_count": 6,
   "id": "6cd61f92",
   "metadata": {},
   "outputs": [],
   "source": [
    "json_files = glob.glob(directory +'reg_1/*.json')"
   ]
  },
  {
   "cell_type": "code",
   "execution_count": 7,
   "id": "b04891a4",
   "metadata": {},
   "outputs": [],
   "source": [
    "import tqdm \n",
    "os.makedirs(directory +'meta', exist_ok=True)\n",
    "def get_df(json_files,name):\n",
    "#     df = pd.DataFrame(columns=['title', 'creator', 'distributor', 'year', 'category',\n",
    "#        'annotation_level', 'sampling', 'author', 'publisher', 'date', 'topic',\n",
    "#        'stdn','dial','eojeol_stdn'] )\n",
    "    data = dict()\n",
    "    data['reg'] = name\n",
    "    data['data'] = []\n",
    "    problem_file = set()\n",
    "    with open(directory + f'meta/{name}.json', 'w') as js :\n",
    "        for _,json_file in tqdm.tqdm(enumerate(json_files)) :\n",
    "            with open(json_file, 'r', encoding='utf-8-sig') as f :\n",
    "                try :\n",
    "                    raw = json.load(f)\n",
    "                except :\n",
    "                    problem_file.add(json_file)\n",
    "                    continue\n",
    "\n",
    "            for i in range(len(raw['utterance'])) :\n",
    "                match = re.search(r'\\(\\S+\\)\\/\\(\\S+\\)', raw['utterance'][i]['form'])\n",
    "                if match :\n",
    "                    try :\n",
    "                        new = raw['metadata'].copy()\n",
    "                        new['age'] = raw['speaker'][0]['age']\n",
    "                        new['sex'] = raw['speaker'][0]['sex']\n",
    "                        new['prin_res'] = raw['speaker'][0]['principal_residence']                \n",
    "                        new['curr_res'] = raw['speaker'][0]['current_residence']\n",
    "                        try :\n",
    "                            new['age2'] = raw['speaker'][1]['age']\n",
    "                            new['sex2'] = raw['speaker'][1]['sex']\n",
    "                            new['prin_res2'] = raw['speaker'][1]['principal_residence']                \n",
    "                            new['curr_res2'] = raw['speaker'][1]['current_residence']\n",
    "                        except IndexError:\n",
    "                            new['age2'] = np.nan\n",
    "                            new['sex2'] = np.nan\n",
    "                            new['prin_res2'] = np.nan             \n",
    "                            new['curr_res2'] = np.nan\n",
    "                        new['stdn'] = raw['utterance'][i]['standard_form']\n",
    "                        new['dial'] = raw['utterance'][i]['dialect_form']\n",
    "                        form = raw['utterance'][i]['form']\n",
    "                        new['eojeol_stdn'] = [re.findall(r'\\(\\S+\\)\\/\\(\\S+\\)', form)]\n",
    "                        data['data'].append(new)\n",
    "                    except :\n",
    "                        problem_file.add(json_file)\n",
    "                        continue\n",
    "                    \n",
    "        json.dump(data,js)\n",
    "        return problem_file"
   ]
  },
  {
   "cell_type": "code",
   "execution_count": 8,
   "id": "4e47206c",
   "metadata": {},
   "outputs": [
    {
     "name": "stdout",
     "output_type": "stream",
     "text": [
      "5042\n"
     ]
    },
    {
     "name": "stderr",
     "output_type": "stream",
     "text": [
      "5042it [03:06, 27.08it/s]\n"
     ]
    },
    {
     "name": "stdout",
     "output_type": "stream",
     "text": [
      "7412\n"
     ]
    },
    {
     "name": "stderr",
     "output_type": "stream",
     "text": [
      "7412it [02:52, 42.86it/s]\n"
     ]
    },
    {
     "name": "stdout",
     "output_type": "stream",
     "text": [
      "7699\n"
     ]
    },
    {
     "name": "stderr",
     "output_type": "stream",
     "text": [
      "7699it [04:14, 30.29it/s]\n"
     ]
    },
    {
     "name": "stdout",
     "output_type": "stream",
     "text": [
      "6048\n"
     ]
    },
    {
     "name": "stderr",
     "output_type": "stream",
     "text": [
      "6048it [03:27, 29.21it/s]\n"
     ]
    },
    {
     "name": "stdout",
     "output_type": "stream",
     "text": [
      "4717\n"
     ]
    },
    {
     "name": "stderr",
     "output_type": "stream",
     "text": [
      "4717it [02:11, 35.77it/s]\n"
     ]
    }
   ],
   "source": [
    "for reg in regs:\n",
    "    json_files = glob.glob(directory + f'{reg}/*.json')\n",
    "    print(len(json_files))\n",
    "    get_df(json_files, reg)"
   ]
  },
  {
   "cell_type": "code",
   "execution_count": 11,
   "id": "50d597e3",
   "metadata": {},
   "outputs": [],
   "source": [
    "test = glob.glob(directory + 'meta/*reg*.json')\n",
    "df = pd.DataFrame(columns=['title', 'creator', 'distributor', 'year', 'category',\n",
    "       'annotation_level', 'sampling', 'author', 'publisher', 'date', 'topic',\n",
    "       'age', 'sex', 'prin_res', 'curr_res', 'age2', 'sex2', 'prin_res2',\n",
    "       'curr_res2', 'stdn', 'dial', 'eojeol_stdn','reg'])"
   ]
  },
  {
   "cell_type": "code",
   "execution_count": 16,
   "id": "f23fadc6",
   "metadata": {},
   "outputs": [],
   "source": [
    "for i in test :\n",
    "    with open(i,'r') as f :\n",
    "        raw = json.load(f)\n",
    "    temps = df_nested_list = pd.json_normalize(raw['data'])\n",
    "    temps['reg'] = i[31:36]\n",
    "    df = pd.concat([df,temps],axis=0)"
   ]
  },
  {
   "cell_type": "code",
   "execution_count": 13,
   "id": "edeb352d",
   "metadata": {},
   "outputs": [
    {
     "data": {
      "text/plain": [
       "'/aiffel/aiffel/aiffelthon/meta/reg_1.json'"
      ]
     },
     "execution_count": 13,
     "metadata": {},
     "output_type": "execute_result"
    }
   ],
   "source": [
    "i"
   ]
  },
  {
   "cell_type": "code",
   "execution_count": 17,
   "id": "32ae313b",
   "metadata": {},
   "outputs": [
    {
     "name": "stdout",
     "output_type": "stream",
     "text": [
      "<class 'pandas.core.frame.DataFrame'>\n",
      "Int64Index: 2996243 entries, 0 to 297601\n",
      "Data columns (total 23 columns):\n",
      " #   Column            Dtype \n",
      "---  ------            ----- \n",
      " 0   title             object\n",
      " 1   creator           object\n",
      " 2   distributor       object\n",
      " 3   year              object\n",
      " 4   category          object\n",
      " 5   annotation_level  object\n",
      " 6   sampling          object\n",
      " 7   author            object\n",
      " 8   publisher         object\n",
      " 9   date              object\n",
      " 10  topic             object\n",
      " 11  age               object\n",
      " 12  sex               object\n",
      " 13  prin_res          object\n",
      " 14  curr_res          object\n",
      " 15  age2              object\n",
      " 16  sex2              object\n",
      " 17  prin_res2         object\n",
      " 18  curr_res2         object\n",
      " 19  stdn              object\n",
      " 20  dial              object\n",
      " 21  eojeol_stdn       object\n",
      " 22  reg               object\n",
      "dtypes: object(23)\n",
      "memory usage: 548.6+ MB\n"
     ]
    }
   ],
   "source": [
    "df.info()"
   ]
  },
  {
   "cell_type": "code",
   "execution_count": 18,
   "id": "de3b2733",
   "metadata": {},
   "outputs": [],
   "source": [
    "mapper = {'reg_1':'jj','reg_2':'jd','reg_3':'gs','reg_4':'cc','reg_5':'kw'}\n",
    "df['reg']= df['reg'].map(mapper)"
   ]
  },
  {
   "cell_type": "code",
   "execution_count": 19,
   "id": "9839ee48",
   "metadata": {},
   "outputs": [
    {
     "data": {
      "text/plain": [
       "jj    1173544\n",
       "kw     915196\n",
       "gs     334352\n",
       "jd     297602\n",
       "cc     275549\n",
       "Name: reg, dtype: int64"
      ]
     },
     "execution_count": 19,
     "metadata": {},
     "output_type": "execute_result"
    }
   ],
   "source": [
    "df['reg'].value_counts()"
   ]
  },
  {
   "cell_type": "code",
   "execution_count": 21,
   "id": "2c7b0a5c",
   "metadata": {},
   "outputs": [],
   "source": [
    "df.to_csv(directory + 'meta/meta_data_included_raw_v2.csv', index=False)"
   ]
  }
 ],
 "metadata": {
  "kernelspec": {
   "display_name": "Python 3 (ipykernel)",
   "language": "python",
   "name": "python3"
  },
  "language_info": {
   "codemirror_mode": {
    "name": "ipython",
    "version": 3
   },
   "file_extension": ".py",
   "mimetype": "text/x-python",
   "name": "python",
   "nbconvert_exporter": "python",
   "pygments_lexer": "ipython3",
   "version": "3.9.7"
  }
 },
 "nbformat": 4,
 "nbformat_minor": 5
}
