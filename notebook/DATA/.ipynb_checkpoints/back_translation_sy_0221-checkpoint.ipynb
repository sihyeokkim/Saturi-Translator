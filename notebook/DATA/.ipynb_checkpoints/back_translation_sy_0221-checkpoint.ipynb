{
 "cells": [
  {
   "cell_type": "code",
   "execution_count": 1,
   "id": "d5bd7c89",
   "metadata": {},
   "outputs": [],
   "source": [
    "# !pip install transformers --upgrade\n",
    "from transformers import pipeline, AutoModelForSeq2SeqLM, AutoTokenizer\n",
    "import os\n",
    "import pandas as pd\n",
    "import datasets\n",
    "import gc\n",
    "from tqdm import tqdm"
   ]
  },
  {
   "cell_type": "code",
   "execution_count": 2,
   "id": "ce85bc55",
   "metadata": {},
   "outputs": [],
   "source": [
    "# model_ckpt = 'Helsinki-NLP/opus-mt-ko-en'\n",
    "model_ckpt2= 'circulus/kobart-trans-ko-en-v2' #bart`\n",
    "# model_ckpt3 = 'alphahg/opus-mt-ko-en-finetuned-ko-to-en100'\n",
    "# pipe2 = pipeline('translation', model=model_ckpt2, device=0)"
   ]
  },
  {
   "cell_type": "code",
   "execution_count": 6,
   "id": "19477a89",
   "metadata": {},
   "outputs": [],
   "source": [
    "pipe = pipeline('translation', model = model_ckpt2, device=0,max_length=256)"
   ]
  },
  {
   "cell_type": "code",
   "execution_count": 7,
   "id": "b8783b10",
   "metadata": {},
   "outputs": [
    {
     "data": {
      "text/plain": [
       "[{'translation_text': 'The reason why human Go players were able to win artificial intelligence was because they inherited tactics directly from artificial intelligence'}]"
      ]
     },
     "execution_count": 7,
     "metadata": {},
     "output_type": "execute_result"
    }
   ],
   "source": [
    "# test\n",
    "pipe('인간 바둑기사가 인공지능에 승리할 수 있었던 이유는 인공지능으로부터 전술을 직접 물려 받았기 때문이다.')"
   ]
  },
  {
   "cell_type": "markdown",
   "id": "45ee200f",
   "metadata": {},
   "source": [
    "---\n",
    "# kor -> eng backtranslation 작업 순서\n",
    "\n",
    "### 작업 할당 :\n",
    "\n",
    "- `김시혁` :  'jd' 전라도\n",
    "- `정선아` :  'kw' 강원도\n",
    "- `임종인` :  'gs' 경상도\n",
    "- `이승용` :  'jj' 제주도\n",
    "- `신덕식` :  'cc' 충청도\n",
    "\n",
    "---\n",
    "\n",
    "### `data_save(dataset, pipe, '지역', 작업크기, 시작index)`\n",
    ">1. ### `dataset` : 데이터 셋 [dataframe : pandas dataframe]\n",
    ">2. ### `pipe` : hugging face pipeline [func : huggingface pipeline function]\n",
    ">3. ### `지역` : 사투리 지역 [str : 'jj', 'gs', 'kw', 'cc', 'jd']\n",
    ">4. ### `작업크기` : num of rows [int]\n",
    ">5. ### `directory` : 저장 경로 [str : directory]\n",
    ">>예) data_save(df,pipe,'jj',5000,0,'/aiffel/aiffelthon/') -> '지역', 시작index만 변경해주시면 됩니다."
   ]
  },
  {
   "cell_type": "code",
   "execution_count": 64,
   "id": "26bdcb55",
   "metadata": {},
   "outputs": [],
   "source": [
    "directory = os.getenv('HOME') + '/aiffel/aiffelthon/' # 데이터 경로 지정"
   ]
  },
  {
   "cell_type": "code",
   "execution_count": 127,
   "id": "6d82d643",
   "metadata": {},
   "outputs": [
    {
     "data": {
      "text/html": [
       "<div>\n",
       "<style scoped>\n",
       "    .dataframe tbody tr th:only-of-type {\n",
       "        vertical-align: middle;\n",
       "    }\n",
       "\n",
       "    .dataframe tbody tr th {\n",
       "        vertical-align: top;\n",
       "    }\n",
       "\n",
       "    .dataframe thead th {\n",
       "        text-align: right;\n",
       "    }\n",
       "</style>\n",
       "<table border=\"1\" class=\"dataframe\">\n",
       "  <thead>\n",
       "    <tr style=\"text-align: right;\">\n",
       "      <th></th>\n",
       "      <th>text</th>\n",
       "      <th>dial</th>\n",
       "      <th>reg</th>\n",
       "      <th>pair</th>\n",
       "    </tr>\n",
       "  </thead>\n",
       "  <tbody>\n",
       "    <tr>\n",
       "      <th>276826</th>\n",
       "      <td>영화에서 보면 뒷발 차기 해 가지고 이게</td>\n",
       "      <td>영화에서 보면 뒷발 차기 해 가지고잉 이게</td>\n",
       "      <td>jd</td>\n",
       "      <td>(가지고잉)/(가지고)</td>\n",
       "    </tr>\n",
       "    <tr>\n",
       "      <th>849425</th>\n",
       "      <td>이게 나이별 나이에 따라서 이게 옷 입는 것도 바뀌는 거 같애.</td>\n",
       "      <td>이게 나이별 나이에 따라서 이게 옷 입는 것도 바껴지는 거 같애.</td>\n",
       "      <td>cc</td>\n",
       "      <td>(바껴지는)/(바뀌는)</td>\n",
       "    </tr>\n",
       "    <tr>\n",
       "      <th>504499</th>\n",
       "      <td>일단 뭐하는 연애혁명이나</td>\n",
       "      <td>일단 머하는 연애혁명이나</td>\n",
       "      <td>gs</td>\n",
       "      <td>(머하는)/(뭐하는)</td>\n",
       "    </tr>\n",
       "    <tr>\n",
       "      <th>601054</th>\n",
       "      <td>뭔가 잘못됐어.</td>\n",
       "      <td>뭔가 잔못됐어.</td>\n",
       "      <td>kw</td>\n",
       "      <td>(잔못됐어.)/(잘못됐어.)</td>\n",
       "    </tr>\n",
       "    <tr>\n",
       "      <th>980221</th>\n",
       "      <td>그래서 그거를 그냥 썩혀 두기에는 너무 그러니까 당근 마켓이나</td>\n",
       "      <td>그래서 그거를 그냥 썩혀 두기에는 너무 그르니까 당근 마켓이나</td>\n",
       "      <td>cc</td>\n",
       "      <td>(그르니까)/(그러니까)</td>\n",
       "    </tr>\n",
       "  </tbody>\n",
       "</table>\n",
       "</div>"
      ],
      "text/plain": [
       "                                       text  \\\n",
       "276826               영화에서 보면 뒷발 차기 해 가지고 이게   \n",
       "849425  이게 나이별 나이에 따라서 이게 옷 입는 것도 바뀌는 거 같애.   \n",
       "504499                        일단 뭐하는 연애혁명이나   \n",
       "601054                             뭔가 잘못됐어.   \n",
       "980221   그래서 그거를 그냥 썩혀 두기에는 너무 그러니까 당근 마켓이나   \n",
       "\n",
       "                                        dial reg             pair  \n",
       "276826               영화에서 보면 뒷발 차기 해 가지고잉 이게  jd     (가지고잉)/(가지고)  \n",
       "849425  이게 나이별 나이에 따라서 이게 옷 입는 것도 바껴지는 거 같애.  cc     (바껴지는)/(바뀌는)  \n",
       "504499                         일단 머하는 연애혁명이나  gs      (머하는)/(뭐하는)  \n",
       "601054                              뭔가 잔못됐어.  kw  (잔못됐어.)/(잘못됐어.)  \n",
       "980221    그래서 그거를 그냥 썩혀 두기에는 너무 그르니까 당근 마켓이나  cc    (그르니까)/(그러니까)  "
      ]
     },
     "execution_count": 127,
     "metadata": {},
     "output_type": "execute_result"
    }
   ],
   "source": [
    "df = pd.read_csv(directory+'datset_full_raw_needs_translation_0221_v2.csv') # 데이터 파일 불러오기\n",
    "df.drop_duplicates(inplace=True)\n",
    "del df['Unnamed: 0']\n",
    "df['text'] = df['text'].str.replace('[\\(\\)]','',regex=True)\n",
    "df['dial'] = df['dial'].str.replace('[\\(\\)]','',regex=True)\n",
    "reg=['jj','jd','gs','kw','cc']\n",
    "df = df.sample(frac=1)\n",
    "dfs = pd.DataFrame(columns=['text', 'dial', 'reg', 'pair'])\n",
    "for i in reg :\n",
    "    temp = df.loc[df['reg']==i]\n",
    "    dfs = dfs.merge(temp[:200000],how='outer')\n",
    "dfs = dfs.sample(frac=1,random_state=1)\n",
    "dfs.dropna(inplace=True)\n",
    "dfs.head()"
   ]
  },
  {
   "cell_type": "code",
   "execution_count": 151,
   "id": "0dc63cc0",
   "metadata": {},
   "outputs": [],
   "source": [
    "def data_save(data, pipe, prefix, num_rows,start, directory) :\n",
    "    \n",
    "    '''\n",
    "    \n",
    "    1. `dataset` : 데이터 셋 [dataframe : pandas dataframe]\n",
    "    2. `pipe` : hugging face pipeline [func : huggingface pipeline function]\n",
    "    3. `지역` : 사투리 지역 [str : 'jj', 'gs', 'kw', 'cc', 'jd']\n",
    "    4. `작업크기` : num of rows [int]\n",
    "    5. `directory` : 저장 경로 [str : directory]\n",
    "    \n",
    "        예) data_save(df,pipe,'jj',5000,0,'/aiffel/aiffelthon/') -> '지역', 시작index만 변경해주시면 됩니다.\n",
    "        \n",
    "    '''\n",
    "    \n",
    "    df_final = pd.DataFrame(columns=['text', 'dial', 'reg', 'pair','eng'])\n",
    "\n",
    "    for i in range(start,len(data), num_rows) :\n",
    "        dataset = data[i : i +num_rows].reset_index()\n",
    "        dataset = datasets.Dataset.from_pandas(dataset)\n",
    "        dataset = dataset.map(lambda ds : {'eng' : pipe(ds['text'])[0]['translation_text']})\n",
    "        dataset.set_format('pandas')\n",
    "        df_final = df_final.merge(dataset[:], how='outer')\n",
    "        df_final.to_csv(directory + f'dataset_en_ko_{prefix}_{i}_{i+num_rows}.csv', index=False)\n",
    "        print(f'작업 완료 : {prefix}_{i}_{i+num_rows}' )\n",
    "        print(f'저장 경로 : {directory}dataset_ko_en_{prefix}_{i}_{i+num_rows}.csv')"
   ]
  },
  {
   "cell_type": "markdown",
   "id": "c7d80cd8",
   "metadata": {},
   "source": [
    "### 본인이 해당하는 부분만 주석 풀고 데이터 만들어주세요~"
   ]
  },
  {
   "cell_type": "code",
   "execution_count": 132,
   "id": "ea80e9bf",
   "metadata": {},
   "outputs": [
    {
     "data": {
      "text/plain": [
       "cc    40279\n",
       "jj    40031\n",
       "gs    39926\n",
       "jd    39912\n",
       "kw    39851\n",
       "Name: reg, dtype: int64"
      ]
     },
     "execution_count": 132,
     "metadata": {},
     "output_type": "execute_result"
    }
   ],
   "source": [
    "# dfs1 = dfs[:200000].copy() # 김시혁\n",
    "# dfs1 = dfs[200000:400000].copy() # 정선아\n",
    "# dfs1 = dfs[400000:600000].copy() # 임종인\n",
    "# dfs1 = dfs[600000:800000].copy() # 이승용\n",
    "# dfs1 = dfs[800000:].copy() # 이승용"
   ]
  },
  {
   "cell_type": "code",
   "execution_count": null,
   "id": "31f955c4",
   "metadata": {},
   "outputs": [
    {
     "data": {
      "application/vnd.jupyter.widget-view+json": {
       "model_id": "67cf612091b74b57a51f2aa22340d5a3",
       "version_major": 2,
       "version_minor": 0
      },
      "text/plain": [
       "  0%|          | 0/5000 [00:00<?, ?ex/s]"
      ]
     },
     "metadata": {},
     "output_type": "display_data"
    },
    {
     "name": "stdout",
     "output_type": "stream",
     "text": [
      "작업 완료 : translated_45000_50000\n",
      "저장 경로 : /aiffel/aiffel/aiffelthon/dataset_ko_en_translated_45000_50000.csv\n"
     ]
    },
    {
     "data": {
      "application/vnd.jupyter.widget-view+json": {
       "model_id": "2bad20be4cad4f2086f502182a34ac87",
       "version_major": 2,
       "version_minor": 0
      },
      "text/plain": [
       "  0%|          | 0/5000 [00:00<?, ?ex/s]"
      ]
     },
     "metadata": {},
     "output_type": "display_data"
    },
    {
     "name": "stdout",
     "output_type": "stream",
     "text": [
      "작업 완료 : translated_50000_55000\n",
      "저장 경로 : /aiffel/aiffel/aiffelthon/dataset_ko_en_translated_50000_55000.csv\n"
     ]
    },
    {
     "data": {
      "application/vnd.jupyter.widget-view+json": {
       "model_id": "870732eac7a14da19f30aef3c5c86cbd",
       "version_major": 2,
       "version_minor": 0
      },
      "text/plain": [
       "  0%|          | 0/5000 [00:00<?, ?ex/s]"
      ]
     },
     "metadata": {},
     "output_type": "display_data"
    },
    {
     "name": "stdout",
     "output_type": "stream",
     "text": [
      "작업 완료 : translated_55000_60000\n",
      "저장 경로 : /aiffel/aiffel/aiffelthon/dataset_ko_en_translated_55000_60000.csv\n"
     ]
    },
    {
     "data": {
      "application/vnd.jupyter.widget-view+json": {
       "model_id": "a1aded8899624aafac722d7684af0226",
       "version_major": 2,
       "version_minor": 0
      },
      "text/plain": [
       "  0%|          | 0/5000 [00:00<?, ?ex/s]"
      ]
     },
     "metadata": {},
     "output_type": "display_data"
    },
    {
     "name": "stdout",
     "output_type": "stream",
     "text": [
      "작업 완료 : translated_60000_65000\n",
      "저장 경로 : /aiffel/aiffel/aiffelthon/dataset_ko_en_translated_60000_65000.csv\n"
     ]
    },
    {
     "data": {
      "application/vnd.jupyter.widget-view+json": {
       "model_id": "695e5f37a60f4e23b04b3c234cd5703c",
       "version_major": 2,
       "version_minor": 0
      },
      "text/plain": [
       "  0%|          | 0/5000 [00:00<?, ?ex/s]"
      ]
     },
     "metadata": {},
     "output_type": "display_data"
    },
    {
     "name": "stdout",
     "output_type": "stream",
     "text": [
      "작업 완료 : translated_65000_70000\n",
      "저장 경로 : /aiffel/aiffel/aiffelthon/dataset_ko_en_translated_65000_70000.csv\n"
     ]
    },
    {
     "data": {
      "application/vnd.jupyter.widget-view+json": {
       "model_id": "2afc08064c5346248385e7bb16432359",
       "version_major": 2,
       "version_minor": 0
      },
      "text/plain": [
       "  0%|          | 0/5000 [00:00<?, ?ex/s]"
      ]
     },
     "metadata": {},
     "output_type": "display_data"
    },
    {
     "name": "stdout",
     "output_type": "stream",
     "text": [
      "작업 완료 : translated_70000_75000\n",
      "저장 경로 : /aiffel/aiffel/aiffelthon/dataset_ko_en_translated_70000_75000.csv\n"
     ]
    },
    {
     "data": {
      "application/vnd.jupyter.widget-view+json": {
       "model_id": "ff3fef589b334e318e3b99064018b397",
       "version_major": 2,
       "version_minor": 0
      },
      "text/plain": [
       "  0%|          | 0/5000 [00:00<?, ?ex/s]"
      ]
     },
     "metadata": {},
     "output_type": "display_data"
    },
    {
     "name": "stdout",
     "output_type": "stream",
     "text": [
      "작업 완료 : translated_75000_80000\n",
      "저장 경로 : /aiffel/aiffel/aiffelthon/dataset_ko_en_translated_75000_80000.csv\n"
     ]
    },
    {
     "data": {
      "application/vnd.jupyter.widget-view+json": {
       "model_id": "063c8eb03b304ac2b6a67c0fedf8caf9",
       "version_major": 2,
       "version_minor": 0
      },
      "text/plain": [
       "  0%|          | 0/5000 [00:00<?, ?ex/s]"
      ]
     },
     "metadata": {},
     "output_type": "display_data"
    },
    {
     "name": "stdout",
     "output_type": "stream",
     "text": [
      "작업 완료 : translated_80000_85000\n",
      "저장 경로 : /aiffel/aiffel/aiffelthon/dataset_ko_en_translated_80000_85000.csv\n"
     ]
    },
    {
     "data": {
      "application/vnd.jupyter.widget-view+json": {
       "model_id": "796d54cf75d14cf887e4b9331b5824e9",
       "version_major": 2,
       "version_minor": 0
      },
      "text/plain": [
       "  0%|          | 0/5000 [00:00<?, ?ex/s]"
      ]
     },
     "metadata": {},
     "output_type": "display_data"
    },
    {
     "name": "stdout",
     "output_type": "stream",
     "text": [
      "작업 완료 : translated_85000_90000\n",
      "저장 경로 : /aiffel/aiffel/aiffelthon/dataset_ko_en_translated_85000_90000.csv\n"
     ]
    },
    {
     "data": {
      "application/vnd.jupyter.widget-view+json": {
       "model_id": "1915dd4a3dc24e4bb757db20afc7ee75",
       "version_major": 2,
       "version_minor": 0
      },
      "text/plain": [
       "  0%|          | 0/5000 [00:00<?, ?ex/s]"
      ]
     },
     "metadata": {},
     "output_type": "display_data"
    },
    {
     "name": "stdout",
     "output_type": "stream",
     "text": [
      "작업 완료 : translated_90000_95000\n",
      "저장 경로 : /aiffel/aiffel/aiffelthon/dataset_ko_en_translated_90000_95000.csv\n"
     ]
    },
    {
     "data": {
      "application/vnd.jupyter.widget-view+json": {
       "model_id": "338026f586754cbe9bd2d96c967b091d",
       "version_major": 2,
       "version_minor": 0
      },
      "text/plain": [
       "  0%|          | 0/5000 [00:00<?, ?ex/s]"
      ]
     },
     "metadata": {},
     "output_type": "display_data"
    },
    {
     "name": "stdout",
     "output_type": "stream",
     "text": [
      "작업 완료 : translated_95000_100000\n",
      "저장 경로 : /aiffel/aiffel/aiffelthon/dataset_ko_en_translated_95000_100000.csv\n"
     ]
    },
    {
     "data": {
      "application/vnd.jupyter.widget-view+json": {
       "model_id": "e03de227180a40e79daac597e320b221",
       "version_major": 2,
       "version_minor": 0
      },
      "text/plain": [
       "  0%|          | 0/5000 [00:00<?, ?ex/s]"
      ]
     },
     "metadata": {},
     "output_type": "display_data"
    },
    {
     "name": "stdout",
     "output_type": "stream",
     "text": [
      "작업 완료 : translated_100000_105000\n",
      "저장 경로 : /aiffel/aiffel/aiffelthon/dataset_ko_en_translated_100000_105000.csv\n"
     ]
    },
    {
     "data": {
      "application/vnd.jupyter.widget-view+json": {
       "model_id": "92f5b050ae46492d875c44050ddaba5c",
       "version_major": 2,
       "version_minor": 0
      },
      "text/plain": [
       "  0%|          | 0/5000 [00:00<?, ?ex/s]"
      ]
     },
     "metadata": {},
     "output_type": "display_data"
    },
    {
     "name": "stdout",
     "output_type": "stream",
     "text": [
      "작업 완료 : translated_105000_110000\n",
      "저장 경로 : /aiffel/aiffel/aiffelthon/dataset_ko_en_translated_105000_110000.csv\n"
     ]
    },
    {
     "data": {
      "application/vnd.jupyter.widget-view+json": {
       "model_id": "29d3b44e0fc74f1caa3b6501856c01e8",
       "version_major": 2,
       "version_minor": 0
      },
      "text/plain": [
       "  0%|          | 0/5000 [00:00<?, ?ex/s]"
      ]
     },
     "metadata": {},
     "output_type": "display_data"
    },
    {
     "name": "stdout",
     "output_type": "stream",
     "text": [
      "작업 완료 : translated_110000_115000\n",
      "저장 경로 : /aiffel/aiffel/aiffelthon/dataset_ko_en_translated_110000_115000.csv\n"
     ]
    },
    {
     "data": {
      "application/vnd.jupyter.widget-view+json": {
       "model_id": "515e6b7bd4b14fb799697a19cb8bd3cf",
       "version_major": 2,
       "version_minor": 0
      },
      "text/plain": [
       "  0%|          | 0/5000 [00:00<?, ?ex/s]"
      ]
     },
     "metadata": {},
     "output_type": "display_data"
    },
    {
     "name": "stdout",
     "output_type": "stream",
     "text": [
      "작업 완료 : translated_115000_120000\n",
      "저장 경로 : /aiffel/aiffel/aiffelthon/dataset_ko_en_translated_115000_120000.csv\n"
     ]
    },
    {
     "data": {
      "application/vnd.jupyter.widget-view+json": {
       "model_id": "4bda8ec934ba49e6b87f118454e90ce5",
       "version_major": 2,
       "version_minor": 0
      },
      "text/plain": [
       "  0%|          | 0/5000 [00:00<?, ?ex/s]"
      ]
     },
     "metadata": {},
     "output_type": "display_data"
    },
    {
     "name": "stdout",
     "output_type": "stream",
     "text": [
      "작업 완료 : translated_120000_125000\n",
      "저장 경로 : /aiffel/aiffel/aiffelthon/dataset_ko_en_translated_120000_125000.csv\n"
     ]
    },
    {
     "data": {
      "application/vnd.jupyter.widget-view+json": {
       "model_id": "ac8d7405dc5a49d5a8bc501c4c47a445",
       "version_major": 2,
       "version_minor": 0
      },
      "text/plain": [
       "  0%|          | 0/5000 [00:00<?, ?ex/s]"
      ]
     },
     "metadata": {},
     "output_type": "display_data"
    },
    {
     "name": "stdout",
     "output_type": "stream",
     "text": [
      "작업 완료 : translated_125000_130000\n",
      "저장 경로 : /aiffel/aiffel/aiffelthon/dataset_ko_en_translated_125000_130000.csv\n"
     ]
    },
    {
     "data": {
      "application/vnd.jupyter.widget-view+json": {
       "model_id": "03e5c050a5624511b422dd31528425b0",
       "version_major": 2,
       "version_minor": 0
      },
      "text/plain": [
       "  0%|          | 0/5000 [00:00<?, ?ex/s]"
      ]
     },
     "metadata": {},
     "output_type": "display_data"
    },
    {
     "name": "stdout",
     "output_type": "stream",
     "text": [
      "작업 완료 : translated_130000_135000\n",
      "저장 경로 : /aiffel/aiffel/aiffelthon/dataset_ko_en_translated_130000_135000.csv\n"
     ]
    },
    {
     "data": {
      "application/vnd.jupyter.widget-view+json": {
       "model_id": "f60db02c71df4c38bcad73c02d3c0894",
       "version_major": 2,
       "version_minor": 0
      },
      "text/plain": [
       "  0%|          | 0/5000 [00:00<?, ?ex/s]"
      ]
     },
     "metadata": {},
     "output_type": "display_data"
    },
    {
     "name": "stdout",
     "output_type": "stream",
     "text": [
      "작업 완료 : translated_135000_140000\n",
      "저장 경로 : /aiffel/aiffel/aiffelthon/dataset_ko_en_translated_135000_140000.csv\n"
     ]
    },
    {
     "data": {
      "application/vnd.jupyter.widget-view+json": {
       "model_id": "7c7aac9f83cc4c4b9d995b8b54462bfb",
       "version_major": 2,
       "version_minor": 0
      },
      "text/plain": [
       "  0%|          | 0/5000 [00:00<?, ?ex/s]"
      ]
     },
     "metadata": {},
     "output_type": "display_data"
    },
    {
     "name": "stdout",
     "output_type": "stream",
     "text": [
      "작업 완료 : translated_140000_145000\n",
      "저장 경로 : /aiffel/aiffel/aiffelthon/dataset_ko_en_translated_140000_145000.csv\n"
     ]
    },
    {
     "data": {
      "application/vnd.jupyter.widget-view+json": {
       "model_id": "d27616d471e542b3b49d974609ea95c3",
       "version_major": 2,
       "version_minor": 0
      },
      "text/plain": [
       "  0%|          | 0/5000 [00:00<?, ?ex/s]"
      ]
     },
     "metadata": {},
     "output_type": "display_data"
    },
    {
     "name": "stdout",
     "output_type": "stream",
     "text": [
      "작업 완료 : translated_145000_150000\n",
      "저장 경로 : /aiffel/aiffel/aiffelthon/dataset_ko_en_translated_145000_150000.csv\n"
     ]
    },
    {
     "data": {
      "application/vnd.jupyter.widget-view+json": {
       "model_id": "133537d6db5b4857afce2c8b92728c2d",
       "version_major": 2,
       "version_minor": 0
      },
      "text/plain": [
       "  0%|          | 0/5000 [00:00<?, ?ex/s]"
      ]
     },
     "metadata": {},
     "output_type": "display_data"
    },
    {
     "name": "stdout",
     "output_type": "stream",
     "text": [
      "작업 완료 : translated_150000_155000\n",
      "저장 경로 : /aiffel/aiffel/aiffelthon/dataset_ko_en_translated_150000_155000.csv\n"
     ]
    },
    {
     "data": {
      "application/vnd.jupyter.widget-view+json": {
       "model_id": "9c900d464f874e8b92a68df5ef702cc9",
       "version_major": 2,
       "version_minor": 0
      },
      "text/plain": [
       "  0%|          | 0/5000 [00:00<?, ?ex/s]"
      ]
     },
     "metadata": {},
     "output_type": "display_data"
    }
   ],
   "source": [
    "name = 'sy'# <<<<<<--------이름 꼭 바꿔주세요------------------------------------<<<<<<<<<<<<<<\n",
    "date = '0221' # <<<<<<--------작업 일자로 바꿔주세요------------------------------------<<<<<<<<<<<<<<\n",
    "\n",
    "prefix = f'translated_{name}' # 지역\n",
    "num_rows = 5000\n",
    "data_save(dfs1,pipe,prefix,num_rows,0,directory)"
   ]
  },
  {
   "cell_type": "code",
   "execution_count": 91,
   "id": "d3097471",
   "metadata": {},
   "outputs": [
    {
     "data": {
      "text/plain": [
       "['/aiffel/aiffel/aiffelthon/dataset_en_ko_jd_30000_40000.csv',\n",
       " '/aiffel/aiffel/aiffelthon/dataset_en_ko_jd_80000_90000.csv',\n",
       " '/aiffel/aiffel/aiffelthon/dataset_en_ko_jd_20000_30000.csv',\n",
       " '/aiffel/aiffel/aiffelthon/dataset_en_ko_jd_0_10000.csv',\n",
       " '/aiffel/aiffel/aiffelthon/dataset_en_ko_jd_90000_100000.csv',\n",
       " '/aiffel/aiffel/aiffelthon/dataset_en_ko_jd_10000_20000.csv',\n",
       " '/aiffel/aiffel/aiffelthon/dataset_en_ko_jd_70000_80000.csv',\n",
       " '/aiffel/aiffel/aiffelthon/dataset_en_ko_jd_50000_60000.csv',\n",
       " '/aiffel/aiffel/aiffelthon/dataset_en_ko_jd_40000_50000.csv']"
      ]
     },
     "execution_count": 91,
     "metadata": {},
     "output_type": "execute_result"
    }
   ],
   "source": [
    "import glob\n",
    "files = glob.glob(directory+f'*jd*.csv')\n",
    "files"
   ]
  },
  {
   "cell_type": "code",
   "execution_count": 94,
   "id": "f0ec76f7",
   "metadata": {},
   "outputs": [
    {
     "name": "stdout",
     "output_type": "stream",
     "text": [
      "<class 'pandas.core.frame.DataFrame'>\n",
      "Int64Index: 100002 entries, 0 to 100001\n",
      "Data columns (total 5 columns):\n",
      " #   Column  Non-Null Count   Dtype \n",
      "---  ------  --------------   ----- \n",
      " 0   text    100002 non-null  object\n",
      " 1   dial    100002 non-null  object\n",
      " 2   reg     100002 non-null  object\n",
      " 3   pair    100002 non-null  object\n",
      " 4   eng     100002 non-null  object\n",
      "dtypes: object(5)\n",
      "memory usage: 4.6+ MB\n"
     ]
    }
   ],
   "source": [
    "# data merge하기\n",
    "df_final = pd.DataFrame(columns=['text', 'dial', 'reg', 'pair','eng'])\n",
    "for i in files :\n",
    "    df_new = pd.read_csv(i, usecols =['text', 'dial', 'reg', 'pair','eng'])\n",
    "    df_final = df_final.merge(df_new, how='outer')\n",
    "df_final.head()\n",
    "df_final.info()"
   ]
  },
  {
   "cell_type": "markdown",
   "id": "8627e8d3",
   "metadata": {},
   "source": [
    "# 통합 파일 'added' 경로의 저장하기"
   ]
  },
  {
   "cell_type": "code",
   "execution_count": 61,
   "id": "8a9914ad",
   "metadata": {},
   "outputs": [],
   "source": [
    "import shutil"
   ]
  },
  {
   "cell_type": "code",
   "execution_count": 95,
   "id": "5e12fd20",
   "metadata": {},
   "outputs": [],
   "source": [
    "df_final.to_csv(directory + f'dataset_full_ko_en_added_{date}_{name}.csv' , index=False)\n",
    "\n",
    "src= directory\n",
    "dest = directory + 'added/'\n",
    "\n",
    "os.makedirs(dest,exist_ok=True)\n",
    "\n",
    "new_file = [i[26:] for i in glob.glob(directory+'*added*.csv')]\n",
    "for i in new_file :\n",
    "    shutil.move(src + i, dest + i)"
   ]
  },
  {
   "cell_type": "code",
   "execution_count": 96,
   "id": "3eb3a452",
   "metadata": {},
   "outputs": [],
   "source": [
    "# 통합 전 파일 별도 저장\n",
    "\n",
    "old_files = [i[26:] for i in glob.glob(directory+'*translated*.csv')]\n",
    "\n",
    "dest = diretory + 'past_files/'\n",
    "\n",
    "os.makedirs(dest,exist_ok=True)\n",
    "\n",
    "for i in old_files :\n",
    "    shutil.move(src + i, dest + i)"
   ]
  }
 ],
 "metadata": {
  "kernelspec": {
   "display_name": "Python 3 (ipykernel)",
   "language": "python",
   "name": "python3"
  },
  "language_info": {
   "codemirror_mode": {
    "name": "ipython",
    "version": 3
   },
   "file_extension": ".py",
   "mimetype": "text/x-python",
   "name": "python",
   "nbconvert_exporter": "python",
   "pygments_lexer": "ipython3",
   "version": "3.9.7"
  }
 },
 "nbformat": 4,
 "nbformat_minor": 5
}
