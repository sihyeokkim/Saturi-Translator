{
 "cells": [
  {
   "cell_type": "code",
   "execution_count": 1,
   "id": "0fc6af9f",
   "metadata": {},
   "outputs": [],
   "source": [
    "import pandas as pd\n",
    "import numpy as np\n",
    "import os\n",
    "import glob\n",
    "from time import perf_counter\n",
    "import tqdm "
   ]
  },
  {
   "cell_type": "markdown",
   "id": "0fc489aa",
   "metadata": {},
   "source": [
    "### data load"
   ]
  },
  {
   "cell_type": "code",
   "execution_count": 2,
   "id": "39a7d837",
   "metadata": {},
   "outputs": [],
   "source": [
    "directory = os.getenv('HOME') + '/aiffel/aiffelthon'"
   ]
  },
  {
   "cell_type": "code",
   "execution_count": 3,
   "id": "edd379aa",
   "metadata": {},
   "outputs": [
    {
     "data": {
      "text/plain": [
       "['reg_1.json',\n",
       " 'meta_data_included_raw_v2.csv',\n",
       " '.ipynb_checkpoints',\n",
       " 'meta_eng_raw_0306_v1.csv',\n",
       " 'kor_text.xlsx',\n",
       " 'reg_3.json',\n",
       " 'meta_data_included_raw.csv',\n",
       " 'meta_data_raw_eng_match_6m.csv',\n",
       " 'kor_text.txt',\n",
       " 'reg_4.json',\n",
       " 'kw_t.json',\n",
       " 'reg_5.json',\n",
       " 'meta_data_raw_0306.csv',\n",
       " 'reg_2.json']"
      ]
     },
     "execution_count": 3,
     "metadata": {},
     "output_type": "execute_result"
    }
   ],
   "source": [
    "os.listdir(directory +'/meta')"
   ]
  },
  {
   "cell_type": "code",
   "execution_count": 4,
   "id": "7435e6d8",
   "metadata": {},
   "outputs": [
    {
     "name": "stderr",
     "output_type": "stream",
     "text": [
      "/opt/conda/lib/python3.9/site-packages/IPython/core/interactiveshell.py:3444: DtypeWarning: Columns (6,12) have mixed types.Specify dtype option on import or set low_memory=False.\n",
      "  exec(code_obj, self.user_global_ns, self.user_ns)\n"
     ]
    }
   ],
   "source": [
    "df = pd.read_csv(directory + '/meta/meta_eng_raw_0306_v1.csv')"
   ]
  },
  {
   "cell_type": "code",
   "execution_count": 5,
   "id": "1a7bdad6",
   "metadata": {},
   "outputs": [
    {
     "name": "stdout",
     "output_type": "stream",
     "text": [
      "<class 'pandas.core.frame.DataFrame'>\n",
      "RangeIndex: 949888 entries, 0 to 949887\n",
      "Data columns (total 25 columns):\n",
      " #   Column            Non-Null Count   Dtype \n",
      "---  ------            --------------   ----- \n",
      " 0   text              949888 non-null  object\n",
      " 1   dial              949888 non-null  object\n",
      " 2   eng               949888 non-null  object\n",
      " 3   title             949888 non-null  object\n",
      " 4   creator           949888 non-null  object\n",
      " 5   distributor       949706 non-null  object\n",
      " 6   year              949888 non-null  object\n",
      " 7   category          949706 non-null  object\n",
      " 8   annotation_level  949888 non-null  object\n",
      " 9   sampling          949417 non-null  object\n",
      " 10  author            925576 non-null  object\n",
      " 11  publisher         925576 non-null  object\n",
      " 12  date              949888 non-null  object\n",
      " 13  topic             949888 non-null  object\n",
      " 14  age               949888 non-null  object\n",
      " 15  sex               949888 non-null  object\n",
      " 16  prin_res          949888 non-null  object\n",
      " 17  curr_res          949888 non-null  object\n",
      " 18  age2              659954 non-null  object\n",
      " 19  sex2              659954 non-null  object\n",
      " 20  prin_res2         659954 non-null  object\n",
      " 21  curr_res2         659954 non-null  object\n",
      " 22  stdn              949888 non-null  object\n",
      " 23  eojeol_stdn       949888 non-null  object\n",
      " 24  reg               949888 non-null  object\n",
      "dtypes: object(25)\n",
      "memory usage: 181.2+ MB\n"
     ]
    }
   ],
   "source": [
    "df.info()"
   ]
  },
  {
   "cell_type": "code",
   "execution_count": 6,
   "id": "3aff027a",
   "metadata": {},
   "outputs": [
    {
     "data": {
      "text/plain": [
       "kw    345244\n",
       "jj    203349\n",
       "jd    174833\n",
       "gs    114787\n",
       "cc    111675\n",
       "Name: reg, dtype: int64"
      ]
     },
     "execution_count": 6,
     "metadata": {},
     "output_type": "execute_result"
    }
   ],
   "source": [
    "df.reg.value_counts()"
   ]
  },
  {
   "cell_type": "markdown",
   "id": "da70fb34",
   "metadata": {},
   "source": [
    "## 가장 적합한 모델 선택"
   ]
  },
  {
   "cell_type": "markdown",
   "id": "e1df3eaa",
   "metadata": {},
   "source": [
    "허깅페이스에서 테스트 해볼만한 6가지 모델을 추출하였다."
   ]
  },
  {
   "cell_type": "code",
   "execution_count": 7,
   "id": "ead77231",
   "metadata": {},
   "outputs": [],
   "source": [
    "model_ckpt3 ='ddobokki/klue-roberta-small-nli-sts'\n",
    "gpt_ckpt = 'skt/kogpt2-base-v2'"
   ]
  },
  {
   "cell_type": "code",
   "execution_count": 8,
   "id": "34acbd6f",
   "metadata": {},
   "outputs": [],
   "source": [
    "# ! pip install sentence_transformers"
   ]
  },
  {
   "cell_type": "code",
   "execution_count": 18,
   "id": "cfa7e1be",
   "metadata": {},
   "outputs": [],
   "source": [
    "from transformers import AutoTokenizer, AutoModel\n",
    "from sentence_transformers import SentenceTransformer, util\n",
    "model = SentenceTransformer(model_ckpt3)\n",
    "model1 = AutoModel.from_pretrained(model_ckpt3)\n",
    "tokenizer = AutoTokenizer.from_pretrained(model_ckpt3)"
   ]
  },
  {
   "cell_type": "code",
   "execution_count": 19,
   "id": "557df933",
   "metadata": {},
   "outputs": [],
   "source": [
    "def get_sts(text,topic):\n",
    "    # model loading\n",
    "#     model = SentenceTransformer(model_ckpt)\n",
    "    \n",
    "    # get embedding\n",
    "#     start_time = perf_counter()\n",
    "    topic_embedding = model.encode(topic, convert_to_tensor=True)\n",
    "    src_embedding = model.encode(text, convert_to_tensor=True)\n",
    "    \n",
    "    # 유사도 계산\n",
    "    sts = util.pytorch_cos_sim(src_embedding, topic_embedding).to('cpu').numpy()\n",
    "    \n",
    "#     latency = perf_counter() - start_time\n",
    "#     print(f'{latency * 1000:.3f} ms')\n",
    "    return sts"
   ]
  },
  {
   "cell_type": "code",
   "execution_count": 20,
   "id": "3995469c",
   "metadata": {},
   "outputs": [],
   "source": [
    "stdns = df['stdn'].values\n",
    "topics = df['topic'].values"
   ]
  },
  {
   "cell_type": "code",
   "execution_count": 21,
   "id": "7c058f9b",
   "metadata": {},
   "outputs": [],
   "source": [
    "input_val = tokenizer(stdns[0], return_tensors ='pt')"
   ]
  },
  {
   "cell_type": "code",
   "execution_count": 22,
   "id": "b49f75e5",
   "metadata": {},
   "outputs": [
    {
     "data": {
      "text/plain": [
       "tensor(25.7711)"
      ]
     },
     "execution_count": 22,
     "metadata": {},
     "output_type": "execute_result"
    }
   ],
   "source": [
    "import torch\n",
    "with torch.no_grad():\n",
    "    output = model1(**input_val)\n",
    "output[0].mean(axis=1).sum()"
   ]
  },
  {
   "cell_type": "code",
   "execution_count": 23,
   "id": "941abd6f",
   "metadata": {},
   "outputs": [
    {
     "data": {
      "application/vnd.jupyter.widget-view+json": {
       "model_id": "af20fab922ed47658c994aba13d427d9",
       "version_major": 2,
       "version_minor": 0
      },
      "text/plain": [
       "Batches:   0%|          | 0/1 [00:00<?, ?it/s]"
      ]
     },
     "metadata": {},
     "output_type": "display_data"
    },
    {
     "data": {
      "text/plain": [
       "tensor(25.7711, device='cuda:0')"
      ]
     },
     "execution_count": 23,
     "metadata": {},
     "output_type": "execute_result"
    }
   ],
   "source": [
    "model.encode(stdns[0], show_progress_bar = True, batch_size =64, convert_to_tensor=True).sum()"
   ]
  },
  {
   "cell_type": "code",
   "execution_count": 30,
   "id": "51fe9c9b",
   "metadata": {},
   "outputs": [
    {
     "name": "stdout",
     "output_type": "stream",
     "text": [
      "949888\n"
     ]
    }
   ],
   "source": [
    "scores = []\n",
    "for i in range(14842 ,len(stdns)+14842,14842):\n",
    "    cosine_score =get_sts(stdns[i-14842:i], topics[i-14842:i])\n",
    "    for k in range(len(cosine_score)):\n",
    "        scores.append(cosine_score[k][k])\n",
    "    print(len(scores))"
   ]
  },
  {
   "cell_type": "code",
   "execution_count": 31,
   "id": "84287069",
   "metadata": {},
   "outputs": [
    {
     "name": "stdout",
     "output_type": "stream",
     "text": [
      "949888\n"
     ]
    }
   ],
   "source": [
    "print(len(scores))"
   ]
  },
  {
   "cell_type": "code",
   "execution_count": 33,
   "id": "cc3f9be6",
   "metadata": {},
   "outputs": [],
   "source": [
    "df['sts'] = pd.Series(scores)"
   ]
  },
  {
   "cell_type": "code",
   "execution_count": 39,
   "id": "a75938e0",
   "metadata": {},
   "outputs": [],
   "source": [
    "topic_label = df.topic.unique()"
   ]
  },
  {
   "cell_type": "code",
   "execution_count": 46,
   "id": "697b1c0d",
   "metadata": {},
   "outputs": [
    {
     "name": "stdout",
     "output_type": "stream",
     "text": [
      "['[CLS]', '기술', '##발전', '[SEP]']\n"
     ]
    }
   ],
   "source": [
    "enc = tokenizer.encode('기술발전')\n",
    "tok = tokenizer.convert_ids_to_tokens(enc)\n",
    "print(tok)"
   ]
  },
  {
   "cell_type": "code",
   "execution_count": 37,
   "id": "6c0a49d4",
   "metadata": {},
   "outputs": [
    {
     "data": {
      "text/html": [
       "<div>\n",
       "<style scoped>\n",
       "    .dataframe tbody tr th:only-of-type {\n",
       "        vertical-align: middle;\n",
       "    }\n",
       "\n",
       "    .dataframe tbody tr th {\n",
       "        vertical-align: top;\n",
       "    }\n",
       "\n",
       "    .dataframe thead th {\n",
       "        text-align: right;\n",
       "    }\n",
       "</style>\n",
       "<table border=\"1\" class=\"dataframe\">\n",
       "  <thead>\n",
       "    <tr style=\"text-align: right;\">\n",
       "      <th></th>\n",
       "      <th>stdn</th>\n",
       "      <th>topic</th>\n",
       "      <th>sts</th>\n",
       "    </tr>\n",
       "  </thead>\n",
       "  <tbody>\n",
       "    <tr>\n",
       "      <th>0</th>\n",
       "      <td>생각이 쪼금씩 바뀌더라고</td>\n",
       "      <td>역사</td>\n",
       "      <td>0.056177</td>\n",
       "    </tr>\n",
       "    <tr>\n",
       "      <th>1</th>\n",
       "      <td>어 알겠는가 외국인들이 그래도 잘 적응하고</td>\n",
       "      <td>가족</td>\n",
       "      <td>-0.006247</td>\n",
       "    </tr>\n",
       "    <tr>\n",
       "      <th>2</th>\n",
       "      <td>아으 갑자기 예전에 맹장 뜯은 게 생각난다.</td>\n",
       "      <td>건강</td>\n",
       "      <td>0.174105</td>\n",
       "    </tr>\n",
       "    <tr>\n",
       "      <th>3</th>\n",
       "      <td>보면은 조금 품위 있게 나이 들어가야 되겠단 생각을 참 많이 해요.</td>\n",
       "      <td>스타일</td>\n",
       "      <td>0.120993</td>\n",
       "    </tr>\n",
       "    <tr>\n",
       "      <th>4</th>\n",
       "      <td>약간 조금 약간 맛이 쪼끔 거시기 하긴 한데 그래도</td>\n",
       "      <td>먹거리</td>\n",
       "      <td>0.256973</td>\n",
       "    </tr>\n",
       "    <tr>\n",
       "      <th>...</th>\n",
       "      <td>...</td>\n",
       "      <td>...</td>\n",
       "      <td>...</td>\n",
       "    </tr>\n",
       "    <tr>\n",
       "      <th>949883</th>\n",
       "      <td>뭐~ 맨날 집에서 인제 음식도 그냥 가까운 데 나가서 먹는 게 아니라 되게 시켜먹는...</td>\n",
       "      <td>다이어트</td>\n",
       "      <td>0.047894</td>\n",
       "    </tr>\n",
       "    <tr>\n",
       "      <th>949884</th>\n",
       "      <td>너는 만약에 그런 시대가 오면 네가 어떻게 활동할 것 같애?</td>\n",
       "      <td>4차산업혁명</td>\n",
       "      <td>0.142204</td>\n",
       "    </tr>\n",
       "    <tr>\n",
       "      <th>949885</th>\n",
       "      <td>하이브도 있고 #조석 작가 이제 조의 영역이라는 웹툰도 있고 마음의 소리도 있는데</td>\n",
       "      <td>만화</td>\n",
       "      <td>0.282759</td>\n",
       "    </tr>\n",
       "    <tr>\n",
       "      <th>949886</th>\n",
       "      <td>추석도 친척들도 사촌까지만 모이긴 했는데 이~ 다 모이니까 할 말도 많고 이~</td>\n",
       "      <td>반려동물</td>\n",
       "      <td>-0.043421</td>\n",
       "    </tr>\n",
       "    <tr>\n",
       "      <th>949887</th>\n",
       "      <td>커피숍 가서 이렇게 먹고 하는 거가 훨씬 맛있거든 기분상으로도 그렇고</td>\n",
       "      <td>먹거리</td>\n",
       "      <td>0.145249</td>\n",
       "    </tr>\n",
       "  </tbody>\n",
       "</table>\n",
       "<p>949888 rows × 3 columns</p>\n",
       "</div>"
      ],
      "text/plain": [
       "                                                     stdn   topic       sts\n",
       "0                                           생각이 쪼금씩 바뀌더라고      역사  0.056177\n",
       "1                                 어 알겠는가 외국인들이 그래도 잘 적응하고      가족 -0.006247\n",
       "2                                아으 갑자기 예전에 맹장 뜯은 게 생각난다.      건강  0.174105\n",
       "3                   보면은 조금 품위 있게 나이 들어가야 되겠단 생각을 참 많이 해요.     스타일  0.120993\n",
       "4                            약간 조금 약간 맛이 쪼끔 거시기 하긴 한데 그래도     먹거리  0.256973\n",
       "...                                                   ...     ...       ...\n",
       "949883  뭐~ 맨날 집에서 인제 음식도 그냥 가까운 데 나가서 먹는 게 아니라 되게 시켜먹는...    다이어트  0.047894\n",
       "949884                  너는 만약에 그런 시대가 오면 네가 어떻게 활동할 것 같애?  4차산업혁명  0.142204\n",
       "949885      하이브도 있고 #조석 작가 이제 조의 영역이라는 웹툰도 있고 마음의 소리도 있는데      만화  0.282759\n",
       "949886        추석도 친척들도 사촌까지만 모이긴 했는데 이~ 다 모이니까 할 말도 많고 이~    반려동물 -0.043421\n",
       "949887             커피숍 가서 이렇게 먹고 하는 거가 훨씬 맛있거든 기분상으로도 그렇고     먹거리  0.145249\n",
       "\n",
       "[949888 rows x 3 columns]"
      ]
     },
     "execution_count": 37,
     "metadata": {},
     "output_type": "execute_result"
    }
   ],
   "source": [
    "df.loc[:,['stdn','topic','sts']]"
   ]
  },
  {
   "cell_type": "code",
   "execution_count": 51,
   "id": "a6b5b693",
   "metadata": {},
   "outputs": [
    {
     "data": {
      "text/html": [
       "<div>\n",
       "<style scoped>\n",
       "    .dataframe tbody tr th:only-of-type {\n",
       "        vertical-align: middle;\n",
       "    }\n",
       "\n",
       "    .dataframe tbody tr th {\n",
       "        vertical-align: top;\n",
       "    }\n",
       "\n",
       "    .dataframe thead th {\n",
       "        text-align: right;\n",
       "    }\n",
       "</style>\n",
       "<table border=\"1\" class=\"dataframe\">\n",
       "  <thead>\n",
       "    <tr style=\"text-align: right;\">\n",
       "      <th></th>\n",
       "      <th>text</th>\n",
       "      <th>stdn</th>\n",
       "    </tr>\n",
       "  </thead>\n",
       "  <tbody>\n",
       "    <tr>\n",
       "      <th>460</th>\n",
       "      <td>옛날에는 모이면 살고 흩어지면 죽는다 그랬는데 지금은 그 명언이 바까져 갖고/바뀌어서</td>\n",
       "      <td>옛날에는 모이면 살고 흩어지면 죽는다 그랬는데 지금은 그 명언이 바뀌어서</td>\n",
       "    </tr>\n",
       "    <tr>\n",
       "      <th>940</th>\n",
       "      <td>개수가 되려나 모르겄/모르겠다 감자 한 번 봐바야 겠네.</td>\n",
       "      <td>개수가 되려나모르겠다 감자 한 번 봐바야 겠네.</td>\n",
       "    </tr>\n",
       "    <tr>\n",
       "      <th>972</th>\n",
       "      <td>그랬는데 쫌 저희가 그냥 이렇게 금방금방 사기에는</td>\n",
       "      <td>그랬는데 조금 저희가 그냥 이렇게 금방금방 사기에는</td>\n",
       "    </tr>\n",
       "    <tr>\n",
       "      <th>1308</th>\n",
       "      <td>마르고 닳도록 읽어 가꼬/읽어가지고 책 겉이 다 뜯어졌네</td>\n",
       "      <td>마르고 닳도록 읽어가지고 책 겉이 다 뜯어졌네</td>\n",
       "    </tr>\n",
       "    <tr>\n",
       "      <th>1388</th>\n",
       "      <td>알겠지?</td>\n",
       "      <td>알았지?</td>\n",
       "    </tr>\n",
       "    <tr>\n",
       "      <th>...</th>\n",
       "      <td>...</td>\n",
       "      <td>...</td>\n",
       "    </tr>\n",
       "    <tr>\n",
       "      <th>947372</th>\n",
       "      <td>아이고 손이 왜 영 /이렇게 차가워요?</td>\n",
       "      <td>아이고 손이 왜 이렇게 차가워요?</td>\n",
       "    </tr>\n",
       "    <tr>\n",
       "      <th>948024</th>\n",
       "      <td>뻥 치시네 허멍 허니까/하니까 아니라고 진짜</td>\n",
       "      <td>뻥 치시네 하니까 아니라고 진짜</td>\n",
       "    </tr>\n",
       "    <tr>\n",
       "      <th>948862</th>\n",
       "      <td>그리고 계산기도 다 두드리더라구 그서 /그래서 우리 때랑 너무 많이 바뀐 거야</td>\n",
       "      <td>그리고 계산기도 다 두드리더라구 그래서 우리 때랑 너무 많이 바뀐 거야</td>\n",
       "    </tr>\n",
       "    <tr>\n",
       "      <th>948871</th>\n",
       "      <td>순직한 선배 형사 아덜인데 /아들인데 다섯 살 때부터 자기가 키우는 거야.</td>\n",
       "      <td>순직한 선배 형사 아들인데 다섯 살 때부터 자기가 키우는 거야.</td>\n",
       "    </tr>\n",
       "    <tr>\n",
       "      <th>949870</th>\n",
       "      <td>바꾸면서 자기 개성대로 쫌 쫌 이렇게</td>\n",
       "      <td>바꾸면서 자기 개성대로 조금 조금 이렇게</td>\n",
       "    </tr>\n",
       "  </tbody>\n",
       "</table>\n",
       "<p>4478 rows × 2 columns</p>\n",
       "</div>"
      ],
      "text/plain": [
       "                                                   text  \\\n",
       "460     옛날에는 모이면 살고 흩어지면 죽는다 그랬는데 지금은 그 명언이 바까져 갖고/바뀌어서   \n",
       "940                     개수가 되려나 모르겄/모르겠다 감자 한 번 봐바야 겠네.   \n",
       "972                         그랬는데 쫌 저희가 그냥 이렇게 금방금방 사기에는   \n",
       "1308                    마르고 닳도록 읽어 가꼬/읽어가지고 책 겉이 다 뜯어졌네   \n",
       "1388                                               알겠지?   \n",
       "...                                                 ...   \n",
       "947372                            아이고 손이 왜 영 /이렇게 차가워요?   \n",
       "948024                         뻥 치시네 허멍 허니까/하니까 아니라고 진짜   \n",
       "948862      그리고 계산기도 다 두드리더라구 그서 /그래서 우리 때랑 너무 많이 바뀐 거야   \n",
       "948871        순직한 선배 형사 아덜인데 /아들인데 다섯 살 때부터 자기가 키우는 거야.   \n",
       "949870                             바꾸면서 자기 개성대로 쫌 쫌 이렇게   \n",
       "\n",
       "                                            stdn  \n",
       "460     옛날에는 모이면 살고 흩어지면 죽는다 그랬는데 지금은 그 명언이 바뀌어서  \n",
       "940                   개수가 되려나모르겠다 감자 한 번 봐바야 겠네.  \n",
       "972                 그랬는데 조금 저희가 그냥 이렇게 금방금방 사기에는  \n",
       "1308                   마르고 닳도록 읽어가지고 책 겉이 다 뜯어졌네  \n",
       "1388                                        알았지?  \n",
       "...                                          ...  \n",
       "947372                        아이고 손이 왜 이렇게 차가워요?  \n",
       "948024                         뻥 치시네 하니까 아니라고 진짜  \n",
       "948862   그리고 계산기도 다 두드리더라구 그래서 우리 때랑 너무 많이 바뀐 거야  \n",
       "948871       순직한 선배 형사 아들인데 다섯 살 때부터 자기가 키우는 거야.  \n",
       "949870                    바꾸면서 자기 개성대로 조금 조금 이렇게  \n",
       "\n",
       "[4478 rows x 2 columns]"
      ]
     },
     "execution_count": 51,
     "metadata": {},
     "output_type": "execute_result"
    }
   ],
   "source": [
    "df.loc[df.text != df.stdn, ['text','stdn']]"
   ]
  },
  {
   "cell_type": "code",
   "execution_count": 67,
   "id": "28e6cbe1",
   "metadata": {},
   "outputs": [],
   "source": [
    "# create a list of our conditions\n",
    "conditions = [\n",
    "    (df['sts'] <= 0),\n",
    "    (df['sts'] > 0) & (df['sts'] <= 0.2),\n",
    "    (df['sts'] > 0.2) & (df['sts'] <= 0.4),\n",
    "    (df['sts'] > 0.4) & (df['sts'] <= 0.6),\n",
    "    (df['sts'] > 0.6)\n",
    "    ]\n",
    "\n",
    "# create a list of the values we want to assign for each condition\n",
    "values = ['very low(<=0)', 'low(0<=0.2)', 'mid(0.2<=0.4)', 'high(0.4<=0.6)','very high(0.6<)']\n",
    "\n",
    "# create a new column and use np.select to assign values to it using our lists as arguments\n",
    "df['sts_q'] = np.select(conditions, values)"
   ]
  },
  {
   "cell_type": "code",
   "execution_count": 68,
   "id": "bc75b4e3",
   "metadata": {},
   "outputs": [
    {
     "data": {
      "text/plain": [
       "low(0<=0.2)        604584\n",
       "very low(<=0)      208158\n",
       "mid(0.2<=0.4)      112894\n",
       "high(0.4<=0.6)      20649\n",
       "very high(0.6<)      3603\n",
       "Name: sts_q, dtype: int64"
      ]
     },
     "execution_count": 68,
     "metadata": {},
     "output_type": "execute_result"
    }
   ],
   "source": [
    "df['sts_q'].value_counts()"
   ]
  },
  {
   "cell_type": "code",
   "execution_count": 69,
   "id": "f77d37a7",
   "metadata": {},
   "outputs": [
    {
     "data": {
      "text/html": [
       "<div>\n",
       "<style scoped>\n",
       "    .dataframe tbody tr th:only-of-type {\n",
       "        vertical-align: middle;\n",
       "    }\n",
       "\n",
       "    .dataframe tbody tr th {\n",
       "        vertical-align: top;\n",
       "    }\n",
       "\n",
       "    .dataframe thead th {\n",
       "        text-align: right;\n",
       "    }\n",
       "</style>\n",
       "<table border=\"1\" class=\"dataframe\">\n",
       "  <thead>\n",
       "    <tr style=\"text-align: right;\">\n",
       "      <th></th>\n",
       "      <th>topic</th>\n",
       "      <th>stdn</th>\n",
       "      <th>sts</th>\n",
       "    </tr>\n",
       "  </thead>\n",
       "  <tbody>\n",
       "    <tr>\n",
       "      <th>14</th>\n",
       "      <td>방송/연예</td>\n",
       "      <td>아~ 근데 너는 뭐~ 요즘 보는 방송이나 빠진 연예인 같은 거 없는가?</td>\n",
       "      <td>0.400677</td>\n",
       "    </tr>\n",
       "    <tr>\n",
       "      <th>37</th>\n",
       "      <td>음악</td>\n",
       "      <td>난 약간 쎈 노래를 좋아해 막</td>\n",
       "      <td>0.467484</td>\n",
       "    </tr>\n",
       "    <tr>\n",
       "      <th>79</th>\n",
       "      <td>영화</td>\n",
       "      <td>요즘 그러니까 영화는 내가 왜 영화를 주제로 정했을까 언니?</td>\n",
       "      <td>0.567335</td>\n",
       "    </tr>\n",
       "    <tr>\n",
       "      <th>99</th>\n",
       "      <td>계절</td>\n",
       "      <td>우리는 가을 겨울 막 단감 이렇게 있고 막 그러잖아.</td>\n",
       "      <td>0.401814</td>\n",
       "    </tr>\n",
       "    <tr>\n",
       "      <th>118</th>\n",
       "      <td>계절</td>\n",
       "      <td>농사에는 이제 풍년이고 하는데 이제 계절 이런 것은 보면은</td>\n",
       "      <td>0.412722</td>\n",
       "    </tr>\n",
       "    <tr>\n",
       "      <th>...</th>\n",
       "      <td>...</td>\n",
       "      <td>...</td>\n",
       "      <td>...</td>\n",
       "    </tr>\n",
       "    <tr>\n",
       "      <th>949700</th>\n",
       "      <td>군대</td>\n",
       "      <td>뭐~ 군대 근무하실 때 조금 특별하게 기억에 나는 에피소드라던지</td>\n",
       "      <td>0.529238</td>\n",
       "    </tr>\n",
       "    <tr>\n",
       "      <th>949725</th>\n",
       "      <td>가족</td>\n",
       "      <td>그리고 또 우리 어머니는 나이 들어서 음식을</td>\n",
       "      <td>0.400559</td>\n",
       "    </tr>\n",
       "    <tr>\n",
       "      <th>949762</th>\n",
       "      <td>계절</td>\n",
       "      <td>너는 제일 싫어하는 계절이 뭐야?</td>\n",
       "      <td>0.424961</td>\n",
       "    </tr>\n",
       "    <tr>\n",
       "      <th>949838</th>\n",
       "      <td>아르바이트</td>\n",
       "      <td>지금 생각해 보니까 그렇게 좋았던 알바가 없는 거 같아.</td>\n",
       "      <td>0.404958</td>\n",
       "    </tr>\n",
       "    <tr>\n",
       "      <th>949877</th>\n",
       "      <td>음악</td>\n",
       "      <td>뭐~ 어떤 그런 인제 어~ 이렇게 오케스트라가 있는</td>\n",
       "      <td>0.427087</td>\n",
       "    </tr>\n",
       "  </tbody>\n",
       "</table>\n",
       "<p>20649 rows × 3 columns</p>\n",
       "</div>"
      ],
      "text/plain": [
       "        topic                                     stdn       sts\n",
       "14      방송/연예  아~ 근데 너는 뭐~ 요즘 보는 방송이나 빠진 연예인 같은 거 없는가?  0.400677\n",
       "37         음악                         난 약간 쎈 노래를 좋아해 막  0.467484\n",
       "79         영화        요즘 그러니까 영화는 내가 왜 영화를 주제로 정했을까 언니?  0.567335\n",
       "99         계절            우리는 가을 겨울 막 단감 이렇게 있고 막 그러잖아.  0.401814\n",
       "118        계절         농사에는 이제 풍년이고 하는데 이제 계절 이런 것은 보면은  0.412722\n",
       "...       ...                                      ...       ...\n",
       "949700     군대      뭐~ 군대 근무하실 때 조금 특별하게 기억에 나는 에피소드라던지  0.529238\n",
       "949725     가족                 그리고 또 우리 어머니는 나이 들어서 음식을  0.400559\n",
       "949762     계절                       너는 제일 싫어하는 계절이 뭐야?  0.424961\n",
       "949838  아르바이트          지금 생각해 보니까 그렇게 좋았던 알바가 없는 거 같아.  0.404958\n",
       "949877     음악             뭐~ 어떤 그런 인제 어~ 이렇게 오케스트라가 있는  0.427087\n",
       "\n",
       "[20649 rows x 3 columns]"
      ]
     },
     "execution_count": 69,
     "metadata": {},
     "output_type": "execute_result"
    }
   ],
   "source": [
    "df.loc[df['sts_q'] == 'high(0.4<=0.6)',['topic','stdn','sts']]"
   ]
  },
  {
   "cell_type": "code",
   "execution_count": 75,
   "id": "ecc0c65d",
   "metadata": {},
   "outputs": [],
   "source": [
    "indx = ['reg','stdn', 'dial', 'eng','eojeol_stdn','sts', 'sts_q', 'title', 'year', 'date','category', 'topic', 'age', 'sex', 'prin_res', 'curr_res', 'age2', 'sex2',\n",
    "       'prin_res2', 'curr_res2']"
   ]
  },
  {
   "cell_type": "code",
   "execution_count": 77,
   "id": "00bc4a7d",
   "metadata": {},
   "outputs": [],
   "source": [
    "df[indx].to_csv(directory +'/meta/meta_raw_eng_sts_v1.csv', index=False)"
   ]
  }
 ],
 "metadata": {
  "kernelspec": {
   "display_name": "Python 3 (ipykernel)",
   "language": "python",
   "name": "python3"
  },
  "language_info": {
   "codemirror_mode": {
    "name": "ipython",
    "version": 3
   },
   "file_extension": ".py",
   "mimetype": "text/x-python",
   "name": "python",
   "nbconvert_exporter": "python",
   "pygments_lexer": "ipython3",
   "version": "3.9.7"
  }
 },
 "nbformat": 4,
 "nbformat_minor": 5
}
