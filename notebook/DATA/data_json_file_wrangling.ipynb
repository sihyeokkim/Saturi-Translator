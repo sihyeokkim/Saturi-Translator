{
 "cells": [
  {
   "cell_type": "code",
   "execution_count": 1,
   "id": "b54b96ff",
   "metadata": {},
   "outputs": [],
   "source": [
    "# topic 추출"
   ]
  },
  {
   "cell_type": "code",
   "execution_count": 83,
   "id": "dba8fa8e",
   "metadata": {},
   "outputs": [],
   "source": [
    "import json\n",
    "import os\n",
    "import glob"
   ]
  },
  {
   "cell_type": "code",
   "execution_count": 84,
   "id": "89fc5bbe",
   "metadata": {},
   "outputs": [],
   "source": [
    "directory = os.getenv('HOME') + '/aiffel/aiffelthon/'"
   ]
  },
  {
   "cell_type": "code",
   "execution_count": 92,
   "id": "46eaaa66",
   "metadata": {},
   "outputs": [
    {
     "data": {
      "text/plain": [
       "4717"
      ]
     },
     "execution_count": 92,
     "metadata": {},
     "output_type": "execute_result"
    }
   ],
   "source": [
    "len(glob.glob(directory + 'reg_5/*.txt'))"
   ]
  },
  {
   "cell_type": "code",
   "execution_count": 8,
   "id": "80dd3a1b",
   "metadata": {},
   "outputs": [],
   "source": [
    "topic_txt_file = './topic_txt_file.txt'"
   ]
  },
  {
   "cell_type": "code",
   "execution_count": 9,
   "id": "2b029f2f",
   "metadata": {},
   "outputs": [],
   "source": [
    "# with open(topic_txt_file, 'w') as txt:\n",
    "#     for i in topics :\n",
    "#         txt.write(i + ',\\n')"
   ]
  },
  {
   "cell_type": "code",
   "execution_count": 15,
   "id": "83f94349",
   "metadata": {},
   "outputs": [
    {
     "data": {
      "text/plain": [
       "['날씨',\n",
       " '공연',\n",
       " '정치',\n",
       " '연애/결혼',\n",
       " 'SNS',\n",
       " '스포츠/레저',\n",
       " '콤플렉스',\n",
       " '드라마',\n",
       " '반려동물',\n",
       " '아르바이트',\n",
       " '먹거리',\n",
       " '취미',\n",
       " '방송/연예',\n",
       " '건강',\n",
       " '만화',\n",
       " '선물',\n",
       " '자동차/오토바이',\n",
       " '4차산업혁명',\n",
       " '꿈(목표)',\n",
       " '가족',\n",
       " '좌우명',\n",
       " '문학',\n",
       " '회사/학교',\n",
       " '재테크',\n",
       " '전자기기',\n",
       " '쇼핑',\n",
       " '법률',\n",
       " '역사',\n",
       " '다이어트',\n",
       " '음악',\n",
       " '게임',\n",
       " '군대',\n",
       " '영화',\n",
       " '계절',\n",
       " '종교',\n",
       " '여행지(국내/해외)',\n",
       " '경제',\n",
       " '스타일',\n",
       " '자격증',\n",
       " '성격']"
      ]
     },
     "execution_count": 15,
     "metadata": {},
     "output_type": "execute_result"
    }
   ],
   "source": [
    "with open(topic_txt_file) as f :\n",
    "    raw = f.read().replace(',','').splitlines()\n",
    "raw"
   ]
  },
  {
   "cell_type": "code",
   "execution_count": 16,
   "id": "e6cfddda",
   "metadata": {},
   "outputs": [],
   "source": [
    "final_dir = directory + '/final'"
   ]
  },
  {
   "cell_type": "code",
   "execution_count": 17,
   "id": "aadb9594",
   "metadata": {},
   "outputs": [
    {
     "data": {
      "text/plain": [
       "['raw_data_sampling(0223).csv',\n",
       " 'Train_set_data.csv',\n",
       " 'Test_set_data_sampling(0223).csv']"
      ]
     },
     "execution_count": 17,
     "metadata": {},
     "output_type": "execute_result"
    }
   ],
   "source": [
    "os.listdir(final_dir)"
   ]
  },
  {
   "cell_type": "code",
   "execution_count": 18,
   "id": "8ea56a26",
   "metadata": {},
   "outputs": [],
   "source": [
    "import pandas as pd\n",
    "df = pd.read_csv(final_dir + '/Test_set_data_sampling(0223).csv')"
   ]
  },
  {
   "cell_type": "code",
   "execution_count": 19,
   "id": "38165d59",
   "metadata": {},
   "outputs": [
    {
     "name": "stdout",
     "output_type": "stream",
     "text": [
      "<class 'pandas.core.frame.DataFrame'>\n",
      "RangeIndex: 500 entries, 0 to 499\n",
      "Data columns (total 4 columns):\n",
      " #   Column  Non-Null Count  Dtype \n",
      "---  ------  --------------  ----- \n",
      " 0   text    500 non-null    object\n",
      " 1   dial    500 non-null    object\n",
      " 2   reg     500 non-null    object\n",
      " 3   eng     500 non-null    object\n",
      "dtypes: object(4)\n",
      "memory usage: 15.8+ KB\n"
     ]
    }
   ],
   "source": [
    "df.info()"
   ]
  },
  {
   "cell_type": "code",
   "execution_count": 20,
   "id": "00efaff4",
   "metadata": {},
   "outputs": [
    {
     "data": {
      "text/plain": [
       "jj    100\n",
       "cc    100\n",
       "kw    100\n",
       "jd    100\n",
       "gs    100\n",
       "Name: reg, dtype: int64"
      ]
     },
     "execution_count": 20,
     "metadata": {},
     "output_type": "execute_result"
    }
   ],
   "source": [
    "df.reg.value_counts()"
   ]
  },
  {
   "cell_type": "code",
   "execution_count": 21,
   "id": "1b109109",
   "metadata": {},
   "outputs": [],
   "source": [
    "from transformers import pipeline"
   ]
  },
  {
   "cell_type": "code",
   "execution_count": 22,
   "id": "6582cbbe",
   "metadata": {},
   "outputs": [],
   "source": [
    "# model_ckpt = 'ddobokki/klue-roberta-base-nli-sts'\n",
    "# model_ckpt = 'Huffon/klue-roberta-base-nli'\n",
    "model_ckpt ='snunlp/KR-SBERT-V40K-klueNLI-augSTS'"
   ]
  },
  {
   "cell_type": "code",
   "execution_count": 23,
   "id": "88b3c902",
   "metadata": {},
   "outputs": [
    {
     "name": "stderr",
     "output_type": "stream",
     "text": [
      "Some weights of BertForMaskedLM were not initialized from the model checkpoint at snunlp/KR-SBERT-V40K-klueNLI-augSTS and are newly initialized: ['cls.predictions.bias', 'cls.predictions.decoder.weight', 'cls.predictions.transform.dense.weight', 'cls.predictions.transform.dense.bias', 'cls.predictions.transform.LayerNorm.weight', 'cls.predictions.transform.LayerNorm.bias']\n",
      "You should probably TRAIN this model on a down-stream task to be able to use it for predictions and inference.\n"
     ]
    }
   ],
   "source": [
    "pipe = pipeline('fill-mask', model =model_ckpt)"
   ]
  },
  {
   "cell_type": "code",
   "execution_count": 71,
   "id": "750eac01",
   "metadata": {},
   "outputs": [
    {
     "data": {
      "text/plain": [
       "'뭐~ 요리사라든 이렇게 쪼금 어~ 뭐~ 잘하시는 요리 조금 자신있 있으신 요리가 있으신지 조금 궁금합니다.'"
      ]
     },
     "execution_count": 71,
     "metadata": {},
     "output_type": "execute_result"
    }
   ],
   "source": [
    "test = df['text'][469]\n",
    "test"
   ]
  },
  {
   "cell_type": "code",
   "execution_count": 72,
   "id": "2db933ee",
   "metadata": {},
   "outputs": [],
   "source": [
    "all_labels = raw"
   ]
  },
  {
   "cell_type": "code",
   "execution_count": 79,
   "id": "d25eea3e",
   "metadata": {},
   "outputs": [],
   "source": [
    "# ! pip install sentence_transformers\n",
    "from sentence_transformers import SentenceTransformer,util\n",
    "\n",
    "\n",
    "model = SentenceTransformer('snunlp/KR-SBERT-V40K-klueNLI-augSTS', device=0)\n",
    "\n",
    "def topic_select(x, all_labels) :\n",
    "    \n",
    "    embeddings = model.encode([x], convert_to_tensor=True) # 문장 \n",
    "    tgt_embddings = model.encode(all_labels, convert_to_tensor=True) # topic\n",
    "    top = torch.argmax(util.pytorch_cos_sim(embeddings[0], tgt_embddings)).item()\n",
    "    \n",
    "    return all_labels[top]"
   ]
  },
  {
   "cell_type": "code",
   "execution_count": 81,
   "id": "e824bd0c",
   "metadata": {},
   "outputs": [
    {
     "data": {
      "text/html": [
       "<div>\n",
       "<style scoped>\n",
       "    .dataframe tbody tr th:only-of-type {\n",
       "        vertical-align: middle;\n",
       "    }\n",
       "\n",
       "    .dataframe tbody tr th {\n",
       "        vertical-align: top;\n",
       "    }\n",
       "\n",
       "    .dataframe thead th {\n",
       "        text-align: right;\n",
       "    }\n",
       "</style>\n",
       "<table border=\"1\" class=\"dataframe\">\n",
       "  <thead>\n",
       "    <tr style=\"text-align: right;\">\n",
       "      <th></th>\n",
       "      <th>text</th>\n",
       "      <th>dial</th>\n",
       "      <th>reg</th>\n",
       "      <th>eng</th>\n",
       "      <th>topic</th>\n",
       "    </tr>\n",
       "  </thead>\n",
       "  <tbody>\n",
       "    <tr>\n",
       "      <th>0</th>\n",
       "      <td>그니까 거기 그 사진 찍는아니야 주상절리 마냥</td>\n",
       "      <td>그니까 거기 그 사진 찍는아니 주상절리 마냥</td>\n",
       "      <td>jj</td>\n",
       "      <td>So youre not taking that picture there are you...</td>\n",
       "      <td>공연</td>\n",
       "    </tr>\n",
       "    <tr>\n",
       "      <th>1</th>\n",
       "      <td>집에 있으면</td>\n",
       "      <td>집에 이시믄</td>\n",
       "      <td>jj</td>\n",
       "      <td>If you are at home</td>\n",
       "      <td>가족</td>\n",
       "    </tr>\n",
       "    <tr>\n",
       "      <th>2</th>\n",
       "      <td>먹고 취하잖아 그러면 취하면 한이 있잖아 사람이 왜 이게</td>\n",
       "      <td>먹어지믄 취하잖아 겅하*믄이 취하면 한이 있네 사람이 왜 이게</td>\n",
       "      <td>jj</td>\n",
       "      <td>You're eating and getting drunk, and if you're...</td>\n",
       "      <td>역사</td>\n",
       "    </tr>\n",
       "    <tr>\n",
       "      <th>3</th>\n",
       "      <td>그렇지 그렇게하겠지</td>\n",
       "      <td>그렇지 겅하겠주게</td>\n",
       "      <td>jj</td>\n",
       "      <td>Thats right Ill do that</td>\n",
       "      <td>경제</td>\n",
       "    </tr>\n",
       "    <tr>\n",
       "      <th>4</th>\n",
       "      <td>나 아는사람이라고 해서 십만 원 더 지원해서 이십만 원 지원해 줬어</td>\n",
       "      <td>나 아는사람이라고 해서 십만 원 더 지원해서 이십만 원 지원해 줜</td>\n",
       "      <td>jj</td>\n",
       "      <td>I ot it as I know so I applied for another 100...</td>\n",
       "      <td>선물</td>\n",
       "    </tr>\n",
       "    <tr>\n",
       "      <th>...</th>\n",
       "      <td>...</td>\n",
       "      <td>...</td>\n",
       "      <td>...</td>\n",
       "      <td>...</td>\n",
       "      <td>...</td>\n",
       "    </tr>\n",
       "    <tr>\n",
       "      <th>495</th>\n",
       "      <td>뭐~ 두 분 쓰시는 게 없어서 뭐~ 안정적인 건지 살 잘 얘기를 안 하시더라고요 그...</td>\n",
       "      <td>뭐~ 두 분 쓰시는 게 없어서 뭐~ 안정적인 건지 살 잘 얘기를 안 하시더라고요 그...</td>\n",
       "      <td>gs</td>\n",
       "      <td>Im worried about whether its stable or not bec...</td>\n",
       "      <td>콤플렉스</td>\n",
       "    </tr>\n",
       "    <tr>\n",
       "      <th>496</th>\n",
       "      <td>잘 치거나 이렇게 했을 때 다 그냥 이렇게 손 한 번씩 다</td>\n",
       "      <td>잘 치거나 이렇게 했을 때 다 그냥 이케 손 한 번씩 다</td>\n",
       "      <td>gs</td>\n",
       "      <td>When you hit well or did this, you're all just...</td>\n",
       "      <td>선물</td>\n",
       "    </tr>\n",
       "    <tr>\n",
       "      <th>497</th>\n",
       "      <td>아니 잘 안 맞지 넌</td>\n",
       "      <td>아니 잘 안 맞지 닌</td>\n",
       "      <td>gs</td>\n",
       "      <td>No it doesnt fit well you</td>\n",
       "      <td>좌우명</td>\n",
       "    </tr>\n",
       "    <tr>\n",
       "      <th>498</th>\n",
       "      <td>진짜 너무 이거 조금 조금 미안하기도 하고 다른 사람들한테</td>\n",
       "      <td>진짜 너무 이거 쪼끔 쪼끔 미안하기도 하고 다른 사람들한테</td>\n",
       "      <td>gs</td>\n",
       "      <td>I'm so sorry about this.</td>\n",
       "      <td>선물</td>\n",
       "    </tr>\n",
       "    <tr>\n",
       "      <th>499</th>\n",
       "      <td>바퀴벌레가 방역을 해도 기어나와 가지고 이제는 쪼끔 마음이 조금 나아지긴 했는데 처...</td>\n",
       "      <td>바퀴벌레가 방역을 해도 기어나와 가지고 이제는 쪼끔 마음이 쫌 나아지긴 했는데 처음...</td>\n",
       "      <td>gs</td>\n",
       "      <td>I fot it out even if the cockroaches crawled o...</td>\n",
       "      <td>전자기기</td>\n",
       "    </tr>\n",
       "  </tbody>\n",
       "</table>\n",
       "<p>500 rows × 5 columns</p>\n",
       "</div>"
      ],
      "text/plain": [
       "                                                  text  \\\n",
       "0                            그니까 거기 그 사진 찍는아니야 주상절리 마냥   \n",
       "1                                               집에 있으면   \n",
       "2                      먹고 취하잖아 그러면 취하면 한이 있잖아 사람이 왜 이게   \n",
       "3                                           그렇지 그렇게하겠지   \n",
       "4                나 아는사람이라고 해서 십만 원 더 지원해서 이십만 원 지원해 줬어   \n",
       "..                                                 ...   \n",
       "495  뭐~ 두 분 쓰시는 게 없어서 뭐~ 안정적인 건지 살 잘 얘기를 안 하시더라고요 그...   \n",
       "496                   잘 치거나 이렇게 했을 때 다 그냥 이렇게 손 한 번씩 다   \n",
       "497                                        아니 잘 안 맞지 넌   \n",
       "498                   진짜 너무 이거 조금 조금 미안하기도 하고 다른 사람들한테   \n",
       "499  바퀴벌레가 방역을 해도 기어나와 가지고 이제는 쪼끔 마음이 조금 나아지긴 했는데 처...   \n",
       "\n",
       "                                                  dial reg  \\\n",
       "0                             그니까 거기 그 사진 찍는아니 주상절리 마냥  jj   \n",
       "1                                               집에 이시믄  jj   \n",
       "2                   먹어지믄 취하잖아 겅하*믄이 취하면 한이 있네 사람이 왜 이게  jj   \n",
       "3                                            그렇지 겅하겠주게  jj   \n",
       "4                 나 아는사람이라고 해서 십만 원 더 지원해서 이십만 원 지원해 줜  jj   \n",
       "..                                                 ...  ..   \n",
       "495  뭐~ 두 분 쓰시는 게 없어서 뭐~ 안정적인 건지 살 잘 얘기를 안 하시더라고요 그...  gs   \n",
       "496                    잘 치거나 이렇게 했을 때 다 그냥 이케 손 한 번씩 다  gs   \n",
       "497                                        아니 잘 안 맞지 닌  gs   \n",
       "498                   진짜 너무 이거 쪼끔 쪼끔 미안하기도 하고 다른 사람들한테  gs   \n",
       "499  바퀴벌레가 방역을 해도 기어나와 가지고 이제는 쪼끔 마음이 쫌 나아지긴 했는데 처음...  gs   \n",
       "\n",
       "                                                   eng topic  \n",
       "0    So youre not taking that picture there are you...    공연  \n",
       "1                                   If you are at home    가족  \n",
       "2    You're eating and getting drunk, and if you're...    역사  \n",
       "3                              Thats right Ill do that    경제  \n",
       "4    I ot it as I know so I applied for another 100...    선물  \n",
       "..                                                 ...   ...  \n",
       "495  Im worried about whether its stable or not bec...  콤플렉스  \n",
       "496  When you hit well or did this, you're all just...    선물  \n",
       "497                          No it doesnt fit well you   좌우명  \n",
       "498                           I'm so sorry about this.    선물  \n",
       "499  I fot it out even if the cockroaches crawled o...  전자기기  \n",
       "\n",
       "[500 rows x 5 columns]"
      ]
     },
     "execution_count": 81,
     "metadata": {},
     "output_type": "execute_result"
    }
   ],
   "source": [
    "df['topic'] = df['text'].apply(lambda x : topic_select(x, all_labels))\n",
    "df"
   ]
  },
  {
   "cell_type": "code",
   "execution_count": 82,
   "id": "0c2c4a1e",
   "metadata": {},
   "outputs": [
    {
     "data": {
      "text/html": [
       "<div>\n",
       "<style scoped>\n",
       "    .dataframe tbody tr th:only-of-type {\n",
       "        vertical-align: middle;\n",
       "    }\n",
       "\n",
       "    .dataframe tbody tr th {\n",
       "        vertical-align: top;\n",
       "    }\n",
       "\n",
       "    .dataframe thead th {\n",
       "        text-align: right;\n",
       "    }\n",
       "</style>\n",
       "<table border=\"1\" class=\"dataframe\">\n",
       "  <thead>\n",
       "    <tr style=\"text-align: right;\">\n",
       "      <th></th>\n",
       "      <th>text</th>\n",
       "      <th>dial</th>\n",
       "      <th>reg</th>\n",
       "      <th>eng</th>\n",
       "      <th>topic</th>\n",
       "    </tr>\n",
       "  </thead>\n",
       "  <tbody>\n",
       "    <tr>\n",
       "      <th>0</th>\n",
       "      <td>그니까 거기 그 사진 찍는아니야 주상절리 마냥</td>\n",
       "      <td>그니까 거기 그 사진 찍는아니 주상절리 마냥</td>\n",
       "      <td>jj</td>\n",
       "      <td>So youre not taking that picture there are you...</td>\n",
       "      <td>공연</td>\n",
       "    </tr>\n",
       "    <tr>\n",
       "      <th>1</th>\n",
       "      <td>집에 있으면</td>\n",
       "      <td>집에 이시믄</td>\n",
       "      <td>jj</td>\n",
       "      <td>If you are at home</td>\n",
       "      <td>가족</td>\n",
       "    </tr>\n",
       "    <tr>\n",
       "      <th>2</th>\n",
       "      <td>먹고 취하잖아 그러면 취하면 한이 있잖아 사람이 왜 이게</td>\n",
       "      <td>먹어지믄 취하잖아 겅하*믄이 취하면 한이 있네 사람이 왜 이게</td>\n",
       "      <td>jj</td>\n",
       "      <td>You're eating and getting drunk, and if you're...</td>\n",
       "      <td>역사</td>\n",
       "    </tr>\n",
       "    <tr>\n",
       "      <th>3</th>\n",
       "      <td>그렇지 그렇게하겠지</td>\n",
       "      <td>그렇지 겅하겠주게</td>\n",
       "      <td>jj</td>\n",
       "      <td>Thats right Ill do that</td>\n",
       "      <td>경제</td>\n",
       "    </tr>\n",
       "    <tr>\n",
       "      <th>4</th>\n",
       "      <td>나 아는사람이라고 해서 십만 원 더 지원해서 이십만 원 지원해 줬어</td>\n",
       "      <td>나 아는사람이라고 해서 십만 원 더 지원해서 이십만 원 지원해 줜</td>\n",
       "      <td>jj</td>\n",
       "      <td>I ot it as I know so I applied for another 100...</td>\n",
       "      <td>선물</td>\n",
       "    </tr>\n",
       "  </tbody>\n",
       "</table>\n",
       "</div>"
      ],
      "text/plain": [
       "                                    text  \\\n",
       "0              그니까 거기 그 사진 찍는아니야 주상절리 마냥   \n",
       "1                                 집에 있으면   \n",
       "2        먹고 취하잖아 그러면 취하면 한이 있잖아 사람이 왜 이게   \n",
       "3                             그렇지 그렇게하겠지   \n",
       "4  나 아는사람이라고 해서 십만 원 더 지원해서 이십만 원 지원해 줬어   \n",
       "\n",
       "                                   dial reg  \\\n",
       "0              그니까 거기 그 사진 찍는아니 주상절리 마냥  jj   \n",
       "1                                집에 이시믄  jj   \n",
       "2    먹어지믄 취하잖아 겅하*믄이 취하면 한이 있네 사람이 왜 이게  jj   \n",
       "3                             그렇지 겅하겠주게  jj   \n",
       "4  나 아는사람이라고 해서 십만 원 더 지원해서 이십만 원 지원해 줜  jj   \n",
       "\n",
       "                                                 eng topic  \n",
       "0  So youre not taking that picture there are you...    공연  \n",
       "1                                 If you are at home    가족  \n",
       "2  You're eating and getting drunk, and if you're...    역사  \n",
       "3                            Thats right Ill do that    경제  \n",
       "4  I ot it as I know so I applied for another 100...    선물  "
      ]
     },
     "execution_count": 82,
     "metadata": {},
     "output_type": "execute_result"
    }
   ],
   "source": [
    "df.head()"
   ]
  }
 ],
 "metadata": {
  "kernelspec": {
   "display_name": "Python 3 (ipykernel)",
   "language": "python",
   "name": "python3"
  },
  "language_info": {
   "codemirror_mode": {
    "name": "ipython",
    "version": 3
   },
   "file_extension": ".py",
   "mimetype": "text/x-python",
   "name": "python",
   "nbconvert_exporter": "python",
   "pygments_lexer": "ipython3",
   "version": "3.9.7"
  }
 },
 "nbformat": 4,
 "nbformat_minor": 5
}
