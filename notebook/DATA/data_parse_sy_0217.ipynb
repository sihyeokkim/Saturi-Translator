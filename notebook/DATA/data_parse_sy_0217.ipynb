{
 "cells": [
  {
   "cell_type": "markdown",
   "id": "f0cfbe63",
   "metadata": {},
   "source": [
    "# `Dataset 구축 작업`\n",
    "\n",
    "- ### by : SY\n",
    "- ### date : Feb 17, 2023"
   ]
  },
  {
   "cell_type": "code",
   "execution_count": 1,
   "id": "7b80fb14",
   "metadata": {},
   "outputs": [
    {
     "data": {
      "text/plain": [
       "True"
      ]
     },
     "execution_count": 1,
     "metadata": {},
     "output_type": "execute_result"
    }
   ],
   "source": [
    "import torch\n",
    "torch.cuda.is_available()"
   ]
  },
  {
   "cell_type": "code",
   "execution_count": 263,
   "id": "30124f4d",
   "metadata": {},
   "outputs": [],
   "source": [
    "#import modules\n",
    "import glob\n",
    "import shutil\n",
    "import os\n",
    "import zipfile\n",
    "import re \n",
    "import pandas as pd"
   ]
  },
  {
   "cell_type": "code",
   "execution_count": 374,
   "id": "a807e8f3",
   "metadata": {},
   "outputs": [],
   "source": [
    "#assign dir\n",
    "directory =os.getenv('HOME') + '/aiffel/aiffelthon/'\n",
    "\n",
    "# make directory for zipfiles ->\n",
    "zipfiles = [i[26:] for i in glob.glob(directory + '*.zip')] \n",
    "for i,r in enumerate(zipfiles) :\n",
    "    os.mkdir(directory + f'reg_{i+1}' )"
   ]
  },
  {
   "cell_type": "code",
   "execution_count": 380,
   "id": "4e9fad97",
   "metadata": {},
   "outputs": [],
   "source": [
    "# unzip files\n",
    "for i, file in enumerate(zipfiles) :\n",
    "    with zipfile.ZipFile(directory + file, 'r') as zip_ref:\n",
    "        zip_ref.extractall(directory+f'reg_{i+1}')"
   ]
  },
  {
   "cell_type": "code",
   "execution_count": 382,
   "id": "6956210e",
   "metadata": {},
   "outputs": [],
   "source": [
    "def doc_preprocess(txt,reg):\n",
    "    raw = []\n",
    "    for doc in txt : \n",
    "        with open(doc,'r') as f :\n",
    "            lines = f.readlines() # 한줄 한줄씩 파일 가져오기\n",
    "            for line in lines :\n",
    "                line = re.sub(r'\\d\\W','',line)\n",
    "                match = re.search(r'\\(\\S+\\)\\/\\(\\S+\\)',line) # 찾기 조건\n",
    "                if match :\n",
    "                    line = line.strip() # \\n 부호 지우기\n",
    "                    pair = ' '.join(re.findall(r'\\(\\S+\\)\\/\\(\\S+\\)',line))\n",
    "                    normal = re.sub(r'\\(\\S+\\)\\/','', line) #표준어\n",
    "                    dialect = re.sub(r'\\/\\(\\S+\\)','', line) #사투리\n",
    "                    raw.append((normal, dialect,reg,pair)) #( 표준어, 사투리, 지역tag, original 표준어/사투리 )\n",
    "                    \n",
    "    return raw"
   ]
  },
  {
   "cell_type": "code",
   "execution_count": 383,
   "id": "9d552b78",
   "metadata": {},
   "outputs": [
    {
     "name": "stdout",
     "output_type": "stream",
     "text": [
      "0 [라벨]제주도_학습용데이터_1.zip\n",
      "1 [라벨]전라도_학습데이터_1.zip\n",
      "2 [라벨]경상도_학습데이터_1.zip\n",
      "3 [라벨]충청도_학습데이터_1.zip\n",
      "4 [라벨]강원도_학습데이터_1.zip\n"
     ]
    }
   ],
   "source": [
    "for i,r in enumerate(zipfiles) :\n",
    "    print(i, r)"
   ]
  },
  {
   "cell_type": "code",
   "execution_count": 384,
   "id": "236b527f",
   "metadata": {},
   "outputs": [
    {
     "name": "stdout",
     "output_type": "stream",
     "text": [
      "total no. files reg_1 : 5042\n",
      "\n",
      "total no. files reg_2 : 7412\n",
      "\n",
      "total no. files reg_3 : 7699\n",
      "\n",
      "total no. files reg_4 : 6048\n",
      "\n",
      "total no. files reg_5 : 4717\n",
      "\n"
     ]
    }
   ],
   "source": [
    "data = {} # dictionary 형태로 저장\n",
    "for i in range(len(zipfiles)) :\n",
    "    txt = glob.glob(directory+ f'reg_{i+1}'+ '/*.txt')\n",
    "    data[f'reg_{i+1}'] = doc_preprocess(txt, i+1)\n",
    "    print(f'total no. files reg_{i+1} : {len(txt)}\\n')"
   ]
  },
  {
   "cell_type": "code",
   "execution_count": 386,
   "id": "0b863a82",
   "metadata": {},
   "outputs": [
    {
     "name": "stdout",
     "output_type": "stream",
     "text": [
      "reg_1\n",
      " min: 1, max :88, avg : 6.320686577165759, seq_total :1172949\n",
      "reg_2\n",
      " min: 1, max :39, avg : 8.828960198263838, seq_total :295364\n",
      "reg_3\n",
      " min: 1, max :67, avg : 9.814914272059262, seq_total :334780\n",
      "reg_4\n",
      " min: 1, max :43, avg : 10.541839715294238, seq_total :275934\n",
      "reg_5\n",
      " min: 1, max :56, avg : 5.642623380738782, seq_total :915155\n"
     ]
    }
   ],
   "source": [
    "#seq_len 최대, 최소, average 구하기\n",
    "\n",
    "def find_min_max(data) :\n",
    "    max_len = 0\n",
    "    min_len = 999\n",
    "    av_len = 0\n",
    "    for i in data :\n",
    "        length = len(i[1].split())\n",
    "        if max_len < length : max_len = length\n",
    "        if min_len > length : min_len = length\n",
    "        av_len += length\n",
    "    print(f' min: {min_len}, max :{max_len}, avg : {av_len/len(data)}, seq_total :{len(data)}')\n",
    "    \n",
    "for k,v in data.items() :\n",
    "    print(k)\n",
    "    find_min_max(v)"
   ]
  },
  {
   "cell_type": "code",
   "execution_count": 387,
   "id": "c3012392",
   "metadata": {},
   "outputs": [
    {
     "name": "stdout",
     "output_type": "stream",
     "text": [
      "<class 'pandas.core.frame.DataFrame'>\n",
      "Int64Index: 2994182 entries, 0 to 2994181\n",
      "Data columns (total 4 columns):\n",
      " #   Column  Dtype \n",
      "---  ------  ----- \n",
      " 0   text    object\n",
      " 1   dial    object\n",
      " 2   reg     int64 \n",
      " 3   pair    object\n",
      "dtypes: int64(1), object(3)\n",
      "memory usage: 114.2+ MB\n"
     ]
    },
    {
     "data": {
      "text/plain": [
       "1    1172949\n",
       "5     915155\n",
       "3     334780\n",
       "2     295364\n",
       "4     275934\n",
       "Name: reg, dtype: int64"
      ]
     },
     "execution_count": 387,
     "metadata": {},
     "output_type": "execute_result"
    }
   ],
   "source": [
    "a = pd.DataFrame(columns = ['text','dial','reg','pair'])\n",
    "\n",
    "for i in data.values() :\n",
    "    b = pd.DataFrame(i, columns = ['text','dial','reg','pair'])\n",
    "    a = a.merge(b,how='outer')\n",
    "\n",
    "a.to_csv(directory + '/dataset_full_v2.csv',index=False)\n",
    "\n",
    "a.info()\n",
    "a['reg'].value_counts()"
   ]
  },
  {
   "cell_type": "code",
   "execution_count": 337,
   "id": "7b16a6bc",
   "metadata": {},
   "outputs": [],
   "source": [
    "# # remove all files\n",
    "# for i in des : \n",
    "#     shutil.rmtree(os.path.join(directory,i))"
   ]
  }
 ],
 "metadata": {
  "kernelspec": {
   "display_name": "Python 3 (ipykernel)",
   "language": "python",
   "name": "python3"
  },
  "language_info": {
   "codemirror_mode": {
    "name": "ipython",
    "version": 3
   },
   "file_extension": ".py",
   "mimetype": "text/x-python",
   "name": "python",
   "nbconvert_exporter": "python",
   "pygments_lexer": "ipython3",
   "version": "3.9.7"
  }
 },
 "nbformat": 4,
 "nbformat_minor": 5
}
